{
 "cells": [
  {
   "cell_type": "markdown",
   "id": "2c3bb582",
   "metadata": {},
   "source": [
    "# Preprocessing of data"
   ]
  },
  {
   "cell_type": "markdown",
   "id": "124b95d4",
   "metadata": {},
   "source": [
    "### Import libraries and preproc"
   ]
  },
  {
   "cell_type": "code",
   "execution_count": 139,
   "id": "415afc04",
   "metadata": {},
   "outputs": [],
   "source": [
    "import sys\n",
    "import numpy as np\n",
    "from tqdm import tqdm\n",
    "import nibabel\n",
    "#!{sys.executable} -m pip install nilearn #install relevant neuroimaging package\n",
    "#!{sys.executable} -m pip install opencv-python #install video package\n",
    "from preprocessing import load_and_mask_miyawaki_data\n",
    "from plots import plt_fmri_stim\n",
    "import matplotlib.pyplot as plt"
   ]
  },
  {
   "cell_type": "code",
   "execution_count": 142,
   "id": "88c60682",
   "metadata": {
    "scrolled": false
   },
   "outputs": [
    {
     "name": "stderr",
     "output_type": "stream",
     "text": [
      "Preprocessing data..."
     ]
    },
    {
     "name": "stdout",
     "output_type": "stream",
     "text": [
      "The shape of the masked data is (20, 145, 5438)\n",
      "Preprocessed fMRI data: 2860 samples x 5438 voxels\n",
      "Preprocessed stimuli data: 2860 samples x 100 pixels\n",
      "1536 geometrical figures\n"
     ]
    },
    {
     "name": "stderr",
     "output_type": "stream",
     "text": [
      " Done (23.55s).\n"
     ]
    }
   ],
   "source": [
    "fmri_data, stimuli, fmri_figures_data, stimuli_figures, masker = load_and_mask_miyawaki_data()"
   ]
  },
  {
   "cell_type": "code",
   "execution_count": 143,
   "id": "102c36eb",
   "metadata": {
    "scrolled": true
   },
   "outputs": [
    {
     "data": {
      "text/plain": [
       "array([-1., -1., -1., -1., -1., -1., -1., -1., -1., -1., -1., -1., -1.,\n",
       "       -1., -1., -1., -1., -1., -1., -1., -1., -1., -1., -1., -1., -1.,\n",
       "       -1., -1., -1., -1., -1., -1., -1., -1., -1., -1., -1., -1., -1.,\n",
       "       -1., -1., -1., -1., -1., -1., -1., -1., -1., -1., -1., -1., -1.,\n",
       "       -1., -1., -1., -1., -1., -1., -1., -1., -1., -1., -1., -1., -1.,\n",
       "       -1., -1., -1., -1., -1., -1., -1., -1., -1., -1., -1., -1., -1.,\n",
       "       -1., -1., -1., -1., -1., -1., -1., -1., -1., -1., -1., -1., -1.,\n",
       "       -1., -1., -1., -1., -1., -1., -1., -1., -1.])"
      ]
     },
     "execution_count": 143,
     "metadata": {},
     "output_type": "execute_result"
    }
   ],
   "source": [
    "stimuli[0]"
   ]
  },
  {
   "cell_type": "code",
   "execution_count": 148,
   "id": "07566320",
   "metadata": {},
   "outputs": [
    {
     "data": {
      "text/plain": [
       "[[0, 0, 0], [0.0, 1.0, 0.0]]"
      ]
     },
     "execution_count": 148,
     "metadata": {},
     "output_type": "execute_result"
    }
   ],
   "source": [
    "a = np.array([[-1.,-1.,-1.],[0,1,0]])\n",
    "a = [[0 if k == -1 else k for k in abc] for abc in a]\n",
    "a"
   ]
  },
  {
   "cell_type": "markdown",
   "id": "5c98ebb7",
   "metadata": {},
   "source": [
    "### Create data sets"
   ]
  },
  {
   "cell_type": "code",
   "execution_count": 124,
   "id": "22a925da",
   "metadata": {},
   "outputs": [],
   "source": [
    "all_fmri = np.concatenate((fmri_data, fmri_figures_data))\n",
    "all_stimuli = np.concatenate((stimuli, stimuli_figures))\n",
    "\n",
    "#erase black figs: \"\"\"\"\"\"useless\"\"\"\"\"\" for our use of the data\n",
    "        \n",
    "stimuli2 = np.array([element for element in stimuli if np.sum(element) != -100])\n",
    "fmri_data2 = np.array([fmri_data[i] for i in range(len(fmri_data)) if np.sum(stimuli[i]) != -100])\n",
    "\n",
    "all_stimuli2 = np.array([element for element in all_stimuli if np.sum(element) != -100])\n",
    "all_fmri2 = np.array([all_fmri[i] for i in range(len(all_fmri)) if np.sum(all_stimuli[i]) != -100])\n",
    "\n",
    "stimuli_figures2 = np.concatenate((np.array([element for element in stimuli_figures if np.sum(element) != -100]),np.array([stimuli_figures[4]])))\n",
    "fmri_figures_data2 = np.concatenate((np.array([fmri_figures_data[i] for i in range(len(fmri_figures_data)) if np.sum(stimuli_figures[i]) != -100]), np.array([fmri_figures_data[4]])))"
   ]
  },
  {
   "cell_type": "code",
   "execution_count": 125,
   "id": "99b472b8",
   "metadata": {},
   "outputs": [],
   "source": [
    "from sklearn.model_selection import train_test_split\n",
    "\n",
    "#random images avec les carrés noirs\n",
    "train_to_test_ratio = 0.8\n",
    "X_train, X_test, Y_train, Y_test =train_test_split(fmri_data, stimuli, \n",
    "                                        train_size=train_to_test_ratio, \n",
    "                                        test_size=1.0-train_to_test_ratio)\n",
    "\n",
    "#geometric images avec les carrés noirs\n",
    "train_to_test_ratio = 0.8\n",
    "X_trainfig, X_testfig, Y_trainfig, Y_testfig =train_test_split(fmri_figures_data, stimuli_figures, \n",
    "                                        train_size=train_to_test_ratio, \n",
    "                                        test_size=1.0-train_to_test_ratio)\n",
    "\n",
    "#geometric images sans les carrés noirs\n",
    "train_to_test_ratio = 0.8\n",
    "X_trainfig2, X_testfig2, Y_trainfig2, Y_testfig2 =train_test_split(fmri_figures_data2, stimuli_figures2, \n",
    "                                        train_size=train_to_test_ratio, \n",
    "                                        test_size=1.0-train_to_test_ratio)\n",
    "\n",
    "#random images sans les carrés noirs\n",
    "X_train2, X_test2, Y_train2, Y_test2 = train_test_split(fmri_data2, stimuli2, \n",
    "                                        train_size=train_to_test_ratio, \n",
    "                                        test_size=1.0-train_to_test_ratio)\n",
    "\n",
    "#avec tout\n",
    "X_train_all, X_test_all, Y_train_all, Y_test_all =train_test_split(all_fmri, all_stimuli, \n",
    "                                        train_size=train_to_test_ratio, \n",
    "                                        test_size=1.0-train_to_test_ratio)\n",
    "\n",
    "X_train_all2, X_test_all2, Y_train_all2, Y_test_all2 =train_test_split(all_fmri2, all_stimuli2, train_size=train_to_test_ratio, test_size=1.0-train_to_test_ratio)"
   ]
  },
  {
   "cell_type": "markdown",
   "id": "82acf125",
   "metadata": {},
   "source": [
    "### Manipulate stimuli images for multiscale analysis"
   ]
  },
  {
   "cell_type": "code",
   "execution_count": 126,
   "id": "4515901e",
   "metadata": {},
   "outputs": [],
   "source": [
    "# Create list pixel_indices of 4-uplets of incidices of pixels we want to average together for the 2*2 scale\n",
    "k = [2*i for i in range(5)] #list used to generate pixel_indices\n",
    "pixel_indices_22 = [[10*a+b, 10*a+(b+1), 10*(a+1)+b, 10*(a+1)+(b+1)] for a in k for b in k]"
   ]
  },
  {
   "cell_type": "code",
   "execution_count": 127,
   "id": "ef6d9fa4",
   "metadata": {},
   "outputs": [],
   "source": [
    "# Preprocessing of stimuli data for multi scale encoding\n",
    "\n",
    "def preproc_one_stimuli(idx_pxl_toavg, stimuli, reshape = False, reshape_form = (5,5)) :\n",
    "    \"\"\"\n",
    "    Permits to preproc 1 stimuli figure by averaging some pixels together for the \n",
    "    multiscale encoding.\n",
    "    - idx_pxl_toavg : liste de multiplets d'indices de pixels que l'on souhaite moyenner\n",
    "                      ensemble. Par ex, pour le 2*2 on a :\n",
    "                      [[0,1,10,11], [2,3,12,13], ... ,[88,89,98,99]].\n",
    "    - stimuli: the image\n",
    "    - reshape : if you want your image to be reshaped in such a way that you can plot it\n",
    "    - reshape_form : (5,5) for a 5 by 5 image, etc...\n",
    "    \"\"\"\n",
    "    if reshape == False :\n",
    "        return np.array([np.average([stimuli[i] for i in idx]) for idx in idx_pxl_toavg])\n",
    "    \n",
    "    else :\n",
    "        return np.array(np.reshape([np.average([stimuli[i] for i in idx]) for idx in idx_pxl_toavg],(5,5)))\n",
    "    \n",
    "\n",
    "def preproc_multiple_stimuli(idx_pxl_toavg, stimuli_list, reshape = False, reshape_form = (5,5)) :\n",
    "    \"\"\"\n",
    "    Same as above but to preproc a whole list of stimulis\n",
    "    Sorry this looks horrible\n",
    "    \"\"\"\n",
    "    if reshape == False :\n",
    "        return np.array([[np.average([stimuli[i] for i in idx]) for idx in idx_pxl_toavg] for stimuli in stimuli_list])\n",
    "    \n",
    "    else :\n",
    "        reshape_form_multi = (len(stimuli_list),reshape_form[0],reshape_form[1])\n",
    "        return np.array(np.reshape([np.average([stimuli[i] for i in idx]) for idx in idx_pxl_toavg for stimuli in stimuli_list],reshape_form_multi))\n",
    "    \n",
    "def Y_train_newscale(Y_train, idx_pxl_toavg) :\n",
    "    \"\"\"\n",
    "    Creates a new Y_train but with rescaled images \n",
    "    Changes greyscale values to classes (integers) : for this, we want to map the values of greyscale to\n",
    "    integers. We notice that for 4 pixels, only possible values are [0,0.25,0.5,0.75,1]. For 2 pixels, [0,0.5,1]. Etc.\n",
    "    By multiplying these grayscale values by the number of pixels we get [0,1,2,3,4] or [0,1,2], etc. Hence the multiplication.\n",
    "    \"\"\"\n",
    "    Y_continuous = preproc_multiple_stimuli(idx_pxl_toavg, Y_train) #with values in [0,1]\n",
    "    n = len(idx_pxl_toavg[0]) #number of classes is the number of pixels there is to average + 1. For instance for 4 pixels you can have [0,0.25,0.5,0.75,1]\n",
    "    Y_integers = [[int(pixel_val * n) if pixel_val != -1 else 0 for pixel_val in img] for img in Y_continuous]\n",
    "    return Y_integers"
   ]
  },
  {
   "cell_type": "code",
   "execution_count": 128,
   "id": "734135dd",
   "metadata": {},
   "outputs": [
    {
     "data": {
      "text/plain": [
       "<matplotlib.image.AxesImage at 0x7f1892490dc0>"
      ]
     },
     "execution_count": 128,
     "metadata": {},
     "output_type": "execute_result"
    },
    {
     "data": {
      "image/png": "[encoded data removed]",
      "text/plain": [
       "<Figure size 432x288 with 2 Axes>"
      ]
     },
     "metadata": {
      "needs_background": "light"
     },
     "output_type": "display_data"
    }
   ],
   "source": [
    "# Check that stimuli processing works\n",
    "\n",
    "imag = stimuli_figures2[30]\n",
    "\n",
    "old = np.reshape(imag,(10,10))\n",
    "new = preproc_one_stimuli(pixel_indices_22, imag, reshape = True)\n",
    "\n",
    "fig = plt.figure()\n",
    "sp1 = plt.subplot(121)\n",
    "sp2 = plt.subplot(122)\n",
    "\n",
    "# to show the grid \n",
    "\n",
    "for ax in (sp1, sp2) :\n",
    "\n",
    "    # Major ticks\n",
    "    ax.set_xticks(np.arange(0, 10, 1))\n",
    "    ax.set_yticks(np.arange(0, 10, 1))\n",
    "\n",
    "    # Minor ticks\n",
    "    ax.set_xticks(np.arange(-.5, 10, 1), minor=True)\n",
    "    ax.set_yticks(np.arange(-.5, 10, 1), minor=True)\n",
    "    \n",
    "    ax.grid(which='minor', color='r', linestyle='-', linewidth=2)\n",
    "\n",
    "\n",
    "sp1.imshow(old, cmap = plt.cm.gray, interpolation = 'nearest')\n",
    "sp2.imshow(new, cmap = plt.cm.gray, interpolation = 'nearest')"
   ]
  },
  {
   "cell_type": "markdown",
   "id": "ae65d470",
   "metadata": {},
   "source": [
    "It works !"
   ]
  },
  {
   "cell_type": "markdown",
   "id": "b3f2ddf2",
   "metadata": {},
   "source": [
    "# Train a log reg at the different scales"
   ]
  },
  {
   "cell_type": "code",
   "execution_count": 137,
   "id": "0a524523",
   "metadata": {},
   "outputs": [],
   "source": [
    "from sklearn import linear_model\n",
    "\n",
    "def train_logreg_scale(X_train, Y_train, X_test, Y_test, scale) :\n",
    "    \"\"\"\n",
    "    Trains a log reg for a certain scale \n",
    "    \"\"\"\n",
    "    logreg_table = []\n",
    "    size = int(100/scale[0]*scale[1])\n",
    "    \n",
    "    train_accuracy, test_accuracy = np.zeros(size), np.zeros(size)\n",
    "\n",
    "    # loop over regularisation strength\n",
    "    for i, pixel in tqdm(enumerate(np.transpose(Y_train))):\n",
    "    \n",
    "        # define logistic regressor\n",
    "        logreg = linear_model.LogisticRegression(penalty=\"l2\", C=0.05, max_iter = 15000, multi_class='multinomial')\n",
    "    \n",
    "        # fit training data\n",
    "        logreg.fit(X_train, pixel)\n",
    "    \n",
    "        logreg_table.append(logreg)\n",
    "    \n",
    "        # check accuracy\n",
    "        train_accuracy[i]=logreg.score(X_train,pixel)\n",
    "        test_accuracy[i]=logreg.score(X_test,np.transpose(Y_test)[i])\n",
    "        \n",
    "    return logreg_table, train_accuracy, test_accuracy"
   ]
  },
  {
   "cell_type": "code",
   "execution_count": 138,
   "id": "777340e9",
   "metadata": {},
   "outputs": [
    {
     "name": "stderr",
     "output_type": "stream",
     "text": [
      "100it [16:20,  9.81s/it]\n"
     ]
    }
   ],
   "source": [
    "#Prediction functions for initial pixels\n",
    "[logreg_table_11, train_accuracy_11, test_accuracy_11] = train_logreg_scale(X_train, Y_train, X_test, Y_test, (1,1))"
   ]
  },
  {
   "cell_type": "code",
   "execution_count": null,
   "id": "92a342d1",
   "metadata": {},
   "outputs": [],
   "source": [
    "# New Y_train for 2*2 block averaged images\n",
    "Y_train_22, Y_test_22 = Y_train_newscale(Y_train, pixel_indices_22), Y_train_newscale(Y_test, pixel_indices_22)\n",
    "\n",
    "[logreg_table_22, train_accuracy_22, test_accuracy_22] = train_logreg_scale(X_train, Y_train_22, X_test, Y_test_22,(2,2))"
   ]
  },
  {
   "cell_type": "code",
   "execution_count": 98,
   "id": "2d5fb1c6",
   "metadata": {},
   "outputs": [
    {
     "data": {
      "text/plain": [
       "(array([-1., -1., -1., -1., -1., -1., -1., -1., -1., -1., -1., -1., -1.,\n",
       "        -1., -1., -1., -1., -1., -1., -1., -1., -1., -1., -1., -1., -1.,\n",
       "        -1., -1., -1., -1., -1., -1., -1., -1., -1., -1., -1., -1., -1.,\n",
       "        -1., -1., -1., -1., -1., -1., -1., -1., -1., -1., -1., -1., -1.,\n",
       "        -1., -1., -1., -1., -1., -1., -1., -1., -1., -1., -1., -1., -1.,\n",
       "        -1., -1., -1., -1., -1., -1., -1., -1., -1., -1., -1., -1., -1.,\n",
       "        -1., -1., -1., -1., -1., -1., -1., -1., -1., -1., -1., -1., -1.,\n",
       "        -1., -1., -1., -1., -1., -1., -1., -1., -1.]),\n",
       " [0, 0, 0, 0, 0, 0, 0, 0, 0, 0, 0, 0, 0, 0, 0, 0, 0, 0, 0, 0, 0, 0, 0, 0, 0])"
      ]
     },
     "execution_count": 98,
     "metadata": {},
     "output_type": "execute_result"
    }
   ],
   "source": [
    "n = 47\n",
    "Y_train[n], Y_train_22[n]"
   ]
  },
  {
   "cell_type": "code",
   "execution_count": 117,
   "id": "18892cde",
   "metadata": {},
   "outputs": [],
   "source": [
    "n=48\n",
    "imag = stimuli_figures2[n]\n",
    "\n",
    "old = np.reshape(imag,(10,10))\n",
    "new = preproc_one_stimuli(pixel_indices_22, imag, reshape = True)\n",
    "pred = np.zeros(25)\n",
    "\n",
    "xtest = fmri_figures_data2[n].reshape(1,-1)\n",
    "ytest = new\n",
    "\n",
    "for i,pixel in enumerate(pred) :\n",
    "    y = logreg_table_22[i].predict(xtest)\n",
    "    \n",
    "    pred[i] = y\n",
    "    \n",
    "pred = np.reshape(pred,(5,5))\n",
    "\n",
    "pred_greyscale = [x/4 for x in pred]\n",
    "\n",
    "\n",
    "def predict_stim(logreg_table, X, size):\n",
    "    \n",
    "    pred = np.zeros(size)\n",
    "\n",
    "    for i,pixel in enumerate(pred) :\n",
    "        \n",
    "        y = logreg_table_22[i].predict(xtest)\n",
    "        pred[i] = y\n",
    "        \n",
    "    pred = np.reshape(pred,(5,5))\n",
    "    "
   ]
  },
  {
   "cell_type": "code",
   "execution_count": 119,
   "id": "0c0f54ba",
   "metadata": {},
   "outputs": [
    {
     "data": {
      "text/plain": [
       "0.7437062937062937"
      ]
     },
     "execution_count": 119,
     "metadata": {},
     "output_type": "execute_result"
    },
    {
     "data": {
      "image/png": "[encoded data removed]",
      "text/plain": [
       "<Figure size 432x288 with 2 Axes>"
      ]
     },
     "metadata": {
      "needs_background": "light"
     },
     "output_type": "display_data"
    }
   ],
   "source": [
    "fig = plt.figure()\n",
    "sp1 = plt.subplot(121)\n",
    "sp2 = plt.subplot(122)\n",
    "sp1.imshow(ytest, cmap = plt.cm.gray, interpolation = 'nearest')\n",
    "sp2.imshow(pred_greyscale, cmap = plt.cm.gray, interpolation = 'nearest')\n",
    "np.average(test_accuracy_22)"
   ]
  },
  {
   "cell_type": "code",
   "execution_count": null,
   "id": "e63dc943",
   "metadata": {},
   "outputs": [],
   "source": [
    "#combine all multiscale predictions\n",
    "\n",
    "fig = plt.figure()\n",
    "sp1 = plt.subplot(121)\n",
    "sp2 = plt.subplot(122)\n",
    "sp1.imshow(ytest, cmap = plt.cm.gray, interpolation = 'nearest')\n",
    "sp2.imshow(pred_greyscale, cmap = plt.cm.gray, interpolation = 'nearest')\n",
    "sp2.imshow(pred_greyscale, cmap = plt.cm.gray, interpolation = 'nearest')\n",
    "np.average(test_accuracy_22)"
   ]
  },
  {
   "cell_type": "code",
   "execution_count": null,
   "id": "74c98749",
   "metadata": {},
   "outputs": [],
   "source": []
  }
 ],
 "metadata": {
  "kernelspec": {
   "display_name": "Python 3",
   "language": "python",
   "name": "python3"
  },
  "language_info": {
   "codemirror_mode": {
    "name": "ipython",
    "version": 3
   },
   "file_extension": ".py",
   "mimetype": "text/x-python",
   "name": "python",
   "nbconvert_exporter": "python",
   "pygments_lexer": "ipython3",
   "version": "3.8.8"
  }
 },
 "nbformat": 4,
 "nbformat_minor": 5
}
