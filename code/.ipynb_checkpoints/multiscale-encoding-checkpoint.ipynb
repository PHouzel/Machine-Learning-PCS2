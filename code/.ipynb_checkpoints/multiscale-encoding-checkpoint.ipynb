{
 "cells": [
  {
   "cell_type": "markdown",
   "id": "2c3bb582",
   "metadata": {},
   "source": [
    "# Preprocessing of data"
   ]
  },
  {
   "cell_type": "markdown",
   "id": "124b95d4",
   "metadata": {},
   "source": [
    "### Import libraries and preproc"
   ]
  },
  {
   "cell_type": "code",
   "execution_count": 4,
   "id": "415afc04",
   "metadata": {},
   "outputs": [],
   "source": [
    "import sys\n",
    "import numpy as np\n",
    "from tqdm import tqdm\n",
    "import nibabel\n",
    "#!{sys.executable} -m pip install nilearn #install relevant neuroimaging package\n",
    "#!{sys.executable} -m pip install opencv-python #install video package\n",
    "from preprocessing import load_and_mask_miyawaki_data\n",
    "from plots import plt_fmri_stim\n",
    "import matplotlib.pyplot as plt"
   ]
  },
  {
   "cell_type": "code",
   "execution_count": 5,
   "id": "88c60682",
   "metadata": {
    "scrolled": true
   },
   "outputs": [
    {
     "name": "stderr",
     "output_type": "stream",
     "text": [
      "Preprocessing data..."
     ]
    },
    {
     "name": "stdout",
     "output_type": "stream",
     "text": [
      "The shape of the masked data is (20, 145, 5438)\n",
      "Preprocessed fMRI data: 2860 samples x 5438 voxels\n",
      "Preprocessed stimuli data: 2860 samples x 100 pixels\n",
      "1536 geometrical figures\n"
     ]
    },
    {
     "name": "stderr",
     "output_type": "stream",
     "text": [
      " Done (21.20s).\n"
     ]
    }
   ],
   "source": [
    "fmri_data, stimuli, fmri_figures_data, stimuli_figures, masker = load_and_mask_miyawaki_data()"
   ]
  },
  {
   "cell_type": "markdown",
   "id": "5c98ebb7",
   "metadata": {},
   "source": [
    "### Create data sets"
   ]
  },
  {
   "cell_type": "code",
   "execution_count": 49,
   "id": "22a925da",
   "metadata": {},
   "outputs": [],
   "source": [
    "all_fmri = np.concatenate((fmri_data, fmri_figures_data))\n",
    "all_stimuli = np.concatenate((stimuli, stimuli_figures))\n",
    "\n",
    "#erase black figs: \"\"\"\"\"\"useless\"\"\"\"\"\" for our use of the data\n",
    "        \n",
    "stimuli2 = np.array([element for element in stimuli if np.sum(element) != 0])\n",
    "fmri_data2 = np.array([fmri_data[i] for i in range(len(fmri_data)) if np.sum(stimuli[i]) != 0])\n",
    "\n",
    "all_stimuli2 = np.array([element for element in all_stimuli if np.sum(element) != 0])\n",
    "all_fmri2 = np.array([all_fmri[i] for i in range(len(all_fmri)) if np.sum(all_stimuli[i]) != 0])\n",
    "\n",
    "stimuli_figures2 = np.concatenate((np.array([element for element in stimuli_figures if np.sum(element) != 0]),np.array([stimuli_figures[4]])))\n",
    "fmri_figures_data2 = np.concatenate((np.array([fmri_figures_data[i] for i in range(len(fmri_figures_data)) if np.sum(stimuli_figures[i]) != 0]), np.array([fmri_figures_data[4]])))"
   ]
  },
  {
   "cell_type": "code",
   "execution_count": 50,
   "id": "99b472b8",
   "metadata": {},
   "outputs": [],
   "source": [
    "from sklearn.model_selection import train_test_split\n",
    "\n",
    "#random images avec les carrés noirs\n",
    "train_to_test_ratio = 0.8\n",
    "X_train, X_test, Y_train, Y_test = train_test_split(fmri_data, stimuli, \n",
    "                                        train_size=train_to_test_ratio, \n",
    "                                        test_size=1.0-train_to_test_ratio)\n",
    "\n",
    "#geometric images avec les carrés noirs\n",
    "train_to_test_ratio = 0.8\n",
    "X_trainfig, X_testfig, Y_trainfig, Y_testfig = train_test_split(fmri_figures_data, stimuli_figures, \n",
    "                                        train_size=train_to_test_ratio, \n",
    "                                        test_size=1.0-train_to_test_ratio)\n",
    "\n",
    "#geometric images sans les carrés noirs\n",
    "train_to_test_ratio = 0.8\n",
    "X_trainfig2, X_testfig2, Y_trainfig2, Y_testfig2 = train_test_split(fmri_figures_data2, stimuli_figures2, \n",
    "                                        train_size=train_to_test_ratio, \n",
    "                                        test_size=1.0-train_to_test_ratio)\n",
    "\n",
    "#random images sans les carrés noirs\n",
    "X_train2, X_test2, Y_train2, Y_test2 = train_test_split(fmri_data2, stimuli2, \n",
    "                                        train_size=train_to_test_ratio, \n",
    "                                        test_size=1.0-train_to_test_ratio)\n",
    "\n",
    "#avec tout\n",
    "X_train_all, X_test_all, Y_train_all, Y_test_all = train_test_split(all_fmri, all_stimuli, \n",
    "                                        train_size=train_to_test_ratio, \n",
    "                                        test_size=1.0-train_to_test_ratio)\n",
    "\n",
    "X_train_all2, X_test_all2, Y_train_all2, Y_test_all2 =train_test_split(all_fmri2, all_stimuli2, train_size=train_to_test_ratio, test_size=1.0-train_to_test_ratio)"
   ]
  },
  {
   "cell_type": "markdown",
   "id": "82acf125",
   "metadata": {},
   "source": [
    "### Manipulate stimuli images for multiscale analysis"
   ]
  },
  {
   "cell_type": "code",
   "execution_count": 80,
   "id": "4515901e",
   "metadata": {},
   "outputs": [],
   "source": [
    "# Create list pixel_indices of 4-uplets of incidices of pixels we want to average together for the 2*2 scale\n",
    "n_even = [2*i for i in range(5)] #list used to generate pixel_indices\n",
    "#pixel_indices_22 = [[10*a+b, 10*a+(b+1), 10*(a+1)+b, 10*(a+1)+(b+1)] for a in n_even for b in n_even]\n",
    "pixel_indices_22 = [[10*a+b, 10*a+(b+1), 10*(a+1)+b, 10*(a+1)+(b+1)] for a in range(9) for b in range(9)]\n",
    "\n",
    "# Same for 2*1 scale\n",
    "n_odd = [2*i+1 for i in range(50)]\n",
    "#pixel_indices_21 = [[a-1, a] for a in n_odd]\n",
    "pixel_indices_21 = [[(10*b)+ a-1, 10*b + a] for b in range(10) for a in range(10)[1:]]\n",
    "\n",
    "# Same for 1*2 scale\n",
    "#pixel_indices_12 = [[a*10 + b, (a+1)*10 +b] for a in n_even for b in range(10)]\n",
    "pixel_indices_12 = [[a*10 + b, (a+1)*10 +b] for a in range(9) for b in range(10)]"
   ]
  },
  {
   "cell_type": "code",
   "execution_count": 81,
   "id": "ef6d9fa4",
   "metadata": {},
   "outputs": [],
   "source": [
    "# Preprocessing of stimuli data for multi scale encoding\n",
    "\n",
    "def preproc_one_stimuli(idx_pxl_toavg, stim, reshape = False, reshape_form = (5,5)) :\n",
    "    \"\"\"\n",
    "    Permits to preproc 1 stimuli figure by averaging some pixels together for the \n",
    "    multiscale encoding.\n",
    "    - idx_pxl_toavg : liste de multiplets d'indices de pixels que l'on souhaite moyenner\n",
    "                      ensemble. Par ex, pour le 2*2 on a :\n",
    "                      [[0,1,10,11], [2,3,12,13], ... ,[88,89,98,99]].\n",
    "    - stimuli: the image\n",
    "    - reshape : if you want your image to be reshaped in such a way that you can plot it\n",
    "    - reshape_form : (5,5) for a 5 by 5 image, etc...\n",
    "    \"\"\"\n",
    "    if reshape == False :\n",
    "        return np.array([np.average([stim[i] for i in idx]) for idx in idx_pxl_toavg])\n",
    "    \n",
    "    else :\n",
    "        return np.array(np.reshape([np.average([stim[i] for i in idx]) for idx in idx_pxl_toavg],reshape_form))\n",
    "    \n",
    "\n",
    "def preproc_multiple_stimuli(idx_pxl_toavg, stimuli_list, reshape = False, reshape_form = (5,5)) :\n",
    "    \"\"\"\n",
    "    Same as above but to preproc a whole list of stimulis\n",
    "    Sorry this looks horrible\n",
    "    \"\"\"\n",
    "    if reshape == False :\n",
    "        return np.array([[np.average([stim[i] for i in idx]) for idx in idx_pxl_toavg] for stim in stimuli_list])\n",
    "    \n",
    "    else :\n",
    "        reshape_form_multi = (len(stimuli_list),reshape_form[0],reshape_form[1])\n",
    "        return np.array(np.reshape([np.average([stim[i] for i in idx]) for idx in idx_pxl_toavg for stim in stimuli_list],reshape_form_multi))\n",
    "    \n",
    "def Y_train_newscale(Y_train, idx_pxl_toavg, reshape = False, reshape_form = (5,5)) :\n",
    "    \"\"\"\n",
    "    Creates a new Y_train but with rescaled images \n",
    "    Changes greyscale values to classes (integers) : for this, we want to map the values of greyscale to\n",
    "    integers. We notice that for 4 pixels, only possible values are [0,0.25,0.5,0.75,1]. For 2 pixels, [0,0.5,1]. Etc.\n",
    "    By multiplying these grayscale values by the number of pixels we get [0,1,2,3,4] or [0,1,2], etc. Hence the multiplication.\n",
    "    \"\"\"\n",
    "    Y_continuous = preproc_multiple_stimuli(idx_pxl_toavg, Y_train, reshape, reshape_form) #with values in [0,1]\n",
    "    n = len(idx_pxl_toavg[0]) #number of classes is the number of pixels there is to average + 1. For instance for 4 pixels you can have [0,0.25,0.5,0.75,1]\n",
    "    Y_integers = [[int(pixel_val * n) for pixel_val in img] for img in Y_continuous]\n",
    "    return Y_integers"
   ]
  },
  {
   "cell_type": "markdown",
   "id": "b9afe10f",
   "metadata": {},
   "source": [
    "# Check that stimuli processing works\n",
    "\n",
    "imag = stimuli_figures2[30]\n",
    "\n",
    "old = np.reshape(imag,(10,10))\n",
    "new = preproc_one_stimuli(pixel_indices_22, imag, reshape = True)\n",
    "\n",
    "fig = plt.figure()\n",
    "sp1 = plt.subplot(121)\n",
    "sp2 = plt.subplot(122)\n",
    "\n",
    "# to show the grid \n",
    "\n",
    "for ax in (sp1, sp2) :\n",
    "\n",
    "    # Major ticks\n",
    "    ax.set_xticks(np.arange(0, 10, 1))\n",
    "    ax.set_yticks(np.arange(0, 10, 1))\n",
    "\n",
    "    # Minor ticks\n",
    "    ax.set_xticks(np.arange(-.5, 10, 1), minor=True)\n",
    "    ax.set_yticks(np.arange(-.5, 10, 1), minor=True)\n",
    "    \n",
    "    ax.grid(which='minor', color='r', linestyle='-', linewidth=2)\n",
    "\n",
    "\n",
    "sp1.imshow(old, cmap = plt.cm.gray, interpolation = 'nearest')\n",
    "sp2.imshow(new, cmap = plt.cm.gray, interpolation = 'nearest')"
   ]
  },
  {
   "cell_type": "markdown",
   "id": "ae65d470",
   "metadata": {},
   "source": [
    "It works !"
   ]
  },
  {
   "cell_type": "markdown",
   "id": "b3f2ddf2",
   "metadata": {},
   "source": [
    "# Train a log reg at the different scales"
   ]
  },
  {
   "cell_type": "code",
   "execution_count": 78,
   "id": "0a524523",
   "metadata": {},
   "outputs": [],
   "source": [
    "from sklearn import linear_model\n",
    "\n",
    "def train_logreg_scale(x_train, y_train, x_test, y_test, scale) :\n",
    "    \"\"\"\n",
    "    Trains a log reg for a certain scale \n",
    "    \"\"\"\n",
    "    logreg_table = []\n",
    "    size = len(y_train[0])\n",
    "    \n",
    "    train_accuracy, test_accuracy = np.zeros(size), np.zeros(size)\n",
    "    print(len(train_accuracy))\n",
    "\n",
    "    # loop over regularisation strength\n",
    "    for i, pixel in tqdm(enumerate(np.transpose(y_train))):\n",
    "    \n",
    "        # define logistic regressor\n",
    "        logreg = linear_model.LogisticRegression(penalty=\"l2\", C=0.05, max_iter = 15000, multi_class='multinomial')#, n_jobs = 2)#, n_jobs=-1)\n",
    "    \n",
    "        # fit training data\n",
    "        logreg.fit(x_train, pixel)\n",
    "    \n",
    "        logreg_table.append(logreg)\n",
    "    \n",
    "        # check accuracy\n",
    "        train_accuracy[i]=logreg.score(x_train,pixel)\n",
    "        test_accuracy[i]=logreg.score(x_test,np.transpose(y_test)[i])\n",
    "        \n",
    "    return logreg_table, train_accuracy, test_accuracy"
   ]
  },
  {
   "cell_type": "code",
   "execution_count": 79,
   "id": "777340e9",
   "metadata": {},
   "outputs": [
    {
     "name": "stderr",
     "output_type": "stream",
     "text": [
      "\r",
      "0it [00:00, ?it/s]"
     ]
    },
    {
     "name": "stdout",
     "output_type": "stream",
     "text": [
      "100\n"
     ]
    },
    {
     "name": "stderr",
     "output_type": "stream",
     "text": [
      "100it [19:44, 11.84s/it]\n"
     ]
    }
   ],
   "source": [
    "#Prediction functions for initial pixels\n",
    "[logreg_table_11, train_accuracy_11, test_accuracy_11] = train_logreg_scale(X_train, Y_train, X_test, Y_test, (1,1))"
   ]
  },
  {
   "cell_type": "code",
   "execution_count": null,
   "id": "3d373c97",
   "metadata": {},
   "outputs": [],
   "source": [
    "print(np.average(train_accuracy_11), np.average(test_accuracy_11))"
   ]
  },
  {
   "cell_type": "code",
   "execution_count": 53,
   "id": "92a342d1",
   "metadata": {},
   "outputs": [],
   "source": [
    "# New Y_train for 2*2 block averaged images\n",
    "Y_train_22, Y_test_22 = Y_train_newscale(Y_train, pixel_indices_22), Y_train_newscale(Y_test, pixel_indices_22)\n",
    "\n",
    "[logreg_table_22, train_accuracy_22, test_accuracy_22] = train_logreg_scale(X_train, Y_train_22, X_test, Y_test_22,(2,2))"
   ]
  },
  {
   "cell_type": "code",
   "execution_count": 73,
   "id": "3804807f",
   "metadata": {},
   "outputs": [],
   "source": [
    "train_accuracy_22 = [x for x in train_accuracy_22 if x!= 0]\n",
    "test_accuracy_22 = [x for x in test_accuracy_22 if x!= 0]"
   ]
  },
  {
   "cell_type": "code",
   "execution_count": 74,
   "id": "75d869e1",
   "metadata": {},
   "outputs": [
    {
     "name": "stdout",
     "output_type": "stream",
     "text": [
      "1.0 0.7375032375032374\n"
     ]
    }
   ],
   "source": [
    "print(np.average(train_accuracy_22), np.average(test_accuracy_22))"
   ]
  },
  {
   "cell_type": "code",
   "execution_count": 75,
   "id": "df0aec95",
   "metadata": {},
   "outputs": [
    {
     "name": "stdout",
     "output_type": "stream",
     "text": [
      "81\n",
      "81\n"
     ]
    },
    {
     "data": {
      "image/png": "[encoded data removed]",
      "text/plain": [
       "<Figure size 432x288 with 1 Axes>"
      ]
     },
     "metadata": {
      "needs_background": "light"
     },
     "output_type": "display_data"
    }
   ],
   "source": [
    "fig, ax = plt.subplots() #try to see test accuracy function of pixel\n",
    "plt.plot(range(len(train_accuracy_22)),train_accuracy_22)\n",
    "plt.plot(range(len(test_accuracy_22)), test_accuracy_22)\n",
    "print(len(Y_train_22[0]))\n",
    "print(len(train_accuracy_22))"
   ]
  },
  {
   "cell_type": "code",
   "execution_count": 82,
   "id": "2a84e7c1",
   "metadata": {},
   "outputs": [
    {
     "name": "stderr",
     "output_type": "stream",
     "text": [
      "\r",
      "0it [00:00, ?it/s]"
     ]
    },
    {
     "name": "stdout",
     "output_type": "stream",
     "text": [
      "90\n"
     ]
    },
    {
     "name": "stderr",
     "output_type": "stream",
     "text": [
      "90it [29:59, 20.00s/it]\n"
     ]
    }
   ],
   "source": [
    "# New Y_train for 2*1 block averaged images\n",
    "Y_train_21, Y_test_21 = Y_train_newscale(Y_train, pixel_indices_21),  Y_train_newscale(Y_test, pixel_indices_21)\n",
    "            \n",
    "[logreg_table_21, train_accuracy_21, test_accuracy_21] = train_logreg_scale(X_train, Y_train_21, X_test, Y_test_21,(2,1))"
   ]
  },
  {
   "cell_type": "code",
   "execution_count": 83,
   "id": "4f976c08",
   "metadata": {},
   "outputs": [
    {
     "name": "stdout",
     "output_type": "stream",
     "text": [
      "1.0 0.8234848484848485\n"
     ]
    }
   ],
   "source": [
    "print(np.average(train_accuracy_21), np.average(test_accuracy_21))"
   ]
  },
  {
   "cell_type": "code",
   "execution_count": 84,
   "id": "e9e72f73",
   "metadata": {},
   "outputs": [
    {
     "name": "stderr",
     "output_type": "stream",
     "text": [
      "\r",
      "0it [00:00, ?it/s]"
     ]
    },
    {
     "name": "stdout",
     "output_type": "stream",
     "text": [
      "90\n"
     ]
    },
    {
     "name": "stderr",
     "output_type": "stream",
     "text": [
      "90it [29:38, 19.76s/it]\n"
     ]
    }
   ],
   "source": [
    "# New Y_train for 1*2 block averaged images\n",
    "Y_train_12, Y_test_12 = Y_train_newscale(Y_train, pixel_indices_12),  Y_train_newscale(Y_test, pixel_indices_12)\n",
    "\n",
    "[logreg_table_12, train_accuracy_12, test_accuracy_12] = train_logreg_scale(X_train, Y_train_12, X_test, Y_test_12,(1,2))"
   ]
  },
  {
   "cell_type": "code",
   "execution_count": 85,
   "id": "8d5ad7e1",
   "metadata": {},
   "outputs": [
    {
     "name": "stdout",
     "output_type": "stream",
     "text": [
      "1.0 0.8179487179487179\n"
     ]
    },
    {
     "data": {
      "text/plain": [
       "90"
      ]
     },
     "execution_count": 85,
     "metadata": {},
     "output_type": "execute_result"
    }
   ],
   "source": [
    "print(np.average(train_accuracy_12), np.average(test_accuracy_12))\n",
    "len(Y_train_12[0])"
   ]
  },
  {
   "cell_type": "markdown",
   "id": "dd2e45cd",
   "metadata": {},
   "source": [
    "# Check results "
   ]
  },
  {
   "cell_type": "code",
   "execution_count": 144,
   "id": "ccbc1b21",
   "metadata": {},
   "outputs": [],
   "source": [
    "def block_to_100px(y_block, pixel_indices_shape, normalize = True) :\n",
    "    \"\"\"\n",
    "    Make the y_block list of overlapping block averaged images with shape nxm \n",
    "    (2x2, 2x1 or 1x2) to a list of 100-pixels images. The contributions of overlapping\n",
    "    blocks are simply averaged for each pixel, with equal weights for each block.\n",
    "    \n",
    "    FINAL IMAGE HAS VALUES BETWEEN 0 AND 1 IF NORMALIZE = TRUE\n",
    "    \n",
    "    - y_block : list of block values for (predicted or not) images\n",
    "    - shape : shape of block (2*1 is (2,1) for instance)\n",
    "    - pixel_indices_shape : list of pixel indices contained in each block (e.g. the first\n",
    "      block of 2x2 block avgd image contains pixels of indices [0,1,10,11])\n",
    "    \"\"\"\n",
    "\n",
    "    # First, depending on the format, we make a list of the indices of the \n",
    "    # blocks we need to average toegether (since not all pixels have the same\n",
    "    # number of blocks contributing --- and also that their locations are not obvious)\n",
    "    # block_to_avg[i] : indices of blocks to avg together to make pixel i\n",
    "    \n",
    "    block_to_avg = []\n",
    "    for pixel in range(100) : \n",
    "        pixel_blocks = []\n",
    "        for i, block in enumerate(pixel_indices_shape) :\n",
    "            if pixel in block :\n",
    "                pixel_blocks.append(i)\n",
    "        block_to_avg.append(pixel_blocks)\n",
    "\n",
    "    # Now we make each image a 100-pixels image instead of a several overlapping blocks\n",
    "    # image\n",
    "    \n",
    "    if normalize == True :\n",
    "        y_100 = [[np.average([img[block] for block in block_to_avg[pixel]]) for pixel in range(100)] for img in y_block]\n",
    "        y_100 = [[x/max(img) if max(img) != 0 else 0 for x in img] for img in y_100]\n",
    "    else :\n",
    "        y_100 = [[np.average([img[block] for block in block_to_avg[pixel]]) for pixel in range(100)] for img in y_block]\n",
    "    \n",
    "    return np.array(y_100)\n",
    "\n",
    "def weighted_sum(weights, images, i) :\n",
    "    \"\"\"\n",
    "    Just a linear combination of values of different images given different weights\n",
    "    \"\"\"\n",
    "    # i : indice of pixel\n",
    "    [W11, W12, W21, W22] = weights\n",
    "    [im11, im12, im21, im22] = images\n",
    "    return W11[i] * im11[i] + W12[i] * im12[i] + W21[i] * im21[i] + W22[i] * im22[i]\n",
    "\n",
    "def avgd_imag(weights, images) :\n",
    "    \"\"\"\n",
    "    Averages 4 images given the weights for each pixel for each pixel of each kind of img\n",
    "    \"\"\"\n",
    "    return np.array([weighted_sum(W, imgs, px) for px in range(100)])\n",
    "\n",
    "def avg_all_images(weights, images) :\n",
    "    \"\"\"\n",
    "    Averages all images 4 by 4 with the corresponding weights\n",
    "    \"\"\"\n",
    "    [y11, y12, y21, y22] = images #predictions of images \n",
    "    #[w11, w12, w21, w22] = weights\n",
    "    groups = [[y11[i],y12[i],y21[i],y22[i]] for i in range(len(y11))] #groups of predicted images corresponding to the same fMRI\n",
    "    return np.array([avgd_imag(weights, groups[i]) for i in range(len(groups))])"
   ]
  },
  {
   "cell_type": "markdown",
   "id": "7433946b",
   "metadata": {},
   "source": [
    "# Make predictions on the geometrical shapes dataset"
   ]
  },
  {
   "cell_type": "code",
   "execution_count": 217,
   "id": "7541a4a0",
   "metadata": {},
   "outputs": [],
   "source": [
    "def predict_from_fmri(logregtable, X) :\n",
    "    pred_list = []\n",
    "\n",
    "    for x in X :\n",
    "        x = np.reshape(x,(1,-1))\n",
    "        pred = []\n",
    "        for block in range(len(logregtable)) :\n",
    "            block_pred = logregtable[block].predict(x)\n",
    "            pred.append(block_pred)\n",
    "        pred_list.append(pred)\n",
    "    \n",
    "    return pred_list"
   ]
  },
  {
   "cell_type": "code",
   "execution_count": 137,
   "id": "97d27266",
   "metadata": {},
   "outputs": [],
   "source": [
    "ypred_22 = predict_from_fmri(logreg_table_22)\n",
    "ypred_12 = predict_from_fmri(logreg_table_12)\n",
    "ypred_21 = predict_from_fmri(logreg_table_21)\n",
    "ypred_11 = predict_from_fmri(logreg_table_11)"
   ]
  },
  {
   "cell_type": "code",
   "execution_count": 138,
   "id": "0e19375e",
   "metadata": {},
   "outputs": [],
   "source": [
    "ypred_22 = [np.array(a).flatten() for a in ypred_22]\n",
    "ypred_12 = [np.array(a).flatten() for a in ypred_12]\n",
    "ypred_21 = [np.array(a).flatten() for a in ypred_21]\n",
    "ypred_11 = [np.array(a).flatten() for a in ypred_11]"
   ]
  },
  {
   "cell_type": "code",
   "execution_count": 150,
   "id": "c62e0aad",
   "metadata": {
    "scrolled": true
   },
   "outputs": [],
   "source": [
    "ypred22 = block_to_100px(ypred_22, pixel_indices_22)\n",
    "ypred21 = block_to_100px(ypred_21, pixel_indices_21)\n",
    "ypred12 = block_to_100px(ypred_12, pixel_indices_12)\n",
    "ypred11 = ypred_11"
   ]
  },
  {
   "cell_type": "markdown",
   "id": "e3f5abb0",
   "metadata": {},
   "source": [
    "### Try to plot some"
   ]
  },
  {
   "cell_type": "code",
   "execution_count": 241,
   "id": "24394b79",
   "metadata": {},
   "outputs": [
    {
     "data": {
      "text/plain": [
       "<matplotlib.image.AxesImage at 0x7f06752650a0>"
      ]
     },
     "execution_count": 241,
     "metadata": {},
     "output_type": "execute_result"
    },
    {
     "data": {
      "image/png": "[encoded data removed]",
      "text/plain": [
       "<Figure size 432x432 with 6 Axes>"
      ]
     },
     "metadata": {
      "needs_background": "light"
     },
     "output_type": "display_data"
    }
   ],
   "source": [
    "n = 12\n",
    "\n",
    "w11 = np.ones(100) * 0.25\n",
    "w22 = np.ones(100) * 0.25\n",
    "w21 = np.ones(100) * 0.25 \n",
    "w12 = np.ones(100) * 0.25\n",
    "\n",
    "W = [w11, w12, w21, w22]\n",
    "imgs = [ypred11[n], ypred12[n], ypred21[n], ypred22[n]]\n",
    "#print(imgs, np.shape(imgs))\n",
    "true = np.reshape(stimuli_figures[n],(10,10))\n",
    "\n",
    "averaged = []\n",
    "\n",
    "def weighted_sum(weights, images, i) :\n",
    "    # i : indice of pixel\n",
    "    [W11, W12, W21, W22] = weights\n",
    "    [im11, im12, im21, im22] = images\n",
    "    return W11[i] * im11[i] + W12[i] * im12[i] + W21[i] * im21[i] + W22[i] * im22[i]\n",
    "\n",
    "def avgd_imag(weights, images, binarized = False) :\n",
    "    if binarized == False :\n",
    "        return np.array([weighted_sum(W, imgs, px) for px in range(100)])\n",
    "    else :\n",
    "        return np.array([np.round(weighted_sum(W, imgs, px),0) for px in range(100)])\n",
    "\n",
    "averaged = avgd_imag(W, imgs)\n",
    "    \n",
    "fig = plt.figure(figsize=(6,6))\n",
    "sp1 = plt.subplot(331)\n",
    "sp2 = plt.subplot(332)\n",
    "sp3 = plt.subplot(333)\n",
    "sp4 = plt.subplot(334)\n",
    "sp5 = plt.subplot(335)\n",
    "sp6 = plt.subplot(336)\n",
    "sp1.imshow(np.reshape(ypred22[n],(10,10)),  cmap = plt.cm.gray, interpolation = 'nearest')\n",
    "sp2.imshow(np.reshape(ypred21[n],(10,10)),  cmap = plt.cm.gray, interpolation = 'nearest')\n",
    "sp3.imshow(np.reshape(ypred12[n],(10,10)),  cmap = plt.cm.gray, interpolation = 'nearest')\n",
    "sp4.imshow(np.reshape(ypred11[n],(10,10)),  cmap = plt.cm.gray, interpolation = 'nearest')\n",
    "sp5.imshow(np.reshape(averaged,(10,10)),  cmap = plt.cm.gray, interpolation = 'nearest')   \n",
    "sp6.imshow(np.reshape(stimuli_figures[n],(10,10)),  cmap = plt.cm.gray, interpolation = 'nearest')       "
   ]
  },
  {
   "cell_type": "code",
   "execution_count": 208,
   "id": "a0f5876c",
   "metadata": {},
   "outputs": [
    {
     "data": {
      "text/plain": [
       "<matplotlib.image.AxesImage at 0x7f067580ecd0>"
      ]
     },
     "execution_count": 208,
     "metadata": {},
     "output_type": "execute_result"
    },
    {
     "data": {
      "image/png": "[encoded data removed]",
      "text/plain": [
       "<Figure size 432x288 with 1 Axes>"
      ]
     },
     "metadata": {
      "needs_background": "light"
     },
     "output_type": "display_data"
    }
   ],
   "source": [
    "binarized = avgd_imag(W, imgs, binarized = True)\n",
    "plt.imshow(np.reshape(binarized,(10,10)),  cmap = plt.cm.gray, interpolation = 'nearest')"
   ]
  },
  {
   "cell_type": "markdown",
   "id": "4254c51a",
   "metadata": {},
   "source": [
    "# Now let's optimize the shit out of the weights"
   ]
  },
  {
   "cell_type": "code",
   "execution_count": 216,
   "id": "861631a5",
   "metadata": {},
   "outputs": [],
   "source": [
    "from sklearn.linear_model import LinearRegression\n",
    "\n",
    "# Split geometric shapes into test, val and train set\n",
    "train_to_test_ratio = 0.7\n",
    "X_traing, X_testg, Y_traing, Y_testg = train_test_split(fmri_figures_data, stimuli_figures,\n",
    "                                        train_size=train_to_test_ratio, \n",
    "                                        test_size=1.0-train_to_test_ratio)\n",
    "# Useful ? X_valg, X_testg, Y_valg, Y_testg = train_test_split(X_testg, Y_testg,\n",
    "          #                              train_size=0.5 \n",
    "          #                              test_size=0.5)"
   ]
  },
  {
   "cell_type": "code",
   "execution_count": 218,
   "id": "8f44718c",
   "metadata": {},
   "outputs": [],
   "source": [
    "ypred_22 = predict_from_fmri(logreg_table_22, X_traing)\n",
    "ypred_12 = predict_from_fmri(logreg_table_12, X_traing)\n",
    "ypred_21 = predict_from_fmri(logreg_table_21, X_traing)\n",
    "ypred_11 = predict_from_fmri(logreg_table_11, X_traing)"
   ]
  },
  {
   "cell_type": "code",
   "execution_count": 219,
   "id": "7406e0ca",
   "metadata": {},
   "outputs": [],
   "source": [
    "ypred_22 = [np.array(a).flatten() for a in ypred_22]\n",
    "ypred_12 = [np.array(a).flatten() for a in ypred_12]\n",
    "ypred_21 = [np.array(a).flatten() for a in ypred_21]\n",
    "ypred_11 = [np.array(a).flatten() for a in ypred_11]"
   ]
  },
  {
   "cell_type": "code",
   "execution_count": 220,
   "id": "073077f7",
   "metadata": {},
   "outputs": [],
   "source": [
    "ypred22 = block_to_100px(ypred_22, pixel_indices_22)\n",
    "ypred21 = block_to_100px(ypred_21, pixel_indices_21)\n",
    "ypred12 = block_to_100px(ypred_12, pixel_indices_12)\n",
    "ypred11 = ypred_11"
   ]
  },
  {
   "cell_type": "code",
   "execution_count": 231,
   "id": "82b7a27d",
   "metadata": {},
   "outputs": [],
   "source": [
    "preds = np.array([ypred22, ypred21, ypred12, ypred11])\n",
    "\n",
    "linreg = []\n",
    "coeffs = []\n",
    "\n",
    "for pixel in range(100) :\n",
    "    px_pred = [[img[pixel] for img in y] for y in preds]\n",
    "    px_pred = np.transpose(px_pred)\n",
    "    px_ytrain = [img[pixel] for img in Y_traing]\n",
    "    \n",
    "    model = LinearRegression().fit(px_pred, px_ytrain)\n",
    "    linreg.append(model)\n",
    "    coeffs.append(model.coef_)    "
   ]
  },
  {
   "cell_type": "code",
   "execution_count": 232,
   "id": "2536e344",
   "metadata": {},
   "outputs": [
    {
     "data": {
      "text/plain": [
       "(100, 4)"
      ]
     },
     "execution_count": 232,
     "metadata": {},
     "output_type": "execute_result"
    }
   ],
   "source": [
    "np.shape(coeffs)"
   ]
  },
  {
   "cell_type": "code",
   "execution_count": 236,
   "id": "8a43c44d",
   "metadata": {},
   "outputs": [],
   "source": [
    "ypred_22 = predict_from_fmri(logreg_table_22, X_testg)\n",
    "ypred_12 = predict_from_fmri(logreg_table_12, X_testg)\n",
    "ypred_21 = predict_from_fmri(logreg_table_21, X_testg)\n",
    "ypred_11 = predict_from_fmri(logreg_table_11, X_testg)"
   ]
  },
  {
   "cell_type": "code",
   "execution_count": 237,
   "id": "43dfd788",
   "metadata": {},
   "outputs": [],
   "source": [
    "ypred_22 = [np.array(a).flatten() for a in ypred_22]\n",
    "ypred_12 = [np.array(a).flatten() for a in ypred_12]\n",
    "ypred_21 = [np.array(a).flatten() for a in ypred_21]\n",
    "ypred_11 = [np.array(a).flatten() for a in ypred_11]"
   ]
  },
  {
   "cell_type": "code",
   "execution_count": 238,
   "id": "2d877a42",
   "metadata": {},
   "outputs": [],
   "source": [
    "ypred22 = block_to_100px(ypred_22, pixel_indices_22)\n",
    "ypred21 = block_to_100px(ypred_21, pixel_indices_21)\n",
    "ypred12 = block_to_100px(ypred_12, pixel_indices_12)\n",
    "ypred11 = ypred_11"
   ]
  },
  {
   "cell_type": "code",
   "execution_count": 259,
   "id": "88fb4252",
   "metadata": {},
   "outputs": [
    {
     "data": {
      "text/plain": [
       "<matplotlib.image.AxesImage at 0x7f06738b3a30>"
      ]
     },
     "execution_count": 259,
     "metadata": {},
     "output_type": "execute_result"
    },
    {
     "data": {
      "image/png": "[encoded data removed]",
      "text/plain": [
       "<Figure size 432x432 with 6 Axes>"
      ]
     },
     "metadata": {
      "needs_background": "light"
     },
     "output_type": "display_data"
    }
   ],
   "source": [
    "n = 65\n",
    "\n",
    "im = [ypred11[n], ypred12[n], ypred21[n], ypred22[n]]\n",
    "\n",
    "av = avgd_imag(coeffs, im)\n",
    "\n",
    "fig = plt.figure(figsize=(6,6))\n",
    "sp1 = plt.subplot(331)\n",
    "sp2 = plt.subplot(332)\n",
    "sp3 = plt.subplot(333)\n",
    "sp4 = plt.subplot(334)\n",
    "sp5 = plt.subplot(335)\n",
    "sp6 = plt.subplot(336)\n",
    "\n",
    "sp1.imshow(np.reshape(ypred22[n],(10,10)),  cmap = plt.cm.gray, interpolation = 'nearest')\n",
    "sp2.imshow(np.reshape(ypred21[n],(10,10)),  cmap = plt.cm.gray, interpolation = 'nearest')\n",
    "sp3.imshow(np.reshape(ypred12[n],(10,10)),  cmap = plt.cm.gray, interpolation = 'nearest')\n",
    "sp4.imshow(np.reshape(ypred11[n],(10,10)),  cmap = plt.cm.gray, interpolation = 'nearest')\n",
    "sp5.imshow(np.reshape(av,(10,10)),  cmap = plt.cm.gray, interpolation = 'nearest')   \n",
    "sp6.imshow(np.reshape(Y_testg[n],(10,10)),  cmap = plt.cm.gray, interpolation = 'nearest')       "
   ]
  },
  {
   "cell_type": "markdown",
   "id": "dc42828f",
   "metadata": {},
   "source": [
    "### C'est presque ça\n",
    "Problème lors du run ou sûrement des variabels qui s'appellent pareil et qui conflict\n",
    "\n",
    "Du coup l'averaging marche pas\n",
    "voir weights\n",
    "voir forme tableau weights"
   ]
  },
  {
   "cell_type": "code",
   "execution_count": null,
   "id": "2094d0bc",
   "metadata": {},
   "outputs": [],
   "source": []
  }
 ],
 "metadata": {
  "kernelspec": {
   "display_name": "Python 3",
   "language": "python",
   "name": "python3"
  },
  "language_info": {
   "codemirror_mode": {
    "name": "ipython",
    "version": 3
   },
   "file_extension": ".py",
   "mimetype": "text/x-python",
   "name": "python",
   "nbconvert_exporter": "python",
   "pygments_lexer": "ipython3",
   "version": "3.8.8"
  }
 },
 "nbformat": 4,
 "nbformat_minor": 5
}
