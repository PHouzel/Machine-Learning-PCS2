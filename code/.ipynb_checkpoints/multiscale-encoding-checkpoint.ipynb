{
 "cells": [
  {
   "cell_type": "markdown",
   "id": "2c3bb582",
   "metadata": {},
   "source": [
    "# Preprocessing of data"
   ]
  },
  {
   "cell_type": "markdown",
   "id": "124b95d4",
   "metadata": {},
   "source": [
    "### Import libraries and preproc"
   ]
  },
  {
   "cell_type": "code",
   "execution_count": 4,
   "id": "415afc04",
   "metadata": {},
   "outputs": [],
   "source": [
    "import sys\n",
    "import numpy as np\n",
    "from tqdm import tqdm\n",
    "import nibabel\n",
    "#!{sys.executable} -m pip install nilearn #install relevant neuroimaging package\n",
    "#!{sys.executable} -m pip install opencv-python #install video package\n",
    "from preprocessing import load_and_mask_miyawaki_data\n",
    "from plots import plt_fmri_stim\n",
    "import matplotlib.pyplot as plt"
   ]
  },
  {
   "cell_type": "code",
   "execution_count": 5,
   "id": "88c60682",
   "metadata": {
    "scrolled": true
   },
   "outputs": [
    {
     "name": "stderr",
     "output_type": "stream",
     "text": [
      "Preprocessing data..."
     ]
    },
    {
     "name": "stdout",
     "output_type": "stream",
     "text": [
      "The shape of the masked data is (20, 145, 5438)\n",
      "Preprocessed fMRI data: 2860 samples x 5438 voxels\n",
      "Preprocessed stimuli data: 2860 samples x 100 pixels\n",
      "1536 geometrical figures\n"
     ]
    },
    {
     "name": "stderr",
     "output_type": "stream",
     "text": [
      " Done (21.20s).\n"
     ]
    }
   ],
   "source": [
    "fmri_data, stimuli, fmri_figures_data, stimuli_figures, masker = load_and_mask_miyawaki_data()"
   ]
  },
  {
   "cell_type": "markdown",
   "id": "5c98ebb7",
   "metadata": {},
   "source": [
    "### Create data sets"
   ]
  },
  {
   "cell_type": "code",
   "execution_count": 391,
   "id": "99b472b8",
   "metadata": {},
   "outputs": [],
   "source": [
    "from sklearn.model_selection import train_test_split\n",
    "\n",
    "# Random images avec les carrés noirs : train and validation set\n",
    "train_to_test_ratio = 0.7\n",
    "X_train, X_val, Y_train, Y_val = train_test_split(fmri_data, stimuli, \n",
    "                                        train_size=train_to_test_ratio, \n",
    "                                        test_size=1.0-train_to_test_ratio)\n",
    "\n",
    "# Test set : geometric images\n",
    "X_test, Y_test = fmri_figures_data, stimuli_figures"
   ]
  },
  {
   "cell_type": "markdown",
   "id": "82acf125",
   "metadata": {},
   "source": [
    "### Manipulate stimuli images for multiscale analysis"
   ]
  },
  {
   "cell_type": "code",
   "execution_count": 779,
   "id": "4515901e",
   "metadata": {},
   "outputs": [],
   "source": [
    "# Create list pixel_indices of 4-uplets of incidices of pixels we want to average together for the 2*2 scale\n",
    "n_even = [2*i for i in range(5)] #list used to generate pixel_indices\n",
    "#pixel_indices_22 = [[10*a+b, 10*a+(b+1), 10*(a+1)+b, 10*(a+1)+(b+1)] for a in n_even for b in n_even]\n",
    "pixel_indices_22 = [[10*a+b, 10*a+(b+1), 10*(a+1)+b, 10*(a+1)+(b+1)] for a in range(9) for b in range(9)]\n",
    "\n",
    "# Same for 2*1 scale\n",
    "n_odd = [2*i+1 for i in range(50)]\n",
    "#pixel_indices_21 = [[a-1, a] for a in n_odd]\n",
    "pixel_indices_21 = [[(10*b)+ a-1, 10*b + a] for b in range(10) for a in range(10)[1:]]\n",
    "\n",
    "# Same for 1*2 scale\n",
    "#pixel_indices_12 = [[a*10 + b, (a+1)*10 +b] for a in n_even for b in range(10)]\n",
    "pixel_indices_12 = [[a*10 + b, (a+1)*10 +b] for a in range(9) for b in range(10)]"
   ]
  },
  {
   "cell_type": "code",
   "execution_count": 393,
   "id": "ef6d9fa4",
   "metadata": {},
   "outputs": [],
   "source": [
    "# Preprocessing of stimuli data for multi scale encoding\n",
    "\n",
    "def preproc_one_stimuli(idx_pxl_toavg, stim, reshape = False, reshape_form = (5,5)) :\n",
    "    \"\"\"\n",
    "    Permits to preproc 1 stimuli figure by averaging some pixels together for the \n",
    "    multiscale encoding.\n",
    "    - idx_pxl_toavg : liste de multiplets d'indices de pixels que l'on souhaite moyenner\n",
    "                      ensemble. Par ex, pour le 2*2 on a :\n",
    "                      [[0,1,10,11], [2,3,12,13], ... ,[88,89,98,99]].\n",
    "    - stimuli: the image\n",
    "    - reshape : if you want your image to be reshaped in such a way that you can plot it\n",
    "    - reshape_form : (5,5) for a 5 by 5 image, etc...\n",
    "    \"\"\"\n",
    "    if reshape == False :\n",
    "        return np.array([np.average([stim[i] for i in idx]) for idx in idx_pxl_toavg])\n",
    "    \n",
    "    else :\n",
    "        return np.array(np.reshape([np.average([stim[i] for i in idx]) for idx in idx_pxl_toavg],reshape_form))\n",
    "    \n",
    "\n",
    "def preproc_multiple_stimuli(idx_pxl_toavg, stimuli_list, reshape = False, reshape_form = (5,5)) :\n",
    "    \"\"\"\n",
    "    Same as above but to preproc a whole list of stimulis\n",
    "    Sorry this looks horrible\n",
    "    \"\"\"\n",
    "    if reshape == False :\n",
    "        return np.array([[np.average([stim[i] for i in idx]) for idx in idx_pxl_toavg] for stim in stimuli_list])\n",
    "    \n",
    "    else :\n",
    "        reshape_form_multi = (len(stimuli_list),reshape_form[0],reshape_form[1])\n",
    "        return np.array(np.reshape([np.average([stim[i] for i in idx]) for idx in idx_pxl_toavg for stim in stimuli_list],reshape_form_multi))\n",
    "    \n",
    "def Y_train_newscale(Y_train, idx_pxl_toavg, reshape = False, reshape_form = (5,5)) :\n",
    "    \"\"\"\n",
    "    Creates a new Y_train but with rescaled images \n",
    "    Changes greyscale values to classes (integers) : for this, we want to map the values of greyscale to\n",
    "    integers. We notice that for 4 pixels, only possible values are [0,0.25,0.5,0.75,1]. For 2 pixels, [0,0.5,1]. Etc.\n",
    "    By multiplying these grayscale values by the number of pixels we get [0,1,2,3,4] or [0,1,2], etc. Hence the multiplication.\n",
    "    \"\"\"\n",
    "    Y_continuous = preproc_multiple_stimuli(idx_pxl_toavg, Y_train, reshape, reshape_form) #with values in [0,1]\n",
    "    n = len(idx_pxl_toavg[0]) #number of classes is the number of pixels there is to average + 1. For instance for 4 pixels you can have [0,0.25,0.5,0.75,1]\n",
    "    Y_integers = [[int(pixel_val * n) for pixel_val in img] for img in Y_continuous]\n",
    "    return Y_integers"
   ]
  },
  {
   "cell_type": "markdown",
   "id": "ae65d470",
   "metadata": {},
   "source": [
    "It works !"
   ]
  },
  {
   "cell_type": "markdown",
   "id": "b3f2ddf2",
   "metadata": {},
   "source": [
    "# Train a log reg at the different scales"
   ]
  },
  {
   "cell_type": "code",
   "execution_count": 394,
   "id": "0a524523",
   "metadata": {},
   "outputs": [],
   "source": [
    "from sklearn import linear_model\n",
    "\n",
    "def train_logreg_scale(x_train, y_train, x_test, y_test, scale) :\n",
    "    \"\"\"\n",
    "    Trains a log reg for a certain scale \n",
    "    \"\"\"\n",
    "    logreg_table = []\n",
    "    size = len(y_train[0])\n",
    "    \n",
    "    train_accuracy, test_accuracy = np.zeros(size), np.zeros(size)\n",
    "    print(len(train_accuracy))\n",
    "\n",
    "    # loop over regularisation strength\n",
    "    for i, pixel in tqdm(enumerate(np.transpose(y_train))):\n",
    "    \n",
    "        # define logistic regressor\n",
    "        logreg = linear_model.LogisticRegression(penalty=\"l2\", C=0.05, max_iter = 15000, multi_class='multinomial')#, n_jobs = 2)#, n_jobs=-1)\n",
    "    \n",
    "        # fit training data\n",
    "        logreg.fit(x_train, pixel)\n",
    "    \n",
    "        logreg_table.append(logreg)\n",
    "    \n",
    "        # check accuracy\n",
    "        train_accuracy[i]=logreg.score(x_train,pixel)\n",
    "        test_accuracy[i]=logreg.score(x_test,np.transpose(y_test)[i])\n",
    "        \n",
    "    return logreg_table, train_accuracy, test_accuracy"
   ]
  },
  {
   "cell_type": "code",
   "execution_count": 395,
   "id": "777340e9",
   "metadata": {},
   "outputs": [
    {
     "name": "stderr",
     "output_type": "stream",
     "text": [
      "\r",
      "0it [00:00, ?it/s]"
     ]
    },
    {
     "name": "stdout",
     "output_type": "stream",
     "text": [
      "100\n"
     ]
    },
    {
     "name": "stderr",
     "output_type": "stream",
     "text": [
      "100it [15:22,  9.22s/it]\n"
     ]
    }
   ],
   "source": [
    "#Prediction functions for initial pixels\n",
    "[logreg_table_11, train_accuracy_11, test_accuracy_11] = train_logreg_scale(X_train, Y_train, X_test, Y_test, (1,1))"
   ]
  },
  {
   "cell_type": "code",
   "execution_count": 396,
   "id": "3d373c97",
   "metadata": {},
   "outputs": [
    {
     "name": "stdout",
     "output_type": "stream",
     "text": [
      "1.0 0.8824414062500001\n"
     ]
    }
   ],
   "source": [
    "print(np.average(train_accuracy_11), np.average(test_accuracy_11))"
   ]
  },
  {
   "cell_type": "code",
   "execution_count": 397,
   "id": "92a342d1",
   "metadata": {},
   "outputs": [
    {
     "name": "stderr",
     "output_type": "stream",
     "text": [
      "\r",
      "0it [00:00, ?it/s]"
     ]
    },
    {
     "name": "stdout",
     "output_type": "stream",
     "text": [
      "81\n"
     ]
    },
    {
     "name": "stderr",
     "output_type": "stream",
     "text": [
      "81it [38:50, 28.77s/it]\n"
     ]
    }
   ],
   "source": [
    "# New Y_train for 2*2 block averaged images\n",
    "Y_train_22, Y_test_22 = Y_train_newscale(Y_train, pixel_indices_22), Y_train_newscale(Y_test, pixel_indices_22)\n",
    "\n",
    "[logreg_table_22, train_accuracy_22, test_accuracy_22] = train_logreg_scale(X_train, Y_train_22, X_test, Y_test_22,(2,2))"
   ]
  },
  {
   "cell_type": "code",
   "execution_count": 399,
   "id": "75d869e1",
   "metadata": {},
   "outputs": [
    {
     "name": "stdout",
     "output_type": "stream",
     "text": [
      "1.0 0.6879501028806584\n"
     ]
    }
   ],
   "source": [
    "print(np.average(train_accuracy_22), np.average(test_accuracy_22))"
   ]
  },
  {
   "cell_type": "code",
   "execution_count": 400,
   "id": "df0aec95",
   "metadata": {},
   "outputs": [
    {
     "name": "stdout",
     "output_type": "stream",
     "text": [
      "81\n",
      "81\n"
     ]
    },
    {
     "data": {
      "image/png": "[encoded data removed]",
      "text/plain": [
       "<Figure size 432x288 with 1 Axes>"
      ]
     },
     "metadata": {
      "needs_background": "light"
     },
     "output_type": "display_data"
    }
   ],
   "source": [
    "fig, ax = plt.subplots() #try to see test accuracy function of pixel\n",
    "plt.plot(range(len(train_accuracy_22)),train_accuracy_22)\n",
    "plt.plot(range(len(test_accuracy_22)), test_accuracy_22)\n",
    "print(len(Y_train_22[0]))\n",
    "print(len(train_accuracy_22))"
   ]
  },
  {
   "cell_type": "code",
   "execution_count": 401,
   "id": "2a84e7c1",
   "metadata": {},
   "outputs": [
    {
     "name": "stderr",
     "output_type": "stream",
     "text": [
      "\r",
      "0it [00:00, ?it/s]"
     ]
    },
    {
     "name": "stdout",
     "output_type": "stream",
     "text": [
      "90\n"
     ]
    },
    {
     "name": "stderr",
     "output_type": "stream",
     "text": [
      "90it [25:48, 17.20s/it]\n"
     ]
    }
   ],
   "source": [
    "# New Y_train for 2*1 block averaged images\n",
    "Y_train_21, Y_test_21 = Y_train_newscale(Y_train, pixel_indices_21),  Y_train_newscale(Y_test, pixel_indices_21)\n",
    "            \n",
    "[logreg_table_21, train_accuracy_21, test_accuracy_21] = train_logreg_scale(X_train, Y_train_21, X_test, Y_test_21,(2,1))"
   ]
  },
  {
   "cell_type": "code",
   "execution_count": 404,
   "id": "4f976c08",
   "metadata": {},
   "outputs": [
    {
     "name": "stdout",
     "output_type": "stream",
     "text": [
      "1.0 0.7951967592592593\n"
     ]
    }
   ],
   "source": [
    "print(np.average(train_accuracy_21), np.average(test_accuracy_21))"
   ]
  },
  {
   "cell_type": "code",
   "execution_count": 405,
   "id": "e9e72f73",
   "metadata": {},
   "outputs": [
    {
     "name": "stderr",
     "output_type": "stream",
     "text": [
      "\r",
      "0it [00:00, ?it/s]"
     ]
    },
    {
     "name": "stdout",
     "output_type": "stream",
     "text": [
      "90\n"
     ]
    },
    {
     "name": "stderr",
     "output_type": "stream",
     "text": [
      "90it [26:10, 17.45s/it]\n"
     ]
    }
   ],
   "source": [
    "# New Y_train for 1*2 block averaged images\n",
    "Y_train_12, Y_test_12 = Y_train_newscale(Y_train, pixel_indices_12),  Y_train_newscale(Y_test, pixel_indices_12)\n",
    "\n",
    "[logreg_table_12, train_accuracy_12, test_accuracy_12] = train_logreg_scale(X_train, Y_train_12, X_test, Y_test_12,(1,2))"
   ]
  },
  {
   "cell_type": "code",
   "execution_count": 406,
   "id": "8d5ad7e1",
   "metadata": {},
   "outputs": [
    {
     "name": "stdout",
     "output_type": "stream",
     "text": [
      "1.0 0.7885778356481481\n"
     ]
    },
    {
     "data": {
      "text/plain": [
       "90"
      ]
     },
     "execution_count": 406,
     "metadata": {},
     "output_type": "execute_result"
    }
   ],
   "source": [
    "print(np.average(train_accuracy_12), np.average(test_accuracy_12))\n",
    "len(Y_train_12[0])"
   ]
  },
  {
   "cell_type": "markdown",
   "id": "dd2e45cd",
   "metadata": {},
   "source": [
    "# Check results "
   ]
  },
  {
   "cell_type": "code",
   "execution_count": 407,
   "id": "3e57fa70",
   "metadata": {},
   "outputs": [],
   "source": [
    "def block_to_100px(y_block, pixel_indices_shape, normalize = True) :\n",
    "    \"\"\"\n",
    "    Make the y_block list of overlapping block averaged images with shape nxm \n",
    "    (2x2, 2x1 or 1x2) to a list of 100-pixels images. The contributions of overlapping\n",
    "    blocks are simply averaged for each pixel, with equal weights for each block.\n",
    "    \n",
    "    FINAL IMAGE HAS VALUES BETWEEN 0 (black) AND 1 (white) IF NORMALIZE = TRUE\n",
    "    \n",
    "    - y_block : list of block values for (predicted or not) images\n",
    "    - shape : shape of block (2*1 is (2,1) for instance)\n",
    "    - pixel_indices_shape : list of pixel indices contained in each block (e.g. the first\n",
    "      block of 2x2 block avgd image contains pixels of indices [0,1,10,11])\n",
    "    \"\"\"\n",
    "\n",
    "    # First, depending on the format, we make a list of the indices of the \n",
    "    # blocks we need to average toegether (since not all pixels have the same\n",
    "    # number of blocks contributing --- and also that their locations are not obvious)\n",
    "    # block_to_avg[i] : indices of blocks to avg together to make pixel i\n",
    "    \n",
    "    block_to_avg = []\n",
    "    for pixel in range(100) : \n",
    "        pixel_blocks = []\n",
    "        for i, block in enumerate(pixel_indices_shape) :\n",
    "            if pixel in block :\n",
    "                pixel_blocks.append(i)\n",
    "        block_to_avg.append(pixel_blocks)\n",
    "\n",
    "    # Now we make each image a 100-pixels image instead of a several overlapping blocks\n",
    "    # image\n",
    "    \n",
    "    if normalize == True :\n",
    "        y_100 = [[np.average([img[block] for block in block_to_avg[pixel]]) for pixel in range(100)] for img in y_block]\n",
    "        y_100 = [[x/max(img) if max(img) != 0 else 0 for x in img] for img in y_100]\n",
    "    else :\n",
    "        y_100 = [[np.average([img[block] for block in block_to_avg[pixel]]) for pixel in range(100)] for img in y_block]\n",
    "    \n",
    "    return np.array(y_100)\n",
    "\n",
    "def weighted_sum(weights, images, i) :\n",
    "    \"\"\"\n",
    "    Just a linear combination of values of different images given different weights\n",
    "    \"\"\"\n",
    "    # i : indice of pixel\n",
    "    [W11, W12, W21, W22] = weights\n",
    "    [im11, im12, im21, im22] = images\n",
    "    return W11[i] * im11[i] + W12[i] * im12[i] + W21[i] * im21[i] + W22[i] * im22[i]\n",
    "\n",
    "def avgd_imag(weights, images) :\n",
    "    \"\"\"\n",
    "    Averages 4 images given the weights for each pixel for each pixel of each kind of img\n",
    "    \"\"\"\n",
    "    return np.array([weighted_sum(W, imgs, px) for px in range(100)])\n",
    "\n",
    "def avg_all_images(weights, images) :\n",
    "    \"\"\"\n",
    "    Averages all images 4 by 4 with the corresponding weights\n",
    "    \"\"\"\n",
    "    [y11, y12, y21, y22] = images #predictions of images \n",
    "    #[w11, w12, w21, w22] = weights\n",
    "    groups = [[y11[i],y12[i],y21[i],y22[i]] for i in range(len(y11))] #groups of predicted images corresponding to the same fMRI\n",
    "    return np.array([avgd_imag(weights, groups[i]) for i in range(len(groups))])"
   ]
  },
  {
   "cell_type": "markdown",
   "id": "008438e6",
   "metadata": {},
   "source": [
    "# Make predictions on the geometrical shapes dataset to see how it looks"
   ]
  },
  {
   "cell_type": "code",
   "execution_count": 408,
   "id": "0b84080f",
   "metadata": {},
   "outputs": [],
   "source": [
    "def predict_from_fmri(logregtable, X) :\n",
    "    \"\"\"\n",
    "    Predicts images of different block averaging types (the 4 of them) given a X\n",
    "    \"\"\"\n",
    "    pred_list = []\n",
    "\n",
    "    for x in X :\n",
    "        x = np.reshape(x,(1,-1))\n",
    "        pred = []\n",
    "        for block in range(len(logregtable)) :\n",
    "            block_pred = logregtable[block].predict(x)\n",
    "            pred.append(block_pred)\n",
    "        pred_list.append(pred)\n",
    "    \n",
    "    flattened_list = [np.array(a).flatten for a in pred_list]\n",
    "    \n",
    "    return pred_list"
   ]
  },
  {
   "cell_type": "code",
   "execution_count": 409,
   "id": "8c5c3d6c",
   "metadata": {},
   "outputs": [],
   "source": [
    "# Predictions from fmri_figures_data\n",
    "ypred_22 = predict_from_fmri(logreg_table_22, fmri_figures_data)\n",
    "ypred_12 = predict_from_fmri(logreg_table_12, fmri_figures_data)\n",
    "ypred_21 = predict_from_fmri(logreg_table_21, fmri_figures_data)\n",
    "ypred_11 = predict_from_fmri(logreg_table_11, fmri_figures_data)"
   ]
  },
  {
   "cell_type": "code",
   "execution_count": 410,
   "id": "30a8e719",
   "metadata": {
    "scrolled": true
   },
   "outputs": [],
   "source": [
    "ypred22 = block_to_100px(ypred_22, pixel_indices_22)\n",
    "ypred21 = block_to_100px(ypred_21, pixel_indices_21)\n",
    "ypred12 = block_to_100px(ypred_12, pixel_indices_12)\n",
    "ypred11 = ypred_11"
   ]
  },
  {
   "cell_type": "markdown",
   "id": "39e67bfc",
   "metadata": {},
   "source": [
    "### Try to plot some"
   ]
  },
  {
   "cell_type": "code",
   "execution_count": 411,
   "id": "1bea56df",
   "metadata": {},
   "outputs": [
    {
     "data": {
      "text/plain": [
       "<matplotlib.image.AxesImage at 0x7f066fa25580>"
      ]
     },
     "execution_count": 411,
     "metadata": {},
     "output_type": "execute_result"
    },
    {
     "data": {
      "image/png": "[encoded data removed]",
      "text/plain": [
       "<Figure size 432x432 with 6 Axes>"
      ]
     },
     "metadata": {
      "needs_background": "light"
     },
     "output_type": "display_data"
    }
   ],
   "source": [
    "n = 25\n",
    "\n",
    "w11 = np.ones(100) * 0.25\n",
    "w22 = np.ones(100) * 0.25\n",
    "w21 = np.ones(100) * 0.25 \n",
    "w12 = np.ones(100) * 0.25\n",
    "\n",
    "W = [w11, w12, w21, w22]\n",
    "imgs = [ypred11[n], ypred12[n], ypred21[n], ypred22[n]]\n",
    "#print(imgs, np.shape(imgs))\n",
    "true = np.reshape(stimuli_figures[n],(10,10))\n",
    "\n",
    "averaged = []\n",
    "\n",
    "def weighted_sum(weights, images, i) :\n",
    "    # i : indice of pixel\n",
    "    [W11, W12, W21, W22] = weights\n",
    "    [im11, im12, im21, im22] = images\n",
    "    return W11[i] * im11[i] + W12[i] * im12[i] + W21[i] * im21[i] + W22[i] * im22[i]\n",
    "\n",
    "def avgd_imag(weights, images, binarized = False) :\n",
    "    if binarized == False :\n",
    "        return np.array([weighted_sum(weights, images, px) for px in range(100)])\n",
    "    else :\n",
    "        return np.array([np.round(weighted_sum(weights, images, px),0) for px in range(100)])\n",
    "\n",
    "averaged = avgd_imag(W, imgs)\n",
    "    \n",
    "fig = plt.figure(figsize=(6,6))\n",
    "sp1 = plt.subplot(331)\n",
    "sp2 = plt.subplot(332)\n",
    "sp3 = plt.subplot(333)\n",
    "sp4 = plt.subplot(334)\n",
    "sp5 = plt.subplot(335)\n",
    "sp6 = plt.subplot(336)\n",
    "sp1.imshow(np.reshape(ypred22[n],(10,10)),  cmap = plt.cm.gray, interpolation = 'nearest')\n",
    "sp2.imshow(np.reshape(ypred21[n],(10,10)),  cmap = plt.cm.gray, interpolation = 'nearest')\n",
    "sp3.imshow(np.reshape(ypred12[n],(10,10)),  cmap = plt.cm.gray, interpolation = 'nearest')\n",
    "sp4.imshow(np.reshape(ypred11[n],(10,10)),  cmap = plt.cm.gray, interpolation = 'nearest')\n",
    "sp5.imshow(np.reshape(averaged,(10,10)),  cmap = plt.cm.gray, interpolation = 'nearest')   \n",
    "sp6.imshow(np.reshape(stimuli_figures[n],(10,10)),  cmap = plt.cm.gray, interpolation = 'nearest')       "
   ]
  },
  {
   "cell_type": "code",
   "execution_count": 412,
   "id": "75aa2406",
   "metadata": {},
   "outputs": [
    {
     "data": {
      "text/plain": [
       "<matplotlib.image.AxesImage at 0x7f0665b2c340>"
      ]
     },
     "execution_count": 412,
     "metadata": {},
     "output_type": "execute_result"
    },
    {
     "data": {
      "image/png": "[encoded data removed]",
      "text/plain": [
       "<Figure size 432x288 with 1 Axes>"
      ]
     },
     "metadata": {
      "needs_background": "light"
     },
     "output_type": "display_data"
    }
   ],
   "source": [
    "binarized = avgd_imag(W, imgs, binarized = True)\n",
    "plt.imshow(np.reshape(binarized,(10,10)),  cmap = plt.cm.gray, interpolation = 'nearest')"
   ]
  },
  {
   "cell_type": "markdown",
   "id": "dad591dc",
   "metadata": {},
   "source": [
    "# Now let's optimize the shit out of the weights"
   ]
  },
  {
   "cell_type": "markdown",
   "id": "afa14021",
   "metadata": {},
   "source": [
    "### First, we make the predictions on the validation set, made of random images (30%) (validation set = optimization of hyperparameters)\n",
    "We use the previously trained logregs for this.\n",
    "Next, we will use a linear regression that tries to find the best weights to assign to each type (2x2, 2x1, 1x2 and 1x1) of prediction to get a final summed image as close as possible from the original one."
   ]
  },
  {
   "cell_type": "code",
   "execution_count": 413,
   "id": "f7f647a3",
   "metadata": {},
   "outputs": [],
   "source": [
    "# valing set predictions of geometric shapes data set\n",
    "pred_val_22 = predict_from_fmri(logreg_table_22, X_val)\n",
    "pred_val_12 = predict_from_fmri(logreg_table_12, X_val)\n",
    "pred_val_21 = predict_from_fmri(logreg_table_21, X_val)\n",
    "pred_val_11 = predict_from_fmri(logreg_table_11, X_val)"
   ]
  },
  {
   "cell_type": "code",
   "execution_count": 416,
   "id": "7d3c9373",
   "metadata": {},
   "outputs": [],
   "source": [
    "pred_val22 = block_to_100px(pred_val_22, pixel_indices_22)\n",
    "pred_val21 = block_to_100px(pred_val_21, pixel_indices_21)\n",
    "pred_val12 = block_to_100px(pred_val_12, pixel_indices_12)\n",
    "pred_val11 = pred_val_11"
   ]
  },
  {
   "cell_type": "markdown",
   "id": "9fdf3aa6",
   "metadata": {},
   "source": [
    "We plot those predictions, just to see what they look like. In principle, if the logregs are well trained, we should (even with the guessed weights we put there, not the optimized ones) find something coherent, since the test accuracy was not bad previously."
   ]
  },
  {
   "cell_type": "code",
   "execution_count": 417,
   "id": "afd49457",
   "metadata": {},
   "outputs": [
    {
     "data": {
      "text/plain": [
       "<matplotlib.image.AxesImage at 0x7f0671c2dd00>"
      ]
     },
     "execution_count": 417,
     "metadata": {},
     "output_type": "execute_result"
    },
    {
     "data": {
      "image/png": "[encoded data removed]",
      "text/plain": [
       "<Figure size 432x432 with 6 Axes>"
      ]
     },
     "metadata": {
      "needs_background": "light"
     },
     "output_type": "display_data"
    },
    {
     "data": {
      "image/png": "[encoded data removed]",
      "text/plain": [
       "<Figure size 432x432 with 1 Axes>"
      ]
     },
     "metadata": {
      "needs_background": "light"
     },
     "output_type": "display_data"
    }
   ],
   "source": [
    "n = 14\n",
    "\n",
    "im = [pred_val11[n], pred_val12[n], pred_val21[n], pred_val22[n]]\n",
    "\n",
    "av = avgd_imag(W, im)#avgd_imag(np.transpose(coeffs), im)\n",
    "binar = avgd_imag(W, im, binarized = True)\n",
    "\n",
    "fig = plt.figure(figsize=(6,6))\n",
    "sp1 = plt.subplot(331)\n",
    "sp2 = plt.subplot(332)\n",
    "sp3 = plt.subplot(333)\n",
    "sp4 = plt.subplot(334)\n",
    "sp5 = plt.subplot(335)\n",
    "sp6 = plt.subplot(336)\n",
    "\n",
    "sp1.imshow(np.reshape(pred_val22[n],(10,10)),  cmap = plt.cm.gray, interpolation = 'nearest')\n",
    "sp2.imshow(np.reshape(pred_val21[n],(10,10)),  cmap = plt.cm.gray, interpolation = 'nearest')\n",
    "sp3.imshow(np.reshape(pred_val12[n],(10,10)),  cmap = plt.cm.gray, interpolation = 'nearest')\n",
    "sp4.imshow(np.reshape(pred_val11[n],(10,10)),  cmap = plt.cm.gray, interpolation = 'nearest')\n",
    "sp5.imshow(np.reshape(av,(10,10)),  cmap = plt.cm.gray, interpolation = 'nearest')   \n",
    "sp6.imshow(np.reshape(Y_val[n],(10,10)),  cmap = plt.cm.gray, interpolation = 'nearest')     \n",
    "\n",
    "fig2 = plt.figure(figsize=(6,6))\n",
    "sp = plt.subplot(111)\n",
    "sp.imshow(np.reshape(binar,(10,10)),  cmap = plt.cm.gray, interpolation = 'nearest')"
   ]
  },
  {
   "cell_type": "markdown",
   "id": "9815e874",
   "metadata": {},
   "source": [
    "We indeed have something coherent. Now, we want to optimize the weights.\n",
    "\n",
    "For this, we train a linear regression that will try and sum the contributions of all 4 predictions (2x2, 1x2, 2x1 and 1x1 block averaged preds) for each fMRI with weights that will be pixel-dependant. The linear regression will optimize the weights such that the weighted sum of the block averaged predictions give a final image as close as possible to the final one. *In that case, we do not consider the binarized image. Maybe we should.*"
   ]
  },
  {
   "cell_type": "code",
   "execution_count": 421,
   "id": "c6c5497e",
   "metadata": {},
   "outputs": [
    {
     "name": "stderr",
     "output_type": "stream",
     "text": [
      "<ipython-input-421-1213f90a2fbb>:4: VisibleDeprecationWarning: Creating an ndarray from ragged nested sequences (which is a list-or-tuple of lists-or-tuples-or ndarrays with different lengths or shapes) is deprecated. If you meant to do this, you must specify 'dtype=object' when creating the ndarray.\n",
      "  preds = np.array([pred_val22, pred_val21, pred_val12, pred_val11])\n",
      "/home/marie/anaconda3/lib/python3.8/site-packages/numpy/core/_asarray.py:102: VisibleDeprecationWarning: Creating an ndarray from ragged nested sequences (which is a list-or-tuple of lists-or-tuples-or ndarrays with different lengths or shapes) is deprecated. If you meant to do this, you must specify 'dtype=object' when creating the ndarray.\n",
      "  return array(a, dtype, copy=False, order=order)\n",
      "/home/marie/anaconda3/lib/python3.8/site-packages/numpy/core/_asarray.py:102: VisibleDeprecationWarning: Creating an ndarray from ragged nested sequences (which is a list-or-tuple of lists-or-tuples-or ndarrays with different lengths or shapes) is deprecated. If you meant to do this, you must specify 'dtype=object' when creating the ndarray.\n",
      "  return array(a, dtype, copy=False, order=order)\n",
      "/home/marie/anaconda3/lib/python3.8/site-packages/numpy/core/_asarray.py:102: VisibleDeprecationWarning: Creating an ndarray from ragged nested sequences (which is a list-or-tuple of lists-or-tuples-or ndarrays with different lengths or shapes) is deprecated. If you meant to do this, you must specify 'dtype=object' when creating the ndarray.\n",
      "  return array(a, dtype, copy=False, order=order)\n",
      "/home/marie/anaconda3/lib/python3.8/site-packages/numpy/core/_asarray.py:102: VisibleDeprecationWarning: Creating an ndarray from ragged nested sequences (which is a list-or-tuple of lists-or-tuples-or ndarrays with different lengths or shapes) is deprecated. If you meant to do this, you must specify 'dtype=object' when creating the ndarray.\n",
      "  return array(a, dtype, copy=False, order=order)\n",
      "/home/marie/anaconda3/lib/python3.8/site-packages/numpy/core/_asarray.py:102: VisibleDeprecationWarning: Creating an ndarray from ragged nested sequences (which is a list-or-tuple of lists-or-tuples-or ndarrays with different lengths or shapes) is deprecated. If you meant to do this, you must specify 'dtype=object' when creating the ndarray.\n",
      "  return array(a, dtype, copy=False, order=order)\n",
      "/home/marie/anaconda3/lib/python3.8/site-packages/numpy/core/_asarray.py:102: VisibleDeprecationWarning: Creating an ndarray from ragged nested sequences (which is a list-or-tuple of lists-or-tuples-or ndarrays with different lengths or shapes) is deprecated. If you meant to do this, you must specify 'dtype=object' when creating the ndarray.\n",
      "  return array(a, dtype, copy=False, order=order)\n",
      "/home/marie/anaconda3/lib/python3.8/site-packages/numpy/core/_asarray.py:102: VisibleDeprecationWarning: Creating an ndarray from ragged nested sequences (which is a list-or-tuple of lists-or-tuples-or ndarrays with different lengths or shapes) is deprecated. If you meant to do this, you must specify 'dtype=object' when creating the ndarray.\n",
      "  return array(a, dtype, copy=False, order=order)\n",
      "/home/marie/anaconda3/lib/python3.8/site-packages/numpy/core/_asarray.py:102: VisibleDeprecationWarning: Creating an ndarray from ragged nested sequences (which is a list-or-tuple of lists-or-tuples-or ndarrays with different lengths or shapes) is deprecated. If you meant to do this, you must specify 'dtype=object' when creating the ndarray.\n",
      "  return array(a, dtype, copy=False, order=order)\n",
      "/home/marie/anaconda3/lib/python3.8/site-packages/numpy/core/_asarray.py:102: VisibleDeprecationWarning: Creating an ndarray from ragged nested sequences (which is a list-or-tuple of lists-or-tuples-or ndarrays with different lengths or shapes) is deprecated. If you meant to do this, you must specify 'dtype=object' when creating the ndarray.\n",
      "  return array(a, dtype, copy=False, order=order)\n",
      "/home/marie/anaconda3/lib/python3.8/site-packages/numpy/core/_asarray.py:102: VisibleDeprecationWarning: Creating an ndarray from ragged nested sequences (which is a list-or-tuple of lists-or-tuples-or ndarrays with different lengths or shapes) is deprecated. If you meant to do this, you must specify 'dtype=object' when creating the ndarray.\n",
      "  return array(a, dtype, copy=False, order=order)\n",
      "/home/marie/anaconda3/lib/python3.8/site-packages/numpy/core/_asarray.py:102: VisibleDeprecationWarning: Creating an ndarray from ragged nested sequences (which is a list-or-tuple of lists-or-tuples-or ndarrays with different lengths or shapes) is deprecated. If you meant to do this, you must specify 'dtype=object' when creating the ndarray.\n",
      "  return array(a, dtype, copy=False, order=order)\n",
      "/home/marie/anaconda3/lib/python3.8/site-packages/numpy/core/_asarray.py:102: VisibleDeprecationWarning: Creating an ndarray from ragged nested sequences (which is a list-or-tuple of lists-or-tuples-or ndarrays with different lengths or shapes) is deprecated. If you meant to do this, you must specify 'dtype=object' when creating the ndarray.\n",
      "  return array(a, dtype, copy=False, order=order)\n",
      "/home/marie/anaconda3/lib/python3.8/site-packages/numpy/core/_asarray.py:102: VisibleDeprecationWarning: Creating an ndarray from ragged nested sequences (which is a list-or-tuple of lists-or-tuples-or ndarrays with different lengths or shapes) is deprecated. If you meant to do this, you must specify 'dtype=object' when creating the ndarray.\n",
      "  return array(a, dtype, copy=False, order=order)\n",
      "/home/marie/anaconda3/lib/python3.8/site-packages/numpy/core/_asarray.py:102: VisibleDeprecationWarning: Creating an ndarray from ragged nested sequences (which is a list-or-tuple of lists-or-tuples-or ndarrays with different lengths or shapes) is deprecated. If you meant to do this, you must specify 'dtype=object' when creating the ndarray.\n",
      "  return array(a, dtype, copy=False, order=order)\n",
      "/home/marie/anaconda3/lib/python3.8/site-packages/numpy/core/_asarray.py:102: VisibleDeprecationWarning: Creating an ndarray from ragged nested sequences (which is a list-or-tuple of lists-or-tuples-or ndarrays with different lengths or shapes) is deprecated. If you meant to do this, you must specify 'dtype=object' when creating the ndarray.\n",
      "  return array(a, dtype, copy=False, order=order)\n",
      "/home/marie/anaconda3/lib/python3.8/site-packages/numpy/core/_asarray.py:102: VisibleDeprecationWarning: Creating an ndarray from ragged nested sequences (which is a list-or-tuple of lists-or-tuples-or ndarrays with different lengths or shapes) is deprecated. If you meant to do this, you must specify 'dtype=object' when creating the ndarray.\n",
      "  return array(a, dtype, copy=False, order=order)\n",
      "/home/marie/anaconda3/lib/python3.8/site-packages/numpy/core/_asarray.py:102: VisibleDeprecationWarning: Creating an ndarray from ragged nested sequences (which is a list-or-tuple of lists-or-tuples-or ndarrays with different lengths or shapes) is deprecated. If you meant to do this, you must specify 'dtype=object' when creating the ndarray.\n",
      "  return array(a, dtype, copy=False, order=order)\n",
      "/home/marie/anaconda3/lib/python3.8/site-packages/numpy/core/_asarray.py:102: VisibleDeprecationWarning: Creating an ndarray from ragged nested sequences (which is a list-or-tuple of lists-or-tuples-or ndarrays with different lengths or shapes) is deprecated. If you meant to do this, you must specify 'dtype=object' when creating the ndarray.\n",
      "  return array(a, dtype, copy=False, order=order)\n",
      "/home/marie/anaconda3/lib/python3.8/site-packages/numpy/core/_asarray.py:102: VisibleDeprecationWarning: Creating an ndarray from ragged nested sequences (which is a list-or-tuple of lists-or-tuples-or ndarrays with different lengths or shapes) is deprecated. If you meant to do this, you must specify 'dtype=object' when creating the ndarray.\n",
      "  return array(a, dtype, copy=False, order=order)\n",
      "/home/marie/anaconda3/lib/python3.8/site-packages/numpy/core/_asarray.py:102: VisibleDeprecationWarning: Creating an ndarray from ragged nested sequences (which is a list-or-tuple of lists-or-tuples-or ndarrays with different lengths or shapes) is deprecated. If you meant to do this, you must specify 'dtype=object' when creating the ndarray.\n",
      "  return array(a, dtype, copy=False, order=order)\n",
      "/home/marie/anaconda3/lib/python3.8/site-packages/numpy/core/_asarray.py:102: VisibleDeprecationWarning: Creating an ndarray from ragged nested sequences (which is a list-or-tuple of lists-or-tuples-or ndarrays with different lengths or shapes) is deprecated. If you meant to do this, you must specify 'dtype=object' when creating the ndarray.\n",
      "  return array(a, dtype, copy=False, order=order)\n",
      "/home/marie/anaconda3/lib/python3.8/site-packages/numpy/core/_asarray.py:102: VisibleDeprecationWarning: Creating an ndarray from ragged nested sequences (which is a list-or-tuple of lists-or-tuples-or ndarrays with different lengths or shapes) is deprecated. If you meant to do this, you must specify 'dtype=object' when creating the ndarray.\n",
      "  return array(a, dtype, copy=False, order=order)\n",
      "/home/marie/anaconda3/lib/python3.8/site-packages/numpy/core/_asarray.py:102: VisibleDeprecationWarning: Creating an ndarray from ragged nested sequences (which is a list-or-tuple of lists-or-tuples-or ndarrays with different lengths or shapes) is deprecated. If you meant to do this, you must specify 'dtype=object' when creating the ndarray.\n",
      "  return array(a, dtype, copy=False, order=order)\n",
      "/home/marie/anaconda3/lib/python3.8/site-packages/numpy/core/_asarray.py:102: VisibleDeprecationWarning: Creating an ndarray from ragged nested sequences (which is a list-or-tuple of lists-or-tuples-or ndarrays with different lengths or shapes) is deprecated. If you meant to do this, you must specify 'dtype=object' when creating the ndarray.\n",
      "  return array(a, dtype, copy=False, order=order)\n",
      "/home/marie/anaconda3/lib/python3.8/site-packages/numpy/core/_asarray.py:102: VisibleDeprecationWarning: Creating an ndarray from ragged nested sequences (which is a list-or-tuple of lists-or-tuples-or ndarrays with different lengths or shapes) is deprecated. If you meant to do this, you must specify 'dtype=object' when creating the ndarray.\n",
      "  return array(a, dtype, copy=False, order=order)\n",
      "/home/marie/anaconda3/lib/python3.8/site-packages/numpy/core/_asarray.py:102: VisibleDeprecationWarning: Creating an ndarray from ragged nested sequences (which is a list-or-tuple of lists-or-tuples-or ndarrays with different lengths or shapes) is deprecated. If you meant to do this, you must specify 'dtype=object' when creating the ndarray.\n",
      "  return array(a, dtype, copy=False, order=order)\n",
      "/home/marie/anaconda3/lib/python3.8/site-packages/numpy/core/_asarray.py:102: VisibleDeprecationWarning: Creating an ndarray from ragged nested sequences (which is a list-or-tuple of lists-or-tuples-or ndarrays with different lengths or shapes) is deprecated. If you meant to do this, you must specify 'dtype=object' when creating the ndarray.\n",
      "  return array(a, dtype, copy=False, order=order)\n",
      "/home/marie/anaconda3/lib/python3.8/site-packages/numpy/core/_asarray.py:102: VisibleDeprecationWarning: Creating an ndarray from ragged nested sequences (which is a list-or-tuple of lists-or-tuples-or ndarrays with different lengths or shapes) is deprecated. If you meant to do this, you must specify 'dtype=object' when creating the ndarray.\n",
      "  return array(a, dtype, copy=False, order=order)\n",
      "/home/marie/anaconda3/lib/python3.8/site-packages/numpy/core/_asarray.py:102: VisibleDeprecationWarning: Creating an ndarray from ragged nested sequences (which is a list-or-tuple of lists-or-tuples-or ndarrays with different lengths or shapes) is deprecated. If you meant to do this, you must specify 'dtype=object' when creating the ndarray.\n",
      "  return array(a, dtype, copy=False, order=order)\n",
      "/home/marie/anaconda3/lib/python3.8/site-packages/numpy/core/_asarray.py:102: VisibleDeprecationWarning: Creating an ndarray from ragged nested sequences (which is a list-or-tuple of lists-or-tuples-or ndarrays with different lengths or shapes) is deprecated. If you meant to do this, you must specify 'dtype=object' when creating the ndarray.\n",
      "  return array(a, dtype, copy=False, order=order)\n",
      "/home/marie/anaconda3/lib/python3.8/site-packages/numpy/core/_asarray.py:102: VisibleDeprecationWarning: Creating an ndarray from ragged nested sequences (which is a list-or-tuple of lists-or-tuples-or ndarrays with different lengths or shapes) is deprecated. If you meant to do this, you must specify 'dtype=object' when creating the ndarray.\n",
      "  return array(a, dtype, copy=False, order=order)\n",
      "/home/marie/anaconda3/lib/python3.8/site-packages/numpy/core/_asarray.py:102: VisibleDeprecationWarning: Creating an ndarray from ragged nested sequences (which is a list-or-tuple of lists-or-tuples-or ndarrays with different lengths or shapes) is deprecated. If you meant to do this, you must specify 'dtype=object' when creating the ndarray.\n",
      "  return array(a, dtype, copy=False, order=order)\n",
      "/home/marie/anaconda3/lib/python3.8/site-packages/numpy/core/_asarray.py:102: VisibleDeprecationWarning: Creating an ndarray from ragged nested sequences (which is a list-or-tuple of lists-or-tuples-or ndarrays with different lengths or shapes) is deprecated. If you meant to do this, you must specify 'dtype=object' when creating the ndarray.\n",
      "  return array(a, dtype, copy=False, order=order)\n",
      "/home/marie/anaconda3/lib/python3.8/site-packages/numpy/core/_asarray.py:102: VisibleDeprecationWarning: Creating an ndarray from ragged nested sequences (which is a list-or-tuple of lists-or-tuples-or ndarrays with different lengths or shapes) is deprecated. If you meant to do this, you must specify 'dtype=object' when creating the ndarray.\n",
      "  return array(a, dtype, copy=False, order=order)\n",
      "/home/marie/anaconda3/lib/python3.8/site-packages/numpy/core/_asarray.py:102: VisibleDeprecationWarning: Creating an ndarray from ragged nested sequences (which is a list-or-tuple of lists-or-tuples-or ndarrays with different lengths or shapes) is deprecated. If you meant to do this, you must specify 'dtype=object' when creating the ndarray.\n",
      "  return array(a, dtype, copy=False, order=order)\n",
      "/home/marie/anaconda3/lib/python3.8/site-packages/numpy/core/_asarray.py:102: VisibleDeprecationWarning: Creating an ndarray from ragged nested sequences (which is a list-or-tuple of lists-or-tuples-or ndarrays with different lengths or shapes) is deprecated. If you meant to do this, you must specify 'dtype=object' when creating the ndarray.\n",
      "  return array(a, dtype, copy=False, order=order)\n",
      "/home/marie/anaconda3/lib/python3.8/site-packages/numpy/core/_asarray.py:102: VisibleDeprecationWarning: Creating an ndarray from ragged nested sequences (which is a list-or-tuple of lists-or-tuples-or ndarrays with different lengths or shapes) is deprecated. If you meant to do this, you must specify 'dtype=object' when creating the ndarray.\n",
      "  return array(a, dtype, copy=False, order=order)\n",
      "/home/marie/anaconda3/lib/python3.8/site-packages/numpy/core/_asarray.py:102: VisibleDeprecationWarning: Creating an ndarray from ragged nested sequences (which is a list-or-tuple of lists-or-tuples-or ndarrays with different lengths or shapes) is deprecated. If you meant to do this, you must specify 'dtype=object' when creating the ndarray.\n",
      "  return array(a, dtype, copy=False, order=order)\n",
      "/home/marie/anaconda3/lib/python3.8/site-packages/numpy/core/_asarray.py:102: VisibleDeprecationWarning: Creating an ndarray from ragged nested sequences (which is a list-or-tuple of lists-or-tuples-or ndarrays with different lengths or shapes) is deprecated. If you meant to do this, you must specify 'dtype=object' when creating the ndarray.\n",
      "  return array(a, dtype, copy=False, order=order)\n",
      "/home/marie/anaconda3/lib/python3.8/site-packages/numpy/core/_asarray.py:102: VisibleDeprecationWarning: Creating an ndarray from ragged nested sequences (which is a list-or-tuple of lists-or-tuples-or ndarrays with different lengths or shapes) is deprecated. If you meant to do this, you must specify 'dtype=object' when creating the ndarray.\n",
      "  return array(a, dtype, copy=False, order=order)\n",
      "/home/marie/anaconda3/lib/python3.8/site-packages/numpy/core/_asarray.py:102: VisibleDeprecationWarning: Creating an ndarray from ragged nested sequences (which is a list-or-tuple of lists-or-tuples-or ndarrays with different lengths or shapes) is deprecated. If you meant to do this, you must specify 'dtype=object' when creating the ndarray.\n",
      "  return array(a, dtype, copy=False, order=order)\n",
      "/home/marie/anaconda3/lib/python3.8/site-packages/numpy/core/_asarray.py:102: VisibleDeprecationWarning: Creating an ndarray from ragged nested sequences (which is a list-or-tuple of lists-or-tuples-or ndarrays with different lengths or shapes) is deprecated. If you meant to do this, you must specify 'dtype=object' when creating the ndarray.\n",
      "  return array(a, dtype, copy=False, order=order)\n",
      "/home/marie/anaconda3/lib/python3.8/site-packages/numpy/core/_asarray.py:102: VisibleDeprecationWarning: Creating an ndarray from ragged nested sequences (which is a list-or-tuple of lists-or-tuples-or ndarrays with different lengths or shapes) is deprecated. If you meant to do this, you must specify 'dtype=object' when creating the ndarray.\n",
      "  return array(a, dtype, copy=False, order=order)\n",
      "/home/marie/anaconda3/lib/python3.8/site-packages/numpy/core/_asarray.py:102: VisibleDeprecationWarning: Creating an ndarray from ragged nested sequences (which is a list-or-tuple of lists-or-tuples-or ndarrays with different lengths or shapes) is deprecated. If you meant to do this, you must specify 'dtype=object' when creating the ndarray.\n",
      "  return array(a, dtype, copy=False, order=order)\n",
      "/home/marie/anaconda3/lib/python3.8/site-packages/numpy/core/_asarray.py:102: VisibleDeprecationWarning: Creating an ndarray from ragged nested sequences (which is a list-or-tuple of lists-or-tuples-or ndarrays with different lengths or shapes) is deprecated. If you meant to do this, you must specify 'dtype=object' when creating the ndarray.\n",
      "  return array(a, dtype, copy=False, order=order)\n",
      "/home/marie/anaconda3/lib/python3.8/site-packages/numpy/core/_asarray.py:102: VisibleDeprecationWarning: Creating an ndarray from ragged nested sequences (which is a list-or-tuple of lists-or-tuples-or ndarrays with different lengths or shapes) is deprecated. If you meant to do this, you must specify 'dtype=object' when creating the ndarray.\n",
      "  return array(a, dtype, copy=False, order=order)\n",
      "/home/marie/anaconda3/lib/python3.8/site-packages/numpy/core/_asarray.py:102: VisibleDeprecationWarning: Creating an ndarray from ragged nested sequences (which is a list-or-tuple of lists-or-tuples-or ndarrays with different lengths or shapes) is deprecated. If you meant to do this, you must specify 'dtype=object' when creating the ndarray.\n",
      "  return array(a, dtype, copy=False, order=order)\n",
      "/home/marie/anaconda3/lib/python3.8/site-packages/numpy/core/_asarray.py:102: VisibleDeprecationWarning: Creating an ndarray from ragged nested sequences (which is a list-or-tuple of lists-or-tuples-or ndarrays with different lengths or shapes) is deprecated. If you meant to do this, you must specify 'dtype=object' when creating the ndarray.\n",
      "  return array(a, dtype, copy=False, order=order)\n",
      "/home/marie/anaconda3/lib/python3.8/site-packages/numpy/core/_asarray.py:102: VisibleDeprecationWarning: Creating an ndarray from ragged nested sequences (which is a list-or-tuple of lists-or-tuples-or ndarrays with different lengths or shapes) is deprecated. If you meant to do this, you must specify 'dtype=object' when creating the ndarray.\n",
      "  return array(a, dtype, copy=False, order=order)\n",
      "/home/marie/anaconda3/lib/python3.8/site-packages/numpy/core/_asarray.py:102: VisibleDeprecationWarning: Creating an ndarray from ragged nested sequences (which is a list-or-tuple of lists-or-tuples-or ndarrays with different lengths or shapes) is deprecated. If you meant to do this, you must specify 'dtype=object' when creating the ndarray.\n",
      "  return array(a, dtype, copy=False, order=order)\n",
      "/home/marie/anaconda3/lib/python3.8/site-packages/numpy/core/_asarray.py:102: VisibleDeprecationWarning: Creating an ndarray from ragged nested sequences (which is a list-or-tuple of lists-or-tuples-or ndarrays with different lengths or shapes) is deprecated. If you meant to do this, you must specify 'dtype=object' when creating the ndarray.\n",
      "  return array(a, dtype, copy=False, order=order)\n",
      "/home/marie/anaconda3/lib/python3.8/site-packages/numpy/core/_asarray.py:102: VisibleDeprecationWarning: Creating an ndarray from ragged nested sequences (which is a list-or-tuple of lists-or-tuples-or ndarrays with different lengths or shapes) is deprecated. If you meant to do this, you must specify 'dtype=object' when creating the ndarray.\n",
      "  return array(a, dtype, copy=False, order=order)\n",
      "/home/marie/anaconda3/lib/python3.8/site-packages/numpy/core/_asarray.py:102: VisibleDeprecationWarning: Creating an ndarray from ragged nested sequences (which is a list-or-tuple of lists-or-tuples-or ndarrays with different lengths or shapes) is deprecated. If you meant to do this, you must specify 'dtype=object' when creating the ndarray.\n",
      "  return array(a, dtype, copy=False, order=order)\n",
      "/home/marie/anaconda3/lib/python3.8/site-packages/numpy/core/_asarray.py:102: VisibleDeprecationWarning: Creating an ndarray from ragged nested sequences (which is a list-or-tuple of lists-or-tuples-or ndarrays with different lengths or shapes) is deprecated. If you meant to do this, you must specify 'dtype=object' when creating the ndarray.\n",
      "  return array(a, dtype, copy=False, order=order)\n",
      "/home/marie/anaconda3/lib/python3.8/site-packages/numpy/core/_asarray.py:102: VisibleDeprecationWarning: Creating an ndarray from ragged nested sequences (which is a list-or-tuple of lists-or-tuples-or ndarrays with different lengths or shapes) is deprecated. If you meant to do this, you must specify 'dtype=object' when creating the ndarray.\n",
      "  return array(a, dtype, copy=False, order=order)\n",
      "/home/marie/anaconda3/lib/python3.8/site-packages/numpy/core/_asarray.py:102: VisibleDeprecationWarning: Creating an ndarray from ragged nested sequences (which is a list-or-tuple of lists-or-tuples-or ndarrays with different lengths or shapes) is deprecated. If you meant to do this, you must specify 'dtype=object' when creating the ndarray.\n",
      "  return array(a, dtype, copy=False, order=order)\n",
      "/home/marie/anaconda3/lib/python3.8/site-packages/numpy/core/_asarray.py:102: VisibleDeprecationWarning: Creating an ndarray from ragged nested sequences (which is a list-or-tuple of lists-or-tuples-or ndarrays with different lengths or shapes) is deprecated. If you meant to do this, you must specify 'dtype=object' when creating the ndarray.\n",
      "  return array(a, dtype, copy=False, order=order)\n",
      "/home/marie/anaconda3/lib/python3.8/site-packages/numpy/core/_asarray.py:102: VisibleDeprecationWarning: Creating an ndarray from ragged nested sequences (which is a list-or-tuple of lists-or-tuples-or ndarrays with different lengths or shapes) is deprecated. If you meant to do this, you must specify 'dtype=object' when creating the ndarray.\n",
      "  return array(a, dtype, copy=False, order=order)\n",
      "/home/marie/anaconda3/lib/python3.8/site-packages/numpy/core/_asarray.py:102: VisibleDeprecationWarning: Creating an ndarray from ragged nested sequences (which is a list-or-tuple of lists-or-tuples-or ndarrays with different lengths or shapes) is deprecated. If you meant to do this, you must specify 'dtype=object' when creating the ndarray.\n",
      "  return array(a, dtype, copy=False, order=order)\n",
      "/home/marie/anaconda3/lib/python3.8/site-packages/numpy/core/_asarray.py:102: VisibleDeprecationWarning: Creating an ndarray from ragged nested sequences (which is a list-or-tuple of lists-or-tuples-or ndarrays with different lengths or shapes) is deprecated. If you meant to do this, you must specify 'dtype=object' when creating the ndarray.\n",
      "  return array(a, dtype, copy=False, order=order)\n",
      "/home/marie/anaconda3/lib/python3.8/site-packages/numpy/core/_asarray.py:102: VisibleDeprecationWarning: Creating an ndarray from ragged nested sequences (which is a list-or-tuple of lists-or-tuples-or ndarrays with different lengths or shapes) is deprecated. If you meant to do this, you must specify 'dtype=object' when creating the ndarray.\n",
      "  return array(a, dtype, copy=False, order=order)\n",
      "/home/marie/anaconda3/lib/python3.8/site-packages/numpy/core/_asarray.py:102: VisibleDeprecationWarning: Creating an ndarray from ragged nested sequences (which is a list-or-tuple of lists-or-tuples-or ndarrays with different lengths or shapes) is deprecated. If you meant to do this, you must specify 'dtype=object' when creating the ndarray.\n",
      "  return array(a, dtype, copy=False, order=order)\n",
      "/home/marie/anaconda3/lib/python3.8/site-packages/numpy/core/_asarray.py:102: VisibleDeprecationWarning: Creating an ndarray from ragged nested sequences (which is a list-or-tuple of lists-or-tuples-or ndarrays with different lengths or shapes) is deprecated. If you meant to do this, you must specify 'dtype=object' when creating the ndarray.\n",
      "  return array(a, dtype, copy=False, order=order)\n",
      "/home/marie/anaconda3/lib/python3.8/site-packages/numpy/core/_asarray.py:102: VisibleDeprecationWarning: Creating an ndarray from ragged nested sequences (which is a list-or-tuple of lists-or-tuples-or ndarrays with different lengths or shapes) is deprecated. If you meant to do this, you must specify 'dtype=object' when creating the ndarray.\n",
      "  return array(a, dtype, copy=False, order=order)\n",
      "/home/marie/anaconda3/lib/python3.8/site-packages/numpy/core/_asarray.py:102: VisibleDeprecationWarning: Creating an ndarray from ragged nested sequences (which is a list-or-tuple of lists-or-tuples-or ndarrays with different lengths or shapes) is deprecated. If you meant to do this, you must specify 'dtype=object' when creating the ndarray.\n",
      "  return array(a, dtype, copy=False, order=order)\n",
      "/home/marie/anaconda3/lib/python3.8/site-packages/numpy/core/_asarray.py:102: VisibleDeprecationWarning: Creating an ndarray from ragged nested sequences (which is a list-or-tuple of lists-or-tuples-or ndarrays with different lengths or shapes) is deprecated. If you meant to do this, you must specify 'dtype=object' when creating the ndarray.\n",
      "  return array(a, dtype, copy=False, order=order)\n",
      "/home/marie/anaconda3/lib/python3.8/site-packages/numpy/core/_asarray.py:102: VisibleDeprecationWarning: Creating an ndarray from ragged nested sequences (which is a list-or-tuple of lists-or-tuples-or ndarrays with different lengths or shapes) is deprecated. If you meant to do this, you must specify 'dtype=object' when creating the ndarray.\n",
      "  return array(a, dtype, copy=False, order=order)\n",
      "/home/marie/anaconda3/lib/python3.8/site-packages/numpy/core/_asarray.py:102: VisibleDeprecationWarning: Creating an ndarray from ragged nested sequences (which is a list-or-tuple of lists-or-tuples-or ndarrays with different lengths or shapes) is deprecated. If you meant to do this, you must specify 'dtype=object' when creating the ndarray.\n",
      "  return array(a, dtype, copy=False, order=order)\n",
      "/home/marie/anaconda3/lib/python3.8/site-packages/numpy/core/_asarray.py:102: VisibleDeprecationWarning: Creating an ndarray from ragged nested sequences (which is a list-or-tuple of lists-or-tuples-or ndarrays with different lengths or shapes) is deprecated. If you meant to do this, you must specify 'dtype=object' when creating the ndarray.\n",
      "  return array(a, dtype, copy=False, order=order)\n",
      "/home/marie/anaconda3/lib/python3.8/site-packages/numpy/core/_asarray.py:102: VisibleDeprecationWarning: Creating an ndarray from ragged nested sequences (which is a list-or-tuple of lists-or-tuples-or ndarrays with different lengths or shapes) is deprecated. If you meant to do this, you must specify 'dtype=object' when creating the ndarray.\n",
      "  return array(a, dtype, copy=False, order=order)\n",
      "/home/marie/anaconda3/lib/python3.8/site-packages/numpy/core/_asarray.py:102: VisibleDeprecationWarning: Creating an ndarray from ragged nested sequences (which is a list-or-tuple of lists-or-tuples-or ndarrays with different lengths or shapes) is deprecated. If you meant to do this, you must specify 'dtype=object' when creating the ndarray.\n",
      "  return array(a, dtype, copy=False, order=order)\n",
      "/home/marie/anaconda3/lib/python3.8/site-packages/numpy/core/_asarray.py:102: VisibleDeprecationWarning: Creating an ndarray from ragged nested sequences (which is a list-or-tuple of lists-or-tuples-or ndarrays with different lengths or shapes) is deprecated. If you meant to do this, you must specify 'dtype=object' when creating the ndarray.\n",
      "  return array(a, dtype, copy=False, order=order)\n",
      "/home/marie/anaconda3/lib/python3.8/site-packages/numpy/core/_asarray.py:102: VisibleDeprecationWarning: Creating an ndarray from ragged nested sequences (which is a list-or-tuple of lists-or-tuples-or ndarrays with different lengths or shapes) is deprecated. If you meant to do this, you must specify 'dtype=object' when creating the ndarray.\n",
      "  return array(a, dtype, copy=False, order=order)\n",
      "/home/marie/anaconda3/lib/python3.8/site-packages/numpy/core/_asarray.py:102: VisibleDeprecationWarning: Creating an ndarray from ragged nested sequences (which is a list-or-tuple of lists-or-tuples-or ndarrays with different lengths or shapes) is deprecated. If you meant to do this, you must specify 'dtype=object' when creating the ndarray.\n",
      "  return array(a, dtype, copy=False, order=order)\n",
      "/home/marie/anaconda3/lib/python3.8/site-packages/numpy/core/_asarray.py:102: VisibleDeprecationWarning: Creating an ndarray from ragged nested sequences (which is a list-or-tuple of lists-or-tuples-or ndarrays with different lengths or shapes) is deprecated. If you meant to do this, you must specify 'dtype=object' when creating the ndarray.\n",
      "  return array(a, dtype, copy=False, order=order)\n",
      "/home/marie/anaconda3/lib/python3.8/site-packages/numpy/core/_asarray.py:102: VisibleDeprecationWarning: Creating an ndarray from ragged nested sequences (which is a list-or-tuple of lists-or-tuples-or ndarrays with different lengths or shapes) is deprecated. If you meant to do this, you must specify 'dtype=object' when creating the ndarray.\n",
      "  return array(a, dtype, copy=False, order=order)\n",
      "/home/marie/anaconda3/lib/python3.8/site-packages/numpy/core/_asarray.py:102: VisibleDeprecationWarning: Creating an ndarray from ragged nested sequences (which is a list-or-tuple of lists-or-tuples-or ndarrays with different lengths or shapes) is deprecated. If you meant to do this, you must specify 'dtype=object' when creating the ndarray.\n",
      "  return array(a, dtype, copy=False, order=order)\n",
      "/home/marie/anaconda3/lib/python3.8/site-packages/numpy/core/_asarray.py:102: VisibleDeprecationWarning: Creating an ndarray from ragged nested sequences (which is a list-or-tuple of lists-or-tuples-or ndarrays with different lengths or shapes) is deprecated. If you meant to do this, you must specify 'dtype=object' when creating the ndarray.\n",
      "  return array(a, dtype, copy=False, order=order)\n",
      "/home/marie/anaconda3/lib/python3.8/site-packages/numpy/core/_asarray.py:102: VisibleDeprecationWarning: Creating an ndarray from ragged nested sequences (which is a list-or-tuple of lists-or-tuples-or ndarrays with different lengths or shapes) is deprecated. If you meant to do this, you must specify 'dtype=object' when creating the ndarray.\n",
      "  return array(a, dtype, copy=False, order=order)\n",
      "/home/marie/anaconda3/lib/python3.8/site-packages/numpy/core/_asarray.py:102: VisibleDeprecationWarning: Creating an ndarray from ragged nested sequences (which is a list-or-tuple of lists-or-tuples-or ndarrays with different lengths or shapes) is deprecated. If you meant to do this, you must specify 'dtype=object' when creating the ndarray.\n",
      "  return array(a, dtype, copy=False, order=order)\n",
      "/home/marie/anaconda3/lib/python3.8/site-packages/numpy/core/_asarray.py:102: VisibleDeprecationWarning: Creating an ndarray from ragged nested sequences (which is a list-or-tuple of lists-or-tuples-or ndarrays with different lengths or shapes) is deprecated. If you meant to do this, you must specify 'dtype=object' when creating the ndarray.\n",
      "  return array(a, dtype, copy=False, order=order)\n",
      "/home/marie/anaconda3/lib/python3.8/site-packages/numpy/core/_asarray.py:102: VisibleDeprecationWarning: Creating an ndarray from ragged nested sequences (which is a list-or-tuple of lists-or-tuples-or ndarrays with different lengths or shapes) is deprecated. If you meant to do this, you must specify 'dtype=object' when creating the ndarray.\n",
      "  return array(a, dtype, copy=False, order=order)\n",
      "/home/marie/anaconda3/lib/python3.8/site-packages/numpy/core/_asarray.py:102: VisibleDeprecationWarning: Creating an ndarray from ragged nested sequences (which is a list-or-tuple of lists-or-tuples-or ndarrays with different lengths or shapes) is deprecated. If you meant to do this, you must specify 'dtype=object' when creating the ndarray.\n",
      "  return array(a, dtype, copy=False, order=order)\n",
      "/home/marie/anaconda3/lib/python3.8/site-packages/numpy/core/_asarray.py:102: VisibleDeprecationWarning: Creating an ndarray from ragged nested sequences (which is a list-or-tuple of lists-or-tuples-or ndarrays with different lengths or shapes) is deprecated. If you meant to do this, you must specify 'dtype=object' when creating the ndarray.\n",
      "  return array(a, dtype, copy=False, order=order)\n",
      "/home/marie/anaconda3/lib/python3.8/site-packages/numpy/core/_asarray.py:102: VisibleDeprecationWarning: Creating an ndarray from ragged nested sequences (which is a list-or-tuple of lists-or-tuples-or ndarrays with different lengths or shapes) is deprecated. If you meant to do this, you must specify 'dtype=object' when creating the ndarray.\n",
      "  return array(a, dtype, copy=False, order=order)\n",
      "/home/marie/anaconda3/lib/python3.8/site-packages/numpy/core/_asarray.py:102: VisibleDeprecationWarning: Creating an ndarray from ragged nested sequences (which is a list-or-tuple of lists-or-tuples-or ndarrays with different lengths or shapes) is deprecated. If you meant to do this, you must specify 'dtype=object' when creating the ndarray.\n",
      "  return array(a, dtype, copy=False, order=order)\n",
      "/home/marie/anaconda3/lib/python3.8/site-packages/numpy/core/_asarray.py:102: VisibleDeprecationWarning: Creating an ndarray from ragged nested sequences (which is a list-or-tuple of lists-or-tuples-or ndarrays with different lengths or shapes) is deprecated. If you meant to do this, you must specify 'dtype=object' when creating the ndarray.\n",
      "  return array(a, dtype, copy=False, order=order)\n",
      "/home/marie/anaconda3/lib/python3.8/site-packages/numpy/core/_asarray.py:102: VisibleDeprecationWarning: Creating an ndarray from ragged nested sequences (which is a list-or-tuple of lists-or-tuples-or ndarrays with different lengths or shapes) is deprecated. If you meant to do this, you must specify 'dtype=object' when creating the ndarray.\n",
      "  return array(a, dtype, copy=False, order=order)\n",
      "/home/marie/anaconda3/lib/python3.8/site-packages/numpy/core/_asarray.py:102: VisibleDeprecationWarning: Creating an ndarray from ragged nested sequences (which is a list-or-tuple of lists-or-tuples-or ndarrays with different lengths or shapes) is deprecated. If you meant to do this, you must specify 'dtype=object' when creating the ndarray.\n",
      "  return array(a, dtype, copy=False, order=order)\n",
      "/home/marie/anaconda3/lib/python3.8/site-packages/numpy/core/_asarray.py:102: VisibleDeprecationWarning: Creating an ndarray from ragged nested sequences (which is a list-or-tuple of lists-or-tuples-or ndarrays with different lengths or shapes) is deprecated. If you meant to do this, you must specify 'dtype=object' when creating the ndarray.\n",
      "  return array(a, dtype, copy=False, order=order)\n",
      "/home/marie/anaconda3/lib/python3.8/site-packages/numpy/core/_asarray.py:102: VisibleDeprecationWarning: Creating an ndarray from ragged nested sequences (which is a list-or-tuple of lists-or-tuples-or ndarrays with different lengths or shapes) is deprecated. If you meant to do this, you must specify 'dtype=object' when creating the ndarray.\n",
      "  return array(a, dtype, copy=False, order=order)\n",
      "/home/marie/anaconda3/lib/python3.8/site-packages/numpy/core/_asarray.py:102: VisibleDeprecationWarning: Creating an ndarray from ragged nested sequences (which is a list-or-tuple of lists-or-tuples-or ndarrays with different lengths or shapes) is deprecated. If you meant to do this, you must specify 'dtype=object' when creating the ndarray.\n",
      "  return array(a, dtype, copy=False, order=order)\n",
      "/home/marie/anaconda3/lib/python3.8/site-packages/numpy/core/_asarray.py:102: VisibleDeprecationWarning: Creating an ndarray from ragged nested sequences (which is a list-or-tuple of lists-or-tuples-or ndarrays with different lengths or shapes) is deprecated. If you meant to do this, you must specify 'dtype=object' when creating the ndarray.\n",
      "  return array(a, dtype, copy=False, order=order)\n",
      "/home/marie/anaconda3/lib/python3.8/site-packages/numpy/core/_asarray.py:102: VisibleDeprecationWarning: Creating an ndarray from ragged nested sequences (which is a list-or-tuple of lists-or-tuples-or ndarrays with different lengths or shapes) is deprecated. If you meant to do this, you must specify 'dtype=object' when creating the ndarray.\n",
      "  return array(a, dtype, copy=False, order=order)\n",
      "/home/marie/anaconda3/lib/python3.8/site-packages/numpy/core/_asarray.py:102: VisibleDeprecationWarning: Creating an ndarray from ragged nested sequences (which is a list-or-tuple of lists-or-tuples-or ndarrays with different lengths or shapes) is deprecated. If you meant to do this, you must specify 'dtype=object' when creating the ndarray.\n",
      "  return array(a, dtype, copy=False, order=order)\n",
      "/home/marie/anaconda3/lib/python3.8/site-packages/numpy/core/_asarray.py:102: VisibleDeprecationWarning: Creating an ndarray from ragged nested sequences (which is a list-or-tuple of lists-or-tuples-or ndarrays with different lengths or shapes) is deprecated. If you meant to do this, you must specify 'dtype=object' when creating the ndarray.\n",
      "  return array(a, dtype, copy=False, order=order)\n"
     ]
    },
    {
     "name": "stderr",
     "output_type": "stream",
     "text": [
      "/home/marie/anaconda3/lib/python3.8/site-packages/numpy/core/_asarray.py:102: VisibleDeprecationWarning: Creating an ndarray from ragged nested sequences (which is a list-or-tuple of lists-or-tuples-or ndarrays with different lengths or shapes) is deprecated. If you meant to do this, you must specify 'dtype=object' when creating the ndarray.\n",
      "  return array(a, dtype, copy=False, order=order)\n",
      "/home/marie/anaconda3/lib/python3.8/site-packages/numpy/core/_asarray.py:102: VisibleDeprecationWarning: Creating an ndarray from ragged nested sequences (which is a list-or-tuple of lists-or-tuples-or ndarrays with different lengths or shapes) is deprecated. If you meant to do this, you must specify 'dtype=object' when creating the ndarray.\n",
      "  return array(a, dtype, copy=False, order=order)\n",
      "/home/marie/anaconda3/lib/python3.8/site-packages/numpy/core/_asarray.py:102: VisibleDeprecationWarning: Creating an ndarray from ragged nested sequences (which is a list-or-tuple of lists-or-tuples-or ndarrays with different lengths or shapes) is deprecated. If you meant to do this, you must specify 'dtype=object' when creating the ndarray.\n",
      "  return array(a, dtype, copy=False, order=order)\n",
      "/home/marie/anaconda3/lib/python3.8/site-packages/numpy/core/_asarray.py:102: VisibleDeprecationWarning: Creating an ndarray from ragged nested sequences (which is a list-or-tuple of lists-or-tuples-or ndarrays with different lengths or shapes) is deprecated. If you meant to do this, you must specify 'dtype=object' when creating the ndarray.\n",
      "  return array(a, dtype, copy=False, order=order)\n"
     ]
    }
   ],
   "source": [
    "# So we do the linear regression trying to have a sum of predicted images\n",
    "# of the validation set as close as possible to the true value\n",
    "\n",
    "preds = np.array([pred_val22, pred_val21, pred_val12, pred_val11])\n",
    "\n",
    "linreg = []\n",
    "coeffs = []\n",
    "\n",
    "for pixel in range(100) :\n",
    "    px_pred = [[img[pixel] for img in y] for y in preds]\n",
    "    px_pred = np.transpose(px_pred)\n",
    "    px_yval = [img[pixel] for img in Y_val]\n",
    "    \n",
    "    model = LinearRegression().fit(px_pred, px_yval)\n",
    "    linreg.append(model)\n",
    "    coeffs.append(model.coef_)    "
   ]
  },
  {
   "cell_type": "markdown",
   "id": "8673f29d",
   "metadata": {},
   "source": [
    "# Now check on the TEST set made of geometrical shapes"
   ]
  },
  {
   "cell_type": "code",
   "execution_count": 422,
   "id": "bfd39286",
   "metadata": {},
   "outputs": [],
   "source": [
    "pred_test_22 = predict_from_fmri(logreg_table_22, X_test)\n",
    "pred_test_12 = predict_from_fmri(logreg_table_12, X_test)\n",
    "pred_test_21 = predict_from_fmri(logreg_table_21, X_test)\n",
    "pred_test_11 = predict_from_fmri(logreg_table_11, X_test)"
   ]
  },
  {
   "cell_type": "code",
   "execution_count": 488,
   "id": "a369bd7f",
   "metadata": {},
   "outputs": [],
   "source": [
    "pred_test22 = block_to_100px(pred_test_22, pixel_indices_22)\n",
    "pred_test21 = block_to_100px(pred_test_21, pixel_indices_21)\n",
    "pred_test12 = block_to_100px(pred_test_12, pixel_indices_12)\n",
    "pred_test11 = [np.array(a).flatten() for a in pred_test11]"
   ]
  },
  {
   "cell_type": "code",
   "execution_count": 424,
   "id": "592821aa",
   "metadata": {},
   "outputs": [
    {
     "data": {
      "text/plain": [
       "(100, 4)"
      ]
     },
     "execution_count": 424,
     "metadata": {},
     "output_type": "execute_result"
    }
   ],
   "source": [
    "np.shape(coeffs)"
   ]
  },
  {
   "cell_type": "code",
   "execution_count": 489,
   "id": "68a7dabe",
   "metadata": {},
   "outputs": [
    {
     "data": {
      "text/plain": [
       "(array([0., 0., 0., 0., 0., 0., 0., 0., 0., 0., 0., 0., 0., 0., 0., 0., 0.,\n",
       "        0., 0., 0., 0., 0., 0., 0., 0., 0., 0., 0., 0., 0., 0., 0., 0., 0.,\n",
       "        0., 0., 0., 0., 0., 0., 0., 0., 0., 0., 0., 0., 0., 0., 0., 0., 0.,\n",
       "        0., 0., 0., 0., 0., 0., 0., 0., 0., 0., 0., 0., 0., 0., 0., 0., 0.,\n",
       "        0., 0., 0., 0., 0., 0., 0., 0., 0., 0., 0., 0., 0., 0., 0., 0., 0.,\n",
       "        0., 0., 0., 0., 0., 0., 0., 0., 0., 0., 0., 0., 0., 0., 0.]),\n",
       " array([0., 0., 0., 0., 0., 0., 0., 0., 0., 0., 0., 0., 0., 0., 0., 0., 0.,\n",
       "        0., 0., 0., 0., 0., 0., 0., 0., 0., 0., 0., 0., 0., 0., 0., 0., 0.,\n",
       "        0., 0., 0., 0., 0., 0., 0., 0., 0., 0., 0., 0., 0., 0., 0., 0., 0.,\n",
       "        0., 0., 0., 0., 0., 0., 0., 0., 0., 0., 0., 0., 0., 0., 0., 0., 0.,\n",
       "        0., 0., 0., 0., 0., 0., 0., 0., 0., 0., 0., 0., 0., 0., 0., 0., 0.,\n",
       "        0., 0., 0., 0., 0., 0., 0., 0., 0., 0., 0., 0., 0., 0., 0.]))"
      ]
     },
     "execution_count": 489,
     "metadata": {},
     "output_type": "execute_result"
    }
   ],
   "source": [
    "pred_test22[0], pred_test11[0]"
   ]
  },
  {
   "cell_type": "markdown",
   "id": "0e53fff5",
   "metadata": {},
   "source": [
    "Now, we plot the results on the test set, using the optimized weights, and see if that looks good "
   ]
  },
  {
   "cell_type": "code",
   "execution_count": 505,
   "id": "3910ee13",
   "metadata": {},
   "outputs": [
    {
     "data": {
      "text/plain": [
       "<matplotlib.image.AxesImage at 0x7f0670d0ce80>"
      ]
     },
     "execution_count": 505,
     "metadata": {},
     "output_type": "execute_result"
    },
    {
     "data": {
      "image/png": "[encoded data removed]",
      "text/plain": [
       "<Figure size 432x432 with 6 Axes>"
      ]
     },
     "metadata": {
      "needs_background": "light"
     },
     "output_type": "display_data"
    },
    {
     "data": {
      "image/png": "[encoded data removed]",
      "text/plain": [
       "<Figure size 432x432 with 1 Axes>"
      ]
     },
     "metadata": {
      "needs_background": "light"
     },
     "output_type": "display_data"
    }
   ],
   "source": [
    "n = 45\n",
    "\n",
    "im = [pred_test11[n], pred_test12[n], pred_test21[n], pred_test22[n]]\n",
    "\n",
    "av = avgd_imag(np.transpose(coeffs), im)\n",
    "binar = avgd_imag(np.transpose(coeffs), im, binarized = True)\n",
    "\n",
    "fig = plt.figure(figsize=(6,6))\n",
    "sp1 = plt.subplot(331)\n",
    "sp2 = plt.subplot(332)\n",
    "sp3 = plt.subplot(333)\n",
    "sp4 = plt.subplot(334)\n",
    "sp5 = plt.subplot(335)\n",
    "sp6 = plt.subplot(336)\n",
    "\n",
    "sp1.imshow(np.reshape(pred_test22[n],(10,10)),  cmap = plt.cm.gray, interpolation = 'nearest')\n",
    "sp2.imshow(np.reshape(pred_test21[n],(10,10)),  cmap = plt.cm.gray, interpolation = 'nearest')\n",
    "sp3.imshow(np.reshape(pred_test12[n],(10,10)),  cmap = plt.cm.gray, interpolation = 'nearest')\n",
    "sp4.imshow(np.reshape(pred_test11[n],(10,10)),  cmap = plt.cm.gray, interpolation = 'nearest')\n",
    "sp5.imshow(np.reshape(av,(10,10)),  cmap = plt.cm.gray, interpolation = 'nearest')   \n",
    "sp6.imshow(np.reshape(Y_test[n],(10,10)),  cmap = plt.cm.gray, interpolation = 'nearest')     \n",
    "\n",
    "fig2 = plt.figure(figsize=(6,6))\n",
    "sp = plt.subplot(111)\n",
    "sp.imshow(np.reshape(binar,(10,10)),  cmap = plt.cm.gray, interpolation = 'nearest')"
   ]
  },
  {
   "cell_type": "markdown",
   "id": "b98e3654",
   "metadata": {},
   "source": [
    "# Now average the results for a single geometrical shape over several fMRI predictions"
   ]
  },
  {
   "cell_type": "code",
   "execution_count": 716,
   "id": "4701baac",
   "metadata": {},
   "outputs": [],
   "source": [
    "# Create list whose elements are list of indices corresponding to the same image\n",
    "# Principle : - create empty list of list of indices (indx)\n",
    "#             - create empty list of indices\n",
    "#             - for each image, if the sum of pixel values is the same as the previous ine, add the index in the list of indices\n",
    "#             - when arriving to a new value, create new list etc etc\n",
    "\n",
    "indx = []\n",
    "indx_same_img = []\n",
    "\n",
    "for i, img in enumerate(Y_test[:]) :\n",
    "    if np.sum(Y_test[i]) == np.sum(Y_test[i-1]) :\n",
    "        indx_same_img.append(i)\n",
    "    else :\n",
    "        if indx_same_img != [] :\n",
    "            indx.append(indx_same_img)\n",
    "            indx_same_img = [i]"
   ]
  },
  {
   "cell_type": "code",
   "execution_count": 717,
   "id": "dc83e129",
   "metadata": {},
   "outputs": [],
   "source": [
    "# Average the block predictions found to have only 1 final image\n",
    "\n",
    "impred = [pred_test11, pred_test12, pred_test21, pred_test22]\n",
    "averaged_pred = []\n",
    "\n",
    "for all_scales_images in np.transpose(impred,(1,0,2)) : \n",
    "    averaged_image = avgd_imag(np.transpose(coeffs), all_scales_images)\n",
    "    averaged_image.flatten()\n",
    "    averaged_pred.append(averaged_image)"
   ]
  },
  {
   "cell_type": "code",
   "execution_count": 761,
   "id": "0b9248ec",
   "metadata": {},
   "outputs": [],
   "source": [
    "# Average the predictions over several fMRI blabla indices found previously\n",
    "\n",
    "\n",
    "final_images = []\n",
    "\n",
    "for indices in indx :\n",
    "    av_over_fmri = np.average([averaged_pred[i]for i in indices[:]], axis = 0)\n",
    "    final_images.append(av_over_fmri)"
   ]
  },
  {
   "cell_type": "code",
   "execution_count": 762,
   "id": "d9f75762",
   "metadata": {},
   "outputs": [
    {
     "data": {
      "image/png": "[encoded data removed]",
      "text/plain": [
       "<Figure size 432x288 with 3 Axes>"
      ]
     },
     "metadata": {
      "needs_background": "light"
     },
     "output_type": "display_data"
    },
    {
     "data": {
      "image/png": "[encoded data removed]",
      "text/plain": [
       "<Figure size 432x288 with 3 Axes>"
      ]
     },
     "metadata": {
      "needs_background": "light"
     },
     "output_type": "display_data"
    },
    {
     "data": {
      "image/png": "[encoded data removed]",
      "text/plain": [
       "<Figure size 432x288 with 3 Axes>"
      ]
     },
     "metadata": {
      "needs_background": "light"
     },
     "output_type": "display_data"
    }
   ],
   "source": [
    "# Plots\n",
    "\n",
    "m = [2*a + 1 for a in range(3)] # 1 averaged image out of 2 is black so we don't want to see it when plotting\n",
    "\n",
    "for n in m :\n",
    "    fig = plt.figure()\n",
    "    sp1 = plt.subplot(131)\n",
    "    sp2 = plt.subplot(132)\n",
    "    sp3 = plt.subplot(133)\n",
    "\n",
    "    sp2.imshow(np.reshape(final_images[n],(10,10)),  cmap = plt.cm.gray, interpolation = 'nearest')\n",
    "    sp2.set_title(\"Averaged over fMRI\")\n",
    "    sp1.imshow(np.reshape(averaged_pred[indx[n][0]],(10,10)),  cmap = plt.cm.gray, interpolation = 'nearest')\n",
    "    sp1.set_title(\"1 fMRI\")\n",
    "    sp3.imshow(np.reshape(stimuli_figures[indx[n][0]],(10,10)),  cmap = plt.cm.gray, interpolation = 'nearest')\n",
    "    sp3.set_title(str(np.sum(stimuli_figures[indx[n]])))"
   ]
  },
  {
   "cell_type": "code",
   "execution_count": 763,
   "id": "9c17e873",
   "metadata": {},
   "outputs": [],
   "source": [
    "# Average again when we have the same image\n",
    "# CANNOT WORK BECAUSE OF SOME IMAGES HAVING THE SAME SUM\n",
    "# FUCK\n",
    "\n",
    "etiquettes = {} # Ordered list of sum(pixel values) of each shape, once per shape\n",
    "\n",
    "for i, series in enumerate(indx) : # for the list of indices corresponding to 1 serie of same image\n",
    "    etiquettes[str(i)] = [val for val in stimuli_figures[series[0]]]\n",
    "    #etiquettes[str(i)] = [np.sum(stimuli_figures[series[0]]), np.sum(stimuli_figures[series[0]][:50]), np.sum(stimuli_figures[series[0]][:25]),np.sum(stimuli_figures[series[0]][:15]), stimuli_figures[series[0]][15]] #[sum of px values, sum of pixel values of half img]\n",
    "\n",
    "#etiquettes\n",
    "#len(indx), len(etiquettes)"
   ]
  },
  {
   "cell_type": "code",
   "execution_count": 764,
   "id": "82d68fd2",
   "metadata": {},
   "outputs": [],
   "source": [
    "# We want to make an array that contains the list of indices of duplicates in sums\n",
    "\n",
    "dupli_idx2 = []\n",
    "\n",
    "for i in range(len(sums)) :\n",
    "    if i in [x[b] for x in dupli_idx2 for b in range(len(x))] :\n",
    "        pass\n",
    "    else :\n",
    "        dup = [i]\n",
    "        for j in range(i+1,len(etiquettes)) :\n",
    "            if etiquettes[str(i)] == etiquettes[str(j)] :\n",
    "                dup.append(j)\n",
    "        if len(dup) != 1 :\n",
    "            dupli_idx2.append(dup)\n",
    "            dup = []\n",
    "\n",
    "#np.transpose(dupli_idx2)"
   ]
  },
  {
   "cell_type": "code",
   "execution_count": 765,
   "id": "536ae641",
   "metadata": {},
   "outputs": [],
   "source": [
    "# Now we average the corresponding images\n",
    "finals = []\n",
    "\n",
    "for indices in dupli_idx2 :\n",
    "    to_average = [final_images[i] for i in indices]\n",
    "    final_img = np.average(to_average, axis=0)\n",
    "    finals.append(final_img)"
   ]
  },
  {
   "cell_type": "code",
   "execution_count": 814,
   "id": "16555c16",
   "metadata": {},
   "outputs": [
    {
     "name": "stderr",
     "output_type": "stream",
     "text": [
      "<ipython-input-814-537bf73d044f>:5: RuntimeWarning: More than 20 figures have been opened. Figures created through the pyplot interface (`matplotlib.pyplot.figure`) are retained until explicitly closed and may consume too much memory. (To control this warning, see the rcParam `figure.max_open_warning`).\n",
      "  fig = plt.figure()\n"
     ]
    },
    {
     "data": {
      "image/png": "[encoded data removed]",
      "text/plain": [
       "<Figure size 432x288 with 4 Axes>"
      ]
     },
     "metadata": {
      "needs_background": "light"
     },
     "output_type": "display_data"
    },
    {
     "data": {
      "image/png": "[encoded data removed]",
      "text/plain": [
       "<Figure size 432x288 with 4 Axes>"
      ]
     },
     "metadata": {
      "needs_background": "light"
     },
     "output_type": "display_data"
    },
    {
     "data": {
      "image/png": "[encoded data removed]",
      "text/plain": [
       "<Figure size 432x288 with 4 Axes>"
      ]
     },
     "metadata": {
      "needs_background": "light"
     },
     "output_type": "display_data"
    },
    {
     "data": {
      "image/png": "[encoded data removed]",
      "text/plain": [
       "<Figure size 432x288 with 4 Axes>"
      ]
     },
     "metadata": {
      "needs_background": "light"
     },
     "output_type": "display_data"
    },
    {
     "data": {
      "image/png": "[encoded data removed]",
      "text/plain": [
       "<Figure size 432x288 with 4 Axes>"
      ]
     },
     "metadata": {
      "needs_background": "light"
     },
     "output_type": "display_data"
    },
    {
     "data": {
      "image/png": "[encoded data removed]",
      "text/plain": [
       "<Figure size 432x288 with 4 Axes>"
      ]
     },
     "metadata": {
      "needs_background": "light"
     },
     "output_type": "display_data"
    },
    {
     "data": {
      "image/png": "[encoded data removed]",
      "text/plain": [
       "<Figure size 432x288 with 4 Axes>"
      ]
     },
     "metadata": {
      "needs_background": "light"
     },
     "output_type": "display_data"
    },
    {
     "data": {
      "image/png": "[encoded data removed]",
      "text/plain": [
       "<Figure size 432x288 with 4 Axes>"
      ]
     },
     "metadata": {
      "needs_background": "light"
     },
     "output_type": "display_data"
    },
    {
     "data": {
      "image/png": "[encoded data removed]",
      "text/plain": [
       "<Figure size 432x288 with 4 Axes>"
      ]
     },
     "metadata": {
      "needs_background": "light"
     },
     "output_type": "display_data"
    },
    {
     "data": {
      "image/png": "[encoded data removed]",
      "text/plain": [
       "<Figure size 432x288 with 4 Axes>"
      ]
     },
     "metadata": {
      "needs_background": "light"
     },
     "output_type": "display_data"
    },
    {
     "data": {
      "image/png": "[encoded data removed]",
      "text/plain": [
       "<Figure size 432x288 with 4 Axes>"
      ]
     },
     "metadata": {
      "needs_background": "light"
     },
     "output_type": "display_data"
    },
    {
     "data": {
      "image/png": "[encoded data removed]",
      "text/plain": [
       "<Figure size 432x288 with 4 Axes>"
      ]
     },
     "metadata": {
      "needs_background": "light"
     },
     "output_type": "display_data"
    },
    {
     "data": {
      "image/png": "[encoded data removed]",
      "text/plain": [
       "<Figure size 432x288 with 4 Axes>"
      ]
     },
     "metadata": {
      "needs_background": "light"
     },
     "output_type": "display_data"
    },
    {
     "data": {
      "image/png": "[encoded data removed]",
      "text/plain": [
       "<Figure size 432x288 with 4 Axes>"
      ]
     },
     "metadata": {
      "needs_background": "light"
     },
     "output_type": "display_data"
    },
    {
     "data": {
      "image/png": "[encoded data removed]",
      "text/plain": [
       "<Figure size 432x288 with 4 Axes>"
      ]
     },
     "metadata": {
      "needs_background": "light"
     },
     "output_type": "display_data"
    },
    {
     "data": {
      "image/png": "[encoded data removed]",
      "text/plain": [
       "<Figure size 432x288 with 4 Axes>"
      ]
     },
     "metadata": {
      "needs_background": "light"
     },
     "output_type": "display_data"
    },
    {
     "data": {
      "image/png": "[encoded data removed]",
      "text/plain": [
       "<Figure size 432x288 with 4 Axes>"
      ]
     },
     "metadata": {
      "needs_background": "light"
     },
     "output_type": "display_data"
    },
    {
     "data": {
      "image/png": "[encoded data removed]",
      "text/plain": [
       "<Figure size 432x288 with 4 Axes>"
      ]
     },
     "metadata": {
      "needs_background": "light"
     },
     "output_type": "display_data"
    },
    {
     "data": {
      "image/png": "[encoded data removed]",
      "text/plain": [
       "<Figure size 432x288 with 4 Axes>"
      ]
     },
     "metadata": {
      "needs_background": "light"
     },
     "output_type": "display_data"
    },
    {
     "data": {
      "image/png": "[encoded data removed]",
      "text/plain": [
       "<Figure size 432x288 with 4 Axes>"
      ]
     },
     "metadata": {
      "needs_background": "light"
     },
     "output_type": "display_data"
    },
    {
     "data": {
      "image/png": "[encoded data removed]",
      "text/plain": [
       "<Figure size 432x288 with 4 Axes>"
      ]
     },
     "metadata": {
      "needs_background": "light"
     },
     "output_type": "display_data"
    }
   ],
   "source": [
    "# Plot them\n",
    "background = finals[0]\n",
    "\n",
    "for n in range(len(dupli_idx2)) :\n",
    "    fig = plt.figure()\n",
    "    sp1 = plt.subplot(141)\n",
    "    sp2 = plt.subplot(142)\n",
    "    sp3 = plt.subplot(143)\n",
    "    sp4 = plt.subplot(144)\n",
    "   # sp5 = plt.subplot(155)\n",
    "    \n",
    "    binarized = [round(x,0) for x in finals[n]]\n",
    "    trial = [finals[n][i] - background[i] for i in range(100)]\n",
    "    \n",
    "    sp1.imshow(np.reshape(final_images[dupli_idx2[n][0]],(10,10)),  cmap = plt.cm.gray, interpolation = 'nearest', vmin=0, vmax = 1)\n",
    "    sp1.set_title(\"1 seq\")\n",
    "    sp2.imshow(np.reshape(finals[n],(10,10)),  cmap = plt.cm.gray, interpolation = 'nearest', vmin=0, vmax = 1)\n",
    "    sp2.set_title(\"Several seq\")\n",
    "    sp3.imshow(np.reshape(binarized, (10,10)),  cmap = plt.cm.gray, interpolation = 'nearest', vmin=0, vmax = 1)\n",
    "    sp3.set_title(\"Bin\")\n",
    "    sp4.imshow(np.reshape(stimuli_figures[indx[dupli_idx2[n][0]][0]],(10,10)),  cmap = plt.cm.gray, interpolation = 'nearest', vmin=0, vmax = 1)\n",
    "    sp4.set_title(str(np.sum(stimuli_figures[indx[n]])))\n",
    "   # sp5.imshow(np.reshape(trial,(10,10)),  cmap = plt.cm.gray, interpolation = 'nearest', vmin=0, vmax = 1)\n",
    "   # sp5.set_title('minus background')"
   ]
  },
  {
   "cell_type": "code",
   "execution_count": 812,
   "id": "9f365c35",
   "metadata": {
    "scrolled": true
   },
   "outputs": [
    {
     "data": {
      "text/plain": [
       "(0.005995742400852431, 0.0403797465823392)"
      ]
     },
     "execution_count": 812,
     "metadata": {},
     "output_type": "execute_result"
    }
   ],
   "source": [
    "min([x[i] for x in finals for i in range(100)]), max([x[i] for x in finals for i in range(100)])\n",
    "#Well normalized\n",
    "min(finals[0]), max(finals[0])"
   ]
  },
  {
   "cell_type": "markdown",
   "id": "019cd5b1",
   "metadata": {},
   "source": [
    "- accuracy sur test set\n",
    "- une image d'un des stimuli orginaux, et à côté les 3 coarse grained pour avoir ex de multiscale\n",
    "- ex de prédictions et img originale\n",
    "- vidéo"
   ]
  },
  {
   "cell_type": "markdown",
   "id": "9d71a448",
   "metadata": {},
   "source": [
    "# Let's look at accuracy and all the shit (because we kind of have to)"
   ]
  },
  {
   "cell_type": "markdown",
   "id": "bcf14b6e",
   "metadata": {},
   "source": [
    " Statistics on the logistic regressions,\n",
    " statistics on the weights"
   ]
  },
  {
   "cell_type": "code",
   "execution_count": 739,
   "id": "100f1b4c",
   "metadata": {},
   "outputs": [
    {
     "data": {
      "text/plain": [
       "(-0.17436327758749354, 0.9365756078767363)"
      ]
     },
     "execution_count": 739,
     "metadata": {},
     "output_type": "execute_result"
    }
   ],
   "source": [
    "# \"images\" whose pixels have value the weight assigned \n",
    "weight11, weight22, weight21, weight12 = [], [], [], []\n",
    "\n",
    "for [w11, w12, w21, w22] in coeffs :\n",
    "    weight11.append(w11)\n",
    "    weight22.append(w22)\n",
    "    weight12.append(w12)\n",
    "    weight21.append(w21)\n",
    "    \n",
    "wmax = max([x[j] for x in coeffs for j in range(4)])\n",
    "wmin = min([x[j] for x in coeffs for j in range(4)])\n",
    "wmin, wmax"
   ]
  },
  {
   "cell_type": "code",
   "execution_count": 740,
   "id": "d2e41bf0",
   "metadata": {},
   "outputs": [
    {
     "data": {
      "text/plain": [
       "<matplotlib.image.AxesImage at 0x7f063a097250>"
      ]
     },
     "execution_count": 740,
     "metadata": {},
     "output_type": "execute_result"
    },
    {
     "data": {
      "image/png": "[encoded data removed]",
      "text/plain": [
       "<Figure size 432x432 with 4 Axes>"
      ]
     },
     "metadata": {
      "needs_background": "light"
     },
     "output_type": "display_data"
    }
   ],
   "source": [
    "fig = plt.figure(figsize=(6,6))\n",
    "sp1 = plt.subplot(221)\n",
    "sp2 = plt.subplot(222)\n",
    "sp3 = plt.subplot(223)\n",
    "sp4 = plt.subplot(224)\n",
    "\n",
    "sp1.imshow(np.reshape(weight11,(10,10)),  cmap = plt.cm.gray, interpolation = 'nearest', label=\"truc\", vmin = wmin, vmax = wmax)\n",
    "sp2.imshow(np.reshape(weight12,(10,10)),  cmap = plt.cm.gray, interpolation = 'nearest', vmin = wmin, vmax = wmax)\n",
    "sp3.imshow(np.reshape(weight21,(10,10)),  cmap = plt.cm.gray, interpolation = 'nearest',vmin = wmin, vmax = wmax)\n",
    "sp4.imshow(np.reshape(weight22,(10,10)),  cmap = plt.cm.gray, interpolation = 'nearest', vmin = wmin, vmax = wmax)"
   ]
  },
  {
   "cell_type": "markdown",
   "id": "a075ed75",
   "metadata": {},
   "source": [
    "These are the weights for each pixel and for each kind of block averaging"
   ]
  },
  {
   "cell_type": "markdown",
   "id": "137cba30",
   "metadata": {},
   "source": [
    "# Let's make figures for Pierre because I'm dead"
   ]
  },
  {
   "cell_type": "code",
   "execution_count": 804,
   "id": "11c51172",
   "metadata": {},
   "outputs": [
    {
     "data": {
      "image/png": "[encoded data removed]",
      "text/plain": [
       "<Figure size 432x288 with 4 Axes>"
      ]
     },
     "metadata": {
      "needs_background": "light"
     },
     "output_type": "display_data"
    },
    {
     "data": {
      "image/png": "[encoded data removed]",
      "text/plain": [
       "<Figure size 432x288 with 4 Axes>"
      ]
     },
     "metadata": {
      "needs_background": "light"
     },
     "output_type": "display_data"
    },
    {
     "data": {
      "image/png": "[encoded data removed]",
      "text/plain": [
       "<Figure size 432x288 with 4 Axes>"
      ]
     },
     "metadata": {
      "needs_background": "light"
     },
     "output_type": "display_data"
    },
    {
     "data": {
      "image/png": "[encoded data removed]",
      "text/plain": [
       "<Figure size 432x288 with 4 Axes>"
      ]
     },
     "metadata": {
      "needs_background": "light"
     },
     "output_type": "display_data"
    },
    {
     "data": {
      "image/png": "[encoded data removed]",
      "text/plain": [
       "<Figure size 432x288 with 4 Axes>"
      ]
     },
     "metadata": {
      "needs_background": "light"
     },
     "output_type": "display_data"
    },
    {
     "data": {
      "image/png": "[encoded data removed]",
      "text/plain": [
       "<Figure size 432x288 with 4 Axes>"
      ]
     },
     "metadata": {
      "needs_background": "light"
     },
     "output_type": "display_data"
    },
    {
     "data": {
      "image/png": "[encoded data removed]",
      "text/plain": [
       "<Figure size 432x288 with 4 Axes>"
      ]
     },
     "metadata": {
      "needs_background": "light"
     },
     "output_type": "display_data"
    },
    {
     "data": {
      "image/png": "[encoded data removed]",
      "text/plain": [
       "<Figure size 432x288 with 4 Axes>"
      ]
     },
     "metadata": {
      "needs_background": "light"
     },
     "output_type": "display_data"
    },
    {
     "data": {
      "image/png": "[encoded data removed]",
      "text/plain": [
       "<Figure size 432x288 with 4 Axes>"
      ]
     },
     "metadata": {
      "needs_background": "light"
     },
     "output_type": "display_data"
    },
    {
     "data": {
      "image/png": "[encoded data removed]",
      "text/plain": [
       "<Figure size 432x288 with 4 Axes>"
      ]
     },
     "metadata": {
      "needs_background": "light"
     },
     "output_type": "display_data"
    },
    {
     "data": {
      "image/png": "[encoded data removed]",
      "text/plain": [
       "<Figure size 432x288 with 4 Axes>"
      ]
     },
     "metadata": {
      "needs_background": "light"
     },
     "output_type": "display_data"
    },
    {
     "data": {
      "image/png": "[encoded data removed]",
      "text/plain": [
       "<Figure size 432x288 with 4 Axes>"
      ]
     },
     "metadata": {
      "needs_background": "light"
     },
     "output_type": "display_data"
    },
    {
     "data": {
      "image/png": "[encoded data removed]",
      "text/plain": [
       "<Figure size 432x288 with 4 Axes>"
      ]
     },
     "metadata": {
      "needs_background": "light"
     },
     "output_type": "display_data"
    },
    {
     "data": {
      "image/png": "[encoded data removed]",
      "text/plain": [
       "<Figure size 432x288 with 4 Axes>"
      ]
     },
     "metadata": {
      "needs_background": "light"
     },
     "output_type": "display_data"
    },
    {
     "data": {
      "image/png": "[encoded data removed]",
      "text/plain": [
       "<Figure size 432x288 with 4 Axes>"
      ]
     },
     "metadata": {
      "needs_background": "light"
     },
     "output_type": "display_data"
    }
   ],
   "source": [
    "for n in range(15) :#len(dupli_idx2)) :\n",
    "    stimu = stimuli_figures[indx[dupli_idx2[n][0]][0]]\n",
    "    stimu22 = block_to_100px(Y_train_newscale([stimu], pixel_indices_22), pixel_indices_22)\n",
    "    stimu21 = block_to_100px(Y_train_newscale([stimu], pixel_indices_21), pixel_indices_21)\n",
    "    stimu12 = block_to_100px(Y_train_newscale([stimu], pixel_indices_12),pixel_indices_12)\n",
    "    stimu11 = stimu\n",
    "    #print(stimu)\n",
    "    \n",
    "    fig = plt.figure()\n",
    "    sp1 = plt.subplot(151)\n",
    "    sp2 = plt.subplot(152)\n",
    "    sp3 = plt.subplot(153)\n",
    "    sp4 = plt.subplot(154)\n",
    "    \n",
    "    sp1.imshow(np.reshape(stimu11,(10,10)),  cmap = plt.cm.gray, interpolation = 'nearest', vmin=0, vmax = 1)\n",
    "    sp1.set_title(\"1x1\")\n",
    "    sp2.imshow(np.reshape(np.transpose(stimu12),(10,10)),  cmap = plt.cm.gray, interpolation = 'nearest', vmin=0, vmax = 1)\n",
    "    sp2.set_title(\"1x2\")\n",
    "    sp3.imshow(np.reshape(np.transpose(stimu21), (10,10)),  cmap = plt.cm.gray, interpolation = 'nearest', vmin=0, vmax = 1)\n",
    "    sp3.set_title(\"2x1\")\n",
    "    sp4.imshow(np.reshape(stimu22[0],(10,10)),  cmap = plt.cm.gray, interpolation = 'nearest', vmin=0, vmax = 1)\n",
    "    sp4.set_title(\"2x2\")"
   ]
  },
  {
   "cell_type": "code",
   "execution_count": null,
   "id": "72aa1840",
   "metadata": {},
   "outputs": [],
   "source": []
  }
 ],
 "metadata": {
  "kernelspec": {
   "display_name": "Python 3",
   "language": "python",
   "name": "python3"
  },
  "language_info": {
   "codemirror_mode": {
    "name": "ipython",
    "version": 3
   },
   "file_extension": ".py",
   "mimetype": "text/x-python",
   "name": "python",
   "nbconvert_exporter": "python",
   "pygments_lexer": "ipython3",
   "version": "3.8.8"
  }
 },
 "nbformat": 4,
 "nbformat_minor": 5
}
