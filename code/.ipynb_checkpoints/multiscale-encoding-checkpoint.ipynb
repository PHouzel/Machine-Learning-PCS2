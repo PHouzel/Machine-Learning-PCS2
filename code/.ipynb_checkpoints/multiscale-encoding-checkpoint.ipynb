{
 "cells": [
  {
   "cell_type": "markdown",
   "id": "2c3bb582",
   "metadata": {},
   "source": [
    "# Preprocessing of data"
   ]
  },
  {
   "cell_type": "markdown",
   "id": "124b95d4",
   "metadata": {},
   "source": [
    "### Import libraries and preproc"
   ]
  },
  {
   "cell_type": "code",
   "execution_count": 4,
   "id": "415afc04",
   "metadata": {},
   "outputs": [],
   "source": [
    "import sys\n",
    "import numpy as np\n",
    "from tqdm import tqdm\n",
    "import nibabel\n",
    "#!{sys.executable} -m pip install nilearn #install relevant neuroimaging package\n",
    "#!{sys.executable} -m pip install opencv-python #install video package\n",
    "from preprocessing import load_and_mask_miyawaki_data\n",
    "from plots import plt_fmri_stim\n",
    "import matplotlib.pyplot as plt"
   ]
  },
  {
   "cell_type": "code",
   "execution_count": 5,
   "id": "88c60682",
   "metadata": {
    "scrolled": true
   },
   "outputs": [
    {
     "name": "stderr",
     "output_type": "stream",
     "text": [
      "Preprocessing data..."
     ]
    },
    {
     "name": "stdout",
     "output_type": "stream",
     "text": [
      "The shape of the masked data is (20, 145, 5438)\n",
      "Preprocessed fMRI data: 2860 samples x 5438 voxels\n",
      "Preprocessed stimuli data: 2860 samples x 100 pixels\n",
      "1536 geometrical figures\n"
     ]
    },
    {
     "name": "stderr",
     "output_type": "stream",
     "text": [
      " Done (21.20s).\n"
     ]
    }
   ],
   "source": [
    "fmri_data, stimuli, fmri_figures_data, stimuli_figures, masker = load_and_mask_miyawaki_data()"
   ]
  },
  {
   "cell_type": "markdown",
   "id": "5c98ebb7",
   "metadata": {},
   "source": [
    "### Create data sets"
   ]
  },
  {
   "cell_type": "code",
   "execution_count": 391,
   "id": "99b472b8",
   "metadata": {},
   "outputs": [],
   "source": [
    "from sklearn.model_selection import train_test_split\n",
    "\n",
    "# Random images avec les carrés noirs : train and validation set\n",
    "train_to_test_ratio = 0.7\n",
    "X_train, X_val, Y_train, Y_val = train_test_split(fmri_data, stimuli, \n",
    "                                        train_size=train_to_test_ratio, \n",
    "                                        test_size=1.0-train_to_test_ratio)\n",
    "\n",
    "# Test set : geometric images\n",
    "X_test, Y_test = fmri_figures_data, stimuli_figures"
   ]
  },
  {
   "cell_type": "markdown",
   "id": "82acf125",
   "metadata": {},
   "source": [
    "### Manipulate stimuli images for multiscale analysis"
   ]
  },
  {
   "cell_type": "code",
   "execution_count": 392,
   "id": "4515901e",
   "metadata": {},
   "outputs": [],
   "source": [
    "# Create list pixel_indices of 4-uplets of incidices of pixels we want to average together for the 2*2 scale\n",
    "n_even = [2*i for i in range(5)] #list used to generate pixel_indices\n",
    "#pixel_indices_22 = [[10*a+b, 10*a+(b+1), 10*(a+1)+b, 10*(a+1)+(b+1)] for a in n_even for b in n_even]\n",
    "pixel_indices_22 = [[10*a+b, 10*a+(b+1), 10*(a+1)+b, 10*(a+1)+(b+1)] for a in range(9) for b in range(9)]\n",
    "\n",
    "# Same for 2*1 scale\n",
    "n_odd = [2*i+1 for i in range(50)]\n",
    "#pixel_indices_21 = [[a-1, a] for a in n_odd]\n",
    "pixel_indices_21 = [[(10*b)+ a-1, 10*b + a] for b in range(10) for a in range(10)[1:]]\n",
    "\n",
    "# Same for 1*2 scale\n",
    "#pixel_indices_12 = [[a*10 + b, (a+1)*10 +b] for a in n_even for b in range(10)]\n",
    "pixel_indices_12 = [[a*10 + b, (a+1)*10 +b] for a in range(9) for b in range(10)]"
   ]
  },
  {
   "cell_type": "code",
   "execution_count": 393,
   "id": "ef6d9fa4",
   "metadata": {},
   "outputs": [],
   "source": [
    "# Preprocessing of stimuli data for multi scale encoding\n",
    "\n",
    "def preproc_one_stimuli(idx_pxl_toavg, stim, reshape = False, reshape_form = (5,5)) :\n",
    "    \"\"\"\n",
    "    Permits to preproc 1 stimuli figure by averaging some pixels together for the \n",
    "    multiscale encoding.\n",
    "    - idx_pxl_toavg : liste de multiplets d'indices de pixels que l'on souhaite moyenner\n",
    "                      ensemble. Par ex, pour le 2*2 on a :\n",
    "                      [[0,1,10,11], [2,3,12,13], ... ,[88,89,98,99]].\n",
    "    - stimuli: the image\n",
    "    - reshape : if you want your image to be reshaped in such a way that you can plot it\n",
    "    - reshape_form : (5,5) for a 5 by 5 image, etc...\n",
    "    \"\"\"\n",
    "    if reshape == False :\n",
    "        return np.array([np.average([stim[i] for i in idx]) for idx in idx_pxl_toavg])\n",
    "    \n",
    "    else :\n",
    "        return np.array(np.reshape([np.average([stim[i] for i in idx]) for idx in idx_pxl_toavg],reshape_form))\n",
    "    \n",
    "\n",
    "def preproc_multiple_stimuli(idx_pxl_toavg, stimuli_list, reshape = False, reshape_form = (5,5)) :\n",
    "    \"\"\"\n",
    "    Same as above but to preproc a whole list of stimulis\n",
    "    Sorry this looks horrible\n",
    "    \"\"\"\n",
    "    if reshape == False :\n",
    "        return np.array([[np.average([stim[i] for i in idx]) for idx in idx_pxl_toavg] for stim in stimuli_list])\n",
    "    \n",
    "    else :\n",
    "        reshape_form_multi = (len(stimuli_list),reshape_form[0],reshape_form[1])\n",
    "        return np.array(np.reshape([np.average([stim[i] for i in idx]) for idx in idx_pxl_toavg for stim in stimuli_list],reshape_form_multi))\n",
    "    \n",
    "def Y_train_newscale(Y_train, idx_pxl_toavg, reshape = False, reshape_form = (5,5)) :\n",
    "    \"\"\"\n",
    "    Creates a new Y_train but with rescaled images \n",
    "    Changes greyscale values to classes (integers) : for this, we want to map the values of greyscale to\n",
    "    integers. We notice that for 4 pixels, only possible values are [0,0.25,0.5,0.75,1]. For 2 pixels, [0,0.5,1]. Etc.\n",
    "    By multiplying these grayscale values by the number of pixels we get [0,1,2,3,4] or [0,1,2], etc. Hence the multiplication.\n",
    "    \"\"\"\n",
    "    Y_continuous = preproc_multiple_stimuli(idx_pxl_toavg, Y_train, reshape, reshape_form) #with values in [0,1]\n",
    "    n = len(idx_pxl_toavg[0]) #number of classes is the number of pixels there is to average + 1. For instance for 4 pixels you can have [0,0.25,0.5,0.75,1]\n",
    "    Y_integers = [[int(pixel_val * n) for pixel_val in img] for img in Y_continuous]\n",
    "    return Y_integers"
   ]
  },
  {
   "cell_type": "markdown",
   "id": "670e43ef",
   "metadata": {},
   "source": [
    "# Check that stimuli processing works\n",
    "\n",
    "imag = stimuli_figures2[30]\n",
    "\n",
    "old = np.reshape(imag,(10,10))\n",
    "new = preproc_one_stimuli(pixel_indices_22, imag, reshape = True)\n",
    "\n",
    "fig = plt.figure()\n",
    "sp1 = plt.subplot(121)\n",
    "sp2 = plt.subplot(122)\n",
    "\n",
    "# to show the grid \n",
    "\n",
    "for ax in (sp1, sp2) :\n",
    "\n",
    "    # Major ticks\n",
    "    ax.set_xticks(np.arange(0, 10, 1))\n",
    "    ax.set_yticks(np.arange(0, 10, 1))\n",
    "\n",
    "    # Minor ticks\n",
    "    ax.set_xticks(np.arange(-.5, 10, 1), minor=True)\n",
    "    ax.set_yticks(np.arange(-.5, 10, 1), minor=True)\n",
    "    \n",
    "    ax.grid(which='minor', color='r', linestyle='-', linewidth=2)\n",
    "\n",
    "\n",
    "sp1.imshow(old, cmap = plt.cm.gray, interpolation = 'nearest')\n",
    "sp2.imshow(new, cmap = plt.cm.gray, interpolation = 'nearest')"
   ]
  },
  {
   "cell_type": "markdown",
   "id": "ae65d470",
   "metadata": {},
   "source": [
    "It works !"
   ]
  },
  {
   "cell_type": "markdown",
   "id": "b3f2ddf2",
   "metadata": {},
   "source": [
    "# Train a log reg at the different scales"
   ]
  },
  {
   "cell_type": "code",
   "execution_count": 394,
   "id": "0a524523",
   "metadata": {},
   "outputs": [],
   "source": [
    "from sklearn import linear_model\n",
    "\n",
    "def train_logreg_scale(x_train, y_train, x_test, y_test, scale) :\n",
    "    \"\"\"\n",
    "    Trains a log reg for a certain scale \n",
    "    \"\"\"\n",
    "    logreg_table = []\n",
    "    size = len(y_train[0])\n",
    "    \n",
    "    train_accuracy, test_accuracy = np.zeros(size), np.zeros(size)\n",
    "    print(len(train_accuracy))\n",
    "\n",
    "    # loop over regularisation strength\n",
    "    for i, pixel in tqdm(enumerate(np.transpose(y_train))):\n",
    "    \n",
    "        # define logistic regressor\n",
    "        logreg = linear_model.LogisticRegression(penalty=\"l2\", C=0.05, max_iter = 15000, multi_class='multinomial')#, n_jobs = 2)#, n_jobs=-1)\n",
    "    \n",
    "        # fit training data\n",
    "        logreg.fit(x_train, pixel)\n",
    "    \n",
    "        logreg_table.append(logreg)\n",
    "    \n",
    "        # check accuracy\n",
    "        train_accuracy[i]=logreg.score(x_train,pixel)\n",
    "        test_accuracy[i]=logreg.score(x_test,np.transpose(y_test)[i])\n",
    "        \n",
    "    return logreg_table, train_accuracy, test_accuracy"
   ]
  },
  {
   "cell_type": "code",
   "execution_count": 395,
   "id": "777340e9",
   "metadata": {},
   "outputs": [
    {
     "name": "stderr",
     "output_type": "stream",
     "text": [
      "\r",
      "0it [00:00, ?it/s]"
     ]
    },
    {
     "name": "stdout",
     "output_type": "stream",
     "text": [
      "100\n"
     ]
    },
    {
     "name": "stderr",
     "output_type": "stream",
     "text": [
      "100it [15:22,  9.22s/it]\n"
     ]
    }
   ],
   "source": [
    "#Prediction functions for initial pixels\n",
    "[logreg_table_11, train_accuracy_11, test_accuracy_11] = train_logreg_scale(X_train, Y_train, X_test, Y_test, (1,1))"
   ]
  },
  {
   "cell_type": "code",
   "execution_count": 396,
   "id": "3d373c97",
   "metadata": {},
   "outputs": [
    {
     "name": "stdout",
     "output_type": "stream",
     "text": [
      "1.0 0.8824414062500001\n"
     ]
    }
   ],
   "source": [
    "print(np.average(train_accuracy_11), np.average(test_accuracy_11))"
   ]
  },
  {
   "cell_type": "code",
   "execution_count": 397,
   "id": "92a342d1",
   "metadata": {},
   "outputs": [
    {
     "name": "stderr",
     "output_type": "stream",
     "text": [
      "\r",
      "0it [00:00, ?it/s]"
     ]
    },
    {
     "name": "stdout",
     "output_type": "stream",
     "text": [
      "81\n"
     ]
    },
    {
     "name": "stderr",
     "output_type": "stream",
     "text": [
      "81it [38:50, 28.77s/it]\n"
     ]
    }
   ],
   "source": [
    "# New Y_train for 2*2 block averaged images\n",
    "Y_train_22, Y_test_22 = Y_train_newscale(Y_train, pixel_indices_22), Y_train_newscale(Y_test, pixel_indices_22)\n",
    "\n",
    "[logreg_table_22, train_accuracy_22, test_accuracy_22] = train_logreg_scale(X_train, Y_train_22, X_test, Y_test_22,(2,2))"
   ]
  },
  {
   "cell_type": "code",
   "execution_count": 399,
   "id": "75d869e1",
   "metadata": {},
   "outputs": [
    {
     "name": "stdout",
     "output_type": "stream",
     "text": [
      "1.0 0.6879501028806584\n"
     ]
    }
   ],
   "source": [
    "print(np.average(train_accuracy_22), np.average(test_accuracy_22))"
   ]
  },
  {
   "cell_type": "code",
   "execution_count": 400,
   "id": "df0aec95",
   "metadata": {},
   "outputs": [
    {
     "name": "stdout",
     "output_type": "stream",
     "text": [
      "81\n",
      "81\n"
     ]
    },
    {
     "data": {
      "image/png": "[encoded data removed]",
      "text/plain": [
       "<Figure size 432x288 with 1 Axes>"
      ]
     },
     "metadata": {
      "needs_background": "light"
     },
     "output_type": "display_data"
    }
   ],
   "source": [
    "fig, ax = plt.subplots() #try to see test accuracy function of pixel\n",
    "plt.plot(range(len(train_accuracy_22)),train_accuracy_22)\n",
    "plt.plot(range(len(test_accuracy_22)), test_accuracy_22)\n",
    "print(len(Y_train_22[0]))\n",
    "print(len(train_accuracy_22))"
   ]
  },
  {
   "cell_type": "code",
   "execution_count": 401,
   "id": "2a84e7c1",
   "metadata": {},
   "outputs": [
    {
     "name": "stderr",
     "output_type": "stream",
     "text": [
      "\r",
      "0it [00:00, ?it/s]"
     ]
    },
    {
     "name": "stdout",
     "output_type": "stream",
     "text": [
      "90\n"
     ]
    },
    {
     "name": "stderr",
     "output_type": "stream",
     "text": [
      "90it [25:48, 17.20s/it]\n"
     ]
    }
   ],
   "source": [
    "# New Y_train for 2*1 block averaged images\n",
    "Y_train_21, Y_test_21 = Y_train_newscale(Y_train, pixel_indices_21),  Y_train_newscale(Y_test, pixel_indices_21)\n",
    "            \n",
    "[logreg_table_21, train_accuracy_21, test_accuracy_21] = train_logreg_scale(X_train, Y_train_21, X_test, Y_test_21,(2,1))"
   ]
  },
  {
   "cell_type": "code",
   "execution_count": 402,
   "id": "4f976c08",
   "metadata": {},
   "outputs": [
    {
     "name": "stdout",
     "output_type": "stream",
     "text": [
      "1.0 0.7951967592592593\n"
     ]
    }
   ],
   "source": [
    "print(np.average(train_accuracy_21), np.average(test_accuracy_21))"
   ]
  },
  {
   "cell_type": "code",
   "execution_count": 403,
   "id": "e9e72f73",
   "metadata": {},
   "outputs": [
    {
     "name": "stderr",
     "output_type": "stream",
     "text": [
      "\r",
      "0it [00:00, ?it/s]"
     ]
    },
    {
     "name": "stdout",
     "output_type": "stream",
     "text": [
      "90\n"
     ]
    },
    {
     "name": "stderr",
     "output_type": "stream",
     "text": [
      "0it [00:28, ?it/s]\n"
     ]
    },
    {
     "ename": "KeyboardInterrupt",
     "evalue": "",
     "output_type": "error",
     "traceback": [
      "\u001b[0;31m---------------------------------------------------------------------------\u001b[0m",
      "\u001b[0;31mKeyboardInterrupt\u001b[0m                         Traceback (most recent call last)",
      "\u001b[0;32m<ipython-input-403-21f7f0330ebb>\u001b[0m in \u001b[0;36m<module>\u001b[0;34m\u001b[0m\n\u001b[1;32m      2\u001b[0m \u001b[0mY_train_12\u001b[0m\u001b[0;34m,\u001b[0m \u001b[0mY_test_12\u001b[0m \u001b[0;34m=\u001b[0m \u001b[0mY_train_newscale\u001b[0m\u001b[0;34m(\u001b[0m\u001b[0mY_train\u001b[0m\u001b[0;34m,\u001b[0m \u001b[0mpixel_indices_12\u001b[0m\u001b[0;34m)\u001b[0m\u001b[0;34m,\u001b[0m  \u001b[0mY_train_newscale\u001b[0m\u001b[0;34m(\u001b[0m\u001b[0mY_test\u001b[0m\u001b[0;34m,\u001b[0m \u001b[0mpixel_indices_12\u001b[0m\u001b[0;34m)\u001b[0m\u001b[0;34m\u001b[0m\u001b[0;34m\u001b[0m\u001b[0m\n\u001b[1;32m      3\u001b[0m \u001b[0;34m\u001b[0m\u001b[0m\n\u001b[0;32m----> 4\u001b[0;31m \u001b[0;34m[\u001b[0m\u001b[0mlogreg_table_12\u001b[0m\u001b[0;34m,\u001b[0m \u001b[0mtrain_accuracy_12\u001b[0m\u001b[0;34m,\u001b[0m \u001b[0mtest_accuracy_12\u001b[0m\u001b[0;34m]\u001b[0m \u001b[0;34m=\u001b[0m \u001b[0mtrain_logreg_scale\u001b[0m\u001b[0;34m(\u001b[0m\u001b[0mX_train\u001b[0m\u001b[0;34m,\u001b[0m \u001b[0mY_train_12\u001b[0m\u001b[0;34m,\u001b[0m \u001b[0mX_test\u001b[0m\u001b[0;34m,\u001b[0m \u001b[0mY_test_12\u001b[0m\u001b[0;34m,\u001b[0m\u001b[0;34m(\u001b[0m\u001b[0;36m1\u001b[0m\u001b[0;34m,\u001b[0m\u001b[0;36m2\u001b[0m\u001b[0;34m)\u001b[0m\u001b[0;34m)\u001b[0m\u001b[0;34m\u001b[0m\u001b[0;34m\u001b[0m\u001b[0m\n\u001b[0m",
      "\u001b[0;32m<ipython-input-394-39e7ab65990c>\u001b[0m in \u001b[0;36mtrain_logreg_scale\u001b[0;34m(x_train, y_train, x_test, y_test, scale)\u001b[0m\n\u001b[1;32m     18\u001b[0m \u001b[0;34m\u001b[0m\u001b[0m\n\u001b[1;32m     19\u001b[0m         \u001b[0;31m# fit training data\u001b[0m\u001b[0;34m\u001b[0m\u001b[0;34m\u001b[0m\u001b[0;34m\u001b[0m\u001b[0m\n\u001b[0;32m---> 20\u001b[0;31m         \u001b[0mlogreg\u001b[0m\u001b[0;34m.\u001b[0m\u001b[0mfit\u001b[0m\u001b[0;34m(\u001b[0m\u001b[0mx_train\u001b[0m\u001b[0;34m,\u001b[0m \u001b[0mpixel\u001b[0m\u001b[0;34m)\u001b[0m\u001b[0;34m\u001b[0m\u001b[0;34m\u001b[0m\u001b[0m\n\u001b[0m\u001b[1;32m     21\u001b[0m \u001b[0;34m\u001b[0m\u001b[0m\n\u001b[1;32m     22\u001b[0m         \u001b[0mlogreg_table\u001b[0m\u001b[0;34m.\u001b[0m\u001b[0mappend\u001b[0m\u001b[0;34m(\u001b[0m\u001b[0mlogreg\u001b[0m\u001b[0;34m)\u001b[0m\u001b[0;34m\u001b[0m\u001b[0;34m\u001b[0m\u001b[0m\n",
      "\u001b[0;32m~/anaconda3/lib/python3.8/site-packages/sklearn/linear_model/_logistic.py\u001b[0m in \u001b[0;36mfit\u001b[0;34m(self, X, y, sample_weight)\u001b[0m\n\u001b[1;32m   1404\u001b[0m         \u001b[0;32melse\u001b[0m\u001b[0;34m:\u001b[0m\u001b[0;34m\u001b[0m\u001b[0;34m\u001b[0m\u001b[0m\n\u001b[1;32m   1405\u001b[0m             \u001b[0mprefer\u001b[0m \u001b[0;34m=\u001b[0m \u001b[0;34m'processes'\u001b[0m\u001b[0;34m\u001b[0m\u001b[0;34m\u001b[0m\u001b[0m\n\u001b[0;32m-> 1406\u001b[0;31m         fold_coefs_ = Parallel(n_jobs=self.n_jobs, verbose=self.verbose,\n\u001b[0m\u001b[1;32m   1407\u001b[0m                                \u001b[0;34m**\u001b[0m\u001b[0m_joblib_parallel_args\u001b[0m\u001b[0;34m(\u001b[0m\u001b[0mprefer\u001b[0m\u001b[0;34m=\u001b[0m\u001b[0mprefer\u001b[0m\u001b[0;34m)\u001b[0m\u001b[0;34m)\u001b[0m\u001b[0;34m(\u001b[0m\u001b[0;34m\u001b[0m\u001b[0;34m\u001b[0m\u001b[0m\n\u001b[1;32m   1408\u001b[0m             path_func(X, y, pos_class=class_, Cs=[C_],\n",
      "\u001b[0;32m~/anaconda3/lib/python3.8/site-packages/joblib/parallel.py\u001b[0m in \u001b[0;36m__call__\u001b[0;34m(self, iterable)\u001b[0m\n\u001b[1;32m   1039\u001b[0m             \u001b[0;31m# remaining jobs.\u001b[0m\u001b[0;34m\u001b[0m\u001b[0;34m\u001b[0m\u001b[0;34m\u001b[0m\u001b[0m\n\u001b[1;32m   1040\u001b[0m             \u001b[0mself\u001b[0m\u001b[0;34m.\u001b[0m\u001b[0m_iterating\u001b[0m \u001b[0;34m=\u001b[0m \u001b[0;32mFalse\u001b[0m\u001b[0;34m\u001b[0m\u001b[0;34m\u001b[0m\u001b[0m\n\u001b[0;32m-> 1041\u001b[0;31m             \u001b[0;32mif\u001b[0m \u001b[0mself\u001b[0m\u001b[0;34m.\u001b[0m\u001b[0mdispatch_one_batch\u001b[0m\u001b[0;34m(\u001b[0m\u001b[0miterator\u001b[0m\u001b[0;34m)\u001b[0m\u001b[0;34m:\u001b[0m\u001b[0;34m\u001b[0m\u001b[0;34m\u001b[0m\u001b[0m\n\u001b[0m\u001b[1;32m   1042\u001b[0m                 \u001b[0mself\u001b[0m\u001b[0;34m.\u001b[0m\u001b[0m_iterating\u001b[0m \u001b[0;34m=\u001b[0m \u001b[0mself\u001b[0m\u001b[0;34m.\u001b[0m\u001b[0m_original_iterator\u001b[0m \u001b[0;32mis\u001b[0m \u001b[0;32mnot\u001b[0m \u001b[0;32mNone\u001b[0m\u001b[0;34m\u001b[0m\u001b[0;34m\u001b[0m\u001b[0m\n\u001b[1;32m   1043\u001b[0m \u001b[0;34m\u001b[0m\u001b[0m\n",
      "\u001b[0;32m~/anaconda3/lib/python3.8/site-packages/joblib/parallel.py\u001b[0m in \u001b[0;36mdispatch_one_batch\u001b[0;34m(self, iterator)\u001b[0m\n\u001b[1;32m    857\u001b[0m                 \u001b[0;32mreturn\u001b[0m \u001b[0;32mFalse\u001b[0m\u001b[0;34m\u001b[0m\u001b[0;34m\u001b[0m\u001b[0m\n\u001b[1;32m    858\u001b[0m             \u001b[0;32melse\u001b[0m\u001b[0;34m:\u001b[0m\u001b[0;34m\u001b[0m\u001b[0;34m\u001b[0m\u001b[0m\n\u001b[0;32m--> 859\u001b[0;31m                 \u001b[0mself\u001b[0m\u001b[0;34m.\u001b[0m\u001b[0m_dispatch\u001b[0m\u001b[0;34m(\u001b[0m\u001b[0mtasks\u001b[0m\u001b[0;34m)\u001b[0m\u001b[0;34m\u001b[0m\u001b[0;34m\u001b[0m\u001b[0m\n\u001b[0m\u001b[1;32m    860\u001b[0m                 \u001b[0;32mreturn\u001b[0m \u001b[0;32mTrue\u001b[0m\u001b[0;34m\u001b[0m\u001b[0;34m\u001b[0m\u001b[0m\n\u001b[1;32m    861\u001b[0m \u001b[0;34m\u001b[0m\u001b[0m\n",
      "\u001b[0;32m~/anaconda3/lib/python3.8/site-packages/joblib/parallel.py\u001b[0m in \u001b[0;36m_dispatch\u001b[0;34m(self, batch)\u001b[0m\n\u001b[1;32m    775\u001b[0m         \u001b[0;32mwith\u001b[0m \u001b[0mself\u001b[0m\u001b[0;34m.\u001b[0m\u001b[0m_lock\u001b[0m\u001b[0;34m:\u001b[0m\u001b[0;34m\u001b[0m\u001b[0;34m\u001b[0m\u001b[0m\n\u001b[1;32m    776\u001b[0m             \u001b[0mjob_idx\u001b[0m \u001b[0;34m=\u001b[0m \u001b[0mlen\u001b[0m\u001b[0;34m(\u001b[0m\u001b[0mself\u001b[0m\u001b[0;34m.\u001b[0m\u001b[0m_jobs\u001b[0m\u001b[0;34m)\u001b[0m\u001b[0;34m\u001b[0m\u001b[0;34m\u001b[0m\u001b[0m\n\u001b[0;32m--> 777\u001b[0;31m             \u001b[0mjob\u001b[0m \u001b[0;34m=\u001b[0m \u001b[0mself\u001b[0m\u001b[0;34m.\u001b[0m\u001b[0m_backend\u001b[0m\u001b[0;34m.\u001b[0m\u001b[0mapply_async\u001b[0m\u001b[0;34m(\u001b[0m\u001b[0mbatch\u001b[0m\u001b[0;34m,\u001b[0m \u001b[0mcallback\u001b[0m\u001b[0;34m=\u001b[0m\u001b[0mcb\u001b[0m\u001b[0;34m)\u001b[0m\u001b[0;34m\u001b[0m\u001b[0;34m\u001b[0m\u001b[0m\n\u001b[0m\u001b[1;32m    778\u001b[0m             \u001b[0;31m# A job can complete so quickly than its callback is\u001b[0m\u001b[0;34m\u001b[0m\u001b[0;34m\u001b[0m\u001b[0;34m\u001b[0m\u001b[0m\n\u001b[1;32m    779\u001b[0m             \u001b[0;31m# called before we get here, causing self._jobs to\u001b[0m\u001b[0;34m\u001b[0m\u001b[0;34m\u001b[0m\u001b[0;34m\u001b[0m\u001b[0m\n",
      "\u001b[0;32m~/anaconda3/lib/python3.8/site-packages/joblib/_parallel_backends.py\u001b[0m in \u001b[0;36mapply_async\u001b[0;34m(self, func, callback)\u001b[0m\n\u001b[1;32m    206\u001b[0m     \u001b[0;32mdef\u001b[0m \u001b[0mapply_async\u001b[0m\u001b[0;34m(\u001b[0m\u001b[0mself\u001b[0m\u001b[0;34m,\u001b[0m \u001b[0mfunc\u001b[0m\u001b[0;34m,\u001b[0m \u001b[0mcallback\u001b[0m\u001b[0;34m=\u001b[0m\u001b[0;32mNone\u001b[0m\u001b[0;34m)\u001b[0m\u001b[0;34m:\u001b[0m\u001b[0;34m\u001b[0m\u001b[0;34m\u001b[0m\u001b[0m\n\u001b[1;32m    207\u001b[0m         \u001b[0;34m\"\"\"Schedule a func to be run\"\"\"\u001b[0m\u001b[0;34m\u001b[0m\u001b[0;34m\u001b[0m\u001b[0m\n\u001b[0;32m--> 208\u001b[0;31m         \u001b[0mresult\u001b[0m \u001b[0;34m=\u001b[0m \u001b[0mImmediateResult\u001b[0m\u001b[0;34m(\u001b[0m\u001b[0mfunc\u001b[0m\u001b[0;34m)\u001b[0m\u001b[0;34m\u001b[0m\u001b[0;34m\u001b[0m\u001b[0m\n\u001b[0m\u001b[1;32m    209\u001b[0m         \u001b[0;32mif\u001b[0m \u001b[0mcallback\u001b[0m\u001b[0;34m:\u001b[0m\u001b[0;34m\u001b[0m\u001b[0;34m\u001b[0m\u001b[0m\n\u001b[1;32m    210\u001b[0m             \u001b[0mcallback\u001b[0m\u001b[0;34m(\u001b[0m\u001b[0mresult\u001b[0m\u001b[0;34m)\u001b[0m\u001b[0;34m\u001b[0m\u001b[0;34m\u001b[0m\u001b[0m\n",
      "\u001b[0;32m~/anaconda3/lib/python3.8/site-packages/joblib/_parallel_backends.py\u001b[0m in \u001b[0;36m__init__\u001b[0;34m(self, batch)\u001b[0m\n\u001b[1;32m    570\u001b[0m         \u001b[0;31m# Don't delay the application, to avoid keeping the input\u001b[0m\u001b[0;34m\u001b[0m\u001b[0;34m\u001b[0m\u001b[0;34m\u001b[0m\u001b[0m\n\u001b[1;32m    571\u001b[0m         \u001b[0;31m# arguments in memory\u001b[0m\u001b[0;34m\u001b[0m\u001b[0;34m\u001b[0m\u001b[0;34m\u001b[0m\u001b[0m\n\u001b[0;32m--> 572\u001b[0;31m         \u001b[0mself\u001b[0m\u001b[0;34m.\u001b[0m\u001b[0mresults\u001b[0m \u001b[0;34m=\u001b[0m \u001b[0mbatch\u001b[0m\u001b[0;34m(\u001b[0m\u001b[0;34m)\u001b[0m\u001b[0;34m\u001b[0m\u001b[0;34m\u001b[0m\u001b[0m\n\u001b[0m\u001b[1;32m    573\u001b[0m \u001b[0;34m\u001b[0m\u001b[0m\n\u001b[1;32m    574\u001b[0m     \u001b[0;32mdef\u001b[0m \u001b[0mget\u001b[0m\u001b[0;34m(\u001b[0m\u001b[0mself\u001b[0m\u001b[0;34m)\u001b[0m\u001b[0;34m:\u001b[0m\u001b[0;34m\u001b[0m\u001b[0;34m\u001b[0m\u001b[0m\n",
      "\u001b[0;32m~/anaconda3/lib/python3.8/site-packages/joblib/parallel.py\u001b[0m in \u001b[0;36m__call__\u001b[0;34m(self)\u001b[0m\n\u001b[1;32m    260\u001b[0m         \u001b[0;31m# change the default number of processes to -1\u001b[0m\u001b[0;34m\u001b[0m\u001b[0;34m\u001b[0m\u001b[0;34m\u001b[0m\u001b[0m\n\u001b[1;32m    261\u001b[0m         \u001b[0;32mwith\u001b[0m \u001b[0mparallel_backend\u001b[0m\u001b[0;34m(\u001b[0m\u001b[0mself\u001b[0m\u001b[0;34m.\u001b[0m\u001b[0m_backend\u001b[0m\u001b[0;34m,\u001b[0m \u001b[0mn_jobs\u001b[0m\u001b[0;34m=\u001b[0m\u001b[0mself\u001b[0m\u001b[0;34m.\u001b[0m\u001b[0m_n_jobs\u001b[0m\u001b[0;34m)\u001b[0m\u001b[0;34m:\u001b[0m\u001b[0;34m\u001b[0m\u001b[0;34m\u001b[0m\u001b[0m\n\u001b[0;32m--> 262\u001b[0;31m             return [func(*args, **kwargs)\n\u001b[0m\u001b[1;32m    263\u001b[0m                     for func, args, kwargs in self.items]\n\u001b[1;32m    264\u001b[0m \u001b[0;34m\u001b[0m\u001b[0m\n",
      "\u001b[0;32m~/anaconda3/lib/python3.8/site-packages/joblib/parallel.py\u001b[0m in \u001b[0;36m<listcomp>\u001b[0;34m(.0)\u001b[0m\n\u001b[1;32m    260\u001b[0m         \u001b[0;31m# change the default number of processes to -1\u001b[0m\u001b[0;34m\u001b[0m\u001b[0;34m\u001b[0m\u001b[0;34m\u001b[0m\u001b[0m\n\u001b[1;32m    261\u001b[0m         \u001b[0;32mwith\u001b[0m \u001b[0mparallel_backend\u001b[0m\u001b[0;34m(\u001b[0m\u001b[0mself\u001b[0m\u001b[0;34m.\u001b[0m\u001b[0m_backend\u001b[0m\u001b[0;34m,\u001b[0m \u001b[0mn_jobs\u001b[0m\u001b[0;34m=\u001b[0m\u001b[0mself\u001b[0m\u001b[0;34m.\u001b[0m\u001b[0m_n_jobs\u001b[0m\u001b[0;34m)\u001b[0m\u001b[0;34m:\u001b[0m\u001b[0;34m\u001b[0m\u001b[0;34m\u001b[0m\u001b[0m\n\u001b[0;32m--> 262\u001b[0;31m             return [func(*args, **kwargs)\n\u001b[0m\u001b[1;32m    263\u001b[0m                     for func, args, kwargs in self.items]\n\u001b[1;32m    264\u001b[0m \u001b[0;34m\u001b[0m\u001b[0m\n",
      "\u001b[0;32m~/anaconda3/lib/python3.8/site-packages/sklearn/utils/fixes.py\u001b[0m in \u001b[0;36m__call__\u001b[0;34m(self, *args, **kwargs)\u001b[0m\n\u001b[1;32m    220\u001b[0m     \u001b[0;32mdef\u001b[0m \u001b[0m__call__\u001b[0m\u001b[0;34m(\u001b[0m\u001b[0mself\u001b[0m\u001b[0;34m,\u001b[0m \u001b[0;34m*\u001b[0m\u001b[0margs\u001b[0m\u001b[0;34m,\u001b[0m \u001b[0;34m**\u001b[0m\u001b[0mkwargs\u001b[0m\u001b[0;34m)\u001b[0m\u001b[0;34m:\u001b[0m\u001b[0;34m\u001b[0m\u001b[0;34m\u001b[0m\u001b[0m\n\u001b[1;32m    221\u001b[0m         \u001b[0;32mwith\u001b[0m \u001b[0mconfig_context\u001b[0m\u001b[0;34m(\u001b[0m\u001b[0;34m**\u001b[0m\u001b[0mself\u001b[0m\u001b[0;34m.\u001b[0m\u001b[0mconfig\u001b[0m\u001b[0;34m)\u001b[0m\u001b[0;34m:\u001b[0m\u001b[0;34m\u001b[0m\u001b[0;34m\u001b[0m\u001b[0m\n\u001b[0;32m--> 222\u001b[0;31m             \u001b[0;32mreturn\u001b[0m \u001b[0mself\u001b[0m\u001b[0;34m.\u001b[0m\u001b[0mfunction\u001b[0m\u001b[0;34m(\u001b[0m\u001b[0;34m*\u001b[0m\u001b[0margs\u001b[0m\u001b[0;34m,\u001b[0m \u001b[0;34m**\u001b[0m\u001b[0mkwargs\u001b[0m\u001b[0;34m)\u001b[0m\u001b[0;34m\u001b[0m\u001b[0;34m\u001b[0m\u001b[0m\n\u001b[0m",
      "\u001b[0;32m~/anaconda3/lib/python3.8/site-packages/sklearn/linear_model/_logistic.py\u001b[0m in \u001b[0;36m_logistic_regression_path\u001b[0;34m(X, y, pos_class, Cs, fit_intercept, max_iter, tol, verbose, solver, coef, class_weight, dual, penalty, intercept_scaling, multi_class, random_state, check_input, max_squared_sum, sample_weight, l1_ratio)\u001b[0m\n\u001b[1;32m    756\u001b[0m             iprint = [-1, 50, 1, 100, 101][\n\u001b[1;32m    757\u001b[0m                 np.searchsorted(np.array([0, 1, 2, 3]), verbose)]\n\u001b[0;32m--> 758\u001b[0;31m             opt_res = optimize.minimize(\n\u001b[0m\u001b[1;32m    759\u001b[0m                 \u001b[0mfunc\u001b[0m\u001b[0;34m,\u001b[0m \u001b[0mw0\u001b[0m\u001b[0;34m,\u001b[0m \u001b[0mmethod\u001b[0m\u001b[0;34m=\u001b[0m\u001b[0;34m\"L-BFGS-B\"\u001b[0m\u001b[0;34m,\u001b[0m \u001b[0mjac\u001b[0m\u001b[0;34m=\u001b[0m\u001b[0;32mTrue\u001b[0m\u001b[0;34m,\u001b[0m\u001b[0;34m\u001b[0m\u001b[0;34m\u001b[0m\u001b[0m\n\u001b[1;32m    760\u001b[0m                 \u001b[0margs\u001b[0m\u001b[0;34m=\u001b[0m\u001b[0;34m(\u001b[0m\u001b[0mX\u001b[0m\u001b[0;34m,\u001b[0m \u001b[0mtarget\u001b[0m\u001b[0;34m,\u001b[0m \u001b[0;36m1.\u001b[0m \u001b[0;34m/\u001b[0m \u001b[0mC\u001b[0m\u001b[0;34m,\u001b[0m \u001b[0msample_weight\u001b[0m\u001b[0;34m)\u001b[0m\u001b[0;34m,\u001b[0m\u001b[0;34m\u001b[0m\u001b[0;34m\u001b[0m\u001b[0m\n",
      "\u001b[0;32m~/anaconda3/lib/python3.8/site-packages/scipy/optimize/_minimize.py\u001b[0m in \u001b[0;36mminimize\u001b[0;34m(fun, x0, args, method, jac, hess, hessp, bounds, constraints, tol, callback, options)\u001b[0m\n\u001b[1;32m    617\u001b[0m                                   **options)\n\u001b[1;32m    618\u001b[0m     \u001b[0;32melif\u001b[0m \u001b[0mmeth\u001b[0m \u001b[0;34m==\u001b[0m \u001b[0;34m'l-bfgs-b'\u001b[0m\u001b[0;34m:\u001b[0m\u001b[0;34m\u001b[0m\u001b[0;34m\u001b[0m\u001b[0m\n\u001b[0;32m--> 619\u001b[0;31m         return _minimize_lbfgsb(fun, x0, args, jac, bounds,\n\u001b[0m\u001b[1;32m    620\u001b[0m                                 callback=callback, **options)\n\u001b[1;32m    621\u001b[0m     \u001b[0;32melif\u001b[0m \u001b[0mmeth\u001b[0m \u001b[0;34m==\u001b[0m \u001b[0;34m'tnc'\u001b[0m\u001b[0;34m:\u001b[0m\u001b[0;34m\u001b[0m\u001b[0;34m\u001b[0m\u001b[0m\n",
      "\u001b[0;32m~/anaconda3/lib/python3.8/site-packages/scipy/optimize/lbfgsb.py\u001b[0m in \u001b[0;36m_minimize_lbfgsb\u001b[0;34m(fun, x0, args, jac, bounds, disp, maxcor, ftol, gtol, eps, maxfun, maxiter, iprint, callback, maxls, finite_diff_rel_step, **unknown_options)\u001b[0m\n\u001b[1;32m    358\u001b[0m             \u001b[0;31m# until the completion of the current minimization iteration.\u001b[0m\u001b[0;34m\u001b[0m\u001b[0;34m\u001b[0m\u001b[0;34m\u001b[0m\u001b[0m\n\u001b[1;32m    359\u001b[0m             \u001b[0;31m# Overwrite f and g:\u001b[0m\u001b[0;34m\u001b[0m\u001b[0;34m\u001b[0m\u001b[0;34m\u001b[0m\u001b[0m\n\u001b[0;32m--> 360\u001b[0;31m             \u001b[0mf\u001b[0m\u001b[0;34m,\u001b[0m \u001b[0mg\u001b[0m \u001b[0;34m=\u001b[0m \u001b[0mfunc_and_grad\u001b[0m\u001b[0;34m(\u001b[0m\u001b[0mx\u001b[0m\u001b[0;34m)\u001b[0m\u001b[0;34m\u001b[0m\u001b[0;34m\u001b[0m\u001b[0m\n\u001b[0m\u001b[1;32m    361\u001b[0m         \u001b[0;32melif\u001b[0m \u001b[0mtask_str\u001b[0m\u001b[0;34m.\u001b[0m\u001b[0mstartswith\u001b[0m\u001b[0;34m(\u001b[0m\u001b[0;34mb'NEW_X'\u001b[0m\u001b[0;34m)\u001b[0m\u001b[0;34m:\u001b[0m\u001b[0;34m\u001b[0m\u001b[0;34m\u001b[0m\u001b[0m\n\u001b[1;32m    362\u001b[0m             \u001b[0;31m# new iteration\u001b[0m\u001b[0;34m\u001b[0m\u001b[0;34m\u001b[0m\u001b[0;34m\u001b[0m\u001b[0m\n",
      "\u001b[0;32m~/anaconda3/lib/python3.8/site-packages/scipy/optimize/_differentiable_functions.py\u001b[0m in \u001b[0;36mfun_and_grad\u001b[0;34m(self, x)\u001b[0m\n\u001b[1;32m    258\u001b[0m         \u001b[0;32mif\u001b[0m \u001b[0;32mnot\u001b[0m \u001b[0mnp\u001b[0m\u001b[0;34m.\u001b[0m\u001b[0marray_equal\u001b[0m\u001b[0;34m(\u001b[0m\u001b[0mx\u001b[0m\u001b[0;34m,\u001b[0m \u001b[0mself\u001b[0m\u001b[0;34m.\u001b[0m\u001b[0mx\u001b[0m\u001b[0;34m)\u001b[0m\u001b[0;34m:\u001b[0m\u001b[0;34m\u001b[0m\u001b[0;34m\u001b[0m\u001b[0m\n\u001b[1;32m    259\u001b[0m             \u001b[0mself\u001b[0m\u001b[0;34m.\u001b[0m\u001b[0m_update_x_impl\u001b[0m\u001b[0;34m(\u001b[0m\u001b[0mx\u001b[0m\u001b[0;34m)\u001b[0m\u001b[0;34m\u001b[0m\u001b[0;34m\u001b[0m\u001b[0m\n\u001b[0;32m--> 260\u001b[0;31m         \u001b[0mself\u001b[0m\u001b[0;34m.\u001b[0m\u001b[0m_update_fun\u001b[0m\u001b[0;34m(\u001b[0m\u001b[0;34m)\u001b[0m\u001b[0;34m\u001b[0m\u001b[0;34m\u001b[0m\u001b[0m\n\u001b[0m\u001b[1;32m    261\u001b[0m         \u001b[0mself\u001b[0m\u001b[0;34m.\u001b[0m\u001b[0m_update_grad\u001b[0m\u001b[0;34m(\u001b[0m\u001b[0;34m)\u001b[0m\u001b[0;34m\u001b[0m\u001b[0;34m\u001b[0m\u001b[0m\n\u001b[1;32m    262\u001b[0m         \u001b[0;32mreturn\u001b[0m \u001b[0mself\u001b[0m\u001b[0;34m.\u001b[0m\u001b[0mf\u001b[0m\u001b[0;34m,\u001b[0m \u001b[0mself\u001b[0m\u001b[0;34m.\u001b[0m\u001b[0mg\u001b[0m\u001b[0;34m\u001b[0m\u001b[0;34m\u001b[0m\u001b[0m\n",
      "\u001b[0;32m~/anaconda3/lib/python3.8/site-packages/scipy/optimize/_differentiable_functions.py\u001b[0m in \u001b[0;36m_update_fun\u001b[0;34m(self)\u001b[0m\n\u001b[1;32m    224\u001b[0m     \u001b[0;32mdef\u001b[0m \u001b[0m_update_fun\u001b[0m\u001b[0;34m(\u001b[0m\u001b[0mself\u001b[0m\u001b[0;34m)\u001b[0m\u001b[0;34m:\u001b[0m\u001b[0;34m\u001b[0m\u001b[0;34m\u001b[0m\u001b[0m\n\u001b[1;32m    225\u001b[0m         \u001b[0;32mif\u001b[0m \u001b[0;32mnot\u001b[0m \u001b[0mself\u001b[0m\u001b[0;34m.\u001b[0m\u001b[0mf_updated\u001b[0m\u001b[0;34m:\u001b[0m\u001b[0;34m\u001b[0m\u001b[0;34m\u001b[0m\u001b[0m\n\u001b[0;32m--> 226\u001b[0;31m             \u001b[0mself\u001b[0m\u001b[0;34m.\u001b[0m\u001b[0m_update_fun_impl\u001b[0m\u001b[0;34m(\u001b[0m\u001b[0;34m)\u001b[0m\u001b[0;34m\u001b[0m\u001b[0;34m\u001b[0m\u001b[0m\n\u001b[0m\u001b[1;32m    227\u001b[0m             \u001b[0mself\u001b[0m\u001b[0;34m.\u001b[0m\u001b[0mf_updated\u001b[0m \u001b[0;34m=\u001b[0m \u001b[0;32mTrue\u001b[0m\u001b[0;34m\u001b[0m\u001b[0;34m\u001b[0m\u001b[0m\n\u001b[1;32m    228\u001b[0m \u001b[0;34m\u001b[0m\u001b[0m\n",
      "\u001b[0;32m~/anaconda3/lib/python3.8/site-packages/scipy/optimize/_differentiable_functions.py\u001b[0m in \u001b[0;36mupdate_fun\u001b[0;34m()\u001b[0m\n\u001b[1;32m    131\u001b[0m \u001b[0;34m\u001b[0m\u001b[0m\n\u001b[1;32m    132\u001b[0m         \u001b[0;32mdef\u001b[0m \u001b[0mupdate_fun\u001b[0m\u001b[0;34m(\u001b[0m\u001b[0;34m)\u001b[0m\u001b[0;34m:\u001b[0m\u001b[0;34m\u001b[0m\u001b[0;34m\u001b[0m\u001b[0m\n\u001b[0;32m--> 133\u001b[0;31m             \u001b[0mself\u001b[0m\u001b[0;34m.\u001b[0m\u001b[0mf\u001b[0m \u001b[0;34m=\u001b[0m \u001b[0mfun_wrapped\u001b[0m\u001b[0;34m(\u001b[0m\u001b[0mself\u001b[0m\u001b[0;34m.\u001b[0m\u001b[0mx\u001b[0m\u001b[0;34m)\u001b[0m\u001b[0;34m\u001b[0m\u001b[0;34m\u001b[0m\u001b[0m\n\u001b[0m\u001b[1;32m    134\u001b[0m \u001b[0;34m\u001b[0m\u001b[0m\n\u001b[1;32m    135\u001b[0m         \u001b[0mself\u001b[0m\u001b[0;34m.\u001b[0m\u001b[0m_update_fun_impl\u001b[0m \u001b[0;34m=\u001b[0m \u001b[0mupdate_fun\u001b[0m\u001b[0;34m\u001b[0m\u001b[0;34m\u001b[0m\u001b[0m\n",
      "\u001b[0;32m~/anaconda3/lib/python3.8/site-packages/scipy/optimize/_differentiable_functions.py\u001b[0m in \u001b[0;36mfun_wrapped\u001b[0;34m(x)\u001b[0m\n\u001b[1;32m    128\u001b[0m         \u001b[0;32mdef\u001b[0m \u001b[0mfun_wrapped\u001b[0m\u001b[0;34m(\u001b[0m\u001b[0mx\u001b[0m\u001b[0;34m)\u001b[0m\u001b[0;34m:\u001b[0m\u001b[0;34m\u001b[0m\u001b[0;34m\u001b[0m\u001b[0m\n\u001b[1;32m    129\u001b[0m             \u001b[0mself\u001b[0m\u001b[0;34m.\u001b[0m\u001b[0mnfev\u001b[0m \u001b[0;34m+=\u001b[0m \u001b[0;36m1\u001b[0m\u001b[0;34m\u001b[0m\u001b[0;34m\u001b[0m\u001b[0m\n\u001b[0;32m--> 130\u001b[0;31m             \u001b[0;32mreturn\u001b[0m \u001b[0mfun\u001b[0m\u001b[0;34m(\u001b[0m\u001b[0mx\u001b[0m\u001b[0;34m,\u001b[0m \u001b[0;34m*\u001b[0m\u001b[0margs\u001b[0m\u001b[0;34m)\u001b[0m\u001b[0;34m\u001b[0m\u001b[0;34m\u001b[0m\u001b[0m\n\u001b[0m\u001b[1;32m    131\u001b[0m \u001b[0;34m\u001b[0m\u001b[0m\n\u001b[1;32m    132\u001b[0m         \u001b[0;32mdef\u001b[0m \u001b[0mupdate_fun\u001b[0m\u001b[0;34m(\u001b[0m\u001b[0;34m)\u001b[0m\u001b[0;34m:\u001b[0m\u001b[0;34m\u001b[0m\u001b[0;34m\u001b[0m\u001b[0m\n",
      "\u001b[0;32m~/anaconda3/lib/python3.8/site-packages/scipy/optimize/optimize.py\u001b[0m in \u001b[0;36m__call__\u001b[0;34m(self, x, *args)\u001b[0m\n\u001b[1;32m     72\u001b[0m     \u001b[0;32mdef\u001b[0m \u001b[0m__call__\u001b[0m\u001b[0;34m(\u001b[0m\u001b[0mself\u001b[0m\u001b[0;34m,\u001b[0m \u001b[0mx\u001b[0m\u001b[0;34m,\u001b[0m \u001b[0;34m*\u001b[0m\u001b[0margs\u001b[0m\u001b[0;34m)\u001b[0m\u001b[0;34m:\u001b[0m\u001b[0;34m\u001b[0m\u001b[0;34m\u001b[0m\u001b[0m\n\u001b[1;32m     73\u001b[0m         \u001b[0;34m\"\"\" returns the the function value \"\"\"\u001b[0m\u001b[0;34m\u001b[0m\u001b[0;34m\u001b[0m\u001b[0m\n\u001b[0;32m---> 74\u001b[0;31m         \u001b[0mself\u001b[0m\u001b[0;34m.\u001b[0m\u001b[0m_compute_if_needed\u001b[0m\u001b[0;34m(\u001b[0m\u001b[0mx\u001b[0m\u001b[0;34m,\u001b[0m \u001b[0;34m*\u001b[0m\u001b[0margs\u001b[0m\u001b[0;34m)\u001b[0m\u001b[0;34m\u001b[0m\u001b[0;34m\u001b[0m\u001b[0m\n\u001b[0m\u001b[1;32m     75\u001b[0m         \u001b[0;32mreturn\u001b[0m \u001b[0mself\u001b[0m\u001b[0;34m.\u001b[0m\u001b[0m_value\u001b[0m\u001b[0;34m\u001b[0m\u001b[0;34m\u001b[0m\u001b[0m\n\u001b[1;32m     76\u001b[0m \u001b[0;34m\u001b[0m\u001b[0m\n",
      "\u001b[0;32m~/anaconda3/lib/python3.8/site-packages/scipy/optimize/optimize.py\u001b[0m in \u001b[0;36m_compute_if_needed\u001b[0;34m(self, x, *args)\u001b[0m\n\u001b[1;32m     66\u001b[0m         \u001b[0;32mif\u001b[0m \u001b[0;32mnot\u001b[0m \u001b[0mnp\u001b[0m\u001b[0;34m.\u001b[0m\u001b[0mall\u001b[0m\u001b[0;34m(\u001b[0m\u001b[0mx\u001b[0m \u001b[0;34m==\u001b[0m \u001b[0mself\u001b[0m\u001b[0;34m.\u001b[0m\u001b[0mx\u001b[0m\u001b[0;34m)\u001b[0m \u001b[0;32mor\u001b[0m \u001b[0mself\u001b[0m\u001b[0;34m.\u001b[0m\u001b[0m_value\u001b[0m \u001b[0;32mis\u001b[0m \u001b[0;32mNone\u001b[0m \u001b[0;32mor\u001b[0m \u001b[0mself\u001b[0m\u001b[0;34m.\u001b[0m\u001b[0mjac\u001b[0m \u001b[0;32mis\u001b[0m \u001b[0;32mNone\u001b[0m\u001b[0;34m:\u001b[0m\u001b[0;34m\u001b[0m\u001b[0;34m\u001b[0m\u001b[0m\n\u001b[1;32m     67\u001b[0m             \u001b[0mself\u001b[0m\u001b[0;34m.\u001b[0m\u001b[0mx\u001b[0m \u001b[0;34m=\u001b[0m \u001b[0mnp\u001b[0m\u001b[0;34m.\u001b[0m\u001b[0masarray\u001b[0m\u001b[0;34m(\u001b[0m\u001b[0mx\u001b[0m\u001b[0;34m)\u001b[0m\u001b[0;34m.\u001b[0m\u001b[0mcopy\u001b[0m\u001b[0;34m(\u001b[0m\u001b[0;34m)\u001b[0m\u001b[0;34m\u001b[0m\u001b[0;34m\u001b[0m\u001b[0m\n\u001b[0;32m---> 68\u001b[0;31m             \u001b[0mfg\u001b[0m \u001b[0;34m=\u001b[0m \u001b[0mself\u001b[0m\u001b[0;34m.\u001b[0m\u001b[0mfun\u001b[0m\u001b[0;34m(\u001b[0m\u001b[0mx\u001b[0m\u001b[0;34m,\u001b[0m \u001b[0;34m*\u001b[0m\u001b[0margs\u001b[0m\u001b[0;34m)\u001b[0m\u001b[0;34m\u001b[0m\u001b[0;34m\u001b[0m\u001b[0m\n\u001b[0m\u001b[1;32m     69\u001b[0m             \u001b[0mself\u001b[0m\u001b[0;34m.\u001b[0m\u001b[0mjac\u001b[0m \u001b[0;34m=\u001b[0m \u001b[0mfg\u001b[0m\u001b[0;34m[\u001b[0m\u001b[0;36m1\u001b[0m\u001b[0;34m]\u001b[0m\u001b[0;34m\u001b[0m\u001b[0;34m\u001b[0m\u001b[0m\n\u001b[1;32m     70\u001b[0m             \u001b[0mself\u001b[0m\u001b[0;34m.\u001b[0m\u001b[0m_value\u001b[0m \u001b[0;34m=\u001b[0m \u001b[0mfg\u001b[0m\u001b[0;34m[\u001b[0m\u001b[0;36m0\u001b[0m\u001b[0;34m]\u001b[0m\u001b[0;34m\u001b[0m\u001b[0;34m\u001b[0m\u001b[0m\n",
      "\u001b[0;32m~/anaconda3/lib/python3.8/site-packages/sklearn/linear_model/_logistic.py\u001b[0m in \u001b[0;36mfunc\u001b[0;34m(x, *args)\u001b[0m\n\u001b[1;32m    734\u001b[0m         \u001b[0mtarget\u001b[0m \u001b[0;34m=\u001b[0m \u001b[0mY_multi\u001b[0m\u001b[0;34m\u001b[0m\u001b[0;34m\u001b[0m\u001b[0m\n\u001b[1;32m    735\u001b[0m         \u001b[0;32mif\u001b[0m \u001b[0msolver\u001b[0m \u001b[0;34m==\u001b[0m \u001b[0;34m'lbfgs'\u001b[0m\u001b[0;34m:\u001b[0m\u001b[0;34m\u001b[0m\u001b[0;34m\u001b[0m\u001b[0m\n\u001b[0;32m--> 736\u001b[0;31m             \u001b[0;32mdef\u001b[0m \u001b[0mfunc\u001b[0m\u001b[0;34m(\u001b[0m\u001b[0mx\u001b[0m\u001b[0;34m,\u001b[0m \u001b[0;34m*\u001b[0m\u001b[0margs\u001b[0m\u001b[0;34m)\u001b[0m\u001b[0;34m:\u001b[0m \u001b[0;32mreturn\u001b[0m \u001b[0m_multinomial_loss_grad\u001b[0m\u001b[0;34m(\u001b[0m\u001b[0mx\u001b[0m\u001b[0;34m,\u001b[0m \u001b[0;34m*\u001b[0m\u001b[0margs\u001b[0m\u001b[0;34m)\u001b[0m\u001b[0;34m[\u001b[0m\u001b[0;36m0\u001b[0m\u001b[0;34m:\u001b[0m\u001b[0;36m2\u001b[0m\u001b[0;34m]\u001b[0m\u001b[0;34m\u001b[0m\u001b[0;34m\u001b[0m\u001b[0m\n\u001b[0m\u001b[1;32m    737\u001b[0m         \u001b[0;32melif\u001b[0m \u001b[0msolver\u001b[0m \u001b[0;34m==\u001b[0m \u001b[0;34m'newton-cg'\u001b[0m\u001b[0;34m:\u001b[0m\u001b[0;34m\u001b[0m\u001b[0;34m\u001b[0m\u001b[0m\n\u001b[1;32m    738\u001b[0m             \u001b[0;32mdef\u001b[0m \u001b[0mfunc\u001b[0m\u001b[0;34m(\u001b[0m\u001b[0mx\u001b[0m\u001b[0;34m,\u001b[0m \u001b[0;34m*\u001b[0m\u001b[0margs\u001b[0m\u001b[0;34m)\u001b[0m\u001b[0;34m:\u001b[0m \u001b[0;32mreturn\u001b[0m \u001b[0m_multinomial_loss\u001b[0m\u001b[0;34m(\u001b[0m\u001b[0mx\u001b[0m\u001b[0;34m,\u001b[0m \u001b[0;34m*\u001b[0m\u001b[0margs\u001b[0m\u001b[0;34m)\u001b[0m\u001b[0;34m[\u001b[0m\u001b[0;36m0\u001b[0m\u001b[0;34m]\u001b[0m\u001b[0;34m\u001b[0m\u001b[0;34m\u001b[0m\u001b[0m\n",
      "\u001b[0;32m~/anaconda3/lib/python3.8/site-packages/sklearn/linear_model/_logistic.py\u001b[0m in \u001b[0;36m_multinomial_loss_grad\u001b[0;34m(w, X, Y, alpha, sample_weight)\u001b[0m\n\u001b[1;32m    349\u001b[0m     \u001b[0msample_weight\u001b[0m \u001b[0;34m=\u001b[0m \u001b[0msample_weight\u001b[0m\u001b[0;34m[\u001b[0m\u001b[0;34m:\u001b[0m\u001b[0;34m,\u001b[0m \u001b[0mnp\u001b[0m\u001b[0;34m.\u001b[0m\u001b[0mnewaxis\u001b[0m\u001b[0;34m]\u001b[0m\u001b[0;34m\u001b[0m\u001b[0;34m\u001b[0m\u001b[0m\n\u001b[1;32m    350\u001b[0m     \u001b[0mdiff\u001b[0m \u001b[0;34m=\u001b[0m \u001b[0msample_weight\u001b[0m \u001b[0;34m*\u001b[0m \u001b[0;34m(\u001b[0m\u001b[0mp\u001b[0m \u001b[0;34m-\u001b[0m \u001b[0mY\u001b[0m\u001b[0;34m)\u001b[0m\u001b[0;34m\u001b[0m\u001b[0;34m\u001b[0m\u001b[0m\n\u001b[0;32m--> 351\u001b[0;31m     \u001b[0mgrad\u001b[0m\u001b[0;34m[\u001b[0m\u001b[0;34m:\u001b[0m\u001b[0;34m,\u001b[0m \u001b[0;34m:\u001b[0m\u001b[0mn_features\u001b[0m\u001b[0;34m]\u001b[0m \u001b[0;34m=\u001b[0m \u001b[0msafe_sparse_dot\u001b[0m\u001b[0;34m(\u001b[0m\u001b[0mdiff\u001b[0m\u001b[0;34m.\u001b[0m\u001b[0mT\u001b[0m\u001b[0;34m,\u001b[0m \u001b[0mX\u001b[0m\u001b[0;34m)\u001b[0m\u001b[0;34m\u001b[0m\u001b[0;34m\u001b[0m\u001b[0m\n\u001b[0m\u001b[1;32m    352\u001b[0m     \u001b[0mgrad\u001b[0m\u001b[0;34m[\u001b[0m\u001b[0;34m:\u001b[0m\u001b[0;34m,\u001b[0m \u001b[0;34m:\u001b[0m\u001b[0mn_features\u001b[0m\u001b[0;34m]\u001b[0m \u001b[0;34m+=\u001b[0m \u001b[0malpha\u001b[0m \u001b[0;34m*\u001b[0m \u001b[0mw\u001b[0m\u001b[0;34m\u001b[0m\u001b[0;34m\u001b[0m\u001b[0m\n\u001b[1;32m    353\u001b[0m     \u001b[0;32mif\u001b[0m \u001b[0mfit_intercept\u001b[0m\u001b[0;34m:\u001b[0m\u001b[0;34m\u001b[0m\u001b[0;34m\u001b[0m\u001b[0m\n",
      "\u001b[0;32m~/anaconda3/lib/python3.8/site-packages/sklearn/utils/validation.py\u001b[0m in \u001b[0;36minner_f\u001b[0;34m(*args, **kwargs)\u001b[0m\n\u001b[1;32m     61\u001b[0m             \u001b[0mextra_args\u001b[0m \u001b[0;34m=\u001b[0m \u001b[0mlen\u001b[0m\u001b[0;34m(\u001b[0m\u001b[0margs\u001b[0m\u001b[0;34m)\u001b[0m \u001b[0;34m-\u001b[0m \u001b[0mlen\u001b[0m\u001b[0;34m(\u001b[0m\u001b[0mall_args\u001b[0m\u001b[0;34m)\u001b[0m\u001b[0;34m\u001b[0m\u001b[0;34m\u001b[0m\u001b[0m\n\u001b[1;32m     62\u001b[0m             \u001b[0;32mif\u001b[0m \u001b[0mextra_args\u001b[0m \u001b[0;34m<=\u001b[0m \u001b[0;36m0\u001b[0m\u001b[0;34m:\u001b[0m\u001b[0;34m\u001b[0m\u001b[0;34m\u001b[0m\u001b[0m\n\u001b[0;32m---> 63\u001b[0;31m                 \u001b[0;32mreturn\u001b[0m \u001b[0mf\u001b[0m\u001b[0;34m(\u001b[0m\u001b[0;34m*\u001b[0m\u001b[0margs\u001b[0m\u001b[0;34m,\u001b[0m \u001b[0;34m**\u001b[0m\u001b[0mkwargs\u001b[0m\u001b[0;34m)\u001b[0m\u001b[0;34m\u001b[0m\u001b[0;34m\u001b[0m\u001b[0m\n\u001b[0m\u001b[1;32m     64\u001b[0m \u001b[0;34m\u001b[0m\u001b[0m\n\u001b[1;32m     65\u001b[0m             \u001b[0;31m# extra_args > 0\u001b[0m\u001b[0;34m\u001b[0m\u001b[0;34m\u001b[0m\u001b[0;34m\u001b[0m\u001b[0m\n",
      "\u001b[0;32m~/anaconda3/lib/python3.8/site-packages/sklearn/utils/extmath.py\u001b[0m in \u001b[0;36msafe_sparse_dot\u001b[0;34m(a, b, dense_output)\u001b[0m\n\u001b[1;32m    150\u001b[0m             \u001b[0mret\u001b[0m \u001b[0;34m=\u001b[0m \u001b[0mnp\u001b[0m\u001b[0;34m.\u001b[0m\u001b[0mdot\u001b[0m\u001b[0;34m(\u001b[0m\u001b[0ma\u001b[0m\u001b[0;34m,\u001b[0m \u001b[0mb\u001b[0m\u001b[0;34m)\u001b[0m\u001b[0;34m\u001b[0m\u001b[0;34m\u001b[0m\u001b[0m\n\u001b[1;32m    151\u001b[0m     \u001b[0;32melse\u001b[0m\u001b[0;34m:\u001b[0m\u001b[0;34m\u001b[0m\u001b[0;34m\u001b[0m\u001b[0m\n\u001b[0;32m--> 152\u001b[0;31m         \u001b[0mret\u001b[0m \u001b[0;34m=\u001b[0m \u001b[0ma\u001b[0m \u001b[0;34m@\u001b[0m \u001b[0mb\u001b[0m\u001b[0;34m\u001b[0m\u001b[0;34m\u001b[0m\u001b[0m\n\u001b[0m\u001b[1;32m    153\u001b[0m \u001b[0;34m\u001b[0m\u001b[0m\n\u001b[1;32m    154\u001b[0m     if (sparse.issparse(a) and sparse.issparse(b)\n",
      "\u001b[0;31mKeyboardInterrupt\u001b[0m: "
     ]
    }
   ],
   "source": [
    "# New Y_train for 1*2 block averaged images\n",
    "Y_train_12, Y_test_12 = Y_train_newscale(Y_train, pixel_indices_12),  Y_train_newscale(Y_test, pixel_indices_12)\n",
    "\n",
    "[logreg_table_12, train_accuracy_12, test_accuracy_12] = train_logreg_scale(X_train, Y_train_12, X_test, Y_test_12,(1,2))"
   ]
  },
  {
   "cell_type": "code",
   "execution_count": null,
   "id": "8d5ad7e1",
   "metadata": {},
   "outputs": [],
   "source": [
    "print(np.average(train_accuracy_12), np.average(test_accuracy_12))\n",
    "len(Y_train_12[0])"
   ]
  },
  {
   "cell_type": "markdown",
   "id": "dd2e45cd",
   "metadata": {},
   "source": [
    "# Check results "
   ]
  },
  {
   "cell_type": "code",
   "execution_count": 144,
   "id": "a3593111",
   "metadata": {},
   "outputs": [],
   "source": [
    "def block_to_100px(y_block, pixel_indices_shape, normalize = True) :\n",
    "    \"\"\"\n",
    "    Make the y_block list of overlapping block averaged images with shape nxm \n",
    "    (2x2, 2x1 or 1x2) to a list of 100-pixels images. The contributions of overlapping\n",
    "    blocks are simply averaged for each pixel, with equal weights for each block.\n",
    "    \n",
    "    FINAL IMAGE HAS VALUES BETWEEN 0 (black) AND 1 (white) IF NORMALIZE = TRUE\n",
    "    \n",
    "    - y_block : list of block values for (predicted or not) images\n",
    "    - shape : shape of block (2*1 is (2,1) for instance)\n",
    "    - pixel_indices_shape : list of pixel indices contained in each block (e.g. the first\n",
    "      block of 2x2 block avgd image contains pixels of indices [0,1,10,11])\n",
    "    \"\"\"\n",
    "\n",
    "    # First, depending on the format, we make a list of the indices of the \n",
    "    # blocks we need to average toegether (since not all pixels have the same\n",
    "    # number of blocks contributing --- and also that their locations are not obvious)\n",
    "    # block_to_avg[i] : indices of blocks to avg together to make pixel i\n",
    "    \n",
    "    block_to_avg = []\n",
    "    for pixel in range(100) : \n",
    "        pixel_blocks = []\n",
    "        for i, block in enumerate(pixel_indices_shape) :\n",
    "            if pixel in block :\n",
    "                pixel_blocks.append(i)\n",
    "        block_to_avg.append(pixel_blocks)\n",
    "\n",
    "    # Now we make each image a 100-pixels image instead of a several overlapping blocks\n",
    "    # image\n",
    "    \n",
    "    if normalize == True :\n",
    "        y_100 = [[np.average([img[block] for block in block_to_avg[pixel]]) for pixel in range(100)] for img in y_block]\n",
    "        y_100 = [[x/max(img) if max(img) != 0 else 0 for x in img] for img in y_100]\n",
    "    else :\n",
    "        y_100 = [[np.average([img[block] for block in block_to_avg[pixel]]) for pixel in range(100)] for img in y_block]\n",
    "    \n",
    "    return np.array(y_100)\n",
    "\n",
    "def weighted_sum(weights, images, i) :\n",
    "    \"\"\"\n",
    "    Just a linear combination of values of different images given different weights\n",
    "    \"\"\"\n",
    "    # i : indice of pixel\n",
    "    [W11, W12, W21, W22] = weights\n",
    "    [im11, im12, im21, im22] = images\n",
    "    return W11[i] * im11[i] + W12[i] * im12[i] + W21[i] * im21[i] + W22[i] * im22[i]\n",
    "\n",
    "def avgd_imag(weights, images) :\n",
    "    \"\"\"\n",
    "    Averages 4 images given the weights for each pixel for each pixel of each kind of img\n",
    "    \"\"\"\n",
    "    return np.array([weighted_sum(W, imgs, px) for px in range(100)])\n",
    "\n",
    "def avg_all_images(weights, images) :\n",
    "    \"\"\"\n",
    "    Averages all images 4 by 4 with the corresponding weights\n",
    "    \"\"\"\n",
    "    [y11, y12, y21, y22] = images #predictions of images \n",
    "    #[w11, w12, w21, w22] = weights\n",
    "    groups = [[y11[i],y12[i],y21[i],y22[i]] for i in range(len(y11))] #groups of predicted images corresponding to the same fMRI\n",
    "    return np.array([avgd_imag(weights, groups[i]) for i in range(len(groups))])"
   ]
  },
  {
   "cell_type": "markdown",
   "id": "d39fdd71",
   "metadata": {},
   "source": [
    "# Make predictions on the geometrical shapes dataset to see how it looks"
   ]
  },
  {
   "cell_type": "code",
   "execution_count": null,
   "id": "4807198e",
   "metadata": {},
   "outputs": [],
   "source": [
    "def predict_from_fmri(logregtable, X) :\n",
    "    \"\"\"\n",
    "    Predicts images of different block averaging types (the 4 of them) given a X\n",
    "    \"\"\"\n",
    "    pred_list = []\n",
    "\n",
    "    for x in X :\n",
    "        x = np.reshape(x,(1,-1))\n",
    "        pred = []\n",
    "        for block in range(len(logregtable)) :\n",
    "            block_pred = logregtable[block].predict(x)\n",
    "            pred.append(block_pred)\n",
    "        pred_list.append(pred)\n",
    "    \n",
    "    flattened_list = [np.array(a).flatten for a in pred_list]\n",
    "    \n",
    "    return pred_list"
   ]
  },
  {
   "cell_type": "code",
   "execution_count": 263,
   "id": "4cf27649",
   "metadata": {},
   "outputs": [],
   "source": [
    "# Predictions from fmri_figures_data\n",
    "ypred_22 = predict_from_fmri(logreg_table_22, fmri_figures_data)\n",
    "ypred_12 = predict_from_fmri(logreg_table_12, fmri_figures_data)\n",
    "ypred_21 = predict_from_fmri(logreg_table_21, fmri_figures_data)\n",
    "ypred_11 = predict_from_fmri(logreg_table_11, fmri_figures_data)"
   ]
  },
  {
   "cell_type": "code",
   "execution_count": 265,
   "id": "123cd66b",
   "metadata": {
    "scrolled": true
   },
   "outputs": [],
   "source": [
    "ypred22 = block_to_100px(ypred_22, pixel_indices_22)\n",
    "ypred21 = block_to_100px(ypred_21, pixel_indices_21)\n",
    "ypred12 = block_to_100px(ypred_12, pixel_indices_12)\n",
    "ypred11 = ypred_11"
   ]
  },
  {
   "cell_type": "markdown",
   "id": "dde386f0",
   "metadata": {},
   "source": [
    "### Try to plot some"
   ]
  },
  {
   "cell_type": "code",
   "execution_count": 298,
   "id": "de490252",
   "metadata": {},
   "outputs": [
    {
     "data": {
      "text/plain": [
       "<matplotlib.image.AxesImage at 0x7f067255faf0>"
      ]
     },
     "execution_count": 298,
     "metadata": {},
     "output_type": "execute_result"
    },
    {
     "data": {
      "image/png": "[encoded data removed]",
      "text/plain": [
       "<Figure size 432x432 with 6 Axes>"
      ]
     },
     "metadata": {
      "needs_background": "light"
     },
     "output_type": "display_data"
    }
   ],
   "source": [
    "n = 25\n",
    "\n",
    "w11 = np.ones(100) * 0.25\n",
    "w22 = np.ones(100) * 0.25\n",
    "w21 = np.ones(100) * 0.25 \n",
    "w12 = np.ones(100) * 0.25\n",
    "\n",
    "W = [w11, w12, w21, w22]\n",
    "imgs = [ypred11[n], ypred12[n], ypred21[n], ypred22[n]]\n",
    "#print(imgs, np.shape(imgs))\n",
    "true = np.reshape(stimuli_figures[n],(10,10))\n",
    "\n",
    "averaged = []\n",
    "\n",
    "def weighted_sum(weights, images, i) :\n",
    "    # i : indice of pixel\n",
    "    [W11, W12, W21, W22] = weights\n",
    "    [im11, im12, im21, im22] = images\n",
    "    return W11[i] * im11[i] + W12[i] * im12[i] + W21[i] * im21[i] + W22[i] * im22[i]\n",
    "\n",
    "def avgd_imag(weights, images, binarized = False) :\n",
    "    if binarized == False :\n",
    "        return np.array([weighted_sum(weights, images, px) for px in range(100)])\n",
    "    else :\n",
    "        return np.array([np.round(weighted_sum(weights, images, px),0) for px in range(100)])\n",
    "\n",
    "averaged = avgd_imag(W, imgs)\n",
    "    \n",
    "fig = plt.figure(figsize=(6,6))\n",
    "sp1 = plt.subplot(331)\n",
    "sp2 = plt.subplot(332)\n",
    "sp3 = plt.subplot(333)\n",
    "sp4 = plt.subplot(334)\n",
    "sp5 = plt.subplot(335)\n",
    "sp6 = plt.subplot(336)\n",
    "sp1.imshow(np.reshape(ypred22[n],(10,10)),  cmap = plt.cm.gray, interpolation = 'nearest')\n",
    "sp2.imshow(np.reshape(ypred21[n],(10,10)),  cmap = plt.cm.gray, interpolation = 'nearest')\n",
    "sp3.imshow(np.reshape(ypred12[n],(10,10)),  cmap = plt.cm.gray, interpolation = 'nearest')\n",
    "sp4.imshow(np.reshape(ypred11[n],(10,10)),  cmap = plt.cm.gray, interpolation = 'nearest')\n",
    "sp5.imshow(np.reshape(averaged,(10,10)),  cmap = plt.cm.gray, interpolation = 'nearest')   \n",
    "sp6.imshow(np.reshape(stimuli_figures[n],(10,10)),  cmap = plt.cm.gray, interpolation = 'nearest')       "
   ]
  },
  {
   "cell_type": "code",
   "execution_count": 270,
   "id": "bd2f83bd",
   "metadata": {},
   "outputs": [
    {
     "data": {
      "text/plain": [
       "<matplotlib.image.AxesImage at 0x7f06732b84c0>"
      ]
     },
     "execution_count": 270,
     "metadata": {},
     "output_type": "execute_result"
    },
    {
     "data": {
      "image/png": "[encoded data removed]",
      "text/plain": [
       "<Figure size 432x288 with 1 Axes>"
      ]
     },
     "metadata": {
      "needs_background": "light"
     },
     "output_type": "display_data"
    }
   ],
   "source": [
    "binarized = avgd_imag(W, imgs, binarized = True)\n",
    "plt.imshow(np.reshape(binarized,(10,10)),  cmap = plt.cm.gray, interpolation = 'nearest')"
   ]
  },
  {
   "cell_type": "markdown",
   "id": "7e44fd80",
   "metadata": {},
   "source": [
    "# Now let's optimize the shit out of the weights"
   ]
  },
  {
   "cell_type": "markdown",
   "id": "629fef66",
   "metadata": {},
   "source": [
    "### First, we make the predictions on the validation set, made of random images (30%) (validation set = optimization of hyperparameters)\n",
    "We use the previously trained logregs for this.\n",
    "Next, we will use a linear regression that tries to find the best weights to assign to each type (2x2, 2x1, 1x2 and 1x1) of prediction to get a final summed image as close as possible from the original one."
   ]
  },
  {
   "cell_type": "code",
   "execution_count": 300,
   "id": "5898c822",
   "metadata": {},
   "outputs": [],
   "source": [
    "# valing set predictions of geometric shapes data set\n",
    "pred_val_22 = predict_from_fmri(logreg_table_22, X_val)\n",
    "pred_val_12 = predict_from_fmri(logreg_table_12, X_val)\n",
    "pred_val_21 = predict_from_fmri(logreg_table_21, X_val)\n",
    "pred_val_11 = predict_from_fmri(logreg_table_11, X_val)"
   ]
  },
  {
   "cell_type": "code",
   "execution_count": 302,
   "id": "cd2a35bf",
   "metadata": {},
   "outputs": [],
   "source": [
    "pred_train22 = block_to_100px(pred_train_22, pixel_indices_22)\n",
    "pred_train21 = block_to_100px(pred_train_21, pixel_indices_21)\n",
    "pred_train12 = block_to_100px(pred_train_12, pixel_indices_12)\n",
    "pred_train11 = pred_train_11"
   ]
  },
  {
   "cell_type": "markdown",
   "id": "bfd5ca8f",
   "metadata": {},
   "source": [
    "We plot those predictions, just to see what they look like. In principle, if the logregs are well trained, we should (even with the guessed weights we put there, not the optimized ones) find something coherent, since the test accuracy was not bad previously."
   ]
  },
  {
   "cell_type": "code",
   "execution_count": 381,
   "id": "42d0156f",
   "metadata": {},
   "outputs": [
    {
     "data": {
      "text/plain": [
       "<matplotlib.image.AxesImage at 0x7f066f8ae790>"
      ]
     },
     "execution_count": 381,
     "metadata": {},
     "output_type": "execute_result"
    },
    {
     "data": {
      "image/png": "[encoded data removed]",
      "text/plain": [
       "<Figure size 432x432 with 6 Axes>"
      ]
     },
     "metadata": {
      "needs_background": "light"
     },
     "output_type": "display_data"
    },
    {
     "data": {
      "image/png": "[encoded data removed]",
      "text/plain": [
       "<Figure size 432x432 with 1 Axes>"
      ]
     },
     "metadata": {
      "needs_background": "light"
     },
     "output_type": "display_data"
    }
   ],
   "source": [
    "n = 14\n",
    "\n",
    "im = [pred_val11[n], pred_val12[n], pred_val21[n], pred_val22[n]]\n",
    "\n",
    "av = avgd_imag(W, im)#avgd_imag(np.transpose(coeffs), im)\n",
    "binar = avgd_imag(W, im, binarized = True)\n",
    "\n",
    "fig = plt.figure(figsize=(6,6))\n",
    "sp1 = plt.subplot(331)\n",
    "sp2 = plt.subplot(332)\n",
    "sp3 = plt.subplot(333)\n",
    "sp4 = plt.subplot(334)\n",
    "sp5 = plt.subplot(335)\n",
    "sp6 = plt.subplot(336)\n",
    "\n",
    "sp1.imshow(np.reshape(pred_val22[n],(10,10)),  cmap = plt.cm.gray, interpolation = 'nearest')\n",
    "sp2.imshow(np.reshape(pred_val21[n],(10,10)),  cmap = plt.cm.gray, interpolation = 'nearest')\n",
    "sp3.imshow(np.reshape(pred_val12[n],(10,10)),  cmap = plt.cm.gray, interpolation = 'nearest')\n",
    "sp4.imshow(np.reshape(pred_val11[n],(10,10)),  cmap = plt.cm.gray, interpolation = 'nearest')\n",
    "sp5.imshow(np.reshape(av,(10,10)),  cmap = plt.cm.gray, interpolation = 'nearest')   \n",
    "sp6.imshow(np.reshape(Y_val[n],(10,10)),  cmap = plt.cm.gray, interpolation = 'nearest')     \n",
    "\n",
    "fig2 = plt.figure(figsize=(6,6))\n",
    "sp = plt.subplot(111)\n",
    "sp.imshow(np.reshape(binar,(10,10)),  cmap = plt.cm.gray, interpolation = 'nearest')"
   ]
  },
  {
   "cell_type": "markdown",
   "id": "73e3ed66",
   "metadata": {},
   "source": [
    "We indeed have something coherent. Now, we want to optimize the weights.\n",
    "\n",
    "For this, we train a linear regression that will try and sum the contributions of all 4 predictions (2x2, 1x2, 2x1 and 1x1 block averaged preds) for each fMRI with weights that will be pixel-dependant. The linear regression will optimize the weights such that the weighted sum of the block averaged predictions give a final image as close as possible to the final one. *In that case, we do not consider the binarized image. Maybe we should.*"
   ]
  },
  {
   "cell_type": "code",
   "execution_count": 368,
   "id": "533048ff",
   "metadata": {},
   "outputs": [],
   "source": [
    "# So we do the linear regression trying to have a sum of predicted images\n",
    "# of the validation set as close as possible to the true value\n",
    "\n",
    "preds = np.array([pred_val22, pred_val21, pred_val12, pred_val11])\n",
    "\n",
    "linreg = []\n",
    "coeffs = []\n",
    "\n",
    "for pixel in range(100) :\n",
    "    px_pred = [[img[pixel] for img in y] for y in preds]\n",
    "    px_pred = np.transpose(px_pred)\n",
    "    px_yval = [img[pixel] for img in Y_valg]\n",
    "    \n",
    "    model = LinearRegression().fit(px_pred, px_yval)\n",
    "    linreg.append(model)\n",
    "    coeffs.append(model.coef_)    "
   ]
  },
  {
   "cell_type": "markdown",
   "id": "4d60827e",
   "metadata": {},
   "source": [
    "# Now check on the TEST set made of geometrical shapes"
   ]
  },
  {
   "cell_type": "code",
   "execution_count": 305,
   "id": "ee9cdf84",
   "metadata": {},
   "outputs": [],
   "source": [
    "pred_test_22 = predict_from_fmri(logreg_table_22, X_test)\n",
    "pred_test_12 = predict_from_fmri(logreg_table_12, X_test)\n",
    "pred_test_21 = predict_from_fmri(logreg_table_21, X_test)\n",
    "pred_test_11 = predict_from_fmri(logreg_table_11, X_test)"
   ]
  },
  {
   "cell_type": "code",
   "execution_count": 307,
   "id": "883f21e5",
   "metadata": {},
   "outputs": [],
   "source": [
    "pred_test22 = block_to_100px(pred_test_22, pixel_indices_22)\n",
    "pred_test21 = block_to_100px(pred_test_21, pixel_indices_21)\n",
    "pred_test12 = block_to_100px(pred_test_12, pixel_indices_12)\n",
    "pred_test11 = pred_test_11"
   ]
  },
  {
   "cell_type": "code",
   "execution_count": 308,
   "id": "14086ee2",
   "metadata": {},
   "outputs": [
    {
     "data": {
      "text/plain": [
       "(100, 4)"
      ]
     },
     "execution_count": 308,
     "metadata": {},
     "output_type": "execute_result"
    }
   ],
   "source": [
    "np.shape(coeffs)"
   ]
  },
  {
   "cell_type": "markdown",
   "id": "f7eb3e89",
   "metadata": {},
   "source": [
    "Now, we plot the results on the test set, using the optimized weights, and see if that looks good "
   ]
  },
  {
   "cell_type": "code",
   "execution_count": 389,
   "id": "67f07ec8",
   "metadata": {},
   "outputs": [
    {
     "data": {
      "text/plain": [
       "<matplotlib.image.AxesImage at 0x7f066f9fa940>"
      ]
     },
     "execution_count": 389,
     "metadata": {},
     "output_type": "execute_result"
    },
    {
     "data": {
      "image/png": "[encoded data removed]",
      "text/plain": [
       "<Figure size 432x432 with 6 Axes>"
      ]
     },
     "metadata": {
      "needs_background": "light"
     },
     "output_type": "display_data"
    },
    {
     "data": {
      "image/png": "[encoded data removed]",
      "text/plain": [
       "<Figure size 432x432 with 1 Axes>"
      ]
     },
     "metadata": {
      "needs_background": "light"
     },
     "output_type": "display_data"
    }
   ],
   "source": [
    "n = 49\n",
    "\n",
    "im = [pred_test11[n], pred_test12[n], pred_test21[n], pred_test22[n]]\n",
    "\n",
    "av = avgd_imag(np.transpose(coeffs), im)\n",
    "binar = avgd_imag(np.transpose(coeffs), im, binarized = True)\n",
    "\n",
    "fig = plt.figure(figsize=(6,6))\n",
    "sp1 = plt.subplot(331)\n",
    "sp2 = plt.subplot(332)\n",
    "sp3 = plt.subplot(333)\n",
    "sp4 = plt.subplot(334)\n",
    "sp5 = plt.subplot(335)\n",
    "sp6 = plt.subplot(336)\n",
    "\n",
    "sp1.imshow(np.reshape(pred_test22[n],(10,10)),  cmap = plt.cm.gray, interpolation = 'nearest')\n",
    "sp2.imshow(np.reshape(pred_test21[n],(10,10)),  cmap = plt.cm.gray, interpolation = 'nearest')\n",
    "sp3.imshow(np.reshape(pred_test12[n],(10,10)),  cmap = plt.cm.gray, interpolation = 'nearest')\n",
    "sp4.imshow(np.reshape(pred_test11[n],(10,10)),  cmap = plt.cm.gray, interpolation = 'nearest')\n",
    "sp5.imshow(np.reshape(av,(10,10)),  cmap = plt.cm.gray, interpolation = 'nearest')   \n",
    "sp6.imshow(np.reshape(Y_test[n],(10,10)),  cmap = plt.cm.gray, interpolation = 'nearest')     \n",
    "\n",
    "fig2 = plt.figure(figsize=(6,6))\n",
    "sp = plt.subplot(111)\n",
    "sp.imshow(np.reshape(binar,(10,10)),  cmap = plt.cm.gray, interpolation = 'nearest')"
   ]
  },
  {
   "cell_type": "markdown",
   "id": "999b26c8",
   "metadata": {},
   "source": [
    "# Let's look at accuracy and all the shit (because we kind of have to)"
   ]
  },
  {
   "cell_type": "markdown",
   "id": "3a9eb4c6",
   "metadata": {},
   "source": [
    " Statistics on the logistic regressions,\n",
    " statistics on the weights"
   ]
  },
  {
   "cell_type": "code",
   "execution_count": 358,
   "id": "6f12740c",
   "metadata": {},
   "outputs": [
    {
     "data": {
      "text/plain": [
       "(-0.20080641370610586, 0.7077821691138432)"
      ]
     },
     "execution_count": 358,
     "metadata": {},
     "output_type": "execute_result"
    }
   ],
   "source": [
    "# \"images\" whose pixels have value the weight assigned \n",
    "weight11, weight22, weight21, weight12 = [], [], [], []\n",
    "\n",
    "for [w11, w12, w21, w22] in coeffs :\n",
    "    weight11.append(w11)\n",
    "    weight22.append(w22)\n",
    "    weight12.append(w12)\n",
    "    weight21.append(w21)\n",
    "    \n",
    "wmax = max([x[j] for x in coeffs for j in range(4)])\n",
    "wmin = min([x[j] for x in coeffs for j in range(4)])\n",
    "wmin, wmax"
   ]
  },
  {
   "cell_type": "code",
   "execution_count": 369,
   "id": "2f4a6e4b",
   "metadata": {},
   "outputs": [
    {
     "data": {
      "text/plain": [
       "<matplotlib.image.AxesImage at 0x7f06709a3490>"
      ]
     },
     "execution_count": 369,
     "metadata": {},
     "output_type": "execute_result"
    },
    {
     "data": {
      "image/png": "[encoded data removed]",
      "text/plain": [
       "<Figure size 432x432 with 4 Axes>"
      ]
     },
     "metadata": {
      "needs_background": "light"
     },
     "output_type": "display_data"
    }
   ],
   "source": [
    "fig = plt.figure(figsize=(6,6))\n",
    "sp1 = plt.subplot(221)\n",
    "sp2 = plt.subplot(222)\n",
    "sp3 = plt.subplot(223)\n",
    "sp4 = plt.subplot(224)\n",
    "\n",
    "sp1.imshow(np.reshape(weight11,(10,10)),  cmap = plt.cm.gray, interpolation = 'nearest', label=\"truc\", vmin = wmin, vmax = wmax)\n",
    "sp2.imshow(np.reshape(weight12,(10,10)),  cmap = plt.cm.gray, interpolation = 'nearest', vmin = wmin, vmax = wmax)\n",
    "sp3.imshow(np.reshape(weight21,(10,10)),  cmap = plt.cm.gray, interpolation = 'nearest',vmin = wmin, vmax = wmax)\n",
    "sp4.imshow(np.reshape(weight22,(10,10)),  cmap = plt.cm.gray, interpolation = 'nearest', vmin = wmin, vmax = wmax)"
   ]
  },
  {
   "cell_type": "markdown",
   "id": "4be36e72",
   "metadata": {},
   "source": [
    "These are the weights for each pixel and for each kind of block averaging"
   ]
  },
  {
   "cell_type": "code",
   "execution_count": null,
   "id": "75086b94",
   "metadata": {},
   "outputs": [],
   "source": []
  }
 ],
 "metadata": {
  "kernelspec": {
   "display_name": "Python 3",
   "language": "python",
   "name": "python3"
  },
  "language_info": {
   "codemirror_mode": {
    "name": "ipython",
    "version": 3
   },
   "file_extension": ".py",
   "mimetype": "text/x-python",
   "name": "python",
   "nbconvert_exporter": "python",
   "pygments_lexer": "ipython3",
   "version": "3.8.8"
  }
 },
 "nbformat": 4,
 "nbformat_minor": 5
}
