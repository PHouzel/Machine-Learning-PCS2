{
 "cells": [
  {
   "cell_type": "code",
   "execution_count": 1,
   "id": "25561ce0",
   "metadata": {},
   "outputs": [],
   "source": [
    "import sys\n",
    "import numpy as np\n",
    "from tqdm import tqdm\n",
    "#!{sys.executable} -m pip install nilearn #install relevant package\n",
    "from preprocessing import load_and_mask_miyawaki_data, plt_background"
   ]
  },
  {
   "cell_type": "code",
   "execution_count": 2,
   "id": "c80f3a2e",
   "metadata": {},
   "outputs": [
    {
     "data": {
      "image/png": "[encoded data removed]",
      "text/plain": [
       "<Figure size 432x288 with 1 Axes>"
      ]
     },
     "metadata": {
      "needs_background": "light"
     },
     "output_type": "display_data"
    }
   ],
   "source": [
    "#Plot the pretty brain we are working on\n",
    "plt_background()"
   ]
  },
  {
   "cell_type": "code",
   "execution_count": 4,
   "id": "56b7c073",
   "metadata": {},
   "outputs": [
    {
     "name": "stderr",
     "output_type": "stream",
     "text": [
      "Preprocessing data..."
     ]
    },
    {
     "name": "stdout",
     "output_type": "stream",
     "text": [
      "Preprocessed fMRI data: 2860 samples x 5438 voxels\n",
      "Preprocessed stimuli data: 2860 samples x 100 pixels\n",
      "1536 geometrical figures\n"
     ]
    },
    {
     "name": "stderr",
     "output_type": "stream",
     "text": [
      " Done (20.43s).\n"
     ]
    }
   ],
   "source": [
    "fmri_data, stimuli, fmri_figures_data, stimuli_figures, masker = load_and_mask_miyawaki_data()"
   ]
  },
  {
   "cell_type": "markdown",
   "id": "c5371c29",
   "metadata": {},
   "source": [
    "## First step: Decoding\n"
   ]
  },
  {
   "cell_type": "markdown",
   "id": "9723d957",
   "metadata": {},
   "source": [
    "Let's infer the binary visual stimulus presented to the subject from the recorded fMRI data.\n",
    "\n",
    "Simple classification: X = fMRI data, y = binary stimuli\n",
    "\n",
    "As done in Abraham et al., we first use a l1 logistic regression\n",
    "\n",
    "Issue: the article is from 2014, so some of the code is deprecated: need to correct it"
   ]
  },
  {
   "cell_type": "code",
   "execution_count": 4,
   "id": "48414dfb",
   "metadata": {},
   "outputs": [
    {
     "data": {
      "text/plain": [
       "\"from sklearn.linear_model import LogisticRegression as LR\\nfrom sklearn.model_selection import cross_val_score\\nfrom sklearn.pipeline import Pipeline\\nfrom sklearn.feature_selection import SelectKBest, f_classif\\n\\npipeline_LR = Pipeline(steps=[('selection', SelectKBest(f_classif, k=500)),('clf', LR(penalty='l1', C=0.05))])\\n\\nscores_lr = []\\n# y_train = n_samples x n_voxels\\n# To iterate on voxels, we transpose it. \\nfor pixel in tqdm(y_train.T):\\n    score = cross_val_score(pipeline_LR, X_train, pixel, cv=5)\\n    scores_lr.append(score)\""
      ]
     },
     "execution_count": 4,
     "metadata": {},
     "output_type": "execute_result"
    }
   ],
   "source": [
    "\"\"\"from sklearn.linear_model import LogisticRegression as LR\n",
    "from sklearn.model_selection import cross_val_score\n",
    "from sklearn.pipeline import Pipeline\n",
    "from sklearn.feature_selection import SelectKBest, f_classif\n",
    "\n",
    "pipeline_LR = Pipeline(steps=[('selection', SelectKBest(f_classif, k=500)),('clf', LR(penalty='l1', C=0.05))])\n",
    "\n",
    "scores_lr = []\n",
    "# y_train = n_samples x n_voxels\n",
    "# To iterate on voxels, we transpose it. \n",
    "for pixel in tqdm(y_train.T):\n",
    "    score = cross_val_score(pipeline_LR, X_train, pixel, cv=5)\n",
    "    scores_lr.append(score)\"\"\""
   ]
  },
  {
   "cell_type": "code",
   "execution_count": 4,
   "id": "689181bb",
   "metadata": {},
   "outputs": [],
   "source": [
    "from sklearn.model_selection import train_test_split\n",
    "\n",
    "train_to_test_ratio = 0.8\n",
    "X_train, X_test, Y_train, Y_test =train_test_split(fmri_data, stimuli, \n",
    "                                        train_size=train_to_test_ratio, \n",
    "                                        test_size=1.0-train_to_test_ratio)"
   ]
  },
  {
   "cell_type": "code",
   "execution_count": 19,
   "id": "918ac51c",
   "metadata": {},
   "outputs": [
    {
     "name": "stderr",
     "output_type": "stream",
     "text": [
      "1it [00:07,  7.38s/it]"
     ]
    },
    {
     "name": "stdout",
     "output_type": "stream",
     "text": [
      "accuracy: train, test\n",
      "liblin: 1.0000, 0.7902\n"
     ]
    },
    {
     "name": "stderr",
     "output_type": "stream",
     "text": [
      "\r",
      "2it [00:14,  7.07s/it]"
     ]
    },
    {
     "name": "stdout",
     "output_type": "stream",
     "text": [
      "accuracy: train, test\n",
      "liblin: 1.0000, 0.8269\n"
     ]
    },
    {
     "name": "stderr",
     "output_type": "stream",
     "text": [
      "\r",
      "3it [00:23,  8.21s/it]"
     ]
    },
    {
     "name": "stdout",
     "output_type": "stream",
     "text": [
      "accuracy: train, test\n",
      "liblin: 1.0000, 0.8252\n"
     ]
    },
    {
     "name": "stderr",
     "output_type": "stream",
     "text": [
      "\r",
      "4it [00:30,  7.72s/it]"
     ]
    },
    {
     "name": "stdout",
     "output_type": "stream",
     "text": [
      "accuracy: train, test\n",
      "liblin: 1.0000, 0.7885\n"
     ]
    },
    {
     "name": "stderr",
     "output_type": "stream",
     "text": [
      "\r",
      "5it [00:37,  7.30s/it]"
     ]
    },
    {
     "name": "stdout",
     "output_type": "stream",
     "text": [
      "accuracy: train, test\n",
      "liblin: 1.0000, 0.8112\n"
     ]
    },
    {
     "name": "stderr",
     "output_type": "stream",
     "text": [
      "\r",
      "6it [00:44,  7.29s/it]"
     ]
    },
    {
     "name": "stdout",
     "output_type": "stream",
     "text": [
      "accuracy: train, test\n",
      "liblin: 1.0000, 0.8024\n"
     ]
    },
    {
     "name": "stderr",
     "output_type": "stream",
     "text": [
      "\r",
      "7it [00:51,  7.25s/it]"
     ]
    },
    {
     "name": "stdout",
     "output_type": "stream",
     "text": [
      "accuracy: train, test\n",
      "liblin: 1.0000, 0.7797\n"
     ]
    },
    {
     "name": "stderr",
     "output_type": "stream",
     "text": [
      "\r",
      "8it [00:58,  7.08s/it]"
     ]
    },
    {
     "name": "stdout",
     "output_type": "stream",
     "text": [
      "accuracy: train, test\n",
      "liblin: 1.0000, 0.8094\n"
     ]
    },
    {
     "name": "stderr",
     "output_type": "stream",
     "text": [
      "\r",
      "9it [01:06,  7.46s/it]"
     ]
    },
    {
     "name": "stdout",
     "output_type": "stream",
     "text": [
      "accuracy: train, test\n",
      "liblin: 1.0000, 0.8252\n"
     ]
    },
    {
     "name": "stderr",
     "output_type": "stream",
     "text": [
      "\r",
      "10it [01:16,  8.19s/it]"
     ]
    },
    {
     "name": "stdout",
     "output_type": "stream",
     "text": [
      "accuracy: train, test\n",
      "liblin: 1.0000, 0.8059\n"
     ]
    },
    {
     "name": "stderr",
     "output_type": "stream",
     "text": [
      "\r",
      "11it [01:25,  8.34s/it]"
     ]
    },
    {
     "name": "stdout",
     "output_type": "stream",
     "text": [
      "accuracy: train, test\n",
      "liblin: 1.0000, 0.7937\n"
     ]
    },
    {
     "name": "stderr",
     "output_type": "stream",
     "text": [
      "\r",
      "12it [01:33,  8.22s/it]"
     ]
    },
    {
     "name": "stdout",
     "output_type": "stream",
     "text": [
      "accuracy: train, test\n",
      "liblin: 1.0000, 0.8269\n"
     ]
    },
    {
     "name": "stderr",
     "output_type": "stream",
     "text": [
      "\r",
      "13it [01:41,  8.19s/it]"
     ]
    },
    {
     "name": "stdout",
     "output_type": "stream",
     "text": [
      "accuracy: train, test\n",
      "liblin: 1.0000, 0.8357\n"
     ]
    },
    {
     "name": "stderr",
     "output_type": "stream",
     "text": [
      "\r",
      "14it [01:48,  7.99s/it]"
     ]
    },
    {
     "name": "stdout",
     "output_type": "stream",
     "text": [
      "accuracy: train, test\n",
      "liblin: 1.0000, 0.8269\n"
     ]
    },
    {
     "name": "stderr",
     "output_type": "stream",
     "text": [
      "\r",
      "15it [02:00,  9.18s/it]"
     ]
    },
    {
     "name": "stdout",
     "output_type": "stream",
     "text": [
      "accuracy: train, test\n",
      "liblin: 1.0000, 0.8147\n"
     ]
    },
    {
     "name": "stderr",
     "output_type": "stream",
     "text": [
      "\r",
      "16it [02:08,  8.60s/it]"
     ]
    },
    {
     "name": "stdout",
     "output_type": "stream",
     "text": [
      "accuracy: train, test\n",
      "liblin: 1.0000, 0.8444\n"
     ]
    },
    {
     "name": "stderr",
     "output_type": "stream",
     "text": [
      "\r",
      "17it [02:14,  8.03s/it]"
     ]
    },
    {
     "name": "stdout",
     "output_type": "stream",
     "text": [
      "accuracy: train, test\n",
      "liblin: 1.0000, 0.8584\n"
     ]
    },
    {
     "name": "stderr",
     "output_type": "stream",
     "text": [
      "\r",
      "18it [02:22,  7.83s/it]"
     ]
    },
    {
     "name": "stdout",
     "output_type": "stream",
     "text": [
      "accuracy: train, test\n",
      "liblin: 1.0000, 0.8374\n"
     ]
    },
    {
     "name": "stderr",
     "output_type": "stream",
     "text": [
      "\r",
      "19it [02:38, 10.35s/it]"
     ]
    },
    {
     "name": "stdout",
     "output_type": "stream",
     "text": [
      "accuracy: train, test\n",
      "liblin: 1.0000, 0.7955\n"
     ]
    },
    {
     "name": "stderr",
     "output_type": "stream",
     "text": [
      "\r",
      "20it [02:45,  9.37s/it]"
     ]
    },
    {
     "name": "stdout",
     "output_type": "stream",
     "text": [
      "accuracy: train, test\n",
      "liblin: 1.0000, 0.8112\n"
     ]
    },
    {
     "name": "stderr",
     "output_type": "stream",
     "text": [
      "\r",
      "21it [02:50,  8.01s/it]"
     ]
    },
    {
     "name": "stdout",
     "output_type": "stream",
     "text": [
      "accuracy: train, test\n",
      "liblin: 1.0000, 0.7990\n"
     ]
    },
    {
     "name": "stderr",
     "output_type": "stream",
     "text": [
      "\r",
      "22it [02:58,  8.08s/it]"
     ]
    },
    {
     "name": "stdout",
     "output_type": "stream",
     "text": [
      "accuracy: train, test\n",
      "liblin: 1.0000, 0.8654\n"
     ]
    },
    {
     "name": "stderr",
     "output_type": "stream",
     "text": [
      "\r",
      "23it [03:06,  8.00s/it]"
     ]
    },
    {
     "name": "stdout",
     "output_type": "stream",
     "text": [
      "accuracy: train, test\n",
      "liblin: 1.0000, 0.8514\n"
     ]
    },
    {
     "name": "stderr",
     "output_type": "stream",
     "text": [
      "\r",
      "24it [03:14,  8.16s/it]"
     ]
    },
    {
     "name": "stdout",
     "output_type": "stream",
     "text": [
      "accuracy: train, test\n",
      "liblin: 1.0000, 0.8689\n"
     ]
    },
    {
     "name": "stderr",
     "output_type": "stream",
     "text": [
      "\r",
      "25it [03:21,  7.77s/it]"
     ]
    },
    {
     "name": "stdout",
     "output_type": "stream",
     "text": [
      "accuracy: train, test\n",
      "liblin: 1.0000, 0.8794\n"
     ]
    },
    {
     "name": "stderr",
     "output_type": "stream",
     "text": [
      "\r",
      "26it [03:31,  8.36s/it]"
     ]
    },
    {
     "name": "stdout",
     "output_type": "stream",
     "text": [
      "accuracy: train, test\n",
      "liblin: 1.0000, 0.8531\n"
     ]
    },
    {
     "name": "stderr",
     "output_type": "stream",
     "text": [
      "\r",
      "27it [03:37,  7.72s/it]"
     ]
    },
    {
     "name": "stdout",
     "output_type": "stream",
     "text": [
      "accuracy: train, test\n",
      "liblin: 1.0000, 0.8566\n"
     ]
    },
    {
     "name": "stderr",
     "output_type": "stream",
     "text": [
      "\r",
      "28it [04:02, 12.82s/it]"
     ]
    },
    {
     "name": "stdout",
     "output_type": "stream",
     "text": [
      "accuracy: train, test\n",
      "liblin: 1.0000, 0.8479\n"
     ]
    },
    {
     "name": "stderr",
     "output_type": "stream",
     "text": [
      "\r",
      "29it [04:11, 11.56s/it]"
     ]
    },
    {
     "name": "stdout",
     "output_type": "stream",
     "text": [
      "accuracy: train, test\n",
      "liblin: 1.0000, 0.8199\n"
     ]
    },
    {
     "name": "stderr",
     "output_type": "stream",
     "text": [
      "\r",
      "30it [04:20, 10.94s/it]"
     ]
    },
    {
     "name": "stdout",
     "output_type": "stream",
     "text": [
      "accuracy: train, test\n",
      "liblin: 1.0000, 0.8339\n"
     ]
    },
    {
     "name": "stderr",
     "output_type": "stream",
     "text": [
      "\r",
      "31it [04:30, 10.70s/it]"
     ]
    },
    {
     "name": "stdout",
     "output_type": "stream",
     "text": [
      "accuracy: train, test\n",
      "liblin: 1.0000, 0.8217\n"
     ]
    },
    {
     "name": "stderr",
     "output_type": "stream",
     "text": [
      "\r",
      "32it [04:39, 10.01s/it]"
     ]
    },
    {
     "name": "stdout",
     "output_type": "stream",
     "text": [
      "accuracy: train, test\n",
      "liblin: 1.0000, 0.8392\n"
     ]
    },
    {
     "name": "stderr",
     "output_type": "stream",
     "text": [
      "\r",
      "33it [04:57, 12.40s/it]"
     ]
    },
    {
     "name": "stdout",
     "output_type": "stream",
     "text": [
      "accuracy: train, test\n",
      "liblin: 1.0000, 0.8724\n"
     ]
    },
    {
     "name": "stderr",
     "output_type": "stream",
     "text": [
      "\r",
      "34it [05:00,  9.83s/it]"
     ]
    },
    {
     "name": "stdout",
     "output_type": "stream",
     "text": [
      "accuracy: train, test\n",
      "liblin: 1.0000, 0.9056\n"
     ]
    },
    {
     "name": "stderr",
     "output_type": "stream",
     "text": [
      "\r",
      "35it [05:16, 11.69s/it]"
     ]
    },
    {
     "name": "stdout",
     "output_type": "stream",
     "text": [
      "accuracy: train, test\n",
      "liblin: 1.0000, 0.9213\n"
     ]
    },
    {
     "name": "stderr",
     "output_type": "stream",
     "text": [
      "\r",
      "36it [05:22,  9.98s/it]"
     ]
    },
    {
     "name": "stdout",
     "output_type": "stream",
     "text": [
      "accuracy: train, test\n",
      "liblin: 1.0000, 0.9336\n"
     ]
    },
    {
     "name": "stderr",
     "output_type": "stream",
     "text": [
      "/home/marie/anaconda3/lib/python3.8/site-packages/sklearn/linear_model/_logistic.py:763: ConvergenceWarning: lbfgs failed to converge (status=1):\n",
      "STOP: TOTAL NO. of ITERATIONS REACHED LIMIT.\n",
      "\n",
      "Increase the number of iterations (max_iter) or scale the data as shown in:\n",
      "    https://scikit-learn.org/stable/modules/preprocessing.html\n",
      "Please also refer to the documentation for alternative solver options:\n",
      "    https://scikit-learn.org/stable/modules/linear_model.html#logistic-regression\n",
      "  n_iter_i = _check_optimize_result(\n",
      "\r",
      "37it [05:39, 11.87s/it]"
     ]
    },
    {
     "name": "stdout",
     "output_type": "stream",
     "text": [
      "accuracy: train, test\n",
      "liblin: 1.0000, 0.9266\n"
     ]
    },
    {
     "name": "stderr",
     "output_type": "stream",
     "text": [
      "\r",
      "38it [05:46, 10.61s/it]"
     ]
    },
    {
     "name": "stdout",
     "output_type": "stream",
     "text": [
      "accuracy: train, test\n",
      "liblin: 1.0000, 0.8479\n"
     ]
    },
    {
     "name": "stderr",
     "output_type": "stream",
     "text": [
      "\r",
      "39it [05:51,  8.85s/it]"
     ]
    },
    {
     "name": "stdout",
     "output_type": "stream",
     "text": [
      "accuracy: train, test\n",
      "liblin: 1.0000, 0.8689\n"
     ]
    },
    {
     "name": "stderr",
     "output_type": "stream",
     "text": [
      "\r",
      "40it [06:01,  9.16s/it]"
     ]
    },
    {
     "name": "stdout",
     "output_type": "stream",
     "text": [
      "accuracy: train, test\n",
      "liblin: 1.0000, 0.8427\n"
     ]
    },
    {
     "name": "stderr",
     "output_type": "stream",
     "text": [
      "\r",
      "41it [06:09,  8.73s/it]"
     ]
    },
    {
     "name": "stdout",
     "output_type": "stream",
     "text": [
      "accuracy: train, test\n",
      "liblin: 1.0000, 0.8479\n"
     ]
    },
    {
     "name": "stderr",
     "output_type": "stream",
     "text": [
      "\r",
      "42it [06:23, 10.40s/it]"
     ]
    },
    {
     "name": "stdout",
     "output_type": "stream",
     "text": [
      "accuracy: train, test\n",
      "liblin: 1.0000, 0.8706\n"
     ]
    },
    {
     "name": "stderr",
     "output_type": "stream",
     "text": [
      "/home/marie/anaconda3/lib/python3.8/site-packages/sklearn/linear_model/_logistic.py:763: ConvergenceWarning: lbfgs failed to converge (status=1):\n",
      "STOP: TOTAL NO. of ITERATIONS REACHED LIMIT.\n",
      "\n",
      "Increase the number of iterations (max_iter) or scale the data as shown in:\n",
      "    https://scikit-learn.org/stable/modules/preprocessing.html\n",
      "Please also refer to the documentation for alternative solver options:\n",
      "    https://scikit-learn.org/stable/modules/linear_model.html#logistic-regression\n",
      "  n_iter_i = _check_optimize_result(\n",
      "\r",
      "43it [06:39, 12.18s/it]"
     ]
    },
    {
     "name": "stdout",
     "output_type": "stream",
     "text": [
      "accuracy: train, test\n",
      "liblin: 1.0000, 0.9056\n"
     ]
    },
    {
     "name": "stderr",
     "output_type": "stream",
     "text": [
      "\r",
      "44it [06:55, 13.35s/it]"
     ]
    },
    {
     "name": "stdout",
     "output_type": "stream",
     "text": [
      "accuracy: train, test\n",
      "liblin: 1.0000, 0.9598\n"
     ]
    },
    {
     "name": "stderr",
     "output_type": "stream",
     "text": [
      "\r",
      "45it [07:01, 11.17s/it]"
     ]
    },
    {
     "name": "stdout",
     "output_type": "stream",
     "text": [
      "accuracy: train, test\n",
      "liblin: 1.0000, 0.9860\n"
     ]
    },
    {
     "name": "stderr",
     "output_type": "stream",
     "text": [
      "\r",
      "46it [07:10, 10.33s/it]"
     ]
    },
    {
     "name": "stdout",
     "output_type": "stream",
     "text": [
      "accuracy: train, test\n",
      "liblin: 1.0000, 0.9878\n"
     ]
    },
    {
     "name": "stderr",
     "output_type": "stream",
     "text": [
      "\r",
      "47it [07:24, 11.38s/it]"
     ]
    },
    {
     "name": "stdout",
     "output_type": "stream",
     "text": [
      "accuracy: train, test\n",
      "liblin: 1.0000, 0.9668\n"
     ]
    },
    {
     "name": "stderr",
     "output_type": "stream",
     "text": [
      "\r",
      "48it [07:31, 10.25s/it]"
     ]
    },
    {
     "name": "stdout",
     "output_type": "stream",
     "text": [
      "accuracy: train, test\n",
      "liblin: 1.0000, 0.9353\n"
     ]
    },
    {
     "name": "stderr",
     "output_type": "stream",
     "text": [
      "/home/marie/anaconda3/lib/python3.8/site-packages/sklearn/linear_model/_logistic.py:763: ConvergenceWarning: lbfgs failed to converge (status=1):\n",
      "STOP: TOTAL NO. of ITERATIONS REACHED LIMIT.\n",
      "\n",
      "Increase the number of iterations (max_iter) or scale the data as shown in:\n",
      "    https://scikit-learn.org/stable/modules/preprocessing.html\n",
      "Please also refer to the documentation for alternative solver options:\n",
      "    https://scikit-learn.org/stable/modules/linear_model.html#logistic-regression\n",
      "  n_iter_i = _check_optimize_result(\n",
      "\r",
      "49it [07:48, 12.24s/it]"
     ]
    },
    {
     "name": "stdout",
     "output_type": "stream",
     "text": [
      "accuracy: train, test\n",
      "liblin: 1.0000, 0.8969\n"
     ]
    },
    {
     "name": "stderr",
     "output_type": "stream",
     "text": [
      "\r",
      "50it [07:55, 10.55s/it]"
     ]
    },
    {
     "name": "stdout",
     "output_type": "stream",
     "text": [
      "accuracy: train, test\n",
      "liblin: 1.0000, 0.8409\n"
     ]
    },
    {
     "name": "stderr",
     "output_type": "stream",
     "text": [
      "\r",
      "51it [08:04, 10.11s/it]"
     ]
    },
    {
     "name": "stdout",
     "output_type": "stream",
     "text": [
      "accuracy: train, test\n",
      "liblin: 1.0000, 0.8514\n"
     ]
    },
    {
     "name": "stderr",
     "output_type": "stream",
     "text": [
      "\r",
      "52it [08:10,  9.05s/it]"
     ]
    },
    {
     "name": "stdout",
     "output_type": "stream",
     "text": [
      "accuracy: train, test\n",
      "liblin: 1.0000, 0.8724\n"
     ]
    },
    {
     "name": "stderr",
     "output_type": "stream",
     "text": [
      "\r",
      "53it [08:18,  8.71s/it]"
     ]
    },
    {
     "name": "stdout",
     "output_type": "stream",
     "text": [
      "accuracy: train, test\n",
      "liblin: 1.0000, 0.9056\n"
     ]
    },
    {
     "name": "stderr",
     "output_type": "stream",
     "text": [
      "/home/marie/anaconda3/lib/python3.8/site-packages/sklearn/linear_model/_logistic.py:763: ConvergenceWarning: lbfgs failed to converge (status=1):\n",
      "STOP: TOTAL NO. of ITERATIONS REACHED LIMIT.\n",
      "\n",
      "Increase the number of iterations (max_iter) or scale the data as shown in:\n",
      "    https://scikit-learn.org/stable/modules/preprocessing.html\n",
      "Please also refer to the documentation for alternative solver options:\n",
      "    https://scikit-learn.org/stable/modules/linear_model.html#logistic-regression\n",
      "  n_iter_i = _check_optimize_result(\n",
      "\r",
      "54it [08:35, 11.08s/it]"
     ]
    },
    {
     "name": "stdout",
     "output_type": "stream",
     "text": [
      "accuracy: train, test\n",
      "liblin: 1.0000, 0.9580\n"
     ]
    },
    {
     "name": "stderr",
     "output_type": "stream",
     "text": [
      "\r",
      "55it [08:43, 10.12s/it]"
     ]
    },
    {
     "name": "stdout",
     "output_type": "stream",
     "text": [
      "accuracy: train, test\n",
      "liblin: 1.0000, 0.9895\n"
     ]
    },
    {
     "name": "stderr",
     "output_type": "stream",
     "text": [
      "\r",
      "56it [08:46,  8.12s/it]"
     ]
    },
    {
     "name": "stdout",
     "output_type": "stream",
     "text": [
      "accuracy: train, test\n",
      "liblin: 1.0000, 0.9948\n"
     ]
    },
    {
     "name": "stderr",
     "output_type": "stream",
     "text": [
      "\r",
      "57it [08:56,  8.53s/it]"
     ]
    },
    {
     "name": "stdout",
     "output_type": "stream",
     "text": [
      "accuracy: train, test\n",
      "liblin: 1.0000, 0.9825\n"
     ]
    },
    {
     "name": "stderr",
     "output_type": "stream",
     "text": [
      "\r",
      "58it [09:01,  7.52s/it]"
     ]
    },
    {
     "name": "stdout",
     "output_type": "stream",
     "text": [
      "accuracy: train, test\n",
      "liblin: 1.0000, 0.9336\n"
     ]
    },
    {
     "name": "stderr",
     "output_type": "stream",
     "text": [
      "\r",
      "59it [09:08,  7.27s/it]"
     ]
    },
    {
     "name": "stdout",
     "output_type": "stream",
     "text": [
      "accuracy: train, test\n",
      "liblin: 1.0000, 0.8934\n"
     ]
    },
    {
     "name": "stderr",
     "output_type": "stream",
     "text": [
      "\r",
      "60it [09:14,  7.14s/it]"
     ]
    },
    {
     "name": "stdout",
     "output_type": "stream",
     "text": [
      "accuracy: train, test\n",
      "liblin: 1.0000, 0.8811\n"
     ]
    },
    {
     "name": "stderr",
     "output_type": "stream",
     "text": [
      "\r",
      "61it [09:22,  7.22s/it]"
     ]
    },
    {
     "name": "stdout",
     "output_type": "stream",
     "text": [
      "accuracy: train, test\n",
      "liblin: 1.0000, 0.8479\n"
     ]
    },
    {
     "name": "stderr",
     "output_type": "stream",
     "text": [
      "\r",
      "62it [09:29,  7.34s/it]"
     ]
    },
    {
     "name": "stdout",
     "output_type": "stream",
     "text": [
      "accuracy: train, test\n",
      "liblin: 1.0000, 0.8759\n"
     ]
    },
    {
     "name": "stderr",
     "output_type": "stream",
     "text": [
      "\r",
      "63it [09:36,  6.95s/it]"
     ]
    },
    {
     "name": "stdout",
     "output_type": "stream",
     "text": [
      "accuracy: train, test\n",
      "liblin: 1.0000, 0.8794\n"
     ]
    },
    {
     "name": "stderr",
     "output_type": "stream",
     "text": [
      "\r",
      "64it [09:43,  7.19s/it]"
     ]
    },
    {
     "name": "stdout",
     "output_type": "stream",
     "text": [
      "accuracy: train, test\n",
      "liblin: 1.0000, 0.9056\n"
     ]
    },
    {
     "name": "stderr",
     "output_type": "stream",
     "text": [
      "/home/marie/anaconda3/lib/python3.8/site-packages/sklearn/linear_model/_logistic.py:763: ConvergenceWarning: lbfgs failed to converge (status=1):\n",
      "STOP: TOTAL NO. of ITERATIONS REACHED LIMIT.\n",
      "\n",
      "Increase the number of iterations (max_iter) or scale the data as shown in:\n",
      "    https://scikit-learn.org/stable/modules/preprocessing.html\n",
      "Please also refer to the documentation for alternative solver options:\n",
      "    https://scikit-learn.org/stable/modules/linear_model.html#logistic-regression\n",
      "  n_iter_i = _check_optimize_result(\n",
      "\r",
      "65it [10:00, 10.18s/it]"
     ]
    },
    {
     "name": "stdout",
     "output_type": "stream",
     "text": [
      "accuracy: train, test\n",
      "liblin: 1.0000, 0.9563\n"
     ]
    },
    {
     "name": "stderr",
     "output_type": "stream",
     "text": [
      "\r",
      "66it [10:06,  8.73s/it]"
     ]
    },
    {
     "name": "stdout",
     "output_type": "stream",
     "text": [
      "accuracy: train, test\n",
      "liblin: 1.0000, 0.9615\n"
     ]
    },
    {
     "name": "stderr",
     "output_type": "stream",
     "text": [
      "\r",
      "67it [10:12,  7.92s/it]"
     ]
    },
    {
     "name": "stdout",
     "output_type": "stream",
     "text": [
      "accuracy: train, test\n",
      "liblin: 1.0000, 0.9196\n"
     ]
    },
    {
     "name": "stderr",
     "output_type": "stream",
     "text": [
      "\r",
      "68it [10:24,  9.10s/it]"
     ]
    },
    {
     "name": "stdout",
     "output_type": "stream",
     "text": [
      "accuracy: train, test\n",
      "liblin: 1.0000, 0.8759\n"
     ]
    },
    {
     "name": "stderr",
     "output_type": "stream",
     "text": [
      "\r",
      "69it [10:31,  8.59s/it]"
     ]
    },
    {
     "name": "stdout",
     "output_type": "stream",
     "text": [
      "accuracy: train, test\n",
      "liblin: 1.0000, 0.8601\n"
     ]
    },
    {
     "name": "stderr",
     "output_type": "stream",
     "text": [
      "\r",
      "70it [10:39,  8.44s/it]"
     ]
    },
    {
     "name": "stdout",
     "output_type": "stream",
     "text": [
      "accuracy: train, test\n",
      "liblin: 1.0000, 0.8252\n"
     ]
    },
    {
     "name": "stderr",
     "output_type": "stream",
     "text": [
      "\r",
      "71it [10:47,  8.34s/it]"
     ]
    },
    {
     "name": "stdout",
     "output_type": "stream",
     "text": [
      "accuracy: train, test\n",
      "liblin: 1.0000, 0.8164\n"
     ]
    },
    {
     "name": "stderr",
     "output_type": "stream",
     "text": [
      "\r",
      "72it [10:54,  7.96s/it]"
     ]
    },
    {
     "name": "stdout",
     "output_type": "stream",
     "text": [
      "accuracy: train, test\n",
      "liblin: 1.0000, 0.8129\n"
     ]
    },
    {
     "name": "stderr",
     "output_type": "stream",
     "text": [
      "/home/marie/anaconda3/lib/python3.8/site-packages/sklearn/linear_model/_logistic.py:763: ConvergenceWarning: lbfgs failed to converge (status=1):\n",
      "STOP: TOTAL NO. of ITERATIONS REACHED LIMIT.\n",
      "\n",
      "Increase the number of iterations (max_iter) or scale the data as shown in:\n",
      "    https://scikit-learn.org/stable/modules/preprocessing.html\n",
      "Please also refer to the documentation for alternative solver options:\n",
      "    https://scikit-learn.org/stable/modules/linear_model.html#logistic-regression\n",
      "  n_iter_i = _check_optimize_result(\n",
      "\r",
      "73it [11:12, 10.81s/it]"
     ]
    },
    {
     "name": "stdout",
     "output_type": "stream",
     "text": [
      "accuracy: train, test\n",
      "liblin: 1.0000, 0.8427\n"
     ]
    },
    {
     "name": "stderr",
     "output_type": "stream",
     "text": [
      "\r",
      "74it [11:19,  9.87s/it]"
     ]
    },
    {
     "name": "stdout",
     "output_type": "stream",
     "text": [
      "accuracy: train, test\n",
      "liblin: 1.0000, 0.8304\n"
     ]
    },
    {
     "name": "stderr",
     "output_type": "stream",
     "text": [
      "\r",
      "75it [11:26,  8.87s/it]"
     ]
    },
    {
     "name": "stdout",
     "output_type": "stream",
     "text": [
      "accuracy: train, test\n",
      "liblin: 1.0000, 0.8864\n"
     ]
    },
    {
     "name": "stderr",
     "output_type": "stream",
     "text": [
      "\r",
      "76it [11:34,  8.59s/it]"
     ]
    },
    {
     "name": "stdout",
     "output_type": "stream",
     "text": [
      "accuracy: train, test\n",
      "liblin: 1.0000, 0.8357\n"
     ]
    },
    {
     "name": "stderr",
     "output_type": "stream",
     "text": [
      "\r",
      "77it [11:41,  8.12s/it]"
     ]
    },
    {
     "name": "stdout",
     "output_type": "stream",
     "text": [
      "accuracy: train, test\n",
      "liblin: 1.0000, 0.8304\n"
     ]
    },
    {
     "name": "stderr",
     "output_type": "stream",
     "text": [
      "\r",
      "78it [11:49,  8.05s/it]"
     ]
    },
    {
     "name": "stdout",
     "output_type": "stream",
     "text": [
      "accuracy: train, test\n",
      "liblin: 1.0000, 0.8269\n"
     ]
    },
    {
     "name": "stderr",
     "output_type": "stream",
     "text": [
      "\r",
      "79it [11:56,  7.90s/it]"
     ]
    },
    {
     "name": "stdout",
     "output_type": "stream",
     "text": [
      "accuracy: train, test\n",
      "liblin: 1.0000, 0.8269\n"
     ]
    },
    {
     "name": "stderr",
     "output_type": "stream",
     "text": [
      "\r",
      "80it [12:05,  8.21s/it]"
     ]
    },
    {
     "name": "stdout",
     "output_type": "stream",
     "text": [
      "accuracy: train, test\n",
      "liblin: 1.0000, 0.8217\n"
     ]
    },
    {
     "name": "stderr",
     "output_type": "stream",
     "text": [
      "\r",
      "81it [12:13,  8.12s/it]"
     ]
    },
    {
     "name": "stdout",
     "output_type": "stream",
     "text": [
      "accuracy: train, test\n",
      "liblin: 1.0000, 0.8077\n"
     ]
    },
    {
     "name": "stderr",
     "output_type": "stream",
     "text": [
      "\r",
      "82it [12:18,  7.21s/it]"
     ]
    },
    {
     "name": "stdout",
     "output_type": "stream",
     "text": [
      "accuracy: train, test\n",
      "liblin: 1.0000, 0.8217\n"
     ]
    },
    {
     "name": "stderr",
     "output_type": "stream",
     "text": [
      "\r",
      "83it [12:26,  7.43s/it]"
     ]
    },
    {
     "name": "stdout",
     "output_type": "stream",
     "text": [
      "accuracy: train, test\n",
      "liblin: 1.0000, 0.8217\n"
     ]
    },
    {
     "name": "stderr",
     "output_type": "stream",
     "text": [
      "\r",
      "84it [12:35,  7.92s/it]"
     ]
    },
    {
     "name": "stdout",
     "output_type": "stream",
     "text": [
      "accuracy: train, test\n",
      "liblin: 1.0000, 0.8182\n"
     ]
    },
    {
     "name": "stderr",
     "output_type": "stream",
     "text": [
      "\r",
      "85it [12:43,  7.88s/it]"
     ]
    },
    {
     "name": "stdout",
     "output_type": "stream",
     "text": [
      "accuracy: train, test\n",
      "liblin: 1.0000, 0.8287\n"
     ]
    },
    {
     "name": "stderr",
     "output_type": "stream",
     "text": [
      "\r",
      "86it [12:50,  7.65s/it]"
     ]
    },
    {
     "name": "stdout",
     "output_type": "stream",
     "text": [
      "accuracy: train, test\n",
      "liblin: 1.0000, 0.8392\n"
     ]
    },
    {
     "name": "stderr",
     "output_type": "stream",
     "text": [
      "\r",
      "87it [12:55,  6.83s/it]"
     ]
    },
    {
     "name": "stdout",
     "output_type": "stream",
     "text": [
      "accuracy: train, test\n",
      "liblin: 1.0000, 0.8392\n"
     ]
    },
    {
     "name": "stderr",
     "output_type": "stream",
     "text": [
      "\r",
      "88it [13:05,  7.83s/it]"
     ]
    },
    {
     "name": "stdout",
     "output_type": "stream",
     "text": [
      "accuracy: train, test\n",
      "liblin: 1.0000, 0.8164\n"
     ]
    },
    {
     "name": "stderr",
     "output_type": "stream",
     "text": [
      "\r",
      "89it [13:18,  9.36s/it]"
     ]
    },
    {
     "name": "stdout",
     "output_type": "stream",
     "text": [
      "accuracy: train, test\n",
      "liblin: 1.0000, 0.8182\n"
     ]
    },
    {
     "name": "stderr",
     "output_type": "stream",
     "text": [
      "\r",
      "90it [13:26,  8.75s/it]"
     ]
    },
    {
     "name": "stdout",
     "output_type": "stream",
     "text": [
      "accuracy: train, test\n",
      "liblin: 1.0000, 0.8269\n"
     ]
    },
    {
     "name": "stderr",
     "output_type": "stream",
     "text": [
      "\r",
      "91it [13:33,  8.35s/it]"
     ]
    },
    {
     "name": "stdout",
     "output_type": "stream",
     "text": [
      "accuracy: train, test\n",
      "liblin: 1.0000, 0.8007\n"
     ]
    },
    {
     "name": "stderr",
     "output_type": "stream",
     "text": [
      "\r",
      "92it [13:42,  8.55s/it]"
     ]
    },
    {
     "name": "stdout",
     "output_type": "stream",
     "text": [
      "accuracy: train, test\n",
      "liblin: 1.0000, 0.7867\n"
     ]
    },
    {
     "name": "stderr",
     "output_type": "stream",
     "text": [
      "\r",
      "93it [13:49,  8.08s/it]"
     ]
    },
    {
     "name": "stdout",
     "output_type": "stream",
     "text": [
      "accuracy: train, test\n",
      "liblin: 1.0000, 0.8094\n"
     ]
    },
    {
     "name": "stderr",
     "output_type": "stream",
     "text": [
      "\r",
      "94it [14:00,  8.97s/it]"
     ]
    },
    {
     "name": "stdout",
     "output_type": "stream",
     "text": [
      "accuracy: train, test\n",
      "liblin: 1.0000, 0.8164\n"
     ]
    },
    {
     "name": "stderr",
     "output_type": "stream",
     "text": [
      "\r",
      "95it [14:09,  9.05s/it]"
     ]
    },
    {
     "name": "stdout",
     "output_type": "stream",
     "text": [
      "accuracy: train, test\n",
      "liblin: 1.0000, 0.8024\n"
     ]
    },
    {
     "name": "stderr",
     "output_type": "stream",
     "text": [
      "\r",
      "96it [14:15,  7.98s/it]"
     ]
    },
    {
     "name": "stdout",
     "output_type": "stream",
     "text": [
      "accuracy: train, test\n",
      "liblin: 1.0000, 0.8217\n"
     ]
    },
    {
     "name": "stderr",
     "output_type": "stream",
     "text": [
      "\r",
      "97it [14:23,  8.05s/it]"
     ]
    },
    {
     "name": "stdout",
     "output_type": "stream",
     "text": [
      "accuracy: train, test\n",
      "liblin: 1.0000, 0.8392\n"
     ]
    },
    {
     "name": "stderr",
     "output_type": "stream",
     "text": [
      "\r",
      "98it [14:31,  7.91s/it]"
     ]
    },
    {
     "name": "stdout",
     "output_type": "stream",
     "text": [
      "accuracy: train, test\n",
      "liblin: 1.0000, 0.8042\n"
     ]
    },
    {
     "name": "stderr",
     "output_type": "stream",
     "text": [
      "\r",
      "99it [14:38,  7.88s/it]"
     ]
    },
    {
     "name": "stdout",
     "output_type": "stream",
     "text": [
      "accuracy: train, test\n",
      "liblin: 1.0000, 0.8024\n"
     ]
    },
    {
     "name": "stderr",
     "output_type": "stream",
     "text": [
      "100it [14:48,  8.89s/it]"
     ]
    },
    {
     "name": "stdout",
     "output_type": "stream",
     "text": [
      "accuracy: train, test\n",
      "liblin: 1.0000, 0.8077\n"
     ]
    },
    {
     "name": "stderr",
     "output_type": "stream",
     "text": [
      "\n"
     ]
    }
   ],
   "source": [
    "from sklearn import linear_model\n",
    "\n",
    "C_list = [0.0005, 0.001, 0.005, 0.01, 0.05, 0.1]\n",
    "\n",
    "logreg_table = []\n",
    "train_accuracy, test_accuracy = np.zeros(100), np.zeros(100)\n",
    "# loop over regularisation strength\n",
    "\n",
    "# loop over regularisation strength\n",
    "for i,pixel in tqdm(enumerate(np.transpose(Y_train))):\n",
    "    \n",
    "    # define logistic regressor\n",
    "    logreg = linear_model.LogisticRegression(penalty='l2', C=0.05, max_iter = 1500)\n",
    "    \n",
    "    # fit training data\n",
    "    logreg.fit(X_train, pixel)\n",
    "    \n",
    "    logreg_table.append(logreg)\n",
    "    \n",
    "    # check accuracy\n",
    "    train_accuracy[i]=logreg.score(X_train,pixel)\n",
    "    test_accuracy[i]=logreg.score(X_test,np.transpose(Y_test)[i])\n",
    "    \n",
    "    print('accuracy: train, test')\n",
    "    print('liblin: %0.4f, %0.4f' %(train_accuracy[i],test_accuracy[i]) )"
   ]
  },
  {
   "cell_type": "code",
   "execution_count": 184,
   "id": "b1c1e23f",
   "metadata": {},
   "outputs": [],
   "source": [
    "image = np.zeros(100)\n",
    "\n",
    "\n",
    "n=16\n",
    "xtest = fmri_data[n].reshape(1,-1)\n",
    "ytest = np.reshape(stimuli[n],(10,10))\n",
    "\n",
    "for i,pixel in enumerate(image) :\n",
    "    #try: \n",
    "    y = logreg_table[i].predict(xtest)\n",
    "    \n",
    "    \n",
    "    image[i] = y\n",
    "    \n",
    "image = np.reshape(image,(10,10))"
   ]
  },
  {
   "cell_type": "code",
   "execution_count": 186,
   "id": "c7c778e5",
   "metadata": {
    "scrolled": true
   },
   "outputs": [
    {
     "data": {
      "text/plain": [
       "<matplotlib.image.AxesImage at 0x7fbb1cba15e0>"
      ]
     },
     "execution_count": 186,
     "metadata": {},
     "output_type": "execute_result"
    },
    {
     "data": {
      "image/png": "[encoded data removed]",
      "text/plain": [
       "<Figure size 432x288 with 2 Axes>"
      ]
     },
     "metadata": {
      "needs_background": "light"
     },
     "output_type": "display_data"
    }
   ],
   "source": [
    "import matplotlib.pyplot as plt\n",
    "\n",
    "fig = plt.figure()\n",
    "sp1 = plt.subplot(121)\n",
    "sp2 = plt.subplot(122)\n",
    "sp1.imshow(ytest, cmap = plt.cm.gray, interpolation = 'nearest')\n",
    "sp2.imshow(image, cmap = plt.cm.gray, interpolation = 'nearest')"
   ]
  },
  {
   "cell_type": "code",
   "execution_count": 187,
   "id": "cb494ec3",
   "metadata": {},
   "outputs": [
    {
     "data": {
      "text/plain": [
       "0.8559090909090908"
      ]
     },
     "execution_count": 187,
     "metadata": {},
     "output_type": "execute_result"
    }
   ],
   "source": [
    "np.mean(test_accuracy)"
   ]
  },
  {
   "cell_type": "code",
   "execution_count": 193,
   "id": "dbfb4763",
   "metadata": {
    "scrolled": false
   },
   "outputs": [],
   "source": [
    "#visualizing the sequence of stimuli (black images : -100)\n",
    "tot = 0\n",
    "\n",
    "for i,elmnt in enumerate(stimuli) :\n",
    "    pass\n",
    "    #print(np.sum(elmnt))"
   ]
  },
  {
   "cell_type": "code",
   "execution_count": null,
   "id": "91ea06d5",
   "metadata": {},
   "outputs": [],
   "source": [
    "from sklearn.linear_model import LogisticRegression as LR\n",
    "from sklearn.cross_validation import cross_val_score\n",
    "\n",
    "pipeline_LR = Pipeline([(’selection’, SelectKBest(f_classif, 500)), (’clf’, LR(penalty=’l1’, C=0.05)])"
   ]
  },
  {
   "cell_type": "markdown",
   "id": "bf1564b3",
   "metadata": {},
   "source": [
    "## Second step: Encoding"
   ]
  },
  {
   "cell_type": "code",
   "execution_count": 190,
   "id": "579c0028",
   "metadata": {},
   "outputs": [
    {
     "name": "stderr",
     "output_type": "stream",
     "text": [
      "10it [00:00, 13.14it/s]\n"
     ]
    }
   ],
   "source": [
    "from sklearn.linear_model import Ridge \n",
    "from sklearn.model_selection import KFold\n",
    "\n",
    "cv = KFold(n_splits=10)\n",
    "\n",
    "# Fit ridge model, calculate predictions on left out data\n",
    "# and evaluate r^2 score for each voxel\n",
    "scores = []\n",
    "for train, test in tqdm(cv.split(Y_train)):\n",
    "    pred = (Ridge(alpha=100.).fit(Y_train[train], X_train[train]).predict(Y_train[test]))\n",
    "    X_true = X_train[test]\n",
    "    scores.append(1. - ((X_true - pred)** 2).sum(axis=0) /((X_true - X_true.mean(axis=0))** 2).sum(axis=0))\n",
    "mean_scores = np.mean(scores, axis=0)\n"
   ]
  },
  {
   "cell_type": "code",
   "execution_count": 191,
   "id": "8304af11",
   "metadata": {},
   "outputs": [
    {
     "name": "stdout",
     "output_type": "stream",
     "text": [
      "[-1.90559794e-02 -3.20971502e-03 -2.22461819e-02 -9.85262775e-03\n",
      "  2.03387766e-02 -1.38744337e-02 -5.09653824e-03 -3.09737964e-02\n",
      " -9.10338934e-03  1.33405801e-03 -4.57127708e-03 -6.56240705e-03\n",
      " -1.71561789e-02 -2.35405833e-02 -1.03622931e-02 -8.96404121e-03\n",
      " -1.79806359e-02 -2.14484906e-02 -4.55818752e-03 -1.44316279e-03\n",
      "  5.92038616e-03  1.08539847e-02 -1.69282894e-02 -1.02916183e-02\n",
      "  8.64167510e-03 -1.83076755e-03  6.53892709e-03  7.24002545e-04\n",
      " -1.50297056e-02 -1.09802414e-02  5.04856201e-03  1.02589658e-02\n",
      "  4.31789817e-03 -5.35035704e-03 -5.60834868e-03  1.57096342e-03\n",
      "  1.22649840e-03 -7.64278615e-03  6.41301219e-03  2.04852580e-02\n",
      "  2.21211533e-03  3.43430816e-04 -2.24376023e-02 -1.57680873e-02\n",
      "  6.81210603e-04 -1.28686509e-02 -1.34214958e-02 -1.53745838e-02\n",
      " -1.94688819e-02 -1.92735454e-02  6.79435224e-03 -1.80200147e-03\n",
      " -2.97242995e-03 -7.32049348e-03 -3.30763591e-03 -2.06024810e-02\n",
      " -9.95116664e-03 -1.08892218e-02 -1.69560136e-02  8.74249728e-03\n",
      " -1.96891378e-03 -8.78850481e-03  2.88240327e-02  9.53062953e-04\n",
      " -2.24431439e-02  8.14210812e-03 -7.30960948e-03 -2.25556857e-03\n",
      "  2.22987574e-03  6.15034518e-03  2.09643960e-02  1.15036598e-02\n",
      "  5.93483415e-03 -2.24303942e-02 -1.23354664e-02 -1.05521730e-02\n",
      " -9.00714960e-03 -2.28564567e-02 -2.98644290e-02 -6.69969438e-03\n",
      "  2.15178658e-02  2.05537269e-03  2.94957663e-03 -2.75509128e-02\n",
      " -2.36185403e-02 -1.78189480e-02 -1.21985349e-02 -1.12284206e-02\n",
      " -1.99191392e-02 -2.05074198e-02 -1.47963386e-02 -6.10609994e-03\n",
      " -1.11689986e-03 -9.42582708e-03  4.89482125e-02 -8.94885511e-03\n",
      " -8.30798043e-03 -1.93726659e-02 -2.37710075e-02 -7.60214911e-03\n",
      " -1.06860020e-02 -2.88920721e-02  1.44056269e-04 -6.27594811e-03\n",
      " -1.11531046e-02  2.18574674e-01  8.86881267e-02 -1.59123544e-02\n",
      " -2.95813279e-02  1.21853512e-02  9.81012732e-04  9.10145163e-02\n",
      "  1.17112790e-01  6.03920650e-02  2.10966062e-02 -1.59677589e-02\n",
      " -2.72870398e-02  4.78575928e-03 -1.45815254e-03 -8.27760914e-03\n",
      "  9.74060106e-03 -5.83405147e-03 -6.47496946e-03  2.28336806e-02\n",
      "  9.00766468e-03  2.53713565e-02  3.36028944e-03 -1.90534319e-02\n",
      "  9.02944405e-03  1.59874272e-03 -1.36786125e-02  6.96724089e-03\n",
      "  1.34198746e-02  2.64822708e-02 -3.54028376e-03  4.72986688e-04\n",
      "  1.64572475e-02 -1.21154733e-02 -2.25154961e-02  7.86497126e-03\n",
      " -1.71646929e-02 -2.47731239e-02 -1.23826348e-02 -8.97677967e-03\n",
      "  1.22405052e-02  1.88622652e-03  1.30665944e-02  1.98238284e-02\n",
      " -9.73171649e-03 -6.38147103e-03 -4.89510014e-03 -1.17302550e-02\n",
      " -7.92553843e-03 -4.63493154e-04  1.19651399e-02 -1.25698070e-02\n",
      " -8.38124464e-03  5.92544852e-02 -9.75645085e-03 -1.59698645e-02\n",
      " -1.80860241e-02 -2.01749003e-02 -1.75958521e-02 -1.02632345e-02\n",
      "  7.82198023e-03  2.55909693e-02 -1.16237518e-02 -2.34335770e-02\n",
      " -8.93348718e-03  2.92732870e-03  1.90679461e-02  1.29204822e-02\n",
      " -2.98906226e-02 -2.07171557e-02 -2.15374704e-02 -1.30184451e-02\n",
      " -6.76737022e-03 -7.20490155e-03  3.07372485e-02  8.27253791e-02\n",
      "  3.23924653e-01  2.04869979e-01 -1.48168867e-02 -2.29726741e-02\n",
      "  5.98704625e-03  1.28812986e-02  9.08076887e-02  1.13226296e-01\n",
      "  1.83223172e-01  1.03187115e-01  1.02088652e-05  1.34100555e-02\n",
      "  1.22213029e-02 -2.14315087e-02 -2.28823390e-02  1.76264975e-03\n",
      " -1.80136688e-04  7.00838011e-02  9.75074526e-02  1.46185411e-02\n",
      "  2.29367464e-02 -8.91770184e-03  3.17172548e-02  7.04572557e-03\n",
      " -1.85685024e-02 -8.74934681e-03 -1.07104407e-02 -8.47363475e-03\n",
      " -1.40196102e-02 -2.14343824e-02  2.45806787e-02 -1.45732104e-02\n",
      "  2.60754803e-02  4.25872856e-02  4.38642535e-02  1.23934654e-01\n",
      "  1.12183798e-01 -4.99268387e-03  1.41327063e-02  1.46255155e-02\n",
      "  2.44434247e-02  1.99470826e-02  5.12683378e-02 -3.09442517e-02\n",
      " -1.60290227e-02  1.11971364e-02 -1.55309147e-02 -4.28042434e-03\n",
      "  6.49396173e-02  2.75767401e-02 -9.30387631e-03  1.23675657e-02\n",
      "  1.17581982e-03 -1.10852842e-02 -1.62941982e-02 -1.63889359e-02\n",
      " -1.18579784e-02  1.38253609e-02  6.58422926e-03 -7.59451500e-03\n",
      " -1.87417568e-02 -2.41146461e-03 -8.19436861e-03 -1.47366827e-02\n",
      " -1.14291531e-02  3.66757160e-02  4.26648080e-02  2.95045559e-02\n",
      " -8.29852725e-03 -5.18908165e-03 -1.58629727e-02  4.65846626e-02\n",
      "  3.45954489e-02  4.63481538e-02 -9.63020726e-03 -2.37604795e-02\n",
      " -9.38828187e-03 -1.25677214e-02 -1.62773491e-02  1.87335138e-02\n",
      "  1.51816808e-01  2.89780424e-01  1.65915797e-01  5.17859539e-03\n",
      "  1.33482650e-03  6.44982887e-02  2.00403211e-01  1.89719298e-01\n",
      "  9.04709679e-02  1.50793334e-01  8.24000282e-02 -4.72434754e-03\n",
      " -2.26484878e-02  6.26116343e-03 -7.59976838e-03 -1.93580187e-02\n",
      " -5.86273387e-03  2.36762236e-02  1.02369832e-02  2.04423244e-01\n",
      "  1.27354979e-01  3.77860108e-02 -8.98773875e-03 -1.37192598e-02\n",
      " -2.27555290e-02  7.16626308e-03  9.84884588e-02 -1.65507216e-02\n",
      " -1.21658422e-02  2.14366649e-02  4.31968300e-02  1.40110276e-01\n",
      "  1.05369735e-01  1.69769985e-02  3.89797348e-02 -2.80865681e-02\n",
      "  4.61626995e-02  2.05859790e-01  1.24340181e-01  8.13740850e-04\n",
      "  7.58910064e-02  1.24669676e-01  1.10030864e-02 -7.39417365e-03\n",
      "  1.09843122e-02 -2.38491562e-02 -7.03902140e-03  7.02276194e-02\n",
      " -1.25592567e-02 -1.66315952e-02  1.13240054e-01  1.42827304e-01\n",
      "  3.73399401e-02  3.21205389e-02  4.84699221e-02 -1.63999673e-02\n",
      "  4.89477846e-04  4.26930812e-02  4.31280307e-02  7.10846363e-02\n",
      "  5.27460045e-02  4.04184519e-03 -5.23643141e-03  4.95873861e-02\n",
      "  7.26768763e-02  8.32815000e-03 -6.37666665e-03 -1.79548960e-02\n",
      "  2.82853281e-02  3.22987030e-02 -2.73803110e-02 -2.53209423e-02\n",
      " -1.17778027e-02 -1.01567768e-02 -1.85249507e-02  1.30433182e-02\n",
      " -1.11283869e-02 -1.00596493e-02 -2.44664226e-02 -1.75327823e-02\n",
      " -2.16150382e-02 -2.57912041e-02 -3.07722317e-02 -2.70143757e-02\n",
      "  4.48102553e-02  2.31294329e-02 -2.41507003e-02 -9.11516845e-03\n",
      " -1.53624317e-02 -1.98398715e-02  4.41160082e-02  1.45356804e-01\n",
      "  2.36162056e-01  1.78560813e-01  1.50928099e-01  8.03700863e-02\n",
      "  1.74356637e-02 -3.99537403e-02 -1.24096546e-02 -1.43875732e-03\n",
      "  1.58445707e-02  4.14054599e-02  1.81436218e-01  1.57715729e-01\n",
      "  1.92452115e-01  1.69017934e-01  1.00458567e-01  8.01095678e-02\n",
      "  7.48821457e-02  5.70680916e-03 -1.28430898e-02 -2.15601066e-02\n",
      "  7.73512110e-03  1.11904345e-02 -3.39022869e-03  8.50236162e-02\n",
      "  1.01023781e-01  3.53833120e-02  1.05330258e-01  1.00948357e-01\n",
      "  2.16369502e-01  1.43532142e-01 -1.39387930e-02  6.25356115e-02\n",
      "  1.56820525e-02 -1.16173828e-03 -2.45605736e-02  9.26960964e-02\n",
      "  9.22910435e-02  2.58392280e-02  2.26291908e-02  9.59737641e-03\n",
      "  1.48615363e-01  4.55398269e-02  2.81865848e-02  6.61490752e-02\n",
      "  9.57873024e-02  3.31555155e-01  1.68184380e-01  3.91133212e-02\n",
      "  5.92832640e-02  3.25562451e-02  5.20037705e-02  6.22630984e-02\n",
      " -1.91176709e-02  3.28943817e-03  1.11244894e-03  1.10091420e-01\n",
      "  4.48645891e-02 -1.82197859e-02 -4.10674998e-02 -2.31896280e-02\n",
      "  4.37340541e-03 -2.77213989e-02  7.73486591e-02  9.79040230e-02\n",
      "  1.72856909e-02 -6.80407314e-03 -1.86928924e-02 -2.09224888e-02\n",
      " -2.23036424e-02  1.07840201e-01 -1.14842783e-03 -1.28729252e-02\n",
      "  3.29832542e-03  6.82780870e-02  1.99191214e-01  1.15243764e-01\n",
      "  1.32167083e-02  2.76488856e-02  6.72759690e-02  2.05306263e-02\n",
      "  6.23618712e-02  1.03131875e-01  4.26752411e-02  4.50765053e-02\n",
      "  4.64812509e-02  6.66204433e-02  4.22253315e-02 -7.18897351e-03\n",
      " -2.52901132e-02  3.82866735e-04  5.36954788e-04 -1.48855056e-02\n",
      " -9.94901985e-03 -4.04987271e-03 -1.94026322e-02 -1.35289569e-02\n",
      " -1.59773736e-02 -1.04279107e-02  3.66392924e-02 -7.35382653e-03\n",
      "  4.04513554e-02  8.40734857e-02  1.37956356e-01  3.19080500e-02\n",
      "  2.50090482e-01  3.14511975e-01  1.19091473e-02 -1.48012628e-02\n",
      "  2.37734347e-02  2.83757718e-02  1.54095554e-01  2.22394215e-01\n",
      "  2.22079024e-01  4.40981435e-01  3.78709330e-01  1.25618936e-01\n",
      "  6.91900576e-02  4.16821806e-03 -1.95870193e-02 -3.64924710e-03\n",
      "  1.44947851e-03 -2.18365303e-02 -7.07132652e-03  1.61460332e-01\n",
      "  1.41684252e-01  2.06931668e-01  3.45250571e-01  1.67408616e-01\n",
      "  1.02019393e-01  1.11882155e-01  3.27407005e-02 -1.32008206e-02\n",
      "  7.75667258e-03 -1.27889764e-02  1.71540794e-02  3.52974118e-02\n",
      " -2.02193111e-03  3.09028367e-02  1.49929520e-01  1.06251506e-01\n",
      "  1.84502611e-01  1.13317256e-01  1.11791037e-01  1.56768982e-01\n",
      "  7.78291256e-02  8.45372846e-02  2.31484692e-02  8.27251626e-03\n",
      "  9.79911616e-02  8.12515767e-03  1.41678508e-02  6.20518886e-02\n",
      "  4.45766145e-02 -1.48689904e-02  9.16428974e-02  1.29590274e-02\n",
      "  2.58396600e-01  1.42092999e-01  1.24235566e-01  2.04385856e-01\n",
      "  1.74965530e-01  2.28311214e-01  4.17666928e-02  5.72729592e-02\n",
      "  1.25999540e-01  1.52239619e-02  6.18797289e-03  1.12192367e-02\n",
      "  1.11501311e-01 -8.51078095e-03 -1.39076956e-02 -6.05663601e-03\n",
      "  1.28920154e-01  9.23600092e-02  8.87065979e-02 -7.81817768e-03\n",
      " -8.70451941e-03 -3.41746334e-02 -1.28795373e-02  1.18995231e-02\n",
      "  1.34692221e-02 -1.44990752e-02 -3.73385191e-03 -2.44596284e-02\n",
      "  9.64768567e-02  1.40349913e-01  1.08331485e-01  1.49160413e-02\n",
      "  1.83254952e-02  1.80423436e-02  1.00339012e-01  1.36499145e-01\n",
      "  6.45451264e-02  2.42285061e-04  1.25949304e-01  8.16070810e-02\n",
      " -1.36765195e-02 -7.96069837e-03 -2.61900535e-03 -1.77131893e-02\n",
      " -2.06635545e-02 -1.81765013e-02 -2.88307868e-03 -1.43993542e-02\n",
      " -3.51672840e-02  1.90059789e-02 -2.25673283e-02 -1.47850690e-03\n",
      "  2.40265297e-03 -1.25291953e-03 -1.00124721e-02  1.63695110e-03\n",
      " -1.69614280e-02 -1.04372592e-02 -1.55769166e-02  8.51861513e-04\n",
      " -9.32750528e-03 -1.57022745e-02  6.48261357e-02  1.20495155e-03\n",
      "  1.94423851e-03  1.00400233e-01  3.92311971e-02 -3.27036745e-02\n",
      " -1.00642363e-02  3.49710808e-02  7.21873943e-02  1.96840402e-01\n",
      "  4.55690499e-02  7.45739990e-02  2.94957339e-01  1.84039108e-01\n",
      "  1.96279754e-01 -1.46036221e-02  4.98696399e-02 -1.08714224e-02\n",
      "  4.96949969e-03 -4.37764435e-03  1.08913901e-01  2.19275581e-01\n",
      "  1.50112320e-02  3.38287464e-01  3.87670775e-01  2.13674268e-01\n",
      "  1.62961109e-01  5.91670680e-02  2.52268286e-03 -1.92121854e-02\n",
      " -1.37248881e-03 -2.03559281e-02  5.46219514e-02 -1.02466851e-02\n",
      "  5.80396010e-02  1.08639300e-01  5.52169716e-02  3.72247432e-01\n",
      "  2.50429499e-01  2.91093056e-01  2.02397079e-01  3.70020663e-02\n",
      "  7.54619726e-02 -2.00334560e-02  1.95306699e-02  9.11916576e-03\n",
      " -8.17535686e-03  2.13896802e-04 -1.84931458e-02  3.63348590e-03\n",
      "  8.69664633e-02  9.48257579e-02  2.40264368e-01  1.08169282e-01\n",
      "  8.15124199e-02  4.69260727e-02  7.40370202e-02  8.36787162e-02\n",
      "  6.74753575e-02  9.69203662e-02 -5.99539578e-03  3.33599117e-02\n",
      " -1.52084358e-03  1.67451976e-02  1.10665885e-02  2.19293049e-03\n",
      " -2.10346170e-02 -2.14692753e-02  1.26169663e-01  1.31562402e-01\n",
      "  6.18750105e-03 -9.40853699e-03  1.42798796e-01  5.61812639e-02\n",
      "  8.41380837e-03  3.11599537e-02  1.12497189e-02  2.15528073e-02\n",
      "  3.87455519e-04  1.40954676e-01  1.07535277e-01  7.67975315e-02\n",
      " -1.31281167e-02 -2.57712904e-02  3.95321819e-03  4.59482457e-02\n",
      "  3.61544843e-02  1.72974304e-02  7.08540582e-04  3.34103598e-03\n",
      " -1.56186833e-02 -1.21044435e-02  1.06416502e-01  3.16687681e-02\n",
      "  1.90373954e-02  1.50721865e-03  5.14978651e-02  1.28760444e-01\n",
      "  7.72862922e-02  9.23445363e-02 -4.37714055e-05 -1.07703553e-02\n",
      " -3.04984635e-02 -3.52060595e-02  5.79330095e-02 -4.61389819e-03\n",
      " -5.01850021e-03 -9.48253539e-03  2.99866948e-02 -9.89721679e-03\n",
      "  8.91245599e-03 -3.10885462e-02 -2.35669017e-02  4.14168647e-02\n",
      "  6.24016896e-03  2.04635614e-02 -1.64565407e-02 -2.95094609e-02\n",
      " -1.11354738e-02 -7.00345818e-03 -1.61295368e-02 -5.31746205e-04\n",
      " -2.85181682e-03  8.04273279e-02 -1.75284538e-02  2.88336962e-02\n",
      "  2.58743121e-02  2.04217483e-02 -2.74378613e-02  1.08219684e-02\n",
      " -1.75883173e-02 -2.07097374e-02  4.21129827e-03 -1.54478211e-02\n",
      " -2.27463709e-02 -7.55149831e-03 -1.36971195e-02 -1.35542181e-02\n",
      " -7.81863966e-03 -3.06169919e-03 -1.37489464e-03 -2.83412018e-02\n",
      "  3.95881350e-03 -9.92941304e-03 -2.09177451e-02 -6.95964558e-03\n",
      "  4.66901694e-02  3.28516193e-02 -1.19619018e-02 -1.23777307e-02\n",
      " -2.26940289e-02  1.38324442e-02  2.48338259e-02  7.12658432e-02\n",
      "  1.64963849e-01  2.00612255e-01  2.25339527e-01  9.25856927e-02\n",
      "  1.80796290e-04  4.32476279e-02  1.48980840e-01  3.69196056e-02\n",
      "  2.48655203e-02  1.94235809e-01  2.89614415e-01  2.30176420e-01\n",
      "  1.01948922e-01  1.12343419e-01  1.48722684e-01  2.59625636e-01\n",
      "  4.24039765e-02 -5.26275014e-03 -1.03450918e-02  3.12731209e-02\n",
      "  7.92703190e-02  8.07008808e-02  3.60591603e-01  3.47087377e-01\n",
      "  8.90990614e-02  2.44239665e-01  2.15443297e-01  1.00100180e-01\n",
      "  1.59868146e-02  3.92513455e-02  1.32930512e-02  2.17410087e-02\n",
      " -1.16414193e-02  1.01529207e-02 -2.01129032e-03  4.47240798e-02\n",
      "  2.82399286e-01  1.57653097e-01 -4.61383884e-03  4.52314734e-02\n",
      "  2.34287081e-01  1.42512192e-01 -1.86236802e-03 -3.32508706e-02\n",
      " -2.75154220e-02  2.17029242e-02  2.85771214e-02  4.66090003e-03\n",
      "  1.55085198e-02  2.34315364e-02 -1.76885378e-02  5.64543683e-02\n",
      " -6.31846546e-03  3.76322159e-02  7.36194495e-02  5.44770314e-02\n",
      " -8.78982860e-03 -1.21227365e-02 -5.10569638e-03 -1.10379602e-02\n",
      "  6.29512767e-02 -1.16757619e-02  2.97664537e-02  7.11297834e-02\n",
      "  3.59059433e-02  1.88873070e-02  9.16446696e-02  2.80080993e-02\n",
      " -2.07319196e-02 -3.22454635e-02 -2.56971217e-02 -2.11086872e-02\n",
      "  2.28699453e-02 -1.10403717e-02  1.17293947e-02  2.52306609e-02\n",
      "  4.71169413e-03  2.07040573e-02 -2.35151358e-03  1.26138488e-01\n",
      "  2.28855335e-01  4.78344427e-03 -8.29845667e-03 -2.69072230e-02\n",
      " -1.31020836e-02 -7.96657315e-03  1.12682936e-01  8.85089057e-02\n",
      "  4.62260676e-02 -2.47134187e-03 -1.13684325e-02 -9.53795591e-04\n",
      " -1.36689704e-02 -2.84750612e-02 -1.84265626e-02 -2.87891224e-02\n",
      " -3.29754451e-02 -2.05457079e-02  2.68134799e-02  4.61093957e-02\n",
      "  2.34737601e-02 -1.90316097e-02 -7.80463942e-03  7.69565496e-02\n",
      " -1.40099576e-03  9.77365845e-02  1.06662257e-01  1.22295635e-02\n",
      " -3.44732376e-02 -3.48552323e-02 -2.42077826e-02 -9.05542885e-03\n",
      "  9.35744384e-02  3.52227637e-03  1.52750394e-01  1.58407122e-01\n",
      "  2.04230291e-01  2.63675617e-02 -1.04331897e-02 -3.88931491e-03\n",
      "  2.82601430e-02  1.93982198e-02  3.55469452e-02  1.89656123e-01\n",
      "  7.07602222e-02 -1.47241390e-02  4.76456374e-03 -1.87132787e-02\n",
      " -1.90045923e-02  3.33705166e-02  9.43258540e-03  1.26534698e-02\n",
      "  1.04362394e-01  1.41747752e-01  3.47691883e-03 -1.55347066e-02\n",
      " -3.23131031e-02  2.78587260e-02  2.52339067e-02  9.36902858e-03\n",
      "  1.22161995e-01  8.99579761e-02  1.66312971e-03  6.08909501e-02\n",
      " -5.83384984e-03  1.23680395e-02 -1.72805780e-02 -2.74870788e-02\n",
      " -2.16115823e-02 -5.06140789e-03 -2.59264767e-02 -2.79123796e-02\n",
      " -1.00320233e-02 -9.16009625e-03 -1.91386634e-02 -2.59627445e-02\n",
      " -1.13356575e-02 -1.06155441e-02 -2.46920245e-02 -1.22797666e-02\n",
      " -5.98070700e-03 -2.01512828e-02 -2.51415748e-02 -5.84672634e-03\n",
      " -1.58693549e-02  2.18250327e-02  2.30857333e-02  8.30186355e-02\n",
      "  1.44359677e-01  1.20080666e-01  7.78743664e-02 -1.62748689e-02\n",
      " -1.59466067e-02  3.26284577e-02  7.47622027e-02  2.34872575e-01\n",
      "  2.03332119e-01  2.05820296e-01  2.02878430e-01  1.85905395e-01\n",
      "  1.37993297e-01  1.55443697e-02  7.37479492e-02  2.20509746e-02\n",
      "  1.59941416e-01  7.06007999e-02  1.02263318e-01  7.17187557e-02\n",
      "  2.16550765e-01  1.87611849e-01 -3.91850491e-03  1.46138668e-02\n",
      "  8.19292856e-02  2.29119315e-01  5.78899899e-02 -8.02963203e-03\n",
      "  4.10718710e-03 -1.13868273e-02  2.11777338e-01  4.96514851e-03\n",
      " -1.05007865e-03  1.69965845e-01  2.68833866e-01  1.62242666e-01\n",
      "  2.89462914e-02 -6.21829029e-03  3.36667746e-02 -1.33181296e-02\n",
      " -3.03748194e-03 -2.56822413e-03  2.96795231e-02 -6.06604333e-03\n",
      "  1.73625480e-01 -4.33775517e-03  2.42658100e-02 -1.31158411e-02\n",
      "  7.35345840e-02  1.87782365e-01  1.62867410e-02 -6.13961488e-03\n",
      "  2.92657667e-02  1.91506010e-03 -1.88591137e-02  2.45599424e-02\n",
      "  1.40326084e-02  6.20046915e-03 -7.24424806e-03 -1.68093939e-02\n",
      "  8.97742796e-03  6.76769384e-02  9.53730820e-02  1.33567798e-01\n",
      "  1.51436355e-02 -2.04938108e-02  1.57939750e-02 -2.75875680e-02\n",
      " -1.57012071e-02  2.11206333e-02 -1.87895073e-03 -5.25682684e-03\n",
      "  5.79675770e-03 -1.54294766e-02  1.77814379e-01  8.49962914e-02\n",
      "  5.07243721e-02  2.38994520e-02  1.05095306e-01  4.10436863e-02\n",
      " -1.94079758e-02  7.73067836e-03  2.53385910e-02 -1.51979624e-02\n",
      " -2.00802431e-02 -1.02740675e-02 -2.18810694e-02  7.04576249e-04\n",
      "  7.20496294e-03 -1.73562208e-02 -1.72504216e-03  4.09838102e-02\n",
      "  3.09022289e-02  7.29409018e-02  1.90973087e-01  9.94506065e-03\n",
      "  5.92169933e-03 -2.06630548e-03 -2.83465335e-03  8.76689607e-02\n",
      "  1.81477762e-02 -2.05815297e-02 -8.12335903e-03 -1.63009189e-02\n",
      "  2.11800779e-02 -1.32241565e-02  6.27942333e-03 -1.32817022e-02\n",
      " -1.02825945e-02 -3.18097089e-02 -1.23727441e-02  2.78886185e-02\n",
      "  6.81181943e-02  1.38173119e-01  3.53137299e-02 -2.53760076e-02\n",
      "  3.47791677e-02 -2.03846611e-02 -2.16504455e-02 -3.67389052e-02\n",
      "  6.55659295e-02  8.63683161e-02  2.05508371e-02 -2.38196737e-02\n",
      "  1.85385826e-02 -9.67856642e-03 -1.12191285e-02 -3.61215269e-02\n",
      "  9.52798352e-02  9.45474900e-02  4.92205505e-02  5.52508075e-02\n",
      "  1.05173591e-02 -2.57317473e-02 -2.57476294e-02 -2.27000999e-03\n",
      " -2.14868773e-02  7.31065196e-02  4.39106222e-02  8.39620609e-02\n",
      "  1.42162259e-01  2.10844875e-02 -1.49407470e-02 -1.07217806e-02\n",
      " -6.61382373e-03  4.48042278e-02  5.50483553e-02  7.02678137e-03\n",
      " -7.01120770e-03  5.04355249e-04  5.13349198e-02 -7.22949879e-03\n",
      " -2.67141069e-02 -3.62667742e-02  3.74619440e-03 -3.93048758e-03\n",
      " -1.57283761e-02 -3.15596828e-02 -1.83321881e-02 -8.15675196e-03\n",
      "  1.77901145e-02 -6.37865088e-03 -1.02593716e-02  3.51066011e-03\n",
      " -1.73777315e-02 -7.95822218e-03 -8.56614989e-03 -1.56268154e-02\n",
      "  7.23563938e-03  1.15373873e-02  2.32713684e-02 -3.57421060e-03\n",
      " -1.51171589e-02 -1.58133413e-02  8.46330636e-02  1.23982643e-01\n",
      "  2.21358261e-01  2.89511682e-01  3.60337271e-01  2.02107665e-01\n",
      "  2.50612945e-02 -2.70441352e-02  6.97686878e-03 -1.60876316e-03\n",
      "  1.42356558e-01  1.47016680e-01  1.87985177e-01  3.98994894e-01\n",
      "  3.71465388e-01  3.44452694e-01  7.81794120e-02  2.39009917e-01\n",
      "  6.27839884e-02  2.11427127e-02  6.79849831e-02  6.66531702e-02\n",
      "  5.37368613e-03  2.31541660e-01  3.39942011e-01  1.22355976e-01\n",
      "  2.68403495e-02  1.46561502e-01  1.09469890e-02  2.55881952e-02\n",
      "  2.45310260e-02 -2.21520347e-02  6.77514332e-02  2.75636374e-01\n",
      "  2.49806993e-01  2.43987510e-02  2.78898046e-02  1.59585040e-01\n",
      " -9.61879722e-04  3.99437328e-02  1.10102814e-01  7.56330256e-02\n",
      " -5.10807972e-03  2.45017430e-03  1.80786676e-01  3.82410144e-01\n",
      "  4.00638816e-01  3.08850691e-01  5.25224200e-02  1.48829870e-01\n",
      "  6.62437507e-02  3.70222266e-03  9.40528576e-02  2.24263355e-02\n",
      " -2.81863557e-02  1.07738070e-02 -9.17936037e-03 -2.94351870e-03\n",
      "  1.08235935e-01  1.60109802e-01  2.80405552e-01  3.44481355e-01\n",
      "  1.85166965e-01  2.18090626e-01  5.23233786e-02  7.09021140e-02\n",
      "  2.88723652e-02 -2.99364240e-02 -2.12097203e-02 -8.69661884e-03\n",
      "  3.82638898e-03  1.97314266e-02 -9.05475094e-03  4.40155743e-02\n",
      " -1.30737993e-02 -1.11651785e-03  3.60545332e-02  2.56562316e-01\n",
      "  2.00954479e-01  1.85107788e-02 -1.13012910e-02 -2.89714357e-03\n",
      "  7.53145105e-03 -1.03559341e-02 -2.42479394e-02 -2.21967288e-02\n",
      " -1.07247799e-03  3.68973965e-02  1.05938524e-01  1.17290408e-01\n",
      "  1.21695218e-01  1.09672578e-01 -3.13292482e-02  1.81320935e-02\n",
      "  2.37167810e-02  6.63347707e-03 -2.08980796e-02 -7.10367189e-03\n",
      "  8.12713557e-02  1.10176039e-01  1.43574131e-01 -2.46740437e-03\n",
      "  7.25161991e-03 -1.36253826e-02 -1.91252301e-02 -2.15062530e-02\n",
      "  1.04125090e-01  3.23876673e-02 -3.26104063e-02 -1.61056122e-02\n",
      " -1.41358956e-02  8.61458846e-03 -2.44267003e-02 -1.72698070e-02\n",
      "  1.32698199e-01  1.85759715e-02 -1.35680534e-02 -1.03080291e-02\n",
      " -1.77431899e-02 -6.64977046e-04 -3.04694054e-03 -1.54253320e-02\n",
      "  1.51067791e-01  5.95972147e-02  2.20932357e-02  1.64143284e-01\n",
      "  9.75345785e-02 -3.10514369e-02 -8.19352673e-04 -1.46675318e-03\n",
      "  1.00696398e-01  8.61176559e-02  2.34145613e-01  2.61307421e-01\n",
      "  5.22135469e-03  3.77599952e-02  2.32291241e-02  2.63603153e-02\n",
      "  1.98457544e-02 -1.37278812e-02 -1.90821041e-02 -2.64867101e-02\n",
      " -8.42452530e-03 -3.06041014e-02  7.98320835e-03 -6.90970786e-03\n",
      "  2.73014279e-02  5.17331880e-02 -1.96437568e-02 -1.85236350e-02\n",
      " -1.11089764e-02  8.23509373e-03  1.25030265e-02  6.64536908e-02\n",
      "  1.85815068e-01  3.04489250e-01  2.55989002e-01  7.50611728e-02\n",
      "  4.77327993e-02  3.18038285e-02 -3.25730066e-02  3.16004092e-02\n",
      "  8.60071277e-03 -1.37363588e-02  2.02055015e-01  4.01003655e-01\n",
      "  3.39734096e-01  2.37991369e-01  2.21216166e-01  1.64701128e-01\n",
      "  3.00073351e-02  1.15911045e-01  2.78322844e-01  7.12820017e-02\n",
      "  1.99899940e-01  3.36489906e-01  8.73717408e-02  1.03075180e-01\n",
      " -8.06246259e-04  8.93240352e-02  8.69955573e-02  5.02637335e-02\n",
      "  3.74080367e-01  3.64700576e-01  3.13608446e-01  5.92456126e-02\n",
      "  9.95350984e-02  6.10394626e-02 -7.10506767e-03  7.53388618e-02\n",
      "  1.23288425e-01 -2.22139703e-03  2.16773191e-01  3.75820072e-01\n",
      "  3.25694303e-01  2.70012505e-01 -1.71625702e-02  1.55398407e-01\n",
      "  2.03213062e-01  9.61230942e-02  2.70254187e-02  3.83836750e-02\n",
      "  2.90966718e-02 -1.11564471e-02 -9.05398747e-03  1.71913433e-02\n",
      "  1.11936155e-02  2.58522056e-01  3.07392084e-01  3.10462278e-01\n",
      "  2.18980802e-01  2.65863028e-01  2.61839564e-01  3.97982451e-02\n",
      " -2.00539960e-02 -1.55116020e-02  2.77292824e-03  1.06337390e-02\n",
      " -1.09727004e-02 -1.92787814e-02  2.14472222e-02  9.66942732e-03\n",
      "  2.20350145e-02  4.59561126e-02  1.03713819e-01  2.66131192e-01\n",
      "  2.67472594e-01  6.36177552e-02  7.65712576e-02 -2.52856207e-02\n",
      " -2.16547127e-02 -2.49164085e-02 -2.11222317e-02  2.26314548e-02\n",
      "  2.38204075e-02 -7.56516163e-03 -1.40310988e-02 -2.30979348e-02\n",
      " -1.08714676e-02  5.88419648e-02  4.52907050e-02  4.53847638e-03\n",
      " -2.51802903e-02 -3.42333295e-02 -2.37881538e-02 -1.45801079e-02\n",
      " -1.95298414e-03  2.27113825e-02  1.21047169e-02 -2.93943138e-03\n",
      "  1.61916098e-02  1.78062358e-02  2.17773033e-01  1.38615024e-01\n",
      "  5.63233929e-02 -2.70590884e-02 -2.67083980e-02 -5.57988339e-03\n",
      "  7.55576211e-03 -7.94755336e-03 -1.86300163e-02  1.77723345e-01\n",
      "  7.46567852e-02  1.00294924e-01  8.74314915e-02  8.58924826e-02\n",
      " -9.59265798e-03 -4.06097284e-02 -2.25382885e-02 -1.13358844e-02\n",
      " -2.20523642e-02  5.71313440e-02  6.57370753e-03  4.68170876e-02\n",
      "  1.54036363e-01  1.18397821e-01 -1.80914152e-02 -2.61685445e-02\n",
      " -2.80875373e-02 -2.14400881e-02  1.28461104e-02 -2.56349606e-02\n",
      "  7.05914433e-02  1.07779782e-01  8.34161154e-02 -1.13926400e-02\n",
      " -1.60263454e-02  9.90647407e-02  7.82794658e-02  8.81906029e-02\n",
      "  6.27790193e-02 -3.38038998e-03  8.05259674e-02  2.48773257e-02\n",
      " -9.52127541e-03 -2.41251925e-03  1.35958084e-02 -7.02439391e-03\n",
      " -2.37307624e-02 -1.80336223e-02  1.64978217e-02 -9.91070171e-03\n",
      "  1.79227294e-02  4.21738020e-03  5.29987294e-02  6.90462701e-02\n",
      "  6.92213287e-02 -2.23505340e-02 -6.10843654e-03  1.60303772e-02\n",
      "  8.51180206e-03 -9.52466207e-03  6.98693422e-02  1.12681909e-01\n",
      "  1.35647808e-01  1.58354368e-01  1.16388661e-01  6.08171648e-02\n",
      "  5.62486587e-02 -3.47909988e-03  2.72223842e-02  6.44403706e-03\n",
      "  5.31524040e-03  1.09229146e-01  5.69727292e-02  2.65086266e-01\n",
      "  1.45563260e-01  1.20359460e-01  4.86612904e-02  1.11866293e-01\n",
      "  1.85585614e-01  2.15403495e-01  8.32294828e-02  4.66252392e-01\n",
      "  4.58718140e-01 -1.26571078e-03  1.24969818e-01  4.65580849e-02\n",
      " -1.25189080e-02 -1.13382642e-02  1.77310656e-02  3.63719238e-02\n",
      "  1.16414080e-01  1.32465133e-01  1.78392941e-01  5.73361393e-01\n",
      "  4.94678930e-01  8.33123166e-03  2.47550178e-02  2.85397587e-01\n",
      "  1.42218319e-01  1.26184613e-01  1.35243423e-01  1.26702006e-01\n",
      "  1.87219524e-01  1.52234341e-01  2.81626488e-01  4.58222192e-01\n",
      "  5.59661792e-01  2.85049912e-01  2.52593867e-02  8.43317848e-02\n",
      "  7.94137209e-02 -1.67761894e-02 -2.86407129e-03  1.54114864e-02\n",
      "  6.42581354e-02  3.30661490e-01  2.10572769e-01  1.49232682e-01\n",
      "  1.42171793e-01  1.95443598e-01  2.07642660e-01  5.12193202e-02\n",
      "  2.34172137e-01  1.06362380e-01 -1.49082211e-02  1.07403176e-02\n",
      "  1.58912129e-03  1.83015598e-03  2.94872872e-02  2.25848932e-02\n",
      "  3.42186911e-01  2.25103768e-01  1.81643868e-01 -2.13809905e-03\n",
      "  1.55208060e-01  1.39017861e-01  1.94365104e-02  4.38148122e-03\n",
      " -3.54615119e-02 -3.12587576e-02 -8.74600253e-03  1.11989245e-02\n",
      "  2.82766130e-02 -1.17722553e-02  1.30746902e-01  2.42443891e-01\n",
      "  2.94982290e-01  1.24486871e-01  1.50981286e-02  2.49097879e-02\n",
      "  1.58546505e-02 -1.23464063e-02  1.10558100e-02  1.32143209e-01\n",
      "  8.45734389e-02 -7.53304306e-03  4.93894848e-02  3.80651022e-03\n",
      "  1.45239579e-03 -1.05340872e-02 -2.34675689e-02 -2.21187704e-02\n",
      " -2.58609287e-02 -1.39198828e-02  5.10510765e-03  6.26418625e-02\n",
      "  7.39986687e-02 -2.95374982e-02  1.48315246e-02  9.32843707e-02\n",
      " -1.11299639e-02 -2.29051929e-02 -1.20019819e-02 -1.76378051e-02\n",
      " -1.15724587e-02 -1.69009609e-02 -2.68641510e-02 -9.50709010e-03\n",
      "  1.51836628e-01  3.26492157e-02  1.68516772e-01  9.19871686e-03\n",
      "  6.23530521e-02 -2.37447994e-02 -8.79264631e-04 -1.19562181e-02\n",
      " -2.05252286e-02 -2.07703228e-02 -1.45638096e-02  5.97794460e-02\n",
      "  7.44630448e-02  7.15351267e-02 -2.24310256e-02 -4.67439284e-03\n",
      " -2.94002984e-02  1.14912483e-02 -1.02874774e-03 -8.68180205e-03\n",
      "  4.63716572e-02 -2.46851425e-02 -2.84132561e-03  8.35815766e-03\n",
      " -1.79261523e-03 -3.29810408e-02 -1.77154910e-02  8.90145331e-03\n",
      " -2.88913620e-02 -3.06227666e-02 -6.71333872e-04 -1.39077656e-02\n",
      " -1.85324593e-02 -9.44956407e-03  7.77854583e-03 -6.14276836e-03\n",
      " -6.90326750e-03  1.73564521e-02  1.33722957e-02  5.47999265e-02\n",
      "  1.06827085e-01 -2.05265948e-02 -1.60176026e-02 -1.40433097e-02\n",
      "  1.84596354e-02  2.84894234e-02  9.03817609e-02  2.01491029e-01\n",
      "  3.02448608e-01  2.96304738e-01  2.15159508e-01  7.35492797e-02\n",
      " -3.83693057e-03  7.41673501e-03  3.89213728e-02  8.96100885e-02\n",
      "  3.31709026e-01  4.97788277e-01  5.00973695e-01  2.30712556e-01\n",
      "  1.09077553e-01  1.15527015e-01  8.92305827e-03  5.17574110e-02\n",
      "  6.58571365e-02  4.68553662e-01  5.00039670e-01  3.46584044e-01\n",
      "  1.85877111e-01  1.52727416e-01  6.99433509e-02  3.78293652e-02\n",
      "  3.28392172e-02  1.87942439e-01  2.34311705e-01  2.62025766e-01\n",
      "  4.84176402e-01  5.56172081e-01  3.87469720e-01  2.79718523e-01\n",
      "  2.69731896e-01  1.16244536e-01  8.14806542e-02  3.41049473e-02\n",
      " -3.72919738e-04  4.31002616e-02  4.84878792e-03  1.47352874e-01\n",
      "  5.15707337e-01  2.97372857e-01  4.52710652e-01  4.87237895e-01\n",
      "  5.41262133e-01  3.71262550e-01  2.30616335e-01  2.04820472e-01\n",
      "  6.24092608e-02  1.27341910e-02 -1.94047786e-02 -3.01697131e-02\n",
      "  4.95685280e-02  1.51125526e-02  1.19050104e-02  5.49444485e-02\n",
      "  4.40589764e-02  7.93894082e-02  8.24397548e-02  1.12104878e-01\n",
      "  3.15505206e-01  1.74528325e-01  1.10042445e-01  1.82712157e-01\n",
      "  7.14780425e-02  1.03752835e-02 -6.44518696e-03  1.17250479e-02\n",
      "  3.42577778e-02  6.82889366e-02  2.16883398e-02  3.34269444e-01\n",
      "  2.51474384e-02  2.99275892e-01  4.46917590e-01  2.32240574e-01\n",
      "  3.25270843e-02 -3.00551937e-02 -2.36330964e-02  2.23449571e-02\n",
      "  1.28909314e-02  9.44092336e-03 -8.20184634e-03 -6.72824550e-03\n",
      "  8.19090943e-03  3.32684503e-01  2.20025934e-01 -1.38397347e-02\n",
      " -1.57479879e-04  1.43809382e-03  1.69695048e-01  1.95762784e-01\n",
      "  9.00948648e-02 -2.04691658e-03 -7.10684004e-03 -5.29169799e-03\n",
      "  1.42701027e-02  4.09344709e-02  2.69000180e-02  3.01846136e-01\n",
      "  3.07753285e-01  9.23907798e-02  1.66711568e-02  2.29267619e-01\n",
      "  8.33931751e-02 -1.58084902e-02 -2.14075609e-02  5.93524584e-03\n",
      " -7.06492358e-03  1.19141803e-02  2.84528964e-03 -2.81490412e-02\n",
      " -1.71002299e-02 -1.05609382e-02  3.32399921e-02  9.20718453e-02\n",
      "  3.91120944e-02  1.12221488e-01  7.21350740e-02  8.55077400e-03\n",
      " -2.22096965e-03  1.79499331e-03 -2.47961824e-02 -1.29432251e-02\n",
      " -1.55015374e-02 -1.73024129e-02  3.31846685e-02  2.44301174e-02\n",
      "  7.00741733e-02 -3.47507555e-02 -6.84856552e-03 -2.26390348e-02\n",
      " -1.84946215e-02  6.03678230e-04 -4.76829769e-03  1.08333926e-02\n",
      " -5.51581485e-03 -1.69190767e-02  4.54721732e-02  8.69958052e-02\n",
      "  1.49440357e-01 -1.86452082e-02 -1.96801944e-02 -7.21208449e-03\n",
      "  2.04663808e-03  8.99610440e-03 -2.60946506e-02 -2.33398145e-03\n",
      " -1.73805914e-02 -1.03518634e-02 -2.56471686e-02  2.51964263e-02\n",
      "  6.91447021e-03  4.51425330e-02 -5.95326177e-03 -1.45680083e-02\n",
      " -2.22241297e-02 -3.08133390e-02  2.12985792e-03  1.34911991e-02\n",
      " -1.33511575e-02 -1.16739121e-02 -5.27739068e-03  4.33368158e-03\n",
      " -1.89492707e-02  2.15217197e-02  9.78490958e-03 -2.08982429e-02\n",
      " -1.02328728e-02  1.24304208e-02  2.77844088e-02 -2.39169634e-02\n",
      " -2.45267222e-03  4.02672232e-02  4.64376100e-03 -2.04547202e-02\n",
      " -4.02209076e-03  2.15164904e-02  1.20941167e-01  2.92600940e-01\n",
      "  2.73854101e-01  2.31841882e-01  7.87367993e-02 -1.41759926e-02\n",
      "  4.00874788e-02  1.05112201e-01  3.80969332e-01  4.71080789e-01\n",
      "  4.72057330e-01  4.48068300e-01  1.33398651e-01  6.69587912e-02\n",
      "  8.25342112e-04  4.15979039e-02  3.33988196e-01  3.58137587e-01\n",
      "  2.38882024e-01  7.77133090e-02  1.20948548e-01  1.79347393e-01\n",
      "  1.01635834e-01  2.10642077e-01  1.77267379e-01  1.14776371e-01\n",
      "  4.06486424e-01  3.02222173e-01  3.06834287e-01  3.98929457e-01\n",
      "  2.34881359e-01  7.48564730e-02  1.04075594e-01  1.27182166e-01\n",
      "  2.23712454e-01  1.94005414e-01  2.59661943e-01  1.28859707e-01\n",
      "  1.55706761e-01  1.47566807e-02  1.19305347e-01  5.33984165e-01\n",
      "  3.09474792e-01  4.38932274e-01  3.77181869e-01  3.04778324e-01\n",
      "  1.94843148e-01  6.39818778e-02  1.64085936e-01  2.15826480e-01\n",
      "  1.00122231e-01 -1.20650722e-02 -3.85544291e-03  1.37455115e-02\n",
      "  8.23331191e-02  1.46868738e-01 -8.46271128e-03  8.86507135e-02\n",
      "  6.07761316e-01  4.83591064e-01  2.46251684e-01  5.94258034e-02\n",
      "  9.89253545e-04  1.38600772e-01  8.00951851e-02 -1.66673869e-02\n",
      "  3.78760968e-02  2.07665842e-02  1.42056405e-03  4.33931368e-02\n",
      "  2.88735932e-01  1.55403337e-01  1.22324316e-01  4.15359470e-01\n",
      "  4.39956382e-01  4.57751230e-01  1.77726730e-01  1.56747860e-01\n",
      "  8.87256823e-02  7.74211779e-02 -2.23185109e-02  3.42297857e-02\n",
      "  4.46957485e-02  1.02703546e-02  2.57781911e-03  4.92874643e-02\n",
      "  2.17957806e-01  6.65939499e-03  5.19007415e-02  2.60621807e-01\n",
      "  1.69830807e-01  1.19773593e-01  1.29138280e-01  4.88095203e-02\n",
      "  1.65745226e-03 -2.68566884e-02 -1.95406406e-02 -1.07372309e-02\n",
      " -1.36755260e-02 -4.61394916e-03  1.14247786e-02  1.87572786e-02\n",
      "  1.62358648e-01  8.57716687e-02  4.94634712e-02  3.05176550e-01\n",
      "  2.11092889e-01  2.59987243e-01  7.23960710e-03 -1.00486045e-02\n",
      " -1.34791248e-03 -1.75648768e-02  2.71654190e-03 -5.69308350e-03\n",
      " -2.98143469e-02  2.38659794e-03  1.40289621e-01  9.07373919e-02\n",
      "  1.36081168e-02  3.74091737e-02  5.41074682e-02  2.00577407e-01\n",
      "  1.64894711e-01  4.83617616e-03  8.62339067e-03  2.88856956e-02\n",
      " -1.62101690e-02 -2.14469007e-02 -6.89033623e-03 -1.20922868e-02\n",
      "  2.77156620e-03  7.06318413e-02  6.84037092e-02 -6.64770515e-03\n",
      " -2.28422789e-02 -4.78970372e-03 -1.22892591e-03  3.13988097e-03\n",
      " -3.99860289e-03 -1.36898424e-02  2.42373801e-02  1.46109130e-02\n",
      "  1.53227314e-01  3.58795166e-03 -4.68249491e-03 -1.65662142e-02\n",
      " -2.08630797e-02 -2.41971852e-02 -1.13922636e-02  2.26370263e-02\n",
      " -1.32692451e-02 -4.43039922e-03 -9.76694937e-03 -2.18165179e-02\n",
      " -2.71041962e-02 -2.41467968e-03  6.11221161e-03  1.17761572e-02\n",
      "  2.55148984e-03 -3.27548318e-02 -2.18729568e-02 -5.03584146e-03\n",
      "  4.98157858e-03  5.27581867e-03 -9.98251659e-03 -1.17146527e-02\n",
      " -3.80355642e-02 -4.41859495e-03 -1.24140587e-02 -1.49104267e-02\n",
      " -2.65788754e-02 -2.55104343e-02  8.20316307e-03 -8.28331611e-03\n",
      " -6.06640364e-03  1.86247966e-02 -2.65834371e-02  3.74643494e-02\n",
      "  9.47037338e-02  2.44153080e-01  3.19934467e-01  7.27742087e-02\n",
      "  5.55249450e-02 -1.27655300e-02  3.32002119e-02 -1.11845505e-02\n",
      "  3.63970891e-02  4.01357869e-01  3.89979223e-01  3.53707045e-01\n",
      "  2.91158106e-01  2.98885513e-01  1.26388825e-01  1.99144748e-01\n",
      "  1.10579904e-01  6.30120213e-02  6.09921528e-03  1.63282623e-01\n",
      "  2.03913543e-01  3.00110336e-01  5.35496323e-01  4.56185116e-01\n",
      "  1.93869390e-01  2.53294465e-01  2.13277885e-01  2.09282371e-01\n",
      "  1.61797299e-01  2.46009061e-02  4.67882874e-03  1.17121489e-02\n",
      "  7.74775797e-02  3.58445488e-01  2.30432110e-01  4.67460897e-01\n",
      "  4.47869764e-01  4.81962232e-01  4.15446193e-01  3.25702576e-01\n",
      "  1.99649993e-01 -3.15133876e-03 -5.30217187e-03  1.56167719e-01\n",
      "  2.10122667e-01  5.35742705e-02  1.53985546e-02  8.42765180e-02\n",
      "  2.88609770e-02  5.52888978e-02  2.85154398e-01  6.05246229e-01\n",
      "  4.64583992e-01  4.43414251e-01  3.45917027e-01  2.62145570e-01\n",
      "  3.37076529e-01  3.39077539e-01  4.01943753e-01  4.31127413e-01\n",
      "  3.17901403e-01 -1.38404291e-02  2.90475605e-03  1.87636480e-02\n",
      "  5.73196220e-02  3.73616103e-02  5.35855804e-04  6.70446248e-02\n",
      "  4.36727279e-01  3.99150511e-01  3.99668586e-01  9.14546967e-02\n",
      "  1.16315193e-01  1.46491756e-01  1.03492543e-01  3.07575800e-03\n",
      " -2.46402371e-02  5.65077708e-02  3.65732480e-02  1.20814025e-02\n",
      "  1.90427438e-01  1.60962123e-01  1.75462372e-01  1.62880177e-01\n",
      " -1.22744404e-02  6.87243929e-02  4.97339381e-02 -1.07142204e-03\n",
      "  1.52385170e-02  1.93947931e-02  2.00260760e-02  1.02624092e-02\n",
      "  8.61959717e-03  6.82493480e-02  7.13088408e-03 -2.75104812e-03\n",
      "  1.75792976e-01  2.14251847e-01  2.13812426e-01  9.04727386e-02\n",
      "  1.02339749e-01  4.94764052e-02 -1.17108138e-02 -1.30620430e-02\n",
      "  2.98809584e-02  8.90071203e-04 -6.68119711e-03  1.53612708e-01\n",
      "  1.97369249e-01  7.24718187e-02  4.76879708e-02  1.64953510e-01\n",
      "  2.20274696e-01 -9.20392748e-03  1.08130274e-01  7.05410448e-02\n",
      " -2.12923970e-02  2.20483793e-02  2.49999671e-02 -9.23531842e-03\n",
      "  1.24203795e-01  1.57760606e-02 -2.50407998e-02 -5.94112785e-03\n",
      "  2.46881993e-02  1.61304780e-01  1.02625908e-01  5.82436767e-02\n",
      " -5.17292018e-03  2.58030380e-02  3.58906168e-03 -2.01659516e-02\n",
      "  4.04426323e-02 -1.69330802e-02 -3.21994312e-03 -1.83742193e-02\n",
      " -2.08274413e-02 -2.33967232e-02  1.85707167e-02 -5.08496349e-03\n",
      " -1.05922885e-02 -1.29904493e-03 -5.71764841e-03 -7.81012510e-03\n",
      " -3.53717599e-03  7.98002812e-03  2.16661486e-02 -1.64316277e-02\n",
      "  1.53854299e-02 -5.71794131e-03  4.49015442e-03 -1.42259721e-02\n",
      " -1.23686212e-02 -2.31342479e-02 -2.88847889e-04 -2.66721596e-02\n",
      " -2.49770921e-02 -2.86485913e-02  2.71823810e-02  1.58118706e-04\n",
      " -8.53365769e-03  5.77168719e-03 -7.57762201e-03  2.98145362e-02\n",
      "  1.69959251e-01  2.89325147e-02  2.05879322e-02 -5.78736638e-03\n",
      " -1.30563889e-02 -2.27961517e-02  2.61139737e-03  6.65668582e-03\n",
      "  1.24202692e-01  2.69321452e-01  4.41151000e-01  1.64317006e-01\n",
      "  7.76633818e-02  4.27033045e-02  3.24588331e-02 -3.47588035e-03\n",
      " -4.66284540e-04  2.46176075e-01  2.96134341e-01  5.42895869e-01\n",
      "  5.59912586e-01  5.02430825e-01  3.91448073e-01  2.92089974e-01\n",
      " -3.13392890e-03 -1.05109398e-03  2.80672327e-02  5.76921286e-03\n",
      "  1.57792429e-02  7.04471427e-02  4.39345748e-01  2.74985834e-01\n",
      "  4.91119191e-01  4.89155233e-01  4.11607479e-01  5.00057396e-01\n",
      "  3.71360309e-01  2.60577641e-01  2.89533556e-01  2.54896141e-01\n",
      "  2.90781589e-01  2.99790552e-01 -7.46546060e-03 -6.21596604e-03\n",
      "  1.26305694e-02  7.84693476e-02  1.23020858e-01  1.40044222e-01\n",
      "  4.31157050e-01  4.70871364e-01  4.55467980e-01  3.77501188e-01\n",
      "  3.66514038e-01  2.23904851e-01  3.22336702e-01  4.98058813e-01\n",
      "  5.51712956e-01  5.51056469e-01  2.82218942e-01  2.84536256e-01\n",
      "  4.29111549e-02  3.32654107e-02  2.31747362e-03 -1.70823982e-02\n",
      "  3.44171759e-02  2.84384775e-01  3.52008420e-01  4.39146089e-01\n",
      "  2.63282604e-01  3.79912034e-01  3.03432305e-01  3.38907635e-01\n",
      "  4.25052884e-01  3.45275428e-01  2.41976900e-01  2.47015202e-01\n",
      "  3.39421370e-01  1.15997205e-01  2.65981824e-02  6.71204606e-02\n",
      "  2.35509922e-02  1.45781355e-01  2.22162264e-01  3.93963902e-01\n",
      "  2.85345576e-01  3.79643497e-01  4.44905510e-01  1.75802786e-01\n",
      "  3.16467679e-02 -8.28751753e-03 -1.14836117e-02  4.05698067e-03\n",
      "  2.55326883e-02 -1.30690569e-03  1.16278292e-02  2.09019194e-02\n",
      "  3.22748125e-02  4.91671869e-02  6.16985954e-02  3.54313187e-01\n",
      "  2.87266219e-01  2.64621540e-01  3.76116500e-01  8.96794229e-02\n",
      "  3.87498180e-02  6.32722495e-02  3.12402303e-02  9.07230469e-03\n",
      "  3.24204462e-02  3.39128124e-02  1.14167945e-02 -7.35679252e-03\n",
      "  4.89161449e-02  9.00255201e-02  1.02708801e-01  2.97085983e-01\n",
      "  3.58570604e-01  4.38264624e-01  1.24629881e-01  1.86752100e-02\n",
      " -9.22175910e-03  1.40263525e-02 -7.05075408e-03  1.49106008e-02\n",
      "  8.25562926e-03 -3.26657310e-03  4.07996096e-02  1.19814603e-01\n",
      "  3.78000901e-02  6.45384876e-02  3.78068619e-02  1.47304558e-01\n",
      "  2.05378387e-01  2.12831320e-01 -8.73948032e-03 -8.30037061e-03\n",
      "  6.09325828e-03  1.74625254e-02  1.33705678e-02  5.22948245e-02\n",
      "  1.96660028e-02  1.11578079e-01  1.07274442e-01  2.90936776e-01\n",
      "  1.35311026e-01  2.03723144e-01  1.54667085e-01 -1.05871759e-02\n",
      "  9.29928529e-03  3.16014916e-03  3.64746018e-04  9.91821584e-03\n",
      " -5.18491119e-03 -9.56992235e-03  2.87180808e-01  1.67070793e-01\n",
      "  3.71885571e-02  1.61029463e-01 -1.09479627e-02 -8.50869342e-03\n",
      " -1.05904035e-02 -2.44076789e-02 -8.34139675e-03 -1.23937397e-02\n",
      " -1.99539996e-02 -9.78896803e-03 -1.53227342e-02 -1.56544607e-02\n",
      " -3.69012681e-03 -1.09657930e-02 -1.91273446e-02  4.32660140e-03\n",
      " -3.51811615e-02 -6.87377674e-04 -5.44998137e-03 -6.15421829e-03\n",
      " -6.90538729e-03 -2.34891328e-02  2.52850758e-02  7.47982205e-02\n",
      "  1.36174004e-02  3.34086627e-02  8.48445199e-03 -1.10142968e-02\n",
      " -3.80115235e-04  2.66508567e-01  2.65216961e-01  5.03244244e-01\n",
      "  4.69483105e-01  3.26840268e-01  3.05597727e-01  2.71254049e-01\n",
      "  8.24875440e-02  2.69755503e-02  1.88792067e-01  2.39474602e-01\n",
      "  3.18685002e-01  4.87916593e-01  3.57333987e-01  1.73860715e-01\n",
      "  2.73211781e-01  4.18754220e-01  1.96180521e-01  2.12199806e-01\n",
      "  1.17007461e-02  4.41379377e-02  4.31044009e-01  4.66572749e-01\n",
      "  6.00668343e-01  5.11833699e-01  3.22898420e-01  3.48410426e-01\n",
      "  4.16764380e-01  1.64845921e-01  1.09647470e-02 -1.88218896e-02\n",
      "  7.73949964e-02  1.54681160e-01  5.72241640e-01  5.02387115e-01\n",
      "  5.72379090e-01  5.38450961e-01  3.06269963e-01  3.44936179e-01\n",
      "  3.68804127e-02 -1.11583771e-02 -1.83800105e-02  6.52478523e-03\n",
      " -2.43116303e-02 -2.41957324e-02  1.20456651e-01  1.49583282e-01\n",
      "  1.64006749e-01  3.82071518e-01  3.74399801e-01  4.50532682e-01\n",
      "  3.29514211e-01  4.88166045e-01  2.87799087e-01 -1.15237237e-02\n",
      "  8.51646764e-04 -1.12097709e-03  1.93387751e-01  4.47828107e-02\n",
      "  2.53592151e-02  4.30966866e-02  2.15237616e-01  4.00516453e-01\n",
      "  5.07057155e-01  4.42841552e-01  3.39269091e-01  1.06983866e-01\n",
      " -1.33051730e-02  4.10461399e-03  3.27146978e-02  6.31620867e-02\n",
      "  2.98904897e-02 -1.81981550e-02  1.36430229e-02  2.81018455e-02\n",
      "  2.64964545e-02 -9.71683632e-03  4.32116355e-02  5.09141402e-01\n",
      "  3.90327977e-01  3.40636086e-01  3.70622932e-01  3.99059920e-01\n",
      "  1.42423701e-01  2.58174055e-02 -9.72651559e-03 -2.03236604e-03\n",
      "  3.09166565e-02  6.55379433e-03 -1.46149192e-03  6.03041710e-03\n",
      "  3.36484373e-02  6.39516699e-03  1.66317537e-02  1.90122141e-01\n",
      "  4.29712025e-01  4.81982954e-01  4.13117641e-01  3.48895286e-01\n",
      "  1.60117801e-01  8.08563583e-02 -1.03208317e-02  1.45463730e-03\n",
      "  1.64709575e-02  5.01136902e-03  2.61792822e-02  1.50410282e-02\n",
      "  2.83259003e-02 -2.57690532e-02 -1.24047430e-02  1.10216148e-02\n",
      "  3.11113713e-01  4.09335976e-01  4.48625209e-01  3.99626143e-01\n",
      "  2.95922898e-01  3.28524343e-01  1.93531806e-01 -7.97405144e-03\n",
      "  2.02509979e-02  2.63354899e-02  2.64757312e-02  2.30630193e-02\n",
      "  2.30089819e-02 -8.32113240e-03  1.27841061e-02  2.17078081e-01\n",
      "  2.83115009e-01  2.00375852e-01  2.59230533e-01  4.62057114e-01\n",
      "  4.12984686e-01  2.87971425e-02  1.15050699e-02  2.17652836e-02\n",
      "  2.99465296e-02 -1.87514186e-02 -2.50136677e-02  1.34422364e-01\n",
      "  9.08114843e-03  6.27660314e-02  2.52975629e-01  3.97604541e-01\n",
      "  3.09342505e-01 -1.95492332e-02  2.46641171e-03 -2.15669982e-02\n",
      "  3.03898635e-02  2.15331580e-01  2.16701683e-01  1.72448232e-01\n",
      " -3.19835593e-02 -4.99040189e-03 -2.77341042e-03 -1.50068332e-02\n",
      "  8.42118959e-03  7.99656288e-03  8.27362611e-03 -2.23058616e-02\n",
      " -1.24071298e-02 -1.73195198e-02 -6.40161422e-03 -3.44873710e-03\n",
      " -8.84769038e-03 -4.11104566e-03  1.48036542e-02  4.48341516e-03\n",
      " -1.95559416e-02  2.38366072e-01  2.29825272e-01  4.26795520e-01\n",
      "  2.33768426e-01  2.41766253e-01  1.78659381e-01  2.73724127e-02\n",
      " -1.52617968e-02 -2.21860164e-02 -6.15871742e-03  3.11746422e-01\n",
      "  4.31716586e-01  4.57098866e-01  4.83578565e-01  3.51245674e-01\n",
      "  3.48814187e-01  3.32342738e-01  1.90007177e-01  5.05073331e-02\n",
      "  6.83267884e-02  4.30974338e-01  4.68538379e-01  3.04631813e-01\n",
      "  5.38353651e-01  4.95899695e-01  1.43032647e-01  2.44833976e-02\n",
      "  7.12058264e-03  7.66445884e-02  4.16644488e-01  1.73835880e-01\n",
      "  1.68049783e-02  1.31645568e-02  2.84965478e-01  2.92041474e-01\n",
      "  3.03272694e-01  5.36768664e-01  5.51240345e-01  2.32111883e-01\n",
      "  6.08724901e-02 -6.16742390e-03  5.89982435e-02  8.31389075e-02\n",
      " -8.28790531e-03  1.11928425e-01  3.45979658e-02  1.33681531e-02\n",
      " -6.55926031e-03  2.06689381e-01  3.44381170e-01  2.27564672e-01\n",
      "  4.22040962e-01  1.45462255e-01 -8.91237509e-03 -1.39649920e-02\n",
      "  4.77217234e-02 -7.68969050e-03 -1.60901252e-03  1.24361833e-01\n",
      "  6.34850012e-02  6.01825271e-02  9.32707247e-02  3.37617602e-01\n",
      "  4.47536011e-01  3.70320336e-01  3.56805005e-01  3.01134360e-01\n",
      "  1.95079550e-02  5.43903545e-02  1.43590435e-03 -1.82897707e-02\n",
      "  5.81201519e-03  7.98781915e-02  9.45350109e-02 -2.10978491e-02\n",
      "  4.86779473e-02  1.49853778e-01  9.48432291e-02  1.43223365e-01\n",
      "  2.67188198e-01  3.84125823e-01  3.67895083e-01  3.49792560e-01\n",
      " -8.73557092e-03 -1.04494606e-02  2.77147078e-03  9.07314555e-03\n",
      " -5.10002394e-03  1.64161195e-02  1.38150597e-02  7.76119282e-02\n",
      "  7.62829535e-02  3.38972794e-01  3.61263588e-01  1.37703552e-01\n",
      "  2.36990634e-01  1.30780250e-01 -6.20510082e-03  3.05558976e-02\n",
      "  5.07599705e-02  3.55757719e-02  1.07579743e-02  3.18116680e-02\n",
      " -3.34425704e-03  2.26676784e-02  1.75708464e-01  9.22947950e-02\n",
      "  1.93277325e-01  6.76627387e-02  2.15198126e-01  3.58299342e-01\n",
      " -1.82566498e-02  3.82686118e-02  1.11442239e-02 -1.12558771e-02\n",
      "  3.57564898e-02 -1.54688097e-02  8.53367875e-02  2.99330962e-01\n",
      "  1.21099462e-01  2.30959581e-01 -1.43628155e-02  4.38516770e-02\n",
      " -1.42334202e-02 -2.00986105e-02  9.45009586e-03 -1.68540197e-02\n",
      "  5.31471330e-02  7.89415968e-02  1.53599596e-02  5.21339332e-02\n",
      "  4.08997175e-02  4.06406047e-02  2.68296208e-02 -5.43462111e-03\n",
      "  1.09114175e-02  1.25790023e-02 -3.04045588e-03 -2.13029231e-02\n",
      " -1.56036753e-02 -1.99832542e-02 -4.50370576e-03 -4.89534901e-03\n",
      " -1.20503676e-02 -9.83519404e-03  4.44459380e-03  2.10937795e-02\n",
      "  2.86525782e-02  5.30574637e-02  1.36002039e-02  1.68391690e-02\n",
      "  1.15514551e-04  1.18410239e-02  2.79092901e-02  5.18543155e-03\n",
      " -6.42550101e-03 -1.96762044e-02 -1.75863134e-02 -1.93333599e-02\n",
      "  5.79229644e-03  1.39359487e-02 -1.07134398e-03 -1.43709821e-02\n",
      " -2.75065521e-02  4.12627094e-03 -1.59311201e-02 -2.14367826e-02\n",
      "  1.60204790e-02 -1.60020929e-02 -2.39448461e-02 -2.60992374e-02\n",
      " -2.40213520e-02  2.25057854e-01  4.17395270e-01  3.13514586e-01\n",
      "  4.82660219e-01  3.74178158e-01  5.86033879e-02 -1.09110300e-02\n",
      " -4.15405681e-02 -8.31557451e-03  2.51862375e-01  2.14098220e-01\n",
      "  4.18704016e-01  5.07336733e-01  3.53738220e-01  5.24488426e-01\n",
      "  4.73360846e-01  6.83032995e-02  1.28627496e-01  1.54474814e-01\n",
      "  4.71356064e-03  2.99334521e-02  2.18725330e-01  3.65368740e-01\n",
      "  5.18022177e-01  4.32123042e-01  2.75263969e-01  2.89171311e-01\n",
      "  2.12720408e-01  7.06527707e-02  2.66442900e-01  2.29884116e-01\n",
      "  1.04499756e-01  2.36765734e-01  3.78652102e-01  2.56968096e-01\n",
      "  4.65587339e-01  5.18208347e-01  3.13130870e-01  2.34593695e-01\n",
      "  2.96652075e-01  1.66427591e-01  5.51123958e-02 -1.33709863e-02\n",
      "  1.22502648e-01  1.15071289e-02  5.94611715e-02  1.58416664e-01\n",
      "  1.56626812e-01  6.51800581e-02  5.51756807e-02  4.91206107e-01\n",
      "  4.46510101e-01  2.00667505e-01  1.69671001e-01  1.19775188e-01\n",
      "  1.19343161e-02  1.37707177e-02  3.02742805e-02  8.86786265e-02\n",
      " -2.03306824e-02  1.20364887e-02  4.71591567e-02 -3.89203900e-03\n",
      "  1.34775809e-02  3.93322139e-01  5.03882520e-01  3.50987498e-01\n",
      "  2.12975756e-01 -4.98407560e-03  8.94554784e-03  6.46973848e-02\n",
      "  8.48617451e-03  4.93178502e-02  3.27970961e-02  3.37484972e-02\n",
      "  1.57016966e-01  1.06717693e-02  1.52727427e-03  2.11523083e-02\n",
      "  2.15288858e-01  3.10643353e-01  3.12446244e-01  2.76584745e-01\n",
      "  8.39076751e-03  6.56322501e-02  5.86536351e-02 -2.52252775e-02\n",
      " -1.31047613e-02  1.77784993e-02  9.27890848e-02  9.71824278e-03\n",
      "  9.17962809e-02  1.35000652e-01  1.40232211e-01  4.21967342e-02\n",
      "  2.81157978e-02  1.34846966e-01  4.02109862e-02 -1.18540383e-02\n",
      " -1.07875768e-02 -9.57799032e-03 -2.28628800e-02 -3.75038029e-02\n",
      "  7.32054999e-02  7.18613235e-02  1.32563963e-01  1.09323368e-01\n",
      "  7.36251416e-02  1.77686456e-01 -1.00442037e-03  6.56257755e-02\n",
      " -1.07412594e-02 -9.62037043e-03  1.51292706e-02  2.83774035e-02\n",
      " -2.91755147e-03 -9.67490005e-03 -6.21245847e-03  5.63908362e-02\n",
      "  5.09574308e-03  1.40369480e-01  1.67913085e-02  2.77882140e-03\n",
      "  7.40031749e-02  1.22941984e-02 -1.65834097e-02  1.83572458e-02\n",
      " -7.33028534e-03 -2.80087025e-02 -1.16667390e-02 -6.41273084e-03\n",
      " -2.42382229e-02 -1.47002829e-02 -1.17222708e-02  1.38307013e-02\n",
      "  3.37977746e-02 -3.45553080e-02 -2.06191946e-02 -1.23306052e-02\n",
      "  1.94593324e-03 -1.71964255e-02  1.62608338e-02  4.44009565e-02\n",
      "  5.70609009e-02 -6.51984467e-03 -2.77389952e-02 -5.75229285e-03\n",
      " -2.42892242e-02 -9.97693375e-03 -1.00392208e-02 -1.05998542e-03\n",
      " -1.26072637e-02 -1.58088562e-02 -1.25956866e-02 -1.12125832e-02\n",
      "  5.36116313e-02 -1.04014882e-02 -4.27004774e-03 -2.29440412e-02\n",
      "  2.08473894e-03 -4.60434764e-03 -7.23648103e-03 -1.17736501e-02\n",
      " -2.43307687e-02 -9.84314563e-03 -2.41082894e-02 -1.48118546e-02\n",
      " -1.96394341e-02 -2.48747094e-02 -1.20398389e-02 -1.50674827e-02\n",
      "  1.15829231e-02  4.60228076e-02 -2.57551848e-02  1.00562633e-02\n",
      " -1.21257491e-02  2.02825156e-01  3.27520356e-01  3.72160436e-01\n",
      "  3.07418804e-01  3.81728528e-01  2.90568213e-01  1.03700298e-01\n",
      " -2.00191986e-02 -1.72303250e-02 -1.45486385e-02  2.30643129e-01\n",
      "  3.17367693e-01  4.13511966e-01  4.04037082e-01  4.61282802e-01\n",
      "  4.40479146e-01  5.10913733e-01  2.75769686e-01  3.78411017e-02\n",
      "  2.67207861e-02  3.62011822e-02  8.88650898e-02 -1.19162615e-02\n",
      "  3.35655883e-01  3.65667881e-01  2.76371829e-01  2.64342735e-01\n",
      "  3.60088081e-01  2.82727377e-01  3.39698650e-01  2.73834654e-01\n",
      "  6.67827593e-02  3.23478546e-01  1.82501675e-01  1.26704298e-01\n",
      "  2.33737197e-01  1.32303092e-01  1.08862952e-01  1.16875385e-02\n",
      "  1.04203819e-01 -1.79127374e-02  5.41161063e-02  2.50948440e-03\n",
      "  1.85056859e-01  1.22268105e-02  2.01112174e-03 -1.99963881e-02\n",
      "  2.33664172e-01  2.66566144e-01  1.71618195e-01  2.72597819e-01\n",
      "  6.22718462e-02 -2.10217586e-02 -1.44387669e-02 -1.31025704e-02\n",
      "  5.98393833e-02  2.71238991e-01  2.17700299e-02  2.16614174e-01\n",
      "  2.82581784e-01  1.21174122e-01  2.26141405e-03  1.70693062e-02\n",
      "  4.91111788e-01  4.10306560e-01  9.62301167e-03  3.64490923e-02\n",
      "  2.05680575e-02 -6.27774499e-03  1.51364802e-02  3.57327835e-02\n",
      " -3.16947865e-03 -1.24455220e-02  2.95461471e-01  1.22599656e-01\n",
      "  2.24768134e-02  6.19480767e-03  5.60016430e-02  5.67254661e-02\n",
      "  3.67971489e-02  1.41399496e-03  1.94010124e-02  4.59539569e-03\n",
      "  4.08884385e-03  1.89881332e-01  1.06183645e-02 -1.36671498e-02\n",
      "  1.00310254e-02 -1.39414556e-02 -8.01135841e-03  3.84575023e-03\n",
      " -3.76664085e-02  1.55063606e-01  1.63559292e-01 -2.10580785e-02\n",
      " -9.36577363e-03  1.11350717e-02  2.15158423e-02  1.14121690e-01\n",
      "  6.24863477e-02 -1.80319307e-02  4.84901578e-02 -2.52991536e-03\n",
      "  1.39741731e-03  8.30482420e-03  1.50880901e-02  5.07371356e-02\n",
      " -1.40711291e-02  2.71812440e-02  4.39106724e-02 -1.77766953e-03\n",
      " -1.53547458e-02  9.55126348e-02  6.72121488e-03  1.28831488e-02\n",
      "  1.44498597e-02 -7.12925514e-03  3.22706725e-02  2.11132369e-03\n",
      "  3.11925479e-02 -2.77137582e-03 -9.94498598e-03 -1.77730047e-02\n",
      " -7.86880031e-03  4.72942716e-03  2.28277940e-02 -2.46117900e-02\n",
      " -9.45195790e-03 -1.60523150e-02 -2.00055824e-02 -3.15958600e-02\n",
      " -2.22066561e-02 -8.92777740e-03 -9.76016913e-03 -2.04254428e-02\n",
      " -1.20998254e-03 -3.91150997e-02 -3.00709776e-03  9.16384392e-03\n",
      " -1.16019790e-02  1.93445777e-03 -2.42557655e-02 -7.60150466e-03\n",
      " -5.53792803e-03 -1.59126865e-02  6.72685020e-03 -2.78791336e-02\n",
      " -1.07620866e-02 -1.28961812e-02  1.04938596e-02  3.95425803e-02\n",
      "  2.79463660e-02  8.77926430e-04 -1.42166089e-02 -1.00117864e-02\n",
      "  3.23745522e-02  1.96782062e-01  3.99057981e-01  3.73318330e-01\n",
      "  1.84325448e-01  2.49326505e-01  2.79403265e-01  2.37193028e-02\n",
      "  8.40252651e-02  2.26426112e-02  2.17583851e-02  2.20435986e-02\n",
      "  2.82085606e-01  3.45580357e-01  4.55786160e-01  4.59210214e-01\n",
      "  3.90291714e-01  2.28282754e-01  3.32484415e-01  2.15760079e-01\n",
      "  2.25534317e-02  5.81472912e-02  1.93712961e-02  4.91670070e-02\n",
      "  6.78272546e-02  2.65716237e-01  3.91628611e-01  3.73469566e-01\n",
      "  4.73836677e-01  4.44116797e-01  2.37987984e-01 -1.20402373e-02\n",
      "  4.34717121e-02  2.82388196e-02  3.29724325e-02 -2.26657021e-02\n",
      " -2.03017581e-03  2.22809942e-02  1.40081457e-01  2.37766732e-01\n",
      "  2.84666887e-01  2.49227172e-01  3.63675333e-01  4.39083897e-02\n",
      "  9.05712213e-02  2.56485747e-02  2.57465911e-02  1.36986292e-01\n",
      "  1.02434269e-01  4.67464766e-03  1.15054031e-01  6.13602428e-02\n",
      "  1.30127395e-01  2.78186986e-01  8.86989520e-02  7.92436656e-02\n",
      " -2.64409573e-03 -3.27921157e-02 -1.11115941e-02 -5.21138360e-03\n",
      " -3.26130424e-03  4.27969169e-03  1.87774090e-01  2.64465389e-01\n",
      "  2.08698151e-01  2.74009395e-01  8.60750238e-02 -1.91836543e-02\n",
      " -2.21240357e-02 -2.93956468e-02  2.04464861e-02  6.96688566e-03\n",
      "  6.41266084e-02 -1.82607795e-02 -8.04088100e-03 -2.96764707e-02\n",
      "  6.16440757e-02  1.39767936e-02 -1.47806826e-02 -5.04985277e-03\n",
      " -1.80013933e-02 -3.88141194e-03  7.03778018e-02  1.78815678e-02\n",
      "  1.18957374e-01  8.19898015e-03 -1.31848500e-02  2.69186709e-03\n",
      "  1.23309532e-02 -2.09039167e-03 -2.76745989e-03 -2.58440596e-02\n",
      "  1.49149257e-01  3.01339028e-02  1.67208737e-02 -4.72223448e-03\n",
      " -4.65167833e-03  1.11399021e-01  2.62598971e-01  8.18304495e-02\n",
      "  2.58076623e-02  8.36777447e-03 -9.06205764e-03  1.91763191e-02\n",
      "  7.58399819e-03 -1.89013916e-02  2.16126278e-01 -1.85637084e-02\n",
      "  6.26995779e-02  3.65949613e-02  1.04136151e-02  2.39304171e-02\n",
      "  6.70088885e-03  2.21120799e-02 -2.72031997e-03 -1.52283572e-02\n",
      " -2.72870576e-02 -1.14318913e-02  3.23035098e-02  8.71270901e-03\n",
      "  9.24845115e-03 -1.26894938e-02 -2.43041043e-02 -1.56814010e-02\n",
      " -4.20726511e-03 -2.13854733e-02 -2.25155282e-02 -2.82828777e-02\n",
      " -1.78627108e-02 -1.24276776e-02 -1.68038376e-02 -1.28520265e-02\n",
      " -1.90810500e-02 -2.06728747e-02 -2.51578982e-02 -2.60660470e-02\n",
      " -1.53301972e-02 -3.34284151e-02 -1.63999747e-02  5.10606277e-03\n",
      " -1.26438340e-02 -2.72574662e-02 -6.80153763e-04  2.28798546e-02\n",
      " -8.09030321e-03  8.38558803e-03  3.15315926e-02  2.15123990e-02\n",
      "  1.67782834e-02  1.39984330e-02  9.46135012e-02  4.79949545e-03\n",
      " -3.58269530e-02 -1.40375292e-02  5.41061850e-03  2.92990963e-02\n",
      "  1.42484465e-01  1.46244684e-01  1.44711898e-01  1.17636787e-01\n",
      "  5.53192673e-02  7.49212300e-03 -3.27088189e-02 -3.61970908e-02\n",
      "  1.29510421e-02 -2.33802903e-02  5.33874716e-02  7.21754354e-02\n",
      "  5.73145772e-03  3.31186576e-01  2.83617493e-01  2.96882763e-01\n",
      "  1.25800512e-01  3.57915900e-02 -3.14731179e-03 -1.10183188e-02\n",
      "  2.62848345e-02  5.96526588e-03  7.05893989e-02  1.86053546e-01\n",
      "  3.95345907e-01  3.07633958e-01 -1.62046249e-02 -3.79319330e-03\n",
      "  9.24447110e-02  2.96466131e-02  8.19471492e-03 -4.73535269e-04\n",
      " -1.48198212e-02 -1.58512853e-02  1.12301687e-01 -9.94114000e-03\n",
      " -6.30714399e-03  9.02482893e-02 -8.62006579e-03 -7.46719067e-04\n",
      "  8.59434993e-02  2.07781150e-02  8.98075714e-03 -1.86735283e-02\n",
      "  3.59117905e-02 -2.39756280e-02  2.14531991e-01  2.21248934e-02\n",
      " -2.77972583e-02  2.80231272e-02 -4.70063053e-03  8.10219850e-04\n",
      "  3.31682918e-03 -5.32446566e-03  1.79012760e-02  8.18865222e-02\n",
      "  1.77299074e-01  2.11466755e-01  2.97633131e-01  3.01110878e-01\n",
      "  4.34870415e-02 -2.09728202e-02 -7.96565501e-03  7.07840599e-03\n",
      "  3.15694096e-02 -1.14605297e-03  2.14179727e-02  1.95003206e-02\n",
      "  2.05460215e-01  2.43374426e-01  2.46058691e-02 -2.00356941e-02\n",
      " -2.63826951e-02 -1.63585313e-02  4.03875847e-02  2.14916774e-02\n",
      " -3.35479014e-03 -8.65779032e-03 -7.53804964e-03  5.73939020e-02\n",
      "  1.67240014e-01  2.12664356e-01  5.32258845e-02 -1.80076893e-02\n",
      " -1.81968083e-02  2.76813904e-02  1.53143490e-01  3.63652793e-02\n",
      "  6.90275985e-03  4.92751518e-03 -2.61851172e-03  1.28624488e-01\n",
      "  1.38728258e-01  2.50059896e-01  1.09948014e-01 -1.05707417e-02\n",
      "  2.96068049e-04  1.91305711e-01  2.20818181e-01 -1.41554135e-02\n",
      "  1.73629454e-02 -1.21877635e-02  3.01467960e-03 -1.09153221e-03\n",
      "  7.56032642e-02  6.48819748e-03 -1.38260193e-02  1.93960927e-03\n",
      " -1.50814502e-02 -1.04475478e-02 -1.95334605e-02 -2.52637141e-02\n",
      "  4.55661013e-03 -1.49515492e-02 -2.44561964e-02 -1.61971836e-02\n",
      "  9.34627839e-03 -1.87260924e-02 -1.25595679e-02 -2.19633175e-02\n",
      "  3.05417076e-03 -5.38247101e-03 -1.82008929e-02  4.34933862e-02\n",
      "  1.54347110e-02 -2.30154896e-02  5.54773238e-03 -1.43896578e-02\n",
      " -3.35795616e-02  1.04754020e-02  8.63652736e-03 -2.38611528e-03\n",
      " -1.77710889e-02 -2.88178497e-02 -3.75440765e-02 -1.41912639e-02\n",
      "  2.71568996e-03 -3.28310927e-02 -1.68770777e-02 -2.95064758e-02\n",
      "  7.83439568e-03  4.44553946e-03  1.03187996e-04  1.64503655e-02\n",
      "  1.64370681e-02  2.63137219e-03 -1.39023788e-02  3.50453092e-02\n",
      "  1.65519544e-01  1.68003294e-01  1.63067116e-01  9.59337159e-02\n",
      "  4.62967951e-02  2.15674665e-02 -2.70974948e-02  1.49750731e-02\n",
      "  2.49464399e-02  5.69804355e-02  2.65498990e-01  3.47979962e-01\n",
      "  3.08437947e-01  2.92253673e-01  1.21794580e-01  5.02014728e-02\n",
      "  2.98371053e-02  2.94002333e-02 -1.04434840e-02  1.20776898e-01\n",
      "  8.07967082e-02 -4.67461068e-03  6.28647608e-02  2.85132399e-01\n",
      "  3.34201436e-01  3.38784895e-01  1.26858792e-01  2.07551934e-01\n",
      "  2.30052277e-01  1.47365180e-02  6.86055909e-03  4.55910754e-02\n",
      "  1.65231843e-02 -7.05562950e-03  5.79195846e-02  9.48359667e-03\n",
      " -1.11346728e-02 -1.49101212e-02  3.40577662e-02 -1.11943163e-02\n",
      "  9.87409116e-02  9.76028048e-03 -1.05824043e-02  2.35555967e-01\n",
      "  1.53975081e-01 -9.86660322e-03  6.78420504e-03 -1.34800211e-02\n",
      "  3.47833054e-02 -1.48870876e-02  1.76542195e-02 -2.57219796e-02\n",
      " -1.76838168e-02 -2.49168814e-02 -2.07454297e-02  1.31384435e-01\n",
      "  1.51928152e-02 -6.13566990e-03 -1.20346831e-02 -1.70549534e-02\n",
      " -2.61829051e-02  4.68906096e-02  1.32217167e-03  1.86199928e-02\n",
      "  7.88811862e-02  1.01719830e-01  1.22574543e-01  1.28640513e-01\n",
      " -3.72356680e-03  6.66402432e-02 -1.14587100e-02 -1.34057084e-02\n",
      " -1.04233893e-02 -4.04102480e-03 -1.71592664e-02  2.57394756e-03\n",
      "  7.82803349e-03  7.43334931e-02  3.02953535e-01  2.80813358e-01\n",
      "  5.60760835e-02 -2.04629004e-02 -1.56303115e-02 -2.28190609e-02\n",
      "  3.67238417e-02  1.37965335e-03  1.17481496e-02  2.70450395e-03\n",
      "  7.37530984e-03 -2.33451257e-02 -9.88521058e-03 -2.62311715e-02\n",
      " -1.88101023e-04  6.52793249e-03  6.26648099e-02 -2.42593262e-02\n",
      "  6.91061669e-02  1.65932192e-01 -1.76787403e-02  3.47936678e-03\n",
      "  1.32156449e-02  1.20126126e-01  8.53570003e-02  8.96214796e-02\n",
      "  9.61114910e-02  8.12984581e-03 -1.60161043e-03  2.42160264e-03\n",
      "  5.70136254e-02 -1.36876168e-02 -2.72698672e-02 -6.86400355e-03\n",
      " -3.53885166e-03  1.78552733e-02  1.47823822e-02  4.24765497e-02\n",
      "  9.62916731e-03  6.77454975e-04 -3.43104055e-03  8.22173116e-04\n",
      " -1.66896310e-04  1.65095605e-03 -6.22190081e-03 -1.96779370e-02\n",
      " -3.39799956e-02 -1.46808408e-02 -1.55041754e-02  1.42485899e-02\n",
      " -2.78516093e-02 -2.32080455e-02  3.87036716e-03 -5.34871217e-03\n",
      " -2.41373133e-02  9.89199075e-03  1.18364657e-02 -1.71474072e-02\n",
      "  1.41280614e-02  5.01070292e-03 -6.24049393e-03 -1.72499921e-02\n",
      " -2.25853781e-02 -1.63777191e-02 -1.20086134e-02  7.40758989e-03\n",
      " -2.84927987e-02  3.70734575e-02  1.72456346e-01  1.83709768e-01\n",
      "  1.26241264e-01  6.56187677e-03 -3.13213592e-02  3.94754573e-02\n",
      "  1.37697346e-02  1.58902526e-01  2.61772365e-01  1.83381713e-01\n",
      "  1.30315131e-01  6.23684561e-02  1.05946420e-01  9.28475630e-02\n",
      "  1.91444107e-03  1.18961041e-01  1.05740158e-01  1.07828242e-02\n",
      "  9.42064306e-03  6.37526926e-02  1.39912551e-01  3.72961208e-02\n",
      "  1.48793317e-02  2.46464893e-01  2.01040317e-01  6.67344093e-02\n",
      "  5.29174828e-03  1.10328973e-01 -3.25948343e-03  9.26711369e-02\n",
      "  1.39977618e-01  1.84904247e-01  2.37081732e-01  1.53955911e-01\n",
      "  1.54770819e-01  1.82187329e-01 -7.88909372e-03  9.57871165e-02\n",
      "  2.53382211e-02  1.06371636e-02  1.44560283e-02  2.14567913e-02\n",
      "  3.43990386e-02  2.02138708e-02  4.92334362e-02  1.16269244e-01\n",
      "  2.46641292e-02 -3.58335448e-02 -4.48658602e-03  9.92674604e-03\n",
      " -1.54590798e-02 -2.68324859e-02 -2.71868553e-02  5.00380944e-02\n",
      " -8.31615842e-03  9.89817384e-03  6.90846836e-04  9.32000330e-03\n",
      "  3.24087827e-02 -1.08326056e-03 -8.04275332e-03  7.16395955e-02\n",
      "  2.39481549e-01  2.82506991e-01  1.05292264e-01  8.92315675e-02\n",
      "  2.40623780e-02  3.94012126e-03  1.93558422e-02 -1.97882903e-02\n",
      " -3.14325171e-02 -2.65831261e-03 -1.39768145e-02  4.56655817e-02\n",
      "  4.40776093e-02  1.67921841e-02  6.17712746e-02  4.24786545e-02\n",
      " -1.96208866e-02 -7.54294096e-03  4.36635722e-02 -1.70883336e-02\n",
      "  5.55116878e-02  3.67355008e-03 -2.51473126e-02 -2.35813371e-02\n",
      "  1.25694106e-02 -3.18136312e-02 -8.91208641e-03  1.40158517e-02\n",
      "  8.53059382e-03  4.42442770e-02  3.38614327e-02  4.22250557e-02\n",
      "  7.09421734e-02 -2.38554943e-02 -1.94990279e-03 -8.15128674e-04\n",
      " -1.98957838e-03  1.21892022e-02  7.68570409e-02  6.32235563e-02\n",
      "  3.12494381e-02  3.98916144e-02 -1.87961949e-02 -1.56149691e-03\n",
      " -9.72355495e-03 -1.24122722e-02 -1.29038226e-02  1.30716092e-02\n",
      " -8.18014685e-03 -1.94967300e-02 -8.91556931e-03 -2.47666323e-02\n",
      " -1.37278291e-02 -1.53866311e-02  1.23925778e-02  1.33161526e-02\n",
      "  3.08805597e-02 -5.73414181e-03 -3.25838884e-02 -9.34727710e-03\n",
      "  8.73109488e-05 -5.92044911e-03  6.88368412e-02  2.96900718e-03\n",
      " -2.94952874e-02 -2.11996144e-02 -2.24996750e-02 -2.26910070e-03\n",
      "  4.89312460e-02 -2.46036914e-03 -7.26875948e-03  2.26882184e-03\n",
      " -3.59166017e-02 -8.10785072e-03 -2.06986038e-02 -2.14784766e-02\n",
      " -3.56147379e-02 -2.84455753e-02 -1.61565755e-02 -2.31395785e-02\n",
      " -2.46555408e-02 -3.48803280e-02 -1.54887211e-02 -2.63389902e-02\n",
      " -3.00971016e-02 -3.99542360e-02 -3.46649776e-02 -2.03325914e-02\n",
      " -1.05434424e-02 -2.63200922e-02 -9.30750998e-03 -2.27000706e-02\n",
      " -1.56567947e-02 -1.39081141e-02 -8.25767952e-03 -1.90997568e-02\n",
      " -1.19154669e-02 -3.30856111e-02 -2.93202640e-02  7.17786679e-02\n",
      "  1.50433248e-01  1.26584236e-01  1.27701678e-01  6.39051423e-02\n",
      " -2.51212167e-03  1.55275850e-02  4.23219386e-04 -3.08345795e-02\n",
      " -2.30298330e-02  4.58712232e-02  1.71468401e-01  1.62773022e-01\n",
      "  8.05821395e-02  6.41292681e-02  1.33856932e-01  6.98591474e-02\n",
      "  3.54723287e-02  1.42982863e-01  2.80814721e-01  2.78580237e-02\n",
      "  6.17278716e-03  1.59708328e-02  9.19441258e-02  1.20335533e-01\n",
      "  9.99279283e-02  9.58624020e-02  8.94898910e-02  2.93720499e-01\n",
      "  2.89774503e-01  1.53381318e-01  1.03110978e-01  7.18192542e-02\n",
      "  7.59136100e-03 -7.86361897e-03 -1.00644463e-02  9.94623088e-02\n",
      "  1.84340818e-01  2.82033434e-02  1.88215025e-02 -2.30400240e-02\n",
      " -2.67208672e-02  5.86420976e-02  1.41998994e-01  5.50486750e-02\n",
      "  7.61271450e-02  8.31751880e-02 -8.85714376e-03 -3.44939792e-03\n",
      "  2.06886531e-02  2.12222611e-02  2.19089332e-01  2.89166389e-01\n",
      "  7.98740268e-02 -2.14596870e-02 -1.59114777e-02 -1.57575375e-02\n",
      "  1.74119661e-01  3.53318743e-02 -6.07454723e-03 -1.64283498e-02\n",
      " -3.42013060e-02  2.02879847e-01  7.00124076e-02  1.10619998e-01\n",
      " -1.50172693e-02 -1.52549447e-02  5.79995576e-02  8.64182874e-02\n",
      " -2.28968251e-02 -2.97762844e-02 -1.51777319e-02  8.84192387e-03\n",
      "  1.05382397e-01  2.39884232e-01  9.39805396e-03  3.10724434e-02\n",
      "  4.87433813e-02  1.38138010e-02 -2.03483046e-02 -2.89481209e-02\n",
      " -2.97111369e-02 -2.87151350e-02 -2.02127804e-02  8.74980967e-03\n",
      "  1.00886143e-02  3.57198929e-02  6.30076058e-03  6.71342658e-02\n",
      "  5.16912793e-02  5.85099643e-03  2.62686834e-02 -2.47832891e-02\n",
      " -1.50586504e-02 -2.93022551e-02 -1.22973142e-02 -3.42040679e-02\n",
      " -3.60066919e-02 -1.70284103e-02 -9.77866347e-03  3.90229054e-02\n",
      "  7.76096531e-03  3.02799211e-02  1.05875894e-01  9.15822512e-02\n",
      "  6.20105598e-02  5.85163090e-02 -1.40445425e-02 -3.77945858e-02\n",
      " -2.92456635e-02 -2.59219028e-02  6.06213594e-03  5.98971302e-02\n",
      "  3.38951714e-04  6.41656450e-02  1.33498472e-02 -3.30571375e-02\n",
      " -3.04914192e-02 -3.09972078e-02 -3.10769927e-02 -2.87973528e-02\n",
      " -1.73469937e-02 -9.85113884e-03  4.54295611e-02  4.78398396e-02\n",
      "  4.08429788e-02 -6.79299410e-03 -2.62642307e-02  2.93805065e-02\n",
      " -3.51990124e-02 -2.81167574e-02  9.38533602e-04  8.57349041e-02\n",
      "  1.01830233e-01  4.58624805e-02  3.72889093e-02  5.98304768e-03\n",
      "  6.92095212e-03  1.41433350e-02 -2.66539670e-02  1.45194887e-02\n",
      "  1.34346319e-01  1.49481807e-01  7.36997570e-02 -6.26177172e-03\n",
      " -1.41589847e-02 -1.63921735e-02 -7.58570726e-03  9.76200934e-03\n",
      " -9.12158435e-03 -9.11897102e-03 -1.16628571e-02 -3.18489403e-03\n",
      "  1.43583498e-02 -5.69950306e-03 -1.80153915e-02 -3.56336682e-02\n",
      "  6.22842862e-03 -2.29191928e-02 -2.95836952e-02 -1.44939892e-02\n",
      " -1.03350858e-02 -2.14241842e-02 -2.97056249e-02 -4.16492271e-02\n",
      " -1.35729277e-02 -1.63410500e-02  3.97814375e-03 -4.57065650e-03\n",
      " -3.49630932e-02 -2.65896986e-02 -1.01925988e-02 -1.98540878e-02\n",
      " -2.53376416e-02 -2.11960319e-02 -6.63237871e-03 -2.69161403e-02\n",
      " -3.94842401e-02 -2.60293946e-02 -6.82073940e-03 -3.12024864e-02\n",
      " -2.50482945e-02 -2.99956851e-02 -2.88648571e-02 -2.12514948e-02\n",
      " -4.90511936e-02 -2.85803413e-02 -2.86604241e-02 -2.30259294e-02\n",
      "  1.14744737e-01  3.53137346e-02  7.73030589e-03  1.53398504e-02\n",
      "  1.21390389e-01  2.67870314e-01  1.07954461e-01  5.13767211e-02\n",
      " -1.46298637e-02  2.07844920e-03  2.37948928e-01  1.09722441e-01\n",
      " -2.55129933e-02  1.40175444e-01  1.66903062e-02  9.36184998e-03\n",
      "  2.98306464e-02  1.00808341e-01  1.22354282e-02  6.77951226e-02\n",
      "  2.17601820e-01  3.18559584e-01  3.08589966e-01  2.84928063e-01\n",
      "  1.66504122e-01  2.07054784e-02  4.79167389e-03 -2.33514296e-02\n",
      " -1.87209280e-02  4.36314033e-02  2.09244243e-01  6.31273940e-02\n",
      "  2.15718065e-02  1.91811233e-01  1.63174988e-01 -2.16809739e-02\n",
      "  1.39028658e-01  5.77067381e-02 -5.28089483e-03  5.01518938e-02\n",
      "  1.68219130e-02 -2.17855440e-02 -2.49775957e-02  2.39716916e-01\n",
      "  1.62475810e-01  1.92323524e-02 -3.23501174e-02  2.00020181e-01\n",
      "  5.17247673e-03 -1.10555032e-02 -1.23121830e-02  1.51806991e-02\n",
      " -2.73010545e-03  8.68391200e-02 -5.55109308e-04  8.36659487e-02\n",
      "  9.38005177e-04 -1.82809645e-02 -2.49834766e-02  1.63592641e-01\n",
      "  2.80242430e-01  3.86842702e-02 -7.78364194e-03 -3.88493219e-03\n",
      " -4.32830570e-04 -1.22612682e-02 -2.10969546e-02  8.71601431e-02\n",
      "  1.05126462e-01  5.20796824e-02  9.64660600e-02 -1.75770150e-02\n",
      " -2.34864203e-02 -2.12377780e-02  1.43024024e-01  2.20394964e-01\n",
      "  2.53217191e-02 -1.44727612e-02  1.77070827e-02 -7.79849774e-03\n",
      "  2.40401105e-03  6.19403829e-02  2.51697144e-02  1.50816552e-02\n",
      "  6.63124830e-02  1.48733448e-02  1.26811755e-02  5.42121404e-02\n",
      " -2.41771314e-02 -1.99970929e-02  6.12570708e-04  4.26800723e-02\n",
      " -1.03244146e-02 -2.49037827e-02 -1.78081480e-02  1.66418949e-03\n",
      " -2.03396492e-02  2.72687813e-02  4.30874434e-02 -2.93197003e-03\n",
      "  5.19431410e-02 -1.40798409e-02  2.16281057e-02  4.99909866e-02\n",
      "  5.70653874e-02  5.83882985e-03  4.19067475e-02  1.28075687e-01\n",
      "  4.34256819e-03 -1.55560859e-02 -3.44959122e-02 -2.34474927e-02\n",
      " -1.39119008e-02 -2.36021937e-02 -9.90184756e-03  3.21254533e-03\n",
      "  1.04407968e-01  6.11316654e-02 -1.05115715e-02 -1.43012400e-02\n",
      " -1.03126595e-02 -3.33584491e-03 -2.87947971e-02  5.57317712e-02\n",
      " -2.14818084e-02 -3.19579616e-02 -1.89439125e-02 -2.34224856e-02\n",
      "  2.06345564e-04  1.30924980e-03  4.61643073e-02  2.14808206e-01\n",
      "  8.20917386e-02  2.32414523e-02 -2.52904218e-02 -1.72528628e-02\n",
      "  5.83756908e-03 -4.95817663e-03 -2.01174324e-02  2.91292309e-03\n",
      " -1.55980853e-02 -2.24773063e-02 -3.00389971e-02  2.06362336e-02\n",
      "  2.21600081e-02  1.97380891e-01  2.16502231e-01  5.96898719e-02\n",
      " -1.14627414e-03 -1.77674240e-02 -1.70783446e-02 -2.47082113e-02\n",
      " -2.64430320e-02 -2.74136064e-02 -2.90898727e-02 -2.42079628e-02\n",
      "  2.46584361e-03  2.13452933e-02  1.80364520e-01  1.20627261e-01\n",
      " -3.66382678e-03 -1.78020730e-02 -1.15503315e-02 -1.80900017e-02\n",
      "  3.16721518e-03 -2.19182989e-02 -1.59570874e-02  1.31079129e-02\n",
      " -2.32894715e-02 -1.23882422e-02  1.99478717e-03 -2.00298922e-02\n",
      "  4.89689537e-03 -1.21784082e-02 -2.41634605e-02 -2.46258736e-02\n",
      " -2.66545226e-02 -1.45492217e-02 -4.36510453e-03 -1.34681226e-02\n",
      " -3.52518926e-02 -3.40542093e-02 -1.69626199e-02 -1.34312699e-02\n",
      " -6.62968135e-03 -3.10135359e-02 -2.17708541e-02 -4.15146542e-03\n",
      " -1.62213549e-02 -2.96899329e-02 -1.63909469e-02 -1.21864954e-02\n",
      " -2.96437024e-02 -2.44934186e-02 -3.88943402e-02 -2.86507924e-02\n",
      " -1.59183229e-02 -2.19508434e-02 -1.70250697e-02 -2.97439304e-02\n",
      " -2.38263457e-02 -3.15830141e-02 -9.89409021e-03 -2.04519020e-02\n",
      " -1.53246000e-02 -1.77851030e-02 -8.87276694e-03 -4.16919830e-02\n",
      " -1.49914373e-02 -2.71702979e-02  9.62949957e-03 -3.82935125e-02\n",
      " -1.24039035e-02 -1.22785865e-02 -2.52032635e-02 -2.43647891e-02\n",
      " -3.91835921e-02 -3.39318757e-02 -1.03242526e-02  2.08182383e-02\n",
      "  2.29910006e-01  9.91018100e-02  2.42765847e-02 -1.58305747e-02\n",
      " -6.44866451e-03  5.39138002e-02  6.24005043e-03  1.57337172e-01\n",
      "  1.71549403e-01  2.25298195e-02  9.30361902e-02  7.53398778e-02\n",
      "  6.96148845e-02  6.48271087e-02  7.35192322e-02  5.49958502e-02\n",
      "  3.26666012e-03 -2.84610227e-02  4.61321019e-03  6.69108348e-02\n",
      "  1.67599665e-02 -1.58120713e-02  2.08092430e-01  7.09870389e-02\n",
      "  1.24640385e-02  4.80839677e-02 -2.04379745e-02  2.18638281e-01\n",
      "  8.10497363e-02  2.09061157e-02  1.92852438e-02  5.58354513e-03\n",
      " -6.96007930e-03 -2.39209488e-02 -2.32108346e-02 -2.57815833e-02\n",
      "  1.97948406e-01  3.61493896e-02 -1.50404472e-02 -9.58993194e-03\n",
      "  2.57074268e-01  3.77224897e-01  1.59504951e-01  2.56127533e-02\n",
      "  3.53157557e-02  1.22296850e-02  6.10637734e-02 -3.40061287e-03\n",
      " -1.13130428e-02  8.95012722e-02  8.05045130e-03 -8.22765573e-03\n",
      " -2.05017235e-02 -3.56831263e-02  2.02691232e-01  2.17485199e-01\n",
      "  1.16813063e-01  1.04337588e-01  1.59365195e-02  1.40908595e-02\n",
      "  3.50850395e-02  2.05455775e-02  4.69690468e-02 -6.84297326e-03\n",
      " -1.15123620e-02 -2.84578144e-02 -3.84667483e-02 -1.22179142e-02\n",
      " -1.97216812e-02  1.96439283e-01  7.69143510e-02  2.53187082e-02\n",
      "  1.38085660e-02  6.98493960e-03  1.23864935e-02 -6.81833273e-03\n",
      " -1.79565206e-02 -1.30519632e-02  2.03407238e-02  1.28904402e-02\n",
      "  1.98252681e-02 -1.73414693e-02  3.20677658e-02 -8.14334994e-03\n",
      " -2.26209242e-02 -3.56034222e-02  8.29954760e-02  3.62422816e-02\n",
      " -1.65462159e-03  3.54884689e-03  8.77664667e-03 -3.10289524e-02\n",
      " -5.54960786e-03  2.51592481e-02  1.68912899e-02  5.86716563e-02\n",
      "  1.56432606e-02  1.90340171e-02  6.25741642e-02  7.18538548e-02\n",
      "  1.03799685e-01  7.21953253e-02  7.04089177e-02 -1.42705167e-02\n",
      " -1.22798024e-02  6.30948597e-03  1.06188406e-02  5.03354713e-02\n",
      "  7.95471592e-02  9.14005490e-02  5.97724402e-02  1.27479128e-01\n",
      "  5.97261385e-02 -2.03189722e-02 -8.14525181e-03 -5.13081055e-03\n",
      "  3.10971840e-02  4.94726166e-02 -1.97484508e-02  1.65593628e-01\n",
      "  1.37535534e-02 -2.72958992e-02 -1.06904368e-02  8.22532895e-02\n",
      "  1.35345136e-01  1.40280150e-01  5.00401747e-02  6.17914304e-02\n",
      "  1.60861199e-01  2.64899212e-02  1.91391076e-02 -3.26229630e-03\n",
      " -1.06494543e-02 -1.39683549e-03  1.54822586e-01  1.08443977e-02\n",
      "  5.18097921e-02  6.44104897e-02  9.19087433e-02  6.18629266e-02\n",
      "  5.47134117e-02 -2.26231088e-03  7.06647186e-03 -9.60083010e-03\n",
      "  7.05145297e-02 -3.61090978e-03 -1.10548109e-02  1.11241042e-02\n",
      " -1.82454322e-02  3.93822128e-02  1.67287050e-02 -1.43684713e-02\n",
      "  1.93029727e-03  4.49672937e-02 -2.97136932e-02 -4.99719149e-03\n",
      " -3.09695131e-02 -1.50295783e-02  1.00773029e-02 -2.12137179e-02\n",
      " -4.01636036e-03 -2.28448796e-02 -1.67864787e-02 -1.92346576e-02\n",
      " -2.99353862e-02 -3.26264609e-02 -1.84681795e-02 -3.37842478e-02\n",
      " -3.04948085e-02 -8.57458180e-03 -2.01502568e-04 -2.69923210e-02\n",
      " -1.54158998e-02 -2.84059133e-02 -2.75301821e-02  2.17908769e-02\n",
      "  9.33152795e-03 -1.21694252e-02 -1.78810923e-02 -2.15302150e-02\n",
      " -1.93075906e-02  3.28602312e-04 -1.52743446e-02 -3.17712090e-03\n",
      " -6.94098867e-03 -2.80615919e-02 -1.12808906e-02  3.13320722e-05\n",
      " -1.55408688e-02 -2.55432589e-02 -2.34031234e-02 -1.21771422e-02\n",
      " -2.00068769e-02  1.76587118e-03 -1.68711779e-02 -1.87487380e-02\n",
      " -1.02054327e-02 -2.29817405e-02 -2.95573060e-02 -1.36931921e-02\n",
      " -4.12936144e-03 -1.16234725e-02 -2.07020729e-02 -1.86563879e-02\n",
      " -1.46350129e-02 -2.00741366e-02 -1.45826750e-02 -3.87451571e-02\n",
      " -3.84248794e-02 -3.36228159e-02 -2.20736377e-02 -2.68885267e-02\n",
      " -2.98190098e-02 -2.55909504e-02 -1.85389065e-02  2.80970167e-02\n",
      "  5.99409531e-02 -1.38038360e-02 -1.08633362e-02 -1.18058524e-02\n",
      "  9.57420927e-03  5.68255403e-03  3.62466901e-02  8.70765915e-02\n",
      "  4.94645906e-02  1.14168999e-02  4.20492782e-02  1.00095779e-01\n",
      "  5.32605010e-02  2.48424892e-01  2.98650284e-02 -1.42069115e-02\n",
      " -1.10728819e-02 -1.72425912e-02 -1.65483078e-03  8.57189344e-03\n",
      "  6.57908974e-03 -6.86645216e-03  1.94527845e-01  4.21401438e-01\n",
      "  1.75141899e-01 -1.36443662e-02 -1.54757496e-02 -3.36289918e-02\n",
      " -2.50261915e-02  2.01141255e-02 -2.29032457e-02  1.03328283e-03\n",
      "  1.95651178e-02 -2.37602962e-02  1.03271851e-01  2.31678543e-01\n",
      "  2.41950094e-01  5.84536138e-02 -1.61458663e-02  3.01874468e-03\n",
      "  1.07981859e-02 -2.19324319e-02  8.81632451e-02 -4.29701424e-03\n",
      " -2.00859407e-02 -2.24436016e-02  3.69239896e-02  5.69648130e-04\n",
      " -1.70879902e-02  3.54299188e-02  1.09113783e-02  5.68358139e-02\n",
      "  2.97589366e-02  1.26227914e-02  1.38955100e-02  4.06260002e-02\n",
      "  2.65699313e-02  1.42427357e-02  6.12084278e-02 -1.18323566e-02\n",
      " -1.40241508e-02 -2.53788803e-02  1.96208001e-02 -7.88718633e-03\n",
      " -3.59185176e-02 -2.72186606e-03  2.89110235e-02  1.00193338e-02\n",
      " -3.24697022e-02 -1.49045986e-02 -4.66764983e-03 -1.10795584e-02\n",
      "  1.66632733e-02  2.94513049e-02 -1.39659849e-02  2.59024445e-02\n",
      " -2.26054584e-02 -1.52453818e-02 -2.69374401e-02 -2.37823280e-02\n",
      " -2.28926721e-02  4.52002311e-03  6.05857810e-03 -1.21610065e-02\n",
      " -9.43710832e-03  1.43839140e-02  7.06363782e-03 -1.30718111e-02\n",
      "  2.14422632e-02 -7.83999306e-03  6.78359702e-02  4.30990964e-03\n",
      "  7.80783383e-03  3.82985980e-02  3.17842279e-02 -1.68462055e-02\n",
      " -3.73441500e-02 -1.77918820e-02 -2.56193385e-02  1.87837991e-02\n",
      "  1.11310351e-02  7.51325352e-03 -2.48704768e-02  2.64549007e-02\n",
      "  1.26263509e-02 -1.03169462e-02  1.35060385e-03  3.93141279e-02\n",
      "  1.80679703e-02  1.22202046e-02 -3.96217144e-02  4.07442100e-03\n",
      "  2.71210314e-02 -2.27200568e-02 -2.28206980e-02 -2.68137701e-02\n",
      "  1.50116525e-02 -1.92849788e-02  6.04179854e-04  2.84643603e-02\n",
      "  1.20161709e-02  2.73917729e-02 -4.16063779e-03 -2.22703267e-02\n",
      " -1.58419581e-02  1.48467896e-02 -1.78114816e-02 -7.63348309e-03\n",
      " -8.26588696e-03 -2.57198655e-04 -5.08220375e-03  1.40402331e-02\n",
      " -4.97171313e-03 -1.90787109e-02 -5.09105442e-03  4.23464403e-02\n",
      " -1.79078223e-02 -2.83716806e-02 -1.21065127e-02 -7.89423742e-03\n",
      " -1.91388908e-02 -2.68359014e-02 -3.30088364e-02 -2.23908558e-02\n",
      "  7.48274861e-02 -2.04523900e-02 -2.18207490e-02 -1.33079027e-02\n",
      "  7.42057545e-02 -2.09862119e-02 -2.34188077e-02 -1.72483870e-02\n",
      " -2.85668556e-02 -1.34390095e-02  1.98243581e-02 -2.22106533e-02\n",
      " -2.87485164e-02 -2.04139234e-02 -2.03591580e-03  8.02012791e-03\n",
      "  7.31582217e-03  1.19951845e-03 -1.18529571e-02  1.37277117e-02\n",
      " -9.07264915e-04  1.99583916e-03 -1.41305239e-02 -2.83499701e-02\n",
      " -3.07237513e-02 -5.70700188e-03 -1.75242401e-02  5.01911383e-03\n",
      " -2.11978014e-02 -2.87363290e-02  8.46075359e-04 -1.19297829e-02\n",
      " -9.64339897e-03 -1.80512436e-02 -2.25437828e-02 -1.91205068e-02\n",
      "  8.47770021e-03 -1.85830770e-03 -2.59575703e-02  6.95782822e-03\n",
      " -2.40612549e-02  2.75808235e-03  5.67414603e-03 -4.13761914e-02\n",
      " -1.84987803e-02 -1.18915378e-02 -2.67420343e-02 -8.99520331e-03\n",
      " -3.12659158e-02 -2.15707256e-02 -1.55278496e-02 -5.05853537e-03\n",
      "  8.17774094e-02  2.02529121e-02  9.50219579e-03 -1.33495444e-02\n",
      "  4.43640933e-03  5.30130888e-03  7.64866627e-02  4.70428238e-02\n",
      " -9.26776223e-03  2.63222887e-02 -9.32473138e-04 -5.62059050e-03\n",
      " -2.06291077e-02  5.04690619e-02  1.60626074e-01  4.58249449e-02\n",
      "  2.10088270e-01  1.27829657e-03 -1.30883400e-02 -3.17277294e-02\n",
      "  2.94969779e-02 -2.27828904e-03 -1.55403466e-02 -7.58606043e-03\n",
      "  1.14616683e-02 -2.39051375e-02  2.20009065e-02  7.46079006e-02\n",
      " -1.25286160e-02 -5.04825191e-04  2.33278441e-02  1.78264753e-03\n",
      " -2.21177369e-02  2.91128563e-02  8.89828855e-03  4.77429712e-02\n",
      " -1.81207039e-02 -2.33771029e-02  3.13052540e-03 -2.89104352e-02\n",
      " -1.53547421e-02  9.35642805e-02  5.87717449e-02 -1.16621421e-02\n",
      "  5.56996629e-04  5.10499071e-03 -2.07213870e-02  2.25105926e-02\n",
      "  2.19181928e-03  1.10275660e-01 -1.27378743e-02 -2.01990160e-04\n",
      " -1.78358882e-02 -1.79893550e-02 -1.30749995e-02 -2.26557883e-02\n",
      " -2.61889070e-02 -3.53344063e-02  3.17444952e-03 -9.95434742e-03\n",
      " -1.18310785e-02 -3.53686635e-03  6.44056944e-03  1.26647164e-02\n",
      "  5.94064679e-02  2.04822984e-02 -2.01830998e-02 -2.11170897e-02\n",
      " -1.13409817e-02 -1.82108122e-02 -1.99036408e-02 -9.91592952e-03\n",
      "  9.84934348e-03 -1.57552734e-02 -8.99719683e-03 -1.48173407e-02\n",
      " -9.14455383e-03 -1.29880978e-02  9.95982426e-03 -2.13819346e-03\n",
      " -2.08425295e-02  1.17255017e-02  3.66798783e-02  1.54586014e-02\n",
      " -3.49154325e-03  6.43390032e-03 -1.59693107e-02 -3.44248261e-02\n",
      " -2.37733516e-02 -1.05930092e-02 -1.76725026e-02 -1.06758105e-02\n",
      " -1.59966911e-02 -9.81441952e-03 -1.21230453e-02  4.44346041e-04\n",
      "  8.53286896e-03  4.22661076e-03  2.33655036e-02  1.73241880e-02\n",
      " -2.26467891e-02  4.38894762e-02 -1.11309388e-02 -1.93184090e-02\n",
      " -2.82745853e-02 -3.14269427e-02 -3.45888108e-02 -6.24811737e-03\n",
      "  1.42837756e-02  2.02337880e-02  4.68441413e-03  2.08002775e-02\n",
      "  1.20586067e-02 -1.44824307e-02 -2.37549245e-02 -3.58908135e-02\n",
      " -3.78392302e-02 -2.86079006e-02 -8.58312262e-03  2.40768205e-02\n",
      "  5.68131584e-03 -1.06385942e-02 -4.48348734e-03 -1.13425622e-02\n",
      "  6.02498715e-03 -1.24110138e-02 -3.97312725e-04 -2.22090460e-02\n",
      " -3.23798892e-02 -3.15389723e-02 -3.19185153e-02  8.85530772e-03\n",
      "  2.10722155e-02 -3.55334945e-02 -8.26853811e-03 -6.96128994e-03\n",
      " -2.84984319e-03 -1.52093467e-02 -3.51244756e-03 -2.82995369e-02\n",
      " -3.63578946e-02 -1.39365008e-02 -3.51025201e-02 -2.57754230e-02\n",
      " -1.86446744e-02 -1.42869621e-02 -1.13797680e-02  5.31985557e-03\n",
      "  1.82374052e-02  6.35372509e-03 -9.89885834e-03 -1.29136909e-04\n",
      " -2.29638995e-02 -1.38717288e-02 -2.67953459e-02 -2.57127811e-02\n",
      " -7.97983444e-03 -2.05168555e-02 -2.77590707e-02 -2.84358089e-02\n",
      " -2.59999414e-02 -1.70824528e-02 -1.67103301e-02 -2.88428754e-02\n",
      " -2.58382486e-02 -3.81815977e-02 -1.63144517e-02 -1.40598536e-02\n",
      " -2.73438338e-02 -3.92001615e-02 -2.18842033e-02 -2.39461479e-02\n",
      " -1.08954026e-02 -2.14005141e-02  1.40742710e-02 -5.96141484e-03\n",
      " -1.60534677e-02 -1.81612108e-02 -3.34115435e-02 -2.29960566e-02\n",
      " -1.04674348e-02 -9.35159994e-03 -9.98774281e-03 -2.81389286e-02\n",
      "  2.41175355e-02 -1.90500871e-02 -1.26963312e-02 -1.60486340e-02\n",
      " -3.00276425e-02 -4.22391977e-02 -2.01394399e-02 -2.56318780e-02\n",
      " -2.38167538e-02  1.10295783e-01  1.58637357e-02 -4.06109979e-03\n",
      "  1.78601526e-02  6.91828007e-02  4.62506611e-02 -1.55647986e-02\n",
      " -2.37682389e-02  1.49527199e-02  1.92271320e-04 -6.62320790e-03\n",
      "  1.60006051e-02  1.03837773e-01  6.56120754e-02  1.17480354e-01\n",
      "  7.47223208e-02 -1.43882936e-02  6.68202497e-03 -3.45238371e-02\n",
      " -3.35364942e-02 -1.43333538e-02 -7.50506312e-03 -4.77684987e-03\n",
      " -5.01967334e-03 -9.60208767e-03 -9.91563541e-03  2.19642931e-02\n",
      "  1.74638768e-02 -7.85676935e-03  7.58578017e-03  8.14959797e-02\n",
      " -6.91146638e-03 -1.95246659e-02  4.52460660e-02  1.00307465e-02\n",
      "  3.66103530e-03 -6.24179782e-03 -1.71771670e-02 -1.33320937e-02\n",
      " -1.95464994e-02 -2.82068243e-02 -5.51167325e-04 -2.03303066e-02\n",
      " -4.33757424e-03  1.12307682e-02 -1.95473008e-02  3.06301018e-03\n",
      "  5.37148730e-02  5.09461999e-03 -1.99973264e-02  2.85818791e-03\n",
      "  2.09305802e-02 -2.69517528e-02 -4.07952843e-03  1.05512384e-02\n",
      " -3.62383175e-02 -7.94322441e-03  5.80538644e-02  1.47833841e-02\n",
      " -1.74207236e-02 -2.41834440e-03  9.66043017e-03 -9.66051110e-03\n",
      " -1.61994200e-02 -1.70002369e-02 -7.90473828e-03  1.29628428e-02\n",
      "  1.73147465e-02  4.58568687e-02  3.45605067e-03 -1.76716096e-02\n",
      " -1.03591300e-02  1.76960539e-02 -2.14676537e-02 -1.68765231e-03\n",
      " -1.73068906e-02 -8.84426225e-03 -1.27622215e-02 -5.60209442e-04\n",
      "  1.47472926e-02 -3.21657295e-02  3.77602717e-03 -1.74447850e-02\n",
      " -2.81510375e-02  1.79576004e-02  1.59726143e-02  1.97046294e-02\n",
      "  2.76517206e-02  3.08767085e-02 -1.95389165e-02  2.65352192e-02\n",
      " -1.43284762e-03 -3.09509937e-02 -3.95955185e-02 -3.26543096e-02\n",
      " -3.30056930e-04 -3.06271289e-02 -2.83331646e-02 -1.71628834e-02\n",
      "  1.98013516e-02  1.13205777e-02  1.92583551e-02  4.92726340e-04\n",
      " -9.04464486e-03 -1.89408547e-02  3.29629623e-02 -2.80822515e-02\n",
      " -2.63748638e-02 -2.23818119e-02 -5.25939008e-03 -2.29681636e-02\n",
      " -4.04459173e-02 -2.50366580e-02 -1.77664233e-02  1.03828336e-02\n",
      " -2.35234092e-03 -8.96488103e-04  1.42974595e-03  2.52543227e-02\n",
      " -1.12145031e-02 -2.72495005e-02 -2.80133923e-02 -3.20686392e-02\n",
      "  3.42034785e-02 -1.85809809e-02 -8.12623764e-03 -1.63810870e-02\n",
      " -2.26853906e-02 -2.80683381e-02 -2.74253000e-02 -5.84281101e-03\n",
      " -3.29966451e-02 -1.35485971e-02  7.91441438e-03 -1.77428077e-02\n",
      " -1.35801232e-02  2.62109100e-03  1.70465492e-02 -1.02169083e-02\n",
      " -9.47923723e-03 -3.25638514e-02 -1.65219395e-02 -2.86973175e-02\n",
      " -3.05148234e-02 -2.73974693e-02  1.61180932e-02  1.02354575e-02\n",
      " -1.96707800e-02  9.20385890e-03  6.51804525e-03  1.45829239e-03\n",
      "  2.28465796e-02  1.51861203e-02  3.08636500e-02 -3.80908204e-04\n",
      " -1.37013835e-02 -2.93476835e-02 -3.06685127e-02 -2.40796427e-02\n",
      " -2.34020870e-02 -2.00654665e-02  2.70432652e-03  2.71052393e-02\n",
      " -3.27836769e-02 -1.97250676e-02 -6.64333767e-03 -5.38226554e-03\n",
      " -1.38713645e-02 -1.78593654e-02 -3.57595430e-02 -5.08017028e-03\n",
      " -1.51885083e-02 -3.09533500e-02 -3.28479930e-02 -1.74210277e-02\n",
      " -2.28901827e-02 -1.30346090e-02 -2.65206625e-02 -3.33803560e-02\n",
      " -2.48722790e-02 -1.88222232e-02 -1.83349003e-02 -2.54794983e-02\n",
      " -1.51885085e-02 -1.93617964e-03 -2.45139841e-02 -2.13491849e-02\n",
      " -2.07127604e-02 -2.23735814e-02 -2.26259916e-02 -2.11102677e-02\n",
      "  1.90368850e-02  8.87944609e-04 -3.17434883e-02 -4.16661708e-02\n",
      " -2.51384504e-03 -2.02112978e-02 -2.85122287e-02 -1.18917038e-02\n",
      " -1.15054587e-02 -1.28687578e-02 -1.90581613e-02 -1.56063992e-02\n",
      " -2.99296785e-03 -1.25107848e-02 -1.26589462e-02 -2.40062366e-02\n",
      " -2.97086868e-02 -2.85411382e-02 -2.78221653e-02 -1.96715836e-02\n",
      "  7.31104982e-02  2.38943411e-02  1.37885060e-02 -1.77966190e-02\n",
      " -1.91088931e-02  3.37187568e-03 -2.15831857e-02 -2.00541389e-02\n",
      " -5.71175872e-03 -3.21648173e-02  9.40336842e-04 -1.76355048e-02\n",
      " -2.66070400e-02 -3.19492103e-03 -1.96433502e-02  6.95483314e-03\n",
      "  8.60539112e-03  1.24362040e-03 -8.50972264e-03 -3.35081801e-03\n",
      "  3.67969867e-02 -5.45285063e-03 -8.46200859e-03 -2.35381611e-02\n",
      " -1.62870147e-02 -2.30862327e-02 -3.26027675e-03 -1.40529815e-02\n",
      " -1.26701793e-02  1.26302572e-02 -4.93499404e-03  2.40338031e-02\n",
      "  3.72564046e-02  6.21739798e-02  4.64728436e-02 -1.56149037e-02\n",
      " -2.13438389e-02  5.96988045e-02 -1.12409529e-02 -2.30233923e-03\n",
      " -1.66489577e-02 -1.90945565e-02  2.02793475e-02  3.72827900e-02\n",
      "  4.51512489e-04 -1.99018796e-02 -5.27883128e-03 -2.68826750e-02\n",
      " -1.14082319e-02  3.69783837e-02  1.07237751e-02  1.34073975e-02\n",
      "  4.70672943e-02 -1.83974214e-03  1.18873202e-01  5.27945311e-02\n",
      "  9.20635671e-03  3.64906214e-03 -1.94953417e-03 -3.50660635e-03\n",
      " -2.21970214e-02 -1.27071713e-02 -5.94340921e-03 -1.03163819e-02\n",
      "  1.13084333e-02 -3.44173213e-03  2.27244579e-02  8.77796843e-04\n",
      " -9.47968149e-03 -3.33870951e-03  1.82038957e-02  2.53565267e-02\n",
      " -2.91169274e-02 -2.70974496e-02 -9.12911813e-03  3.71050768e-02\n",
      "  5.43377412e-03 -8.86021396e-03 -2.32391344e-02 -8.56762863e-03\n",
      "  6.27502017e-03 -4.94231970e-03  3.92444584e-03 -6.39734496e-03\n",
      "  1.96285540e-02  7.60067350e-03  1.61611246e-02  9.46910897e-03\n",
      "  4.72038846e-02  1.98697967e-03 -2.01554224e-02 -1.45022788e-02\n",
      " -1.39720158e-02 -6.51308375e-04 -1.37380044e-02  2.77310317e-02\n",
      "  2.21990289e-02  2.41964974e-02 -1.66681038e-02  1.57191719e-03\n",
      " -7.47478342e-03 -1.74747124e-02 -1.29559841e-02  5.79559645e-03\n",
      "  2.39866659e-03  1.76960629e-03  1.05990282e-03  2.46080865e-02\n",
      "  4.65556067e-04 -3.32060061e-02 -2.13927853e-02  4.28106145e-02\n",
      "  2.43505989e-02 -1.79029306e-02  6.61179144e-02 -1.83496105e-02\n",
      " -4.10726691e-03 -4.26004377e-03 -5.68819393e-03  8.84888671e-03\n",
      " -1.11204237e-02 -2.69070192e-02 -1.03639169e-02 -4.94337426e-05\n",
      "  1.86808477e-02  7.48790426e-03  2.85125385e-02  3.80694496e-03\n",
      " -2.72909666e-02  7.73092102e-02  2.71521314e-02  1.22687241e-02\n",
      " -1.52730115e-02 -2.88563923e-02  5.96803298e-03  3.50199760e-02\n",
      " -2.09699295e-02 -4.32780718e-03 -8.98936487e-03 -1.20425872e-02\n",
      "  5.87891632e-03  1.15016277e-02  2.35394682e-02  2.69147922e-02\n",
      "  1.07982093e-02 -2.53932022e-02  8.69222275e-03  6.96085121e-03\n",
      "  2.66342438e-03 -2.65486056e-02 -1.53843893e-02 -8.41773475e-03\n",
      "  3.41170122e-02 -3.76258310e-02 -2.74871297e-05 -2.24360926e-02\n",
      " -1.97079779e-02 -1.26879680e-02 -1.08598095e-02 -2.61521501e-02\n",
      " -3.12849505e-02 -2.92773387e-02 -2.87863329e-02 -1.59486878e-02\n",
      " -7.42768500e-03 -2.99320671e-02 -1.30077800e-02 -1.83864132e-02\n",
      " -1.70001969e-02 -7.36986724e-03 -1.38471869e-02 -2.18828854e-02\n",
      " -3.17880820e-02 -2.25760992e-02 -3.37531932e-03  1.23149686e-03\n",
      " -5.02346271e-03 -1.31249852e-02 -3.06446165e-02 -4.45900269e-03\n",
      " -3.45623643e-02 -1.80478098e-02  8.58439164e-03  3.25456724e-03\n",
      " -9.53988340e-03 -2.00129351e-02 -2.84669536e-02 -3.33267831e-02\n",
      " -3.63939619e-02 -9.32138063e-03 -2.55919995e-02 -2.56706920e-02\n",
      " -2.33980277e-02 -1.81224659e-02 -1.80069891e-02 -1.82315412e-02\n",
      " -2.95682320e-03 -2.65586518e-02 -2.05008666e-03 -2.40802639e-02\n",
      " -2.57936014e-02 -1.45668554e-02 -2.22289563e-02 -2.98351062e-02\n",
      " -4.09433727e-02 -3.11314793e-02 -1.90344452e-02 -1.40783198e-02\n",
      " -2.09328151e-02 -2.94060601e-02 -1.51836521e-02  8.14201963e-02\n",
      "  1.77215558e-02 -1.14016308e-02 -2.40777329e-03  1.18482455e-02\n",
      " -2.29764127e-04 -2.00651274e-02  3.12763896e-02 -1.68246252e-03\n",
      " -7.83665273e-03 -2.36959849e-03  1.99700620e-02  7.99951189e-03\n",
      " -3.82390319e-02  2.24847000e-02  1.23663860e-02  1.90245354e-02\n",
      " -1.36675641e-02 -1.89624229e-02 -2.27249817e-02 -8.44087085e-03\n",
      "  1.27627161e-03 -8.88413728e-03 -2.31908861e-02 -2.52041382e-02\n",
      "  3.02223202e-02  3.58208665e-02  8.37749782e-02  2.07244645e-02\n",
      " -2.79525109e-02  5.40003036e-04 -1.59369763e-02 -2.53079879e-02\n",
      " -2.20727178e-02 -3.09185409e-02 -3.06531876e-03  2.99843026e-03\n",
      " -3.79594414e-02 -6.08026582e-03 -1.02207371e-02  4.38882125e-03\n",
      "  2.38101033e-02  1.18966492e-02  1.01271964e-02 -2.81209040e-02\n",
      " -3.62184568e-03  1.70604398e-02  8.12615422e-03 -1.17925781e-02\n",
      " -2.51497126e-02  2.79687428e-02  7.41120694e-03 -1.38933086e-02\n",
      " -1.03388572e-03 -2.27752690e-02 -6.26685897e-03 -1.25735324e-02\n",
      "  6.58978429e-03  1.75552776e-02  2.38398937e-02  1.09458874e-02\n",
      " -1.70325361e-02 -5.23933151e-04  1.92300005e-02 -1.66900354e-02\n",
      " -2.44423663e-02  6.96713399e-02  4.24135142e-02 -7.99760549e-03\n",
      " -2.21897974e-02 -2.71397936e-02 -2.28717894e-02  1.84856436e-02\n",
      "  1.56037322e-02 -9.41495796e-07 -8.91138971e-04  1.17521873e-02\n",
      "  3.06680795e-03  3.84092645e-03  3.74213236e-02  5.11750147e-03\n",
      " -4.60501545e-03  8.37506946e-02  2.81199533e-02  9.32603784e-03\n",
      "  5.86512233e-02  1.30845048e-01 -1.47633492e-02 -7.50870582e-03\n",
      "  6.62547810e-03 -1.25674042e-02  2.23877274e-02 -8.53529076e-03\n",
      "  1.54209739e-02 -7.75954468e-03 -5.47377879e-03 -6.86284293e-03\n",
      " -6.59080856e-03  2.42652118e-03 -1.81205125e-02 -1.15176380e-02\n",
      "  2.54920852e-03 -1.62435805e-02 -9.46423253e-03 -1.33892840e-02\n",
      " -2.54937521e-02 -1.37294540e-02  1.22526689e-02  3.37677311e-02\n",
      "  3.55514492e-03 -1.52002691e-02 -8.86865624e-03 -1.41210516e-02\n",
      " -1.55776668e-02  1.48133952e-03 -2.26493640e-02  5.90706933e-02\n",
      " -6.71071782e-04 -2.34691404e-03  5.24619965e-03 -2.88826689e-02\n",
      " -2.62868206e-02 -3.43292239e-03  9.86356934e-03  8.75485566e-03\n",
      " -9.19298946e-03 -1.89651095e-02 -1.06118548e-02 -5.10083185e-03\n",
      "  7.98886723e-04 -2.48175789e-02 -3.14938096e-02 -9.00686917e-03\n",
      " -2.49525549e-02 -2.38943209e-02 -8.76148157e-04  1.54250155e-03\n",
      " -6.11850483e-03  1.18613223e-02 -1.76098036e-02 -2.91350995e-02\n",
      " -1.23311414e-02 -1.66192186e-02 -4.03523122e-03 -1.43512614e-02\n",
      "  9.71668799e-03 -1.46584094e-02 -1.56232322e-03 -2.34151098e-02\n",
      " -1.09581894e-02 -1.45546371e-02 -1.73679594e-02 -1.30528825e-02\n",
      " -3.11801059e-02 -9.61938752e-03 -2.55773606e-02 -1.71802970e-02\n",
      " -3.50628198e-02 -2.50351504e-02 -1.75774963e-02 -1.98799211e-02\n",
      " -2.71856152e-02 -1.34398470e-02 -2.50775202e-02 -5.42286970e-03\n",
      " -9.65078925e-03 -3.31488172e-02 -2.00664261e-02 -2.35595537e-02\n",
      " -2.12298952e-02 -3.41832527e-02 -1.87734668e-02 -1.09590711e-02\n",
      " -4.07066800e-02 -2.69278316e-02 -2.65712987e-02 -2.00074812e-02\n",
      " -1.02409509e-02  1.16381882e-03 -2.23322541e-02 -1.66862657e-02\n",
      " -1.11152920e-02 -1.73455680e-02  7.43239400e-03  7.19396405e-03\n",
      " -6.25016159e-03 -2.31416552e-03  7.64852346e-03  7.35334396e-02\n",
      "  1.22617362e-02 -1.69014526e-02  1.55025932e-03 -2.66794900e-02\n",
      " -1.95249322e-02  2.12478580e-02 -2.24166106e-03 -2.25739057e-03\n",
      "  7.31142609e-02  4.00654561e-02  4.70423652e-02  1.35245059e-02\n",
      " -1.17491858e-02  1.00428572e-02 -7.47259648e-04  5.11805404e-02\n",
      "  4.09977424e-02 -3.31970425e-02 -1.47792762e-02 -3.38636988e-02\n",
      "  1.00154227e-02  1.84659045e-02 -2.46284817e-02  6.18801219e-04\n",
      " -1.20715099e-02 -4.95818158e-03 -2.01111473e-03 -1.50286629e-02\n",
      "  5.11178513e-02  2.89435137e-02 -3.16313193e-03  8.51339159e-02\n",
      "  2.71944013e-02  1.31698399e-03  1.20219602e-01  1.82482430e-02\n",
      " -1.49393724e-02  5.56031086e-04 -2.29673784e-02 -2.57627794e-02\n",
      " -3.40634362e-02  1.46884472e-02  1.28528923e-02  2.18392914e-02\n",
      " -1.06089779e-02  1.31439798e-02  1.06918710e-02  2.76572731e-02\n",
      "  6.73719728e-03 -6.34022274e-03  1.79291345e-02  4.03471902e-03\n",
      " -1.19930549e-02  1.60615719e-01  8.39899189e-03  2.33938033e-03\n",
      " -2.66709877e-02 -2.51073674e-02 -4.24024082e-03  1.78859954e-02\n",
      "  2.85813434e-02 -5.25402817e-03  2.28458861e-02  8.07671283e-03\n",
      "  8.75347012e-05  3.55723064e-03 -4.34775067e-03  8.53234961e-03\n",
      "  1.93911280e-02  1.49469316e-02 -2.52212621e-02 -2.64925107e-02\n",
      " -7.73883993e-03 -2.81341858e-02  3.03796518e-02 -8.26826652e-03\n",
      " -1.33560236e-02 -1.01658134e-02 -1.26468557e-02 -2.31938532e-03\n",
      " -3.61187551e-03 -1.14906683e-03  1.64305636e-02 -1.66876764e-03\n",
      " -1.79024412e-02 -2.16320933e-02 -2.05613525e-02 -1.10712835e-02\n",
      " -1.60222906e-02 -2.98567370e-02 -1.09152898e-02  6.57518638e-03\n",
      " -7.21673262e-03  3.10742598e-03 -8.15632663e-03 -5.29917583e-03\n",
      " -2.04763059e-02 -2.68320345e-02 -2.54789493e-02  1.41563935e-02\n",
      " -1.35741546e-02 -2.74375913e-02 -3.70336113e-03 -3.25370730e-03\n",
      " -1.23971572e-02  4.89070036e-04 -1.97392946e-02 -1.73482060e-02\n",
      " -3.48156907e-02 -2.60797341e-02 -9.85315576e-03 -3.15128467e-02\n",
      " -3.37640910e-02 -4.94036238e-03 -1.41029332e-02 -1.53012563e-02\n",
      " -2.26311788e-02 -3.19842771e-02 -6.62670150e-03 -1.06465931e-02\n",
      " -2.31843373e-02 -2.54608383e-02 -5.71582342e-03 -2.79993483e-02\n",
      " -1.97614302e-02 -5.94647115e-03 -3.87156933e-02 -2.41298317e-02\n",
      " -1.82714547e-02  3.15068068e-03 -2.89895054e-02 -3.66697056e-02\n",
      " -1.67131557e-02 -4.54714709e-03 -4.44732744e-02 -1.87523520e-02\n",
      "  1.03491668e-02  5.99430263e-02  5.72531948e-02  7.64852272e-03\n",
      "  1.44911666e-02  1.14892984e-02  1.68672671e-02 -1.55776016e-02\n",
      "  1.01024527e-02 -4.68518355e-03 -2.62385628e-02 -6.76945951e-03\n",
      "  1.08653290e-02  4.88010203e-02  4.47026131e-02  2.17360359e-02\n",
      " -1.41245607e-02 -2.48480274e-02  2.12368319e-01  1.29400630e-01\n",
      "  3.02558624e-03 -6.83808602e-03 -1.46787978e-02 -1.30414102e-02\n",
      "  6.49492312e-03  1.77461684e-02  1.06480707e-02 -8.94798711e-03\n",
      " -1.58027347e-02  1.75616663e-01  7.74777295e-03 -2.75852547e-04\n",
      " -1.14349389e-02  3.02031889e-02  2.49106965e-02 -1.36460314e-02\n",
      " -1.62208853e-03  1.55516884e-02 -5.72438930e-04  1.23246740e-02\n",
      "  2.66975217e-03 -2.22139769e-03 -1.98952694e-02 -1.04892993e-02\n",
      " -1.26719030e-03  1.48098476e-02 -1.29122111e-02  3.91134851e-03\n",
      "  1.21203285e-02  7.34020436e-03 -7.12695585e-03 -1.26103565e-02\n",
      " -1.81050413e-02 -1.67700086e-02 -2.58399432e-02  1.33056805e-02\n",
      " -3.98265471e-03  3.44407230e-03  1.03059270e-03  7.69663407e-03\n",
      " -1.58009704e-02  2.47646673e-02 -2.01554773e-02 -2.58797476e-02\n",
      " -2.08913827e-02 -1.32758019e-02 -2.50667538e-02 -1.86802180e-02\n",
      " -9.82696047e-03 -2.96939489e-02 -2.28711512e-02 -2.49265246e-02\n",
      " -1.81656183e-02 -3.12055095e-02 -3.85418308e-02 -2.53346929e-02\n",
      "  2.01740137e-03 -3.93666592e-02 -2.30535443e-02 -3.24056342e-02\n",
      " -2.07465603e-02 -2.55992059e-02 -2.01981642e-02 -2.28457747e-02\n",
      " -2.95349541e-02 -1.38434806e-02 -2.03700694e-02  1.65867159e-03\n",
      " -3.76238974e-02 -2.44196773e-02 -3.26607369e-03  4.24889368e-02\n",
      "  2.43809204e-01  2.09921626e-01  2.40297605e-02  1.48077970e-01\n",
      " -1.02827852e-02 -1.09117008e-02  8.70146182e-04 -5.67015259e-03\n",
      " -6.77832983e-03 -9.56570541e-03 -3.13965451e-03 -1.89026266e-02\n",
      " -7.40384465e-03  7.38642481e-03  3.13387509e-02  5.35798704e-04\n",
      "  1.07354138e-02 -1.01019639e-02 -1.30211862e-02 -3.23463077e-02\n",
      " -4.74922328e-02 -2.91306637e-02 -2.42485352e-02 -1.15615677e-02\n",
      " -1.98046981e-02 -9.07922261e-03 -6.84960376e-03 -3.02000587e-02\n",
      " -3.29249126e-02 -2.29335283e-02 -3.64731691e-02 -3.73847954e-02\n",
      " -3.31917491e-02 -2.31847831e-02 -2.10968560e-02 -1.72155487e-02\n",
      " -2.83685690e-02 -1.25537650e-02 -3.60640828e-02 -2.73476122e-02\n",
      "  6.30549240e-03  4.73763867e-02 -1.83531407e-02 -1.92728425e-02\n",
      " -2.28878119e-02 -1.45787129e-02 -1.91132414e-02 -3.14183923e-02\n",
      " -6.32698423e-03 -1.93810288e-02 -3.33481689e-02 -2.45595725e-02\n",
      " -1.43544976e-03 -1.90125970e-02]\n"
     ]
    }
   ],
   "source": [
    "print(mean_scores)"
   ]
  },
  {
   "cell_type": "code",
   "execution_count": 19,
   "id": "a9827931",
   "metadata": {},
   "outputs": [],
   "source": [
    "from sklearn.linear_model import LassoLarsCV\n",
    "# choose number of voxels to treat, set to None for all voxels\n",
    "n_voxels = 50\n",
    "# choose best voxels\n",
    "indices = mean_scores.argsort()[::-1][:n_voxels]\n",
    "lasso = LassoLarsCV(max_iter=10)\n",
    "receptive_fields = [] \n",
    "for index in indices:\n",
    "    lasso.fit(y_train, X_train[:, index])\n",
    "    receptive_fields.append(lasso.coef_.\n",
    "        reshape(10, 10))"
   ]
  },
  {
   "cell_type": "code",
   "execution_count": null,
   "id": "83bccf79",
   "metadata": {},
   "outputs": [],
   "source": []
  },
  {
   "cell_type": "code",
   "execution_count": null,
   "id": "7ff7933d",
   "metadata": {},
   "outputs": [],
   "source": []
  },
  {
   "cell_type": "code",
   "execution_count": null,
   "id": "d310eeb8",
   "metadata": {},
   "outputs": [],
   "source": []
  },
  {
   "cell_type": "code",
   "execution_count": null,
   "id": "2f638594",
   "metadata": {},
   "outputs": [],
   "source": []
  }
 ],
 "metadata": {
  "kernelspec": {
   "display_name": "Python 3",
   "language": "python",
   "name": "python3"
  },
  "language_info": {
   "codemirror_mode": {
    "name": "ipython",
    "version": 3
   },
   "file_extension": ".py",
   "mimetype": "text/x-python",
   "name": "python",
   "nbconvert_exporter": "python",
   "pygments_lexer": "ipython3",
   "version": "3.9.0"
  }
 },
 "nbformat": 4,
 "nbformat_minor": 5
}
