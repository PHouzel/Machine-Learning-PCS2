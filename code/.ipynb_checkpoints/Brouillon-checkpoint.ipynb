{
 "cells": [
  {
   "cell_type": "code",
   "execution_count": 12,
   "id": "e7dd4e50",
   "metadata": {},
   "outputs": [
    {
     "name": "stdout",
     "output_type": "stream",
     "text": [
      "[1, 3, 5, 7, 9]\n",
      "[[1, 2], [3, 4], [5, 6], [7, 8], [9, 10]]\n",
      "[[1, 2], [3, 4], [5, 6], [7, 8], [9, 10]]\n"
     ]
    }
   ],
   "source": [
    "mat = []\n",
    "\n",
    "k = [2*i+1 for i in range(5)]\n",
    "print(k)\n",
    "\n",
    "for i in k :\n",
    "    mat.append([i,i+1])\n",
    "        \n",
    "print(mat)\n",
    "\n",
    "\n",
    "print(mat2)"
   ]
  },
  {
   "cell_type": "code",
   "execution_count": 44,
   "id": "bf554cf7",
   "metadata": {},
   "outputs": [
    {
     "name": "stdout",
     "output_type": "stream",
     "text": [
      "[[0, 10], [1, 11], [2, 12], [3, 13], [4, 14], [20, 30], [21, 31], [22, 32], [23, 33], [24, 34], [40, 50], [41, 51], [42, 52], [43, 53], [44, 54]] 15\n"
     ]
    }
   ],
   "source": [
    "mat = []\n",
    "\n",
    "for i in range(5) :\n",
    "    for j in range(5) :\n",
    "        if i%2 == 0 :\n",
    "            mat.append([i*10+j,(i+1)*10+j])\n",
    "    \n",
    "print(mat, len(mat))\n",
    "\n",
    "k = [2*i for i in range(5)]\n",
    "mat2 = [[a*10 + b, (a+1)*10 +b] for a in k for b in range(10)]\n",
    "#mat2, len(mat2)"
   ]
  },
  {
   "cell_type": "code",
   "execution_count": 202,
   "id": "92000d19",
   "metadata": {},
   "outputs": [],
   "source": [
    "import numpy as np\n",
    "import matplotlib.pyplot as plt\n",
    "\n",
    "img25 = np.linspace(0,1,25)\n",
    "img25 = [round(a,2) for a in img25] #np.concatenate((np.zeros(12),np.ones(13)))\n",
    "img100 = np.concatenate((np.ones(95),np.zeros(5)))\n",
    "\n",
    "# now make the 25 img a 100 img\n"
   ]
  },
  {
   "cell_type": "code",
   "execution_count": 203,
   "id": "1f2a3200",
   "metadata": {},
   "outputs": [
    {
     "data": {
      "text/plain": [
       "<matplotlib.image.AxesImage at 0x7fadb0da8fd0>"
      ]
     },
     "execution_count": 203,
     "metadata": {},
     "output_type": "execute_result"
    },
    {
     "data": {
      "image/png": "[encoded data removed]",
      "text/plain": [
       "<Figure size 432x288 with 3 Axes>"
      ]
     },
     "metadata": {
      "needs_background": "light"
     },
     "output_type": "display_data"
    }
   ],
   "source": [
    "fig, ax = plt.subplots(1,3)\n",
    "sp25 = ax[0]\n",
    "sp100 = ax[1]\n",
    "spmerged = ax[2]\n",
    "\n",
    "img25 = np.reshape(img25,(5,5))\n",
    "sp25.imshow(img25, cmap = plt.cm.gray, interpolation = 'nearest',vmin=0, vmax=1)\n",
    "\n",
    "img25_100 = np.zeros((10,10))\n",
    "\n",
    "for i in range(len(img25[0])) :\n",
    "    for j in range(len(img25[0])) :\n",
    "        img25_100[2*i, 2*j] = img25[i,j]\n",
    "        img25_100[2*i,2*j+1] = img25[i,j]\n",
    "        img25_100[2*i+1,2*j] = img25[i,j]\n",
    "        img25_100[2*i+1,2*j+1] = img25[i,j]\n",
    "\n",
    "img100 = np.reshape(img100,(10,10))\n",
    "sp100.imshow(img100,cmap = plt.cm.gray, interpolation = 'nearest',vmin=0, vmax=1)\n",
    "\n",
    "img_merged = [[np.average([img25_100[i,j], img100[i,j]]) for j in range(len(img100))] for i in range(len(img100))]\n",
    "spmerged.imshow(img_merged, cmap = plt.cm.gray, interpolation = 'nearest', vmin=0, vmax=1)"
   ]
  },
  {
   "cell_type": "code",
   "execution_count": 206,
   "id": "21124adc",
   "metadata": {},
   "outputs": [
    {
     "data": {
      "text/plain": [
       "<matplotlib.image.AxesImage at 0x7fadb0ac3f70>"
      ]
     },
     "execution_count": 206,
     "metadata": {},
     "output_type": "execute_result"
    },
    {
     "data": {
      "image/png": "[encoded data removed]",
      "text/plain": [
       "<Figure size 432x288 with 4 Axes>"
      ]
     },
     "metadata": {
      "needs_background": "light"
     },
     "output_type": "display_data"
    }
   ],
   "source": [
    "fig, ax = plt.subplots(1,4)\n",
    "sp25 = ax[0]\n",
    "sp100 = ax[1]\n",
    "spmerged = ax[2]\n",
    "spmerged2 = ax[3]\n",
    "\n",
    "img25 = np.reshape(img25,(5,5))\n",
    "sp25.imshow(img25, cmap = plt.cm.gray, interpolation = 'nearest',vmin=0, vmax=1)\n",
    "\n",
    "img25_100 = np.zeros((10,10))\n",
    "\n",
    "for i in range(len(img25[0])) :\n",
    "    for j in range(len(img25[0])) :\n",
    "        img25_100[2*i, 2*j] = img25[i,j]\n",
    "        img25_100[2*i,2*j+1] = img25[i,j]\n",
    "        img25_100[2*i+1,2*j] = img25[i,j]\n",
    "        img25_100[2*i+1,2*j+1] = img25[i,j]\n",
    "\n",
    "img_mergedbis = [[np.average([img25_100bis[i,j], img100[i,j]]) for j in range(len(img100))] for i in range(len(img100))]\n",
    "spmerged2.imshow(img_mergedbis, cmap = plt.cm.gray, interpolation = 'nearest', vmin=0, vmax=1)\n",
    "img100 = np.reshape(img100,(10,10))\n",
    "sp100.imshow(img100,cmap = plt.cm.gray, interpolation = 'nearest',vmin=0, vmax=1)\n",
    "\n",
    "img_merged = [[np.average([img25_100[i,j], img100[i,j]]) for j in range(len(img100))] for i in range(len(img100))]\n",
    "spmerged.imshow(img_merged, cmap = plt.cm.gray, interpolation = 'nearest', vmin=0, vmax=1)"
   ]
  },
  {
   "cell_type": "code",
   "execution_count": 161,
   "id": "1808d82a",
   "metadata": {},
   "outputs": [
    {
     "name": "stdout",
     "output_type": "stream",
     "text": [
      "[[[(0, 0), (0, 1)], [(1, 0), (1, 1)]], [[(0, 2), (0, 3)], [(1, 2), (1, 3)]], [[(0, 4), (0, 5)], [(1, 4), (1, 5)]], [[(0, 6), (0, 7)], [(1, 6), (1, 7)]], [[(0, 8), (0, 9)], [(1, 8), (1, 9)]], [[(2, 0), (2, 1)], [(3, 0), (3, 1)]], [[(2, 2), (2, 3)], [(3, 2), (3, 3)]], [[(2, 4), (2, 5)], [(3, 4), (3, 5)]], [[(2, 6), (2, 7)], [(3, 6), (3, 7)]], [[(2, 8), (2, 9)], [(3, 8), (3, 9)]], [[(4, 0), (4, 1)], [(5, 0), (5, 1)]], [[(4, 2), (4, 3)], [(5, 2), (5, 3)]], [[(4, 4), (4, 5)], [(5, 4), (5, 5)]], [[(4, 6), (4, 7)], [(5, 6), (5, 7)]], [[(4, 8), (4, 9)], [(5, 8), (5, 9)]], [[(6, 0), (6, 1)], [(7, 0), (7, 1)]], [[(6, 2), (6, 3)], [(7, 2), (7, 3)]], [[(6, 4), (6, 5)], [(7, 4), (7, 5)]], [[(6, 6), (6, 7)], [(7, 6), (7, 7)]], [[(6, 8), (6, 9)], [(7, 8), (7, 9)]], [[(8, 0), (8, 1)], [(9, 0), (9, 1)]], [[(8, 2), (8, 3)], [(9, 2), (9, 3)]], [[(8, 4), (8, 5)], [(9, 4), (9, 5)]], [[(8, 6), (8, 7)], [(9, 6), (9, 7)]], [[(8, 8), (8, 9)], [(9, 8), (9, 9)]]]\n"
     ]
    }
   ],
   "source": [
    "mat = []\n",
    "\n",
    "for i in range(5) :\n",
    "    for j in range(5) :\n",
    "        mat.append([[(2*i,2*j),(2*i,2*j+1)],[(2*i+1,2*j),(2*i+1,2*j+1)]])\n",
    "        \n",
    "print(mat)"
   ]
  },
  {
   "cell_type": "code",
   "execution_count": 162,
   "id": "4b60a54b",
   "metadata": {},
   "outputs": [
    {
     "name": "stdout",
     "output_type": "stream",
     "text": [
      "[[ 0  1  2  3  4]\n",
      " [10 11 12 13 14]\n",
      " [20 21 22 23 24]\n",
      " [30 31 32 33 34]\n",
      " [40 41 42 43 44]]\n",
      "[[ 0.  0.  1.  1.  2.  2.  3.  3.  4.  4.]\n",
      " [ 0.  0.  1.  1.  2.  2.  3.  3.  4.  4.]\n",
      " [10. 10. 11. 11. 12. 12. 13. 13. 14. 14.]\n",
      " [10. 10. 11. 11. 12. 12. 13. 13. 14. 14.]\n",
      " [20. 20. 21. 21. 22. 22. 23. 23. 24. 24.]\n",
      " [20. 20. 21. 21. 22. 22. 23. 23. 24. 24.]\n",
      " [30. 30. 31. 31. 32. 32. 33. 33. 34. 34.]\n",
      " [30. 30. 31. 31. 32. 32. 33. 33. 34. 34.]\n",
      " [40. 40. 41. 41. 42. 42. 43. 43. 44. 44.]\n",
      " [40. 40. 41. 41. 42. 42. 43. 43. 44. 44.]]\n"
     ]
    }
   ],
   "source": [
    "mat = np.array([[(d*10)+i for i in range(5)] for d in range(5)])\n",
    "newmat = np.zeros((10,10))\n",
    "print(mat)\n",
    "\n",
    "for i in range(5) :\n",
    "    for j in range(5) :\n",
    "        newmat[2*i, 2*j] = mat[i,j]\n",
    "        newmat[2*i,2*j+1] = mat[i,j]\n",
    "        newmat[2*i+1,2*j] = mat[i,j]\n",
    "        newmat[2*i+1,2*j+1] = mat[i,j]\n",
    "        \n",
    "print(newmat)"
   ]
  },
  {
   "cell_type": "code",
   "execution_count": 163,
   "id": "df6dfa7f",
   "metadata": {},
   "outputs": [
    {
     "data": {
      "text/plain": [
       "array([[1., 1., 1., 1., 1.],\n",
       "       [1., 1., 1., 1., 1.],\n",
       "       [1., 1., 1., 1., 1.],\n",
       "       [1., 1., 1., 1., 1.],\n",
       "       [1., 1., 1., 1., 1.]])"
      ]
     },
     "execution_count": 163,
     "metadata": {},
     "output_type": "execute_result"
    }
   ],
   "source": [
    "img25"
   ]
  },
  {
   "cell_type": "code",
   "execution_count": 187,
   "id": "b2106868",
   "metadata": {},
   "outputs": [
    {
     "data": {
      "text/plain": [
       "<matplotlib.image.AxesImage at 0x7fadb124e8b0>"
      ]
     },
     "execution_count": 187,
     "metadata": {},
     "output_type": "execute_result"
    },
    {
     "data": {
      "image/png": "[encoded data removed]",
      "text/plain": [
       "<Figure size 432x288 with 2 Axes>"
      ]
     },
     "metadata": {
      "needs_background": "light"
     },
     "output_type": "display_data"
    }
   ],
   "source": [
    "img25_100 = np.zeros((10,10))\n",
    "\n",
    "for i in range(len(img25[0])) :\n",
    "    for j in range(len(img25[0])) :\n",
    "        img25_100[2*i, 2*j] = img25[i,j]\n",
    "        img25_100[2*i,2*j+1] = img25[i,j]\n",
    "        img25_100[2*i+1,2*j] = img25[i,j]\n",
    "        img25_100[2*i+1,2*j+1] = img25[i,j]\n",
    "\n",
    "fig, ax = plt.subplots(1,2)\n",
    "ax25 = ax[0]\n",
    "ax25_100 = ax[1]\n",
    "\n",
    "ax25.imshow(img25, cmap = plt.cm.gray, interpolation = 'nearest',vmin=0, vmax=1)\n",
    "\n",
    "ax25_100.imshow(img25_100,cmap = plt.cm.gray, interpolation = 'nearest')"
   ]
  },
  {
   "cell_type": "code",
   "execution_count": 195,
   "id": "6aa2d902",
   "metadata": {},
   "outputs": [
    {
     "name": "stdout",
     "output_type": "stream",
     "text": [
      "[[1.0, 1.0, 1.0, 1.0, 1.0, 1.0, 1.0, 1.0, 1.0, 1.0], [1.0, 1.0, 1.0, 1.0, 1.0, 1.0, 1.0, 1.0, 1.0, 1.0], [1.0, 1.0, 1.0, 1.0, 1.0, 1.0, 1.0, 1.0, 1.0, 1.0], [1.0, 1.0, 1.0, 1.0, 1.0, 1.0, 1.0, 1.0, 1.0, 1.0], [1.0, 1.0, 1.0, 1.0, 1.0, 1.0, 1.0, 1.0, 1.0, 1.0], [0.5, 0.5, 0.5, 0.5, 0.5, 0.5, 0.5, 0.5, 0.5, 0.5], [0.5, 0.5, 0.5, 0.5, 0.5, 0.5, 0.5, 0.5, 0.5, 0.5], [0.5, 0.5, 0.5, 0.5, 0.5, 0.5, 0.5, 0.5, 0.5, 0.5], [0.5, 0.5, 0.5, 0.5, 0.5, 0.5, 0.5, 0.5, 0.5, 0.5], [0.5, 0.5, 0.5, 0.5, 0.5, 0.5, 0.5, 0.5, 0.5, 0.5]]\n"
     ]
    },
    {
     "data": {
      "text/plain": [
       "<matplotlib.image.AxesImage at 0x7fadb10e9b20>"
      ]
     },
     "execution_count": 195,
     "metadata": {},
     "output_type": "execute_result"
    },
    {
     "data": {
      "image/png": "[encoded data removed]",
      "text/plain": [
       "<Figure size 432x288 with 1 Axes>"
      ]
     },
     "metadata": {
      "needs_background": "light"
     },
     "output_type": "display_data"
    }
   ],
   "source": [
    "img_merged = [[np.average([img25_100[i,j], img100[i,j]]) for j in range(len(img100))] for i in range(len(img100))]\n",
    "print(img_merged)\n",
    "plt.imshow(img_merged,cmap = plt.cm.gray,vmin=0, vmax=1)"
   ]
  },
  {
   "cell_type": "code",
   "execution_count": 166,
   "id": "74e78f45",
   "metadata": {},
   "outputs": [
    {
     "data": {
      "text/plain": [
       "(array([[1., 1., 1., 1., 1.],\n",
       "        [1., 1., 1., 1., 1.],\n",
       "        [1., 1., 1., 1., 1.],\n",
       "        [1., 1., 1., 1., 1.],\n",
       "        [1., 1., 1., 1., 1.]]),\n",
       " array([[1., 1., 1., 1., 1., 1., 1., 1., 1., 1.],\n",
       "        [1., 1., 1., 1., 1., 1., 1., 1., 1., 1.],\n",
       "        [1., 1., 1., 1., 1., 1., 1., 1., 1., 1.],\n",
       "        [1., 1., 1., 1., 1., 1., 1., 1., 1., 1.],\n",
       "        [1., 1., 1., 1., 1., 1., 1., 1., 1., 1.],\n",
       "        [1., 1., 1., 1., 1., 1., 1., 1., 1., 1.],\n",
       "        [1., 1., 1., 1., 1., 1., 1., 1., 1., 1.],\n",
       "        [1., 1., 1., 1., 1., 1., 1., 1., 1., 1.],\n",
       "        [1., 1., 1., 1., 1., 1., 1., 1., 1., 1.],\n",
       "        [1., 1., 1., 1., 1., 1., 1., 1., 1., 1.]]),\n",
       " array([[1., 1., 1., 1., 1., 1., 1., 1., 1., 1.],\n",
       "        [1., 1., 1., 1., 1., 1., 1., 1., 1., 1.],\n",
       "        [1., 1., 1., 1., 1., 1., 1., 1., 1., 1.],\n",
       "        [1., 1., 1., 1., 1., 1., 1., 1., 1., 1.],\n",
       "        [1., 1., 1., 1., 1., 1., 1., 1., 1., 1.],\n",
       "        [0., 0., 0., 0., 0., 0., 0., 0., 0., 0.],\n",
       "        [0., 0., 0., 0., 0., 0., 0., 0., 0., 0.],\n",
       "        [0., 0., 0., 0., 0., 0., 0., 0., 0., 0.],\n",
       "        [0., 0., 0., 0., 0., 0., 0., 0., 0., 0.],\n",
       "        [0., 0., 0., 0., 0., 0., 0., 0., 0., 0.]]),\n",
       " [[1.0, 1.0, 1.0, 1.0, 1.0, 1.0, 1.0, 1.0, 1.0, 1.0],\n",
       "  [1.0, 1.0, 1.0, 1.0, 1.0, 1.0, 1.0, 1.0, 1.0, 1.0],\n",
       "  [1.0, 1.0, 1.0, 1.0, 1.0, 1.0, 1.0, 1.0, 1.0, 1.0],\n",
       "  [1.0, 1.0, 1.0, 1.0, 1.0, 1.0, 1.0, 1.0, 1.0, 1.0],\n",
       "  [1.0, 1.0, 1.0, 1.0, 1.0, 1.0, 1.0, 1.0, 1.0, 1.0],\n",
       "  [0.5, 0.5, 0.5, 0.5, 0.5, 0.5, 0.5, 0.5, 0.5, 0.5],\n",
       "  [0.5, 0.5, 0.5, 0.5, 0.5, 0.5, 0.5, 0.5, 0.5, 0.5],\n",
       "  [0.5, 0.5, 0.5, 0.5, 0.5, 0.5, 0.5, 0.5, 0.5, 0.5],\n",
       "  [0.5, 0.5, 0.5, 0.5, 0.5, 0.5, 0.5, 0.5, 0.5, 0.5],\n",
       "  [0.5, 0.5, 0.5, 0.5, 0.5, 0.5, 0.5, 0.5, 0.5, 0.5]])"
      ]
     },
     "execution_count": 166,
     "metadata": {},
     "output_type": "execute_result"
    }
   ],
   "source": [
    "img25, img25_100, img100, img_merged"
   ]
  },
  {
   "cell_type": "markdown",
   "id": "74bb1c69",
   "metadata": {},
   "source": [
    "# 2x2 bloc averaging with overlap : average and make 100 pixel images"
   ]
  },
  {
   "cell_type": "markdown",
   "id": "299d3abf",
   "metadata": {},
   "source": [
    "## Du bordel"
   ]
  },
  {
   "cell_type": "code",
   "execution_count": 215,
   "id": "1267c9bf",
   "metadata": {},
   "outputs": [],
   "source": [
    "import sys\n",
    "import numpy as np\n",
    "from tqdm import tqdm\n",
    "import nibabel\n",
    "#!{sys.executable} -m pip install nilearn #install relevant neuroimaging package\n",
    "#!{sys.executable} -m pip install opencv-python #install video package\n",
    "from preprocessing import load_and_mask_miyawaki_data\n",
    "from plots import plt_fmri_stim\n",
    "import matplotlib.pyplot as plt\n",
    "from sklearn.model_selection import train_test_split"
   ]
  },
  {
   "cell_type": "code",
   "execution_count": 217,
   "id": "15fd71cf",
   "metadata": {},
   "outputs": [],
   "source": [
    "# Preprocessing of stimuli data for multi scale encoding\n",
    "\n",
    "def preproc_one_stimuli(idx_pxl_toavg, stim, reshape = False, reshape_form = (5,5)) :\n",
    "    \"\"\"\n",
    "    Permits to preproc 1 stimuli figure by averaging some pixels together for the \n",
    "    multiscale encoding.\n",
    "    - idx_pxl_toavg : liste de multiplets d'indices de pixels que l'on souhaite moyenner\n",
    "                      ensemble. Par ex, pour le 2*2 on a :\n",
    "                      [[0,1,10,11], [2,3,12,13], ... ,[88,89,98,99]].\n",
    "    - stimuli: the image\n",
    "    - reshape : if you want your image to be reshaped in such a way that you can plot it\n",
    "    - reshape_form : (5,5) for a 5 by 5 image, etc...\n",
    "    \"\"\"\n",
    "    if reshape == False :\n",
    "        return np.array([np.average([stim[i] for i in idx]) for idx in idx_pxl_toavg])\n",
    "    \n",
    "    else :\n",
    "        return np.array(np.reshape([np.average([stim[i] for i in idx]) for idx in idx_pxl_toavg],reshape_form))\n",
    "    \n",
    "\n",
    "def preproc_multiple_stimuli(idx_pxl_toavg, stimuli_list, reshape = False, reshape_form = (5,5)) :\n",
    "    \"\"\"\n",
    "    Same as above but to preproc a whole list of stimulis\n",
    "    Sorry this looks horrible\n",
    "    \"\"\"\n",
    "    if reshape == False :\n",
    "        return np.array([[np.average([stim[i] for i in idx]) for idx in idx_pxl_toavg] for stim in stimuli_list])\n",
    "    \n",
    "    else :\n",
    "        reshape_form_multi = (len(stimuli_list),reshape_form[0],reshape_form[1])\n",
    "        return np.array(np.reshape([np.average([stim[i] for i in idx]) for idx in idx_pxl_toavg for stim in stimuli_list],reshape_form_multi))\n",
    "    \n",
    "def Y_train_newscale(Y_train, idx_pxl_toavg, reshape = False, reshape_form = (5,5)) :\n",
    "    \"\"\"\n",
    "    Creates a new Y_train but with rescaled images \n",
    "    Changes greyscale values to classes (integers) : for this, we want to map the values of greyscale to\n",
    "    integers. We notice that for 4 pixels, only possible values are [0,0.25,0.5,0.75,1]. For 2 pixels, [0,0.5,1]. Etc.\n",
    "    By multiplying these grayscale values by the number of pixels we get [0,1,2,3,4] or [0,1,2], etc. Hence the multiplication.\n",
    "    \"\"\"\n",
    "    Y_continuous = preproc_multiple_stimuli(idx_pxl_toavg, Y_train, reshape, reshape_form) #with values in [0,1]\n",
    "    n = len(idx_pxl_toavg[0]) #number of classes is the number of pixels there is to average + 1. For instance for 4 pixels you can have [0,0.25,0.5,0.75,1]\n",
    "    Y_integers = [[int(pixel_val * n) for pixel_val in img] for img in Y_continuous]\n",
    "    return Y_integers"
   ]
  },
  {
   "cell_type": "code",
   "execution_count": 213,
   "id": "2859fbee",
   "metadata": {},
   "outputs": [
    {
     "name": "stderr",
     "output_type": "stream",
     "text": [
      "Preprocessing data..."
     ]
    },
    {
     "name": "stdout",
     "output_type": "stream",
     "text": [
      "The shape of the masked data is (20, 145, 5438)\n",
      "Preprocessed fMRI data: 2860 samples x 5438 voxels\n",
      "Preprocessed stimuli data: 2860 samples x 100 pixels\n",
      "1536 geometrical figures\n"
     ]
    },
    {
     "name": "stderr",
     "output_type": "stream",
     "text": [
      " Done (42.68s).\n"
     ]
    }
   ],
   "source": [
    "fmri_data, stimuli, fmri_figures_data, stimuli_figures, masker = load_and_mask_miyawaki_data()"
   ]
  },
  {
   "cell_type": "code",
   "execution_count": 218,
   "id": "d67c9997",
   "metadata": {},
   "outputs": [],
   "source": [
    "#random images avec les carrés noirs\n",
    "train_to_test_ratio = 0.8\n",
    "X_train, X_test, Y_train, Y_test = train_test_split(fmri_data, stimuli, \n",
    "                                        train_size=train_to_test_ratio, \n",
    "                                        test_size=1.0-train_to_test_ratio)\n",
    "Y_train_22, Y_test_22 = Y_train_newscale(Y_train, pixel_indices_22), Y_train_newscale(Y_test, pixel_indices_22)"
   ]
  },
  {
   "cell_type": "markdown",
   "id": "08086750",
   "metadata": {},
   "source": [
    "## Maintenant on fait ce qu'on peut "
   ]
  },
  {
   "cell_type": "code",
   "execution_count": 227,
   "id": "2c282c9c",
   "metadata": {},
   "outputs": [],
   "source": [
    "# Create list pixel_indices of 4-uplets of incidices of pixels we want to average together for the 2*2 scale\n",
    "n_even = [2*i for i in range(5)] #list used to generate pixel_indices\n",
    "#pixel_indices_22 = [[10*a+b, 10*a+(b+1), 10*(a+1)+b, 10*(a+1)+(b+1)] for a in n_even for b in n_even]\n",
    "pidx22 = pixel_indices_22 = [[10*a+b, 10*a+(b+1), 10*(a+1)+b, 10*(a+1)+(b+1)] for a in range(9) for b in range(9)]"
   ]
  },
  {
   "cell_type": "code",
   "execution_count": 224,
   "id": "39351fd2",
   "metadata": {},
   "outputs": [
    {
     "data": {
      "text/plain": [
       "(2288, 81)"
      ]
     },
     "execution_count": 224,
     "metadata": {},
     "output_type": "execute_result"
    }
   ],
   "source": [
    "ytrain = Y_train_22\n",
    "len(ytrain), len(ytrain[0])"
   ]
  },
  {
   "cell_type": "code",
   "execution_count": 225,
   "id": "1280dd63",
   "metadata": {},
   "outputs": [
    {
     "data": {
      "text/plain": [
       "([[0, 1, 10, 11],\n",
       "  [1, 2, 11, 12],\n",
       "  [2, 3, 12, 13],\n",
       "  [3, 4, 13, 14],\n",
       "  [4, 5, 14, 15]],\n",
       " [[77, 78, 87, 88],\n",
       "  [78, 79, 88, 89],\n",
       "  [80, 81, 90, 91],\n",
       "  [81, 82, 91, 92],\n",
       "  [82, 83, 92, 93],\n",
       "  [83, 84, 93, 94],\n",
       "  [84, 85, 94, 95],\n",
       "  [85, 86, 95, 96],\n",
       "  [86, 87, 96, 97],\n",
       "  [87, 88, 97, 98],\n",
       "  [88, 89, 98, 99]],\n",
       " 81)"
      ]
     },
     "execution_count": 225,
     "metadata": {},
     "output_type": "execute_result"
    }
   ],
   "source": [
    "pixel_indices_22[0:5], pixel_indices_22[70:], len(pidx22)"
   ]
  },
  {
   "cell_type": "code",
   "execution_count": 298,
   "id": "4ac40e0a",
   "metadata": {},
   "outputs": [
    {
     "name": "stdout",
     "output_type": "stream",
     "text": [
      "[1 2 2 2 2 2 1 1 3 1 0 1 1 1 2 1 0 1 2 2 2 1 2 3 1 0 0 1 3 3 2 2 2 2 1 1 1\n",
      " 3 4 3 2 2 2 1 1 2 3 3 2 2 2 1 1 1 3 3 3 3 3 2 2 2 1 3 3 2 2 3 3 3 3 2 2 1\n",
      " 0 0 2 4 3 2 3]\n",
      "100\n",
      "[1.0, 1.5, 2.0, 2.0, 2.0, 2.0, 1.5, 1.0, 2.0, 3.0, 1.0, 1.0, 1.25, 1.5, 1.5, 1.75, 1.5, 0.75, 1.25, 2.0, 1.5, 1.25, 1.25, 1.25, 1.25, 2.0, 1.75, 0.5, 0.25, 0.5, 1.5, 2.0, 2.5, 2.0, 1.75, 2.25, 2.0, 1.0, 0.5, 0.5, 1.0, 2.0, 3.25, 3.0, 2.25, 2.0, 2.0, 1.5, 1.0, 1.0, 1.5, 2.25, 3.25, 3.0, 2.25, 2.0, 1.75, 1.25, 1.0, 1.0, 2.5, 2.75, 3.0, 2.75, 2.5, 2.25, 1.75, 1.5, 1.25, 1.0, 3.0, 3.0, 2.75, 2.5, 2.75, 2.75, 2.5, 2.5, 2.0, 1.5, 2.5, 2.25, 1.5, 1.0, 1.75, 3.0, 3.25, 2.75, 2.5, 2.5, 2.0, 1.5, 0.5, 0.0, 1.0, 3.0, 3.5, 2.5, 2.5, 3.0]\n"
     ]
    }
   ],
   "source": [
    "n=42\n",
    "imgorig = Y_train[n]\n",
    "img = np.array(ytrain[n])\n",
    "print(np.transpose(img))\n",
    "\n",
    "# Liste des indices des blocks à average pour chaque pixel\n",
    "# block_to_avg[i] : indices des blocks à average pour donner la valeur du pixel i\n",
    "block_to_avg = []\n",
    "for pixel in range(100) : \n",
    "    pixel_blocks = []\n",
    "    for i, block in enumerate(pidx22) :\n",
    "        if pixel in block :\n",
    "            pixel_blocks.append(i)\n",
    "    block_to_avg.append(pixel_blocks)\n",
    "         \n",
    "print(len(block_to_avg))\n",
    "\n",
    "# Maintenant qu'on a généré cette liste on l'utilise pour average pour chaque image\n",
    "# Faisons le déjà pour 1 image\n",
    "\n",
    "newimg = [] # image avec 100 pixels, à remplir\n",
    "\n",
    "for pixel in range(100) :\n",
    "    newimg.append(np.average([img[block] for block in block_to_avg[pixel]]))\n",
    "print(newimg)"
   ]
  },
  {
   "cell_type": "code",
   "execution_count": 299,
   "id": "bb1d02c7",
   "metadata": {},
   "outputs": [
    {
     "data": {
      "text/plain": [
       "<matplotlib.image.AxesImage at 0x7fad85774fd0>"
      ]
     },
     "execution_count": 299,
     "metadata": {},
     "output_type": "execute_result"
    },
    {
     "data": {
      "image/png": "[encoded data removed]",
      "text/plain": [
       "<Figure size 432x432 with 2 Axes>"
      ]
     },
     "metadata": {
      "needs_background": "light"
     },
     "output_type": "display_data"
    }
   ],
   "source": [
    "fig = plt.figure(figsize=(6,6))\n",
    "sp1 = plt.subplot(211)\n",
    "sp2 = plt.subplot(212)\n",
    "sp1.imshow(np.reshape(newimg,(10,10)),  cmap = plt.cm.gray, interpolation = 'nearest')\n",
    "sp2.imshow(np.reshape(imgorig,(10,10)),  cmap = plt.cm.gray, interpolation = 'nearest')"
   ]
  },
  {
   "cell_type": "markdown",
   "id": "df5f00d0",
   "metadata": {},
   "source": [
    "## Maitenant on crée la fonction quoi"
   ]
  },
  {
   "cell_type": "code",
   "execution_count": 352,
   "id": "23fd3c2a",
   "metadata": {},
   "outputs": [],
   "source": [
    "\n",
    "def block_to_100px_PAS_OPTI(y_block, pixel_indices_shape) :\n",
    "    \"\"\"\n",
    "    Make the y_block list of overlapping block averaged images with shape nxm \n",
    "    (2x2, 2x1 or 1x2) to a list of 100-pixels images. The contributions of overlapping\n",
    "    blocks are simply averaged for each pixel, with equal weights for each block.\n",
    "    \n",
    "    - y_block : list of block values for (predicted or not) images\n",
    "    - shape : shape of block (2*1 is (2,1) for instance)\n",
    "    - pixel_indices_shape : list of pixel indices contained in each block (e.g. the first\n",
    "      block of 2x2 block avgd image contains pixels of indices [0,1,10,11])\n",
    "    \"\"\"\n",
    "\n",
    "    # First, depending on the format, we make a list of the indices of the \n",
    "    # blocks we need to average toegether (since not all pixels have the same\n",
    "    # number of blocks contributing --- and also that their locations are not obvious)\n",
    "    # block_to_avg[i] : indices of blocks to avg together to make pixel i\n",
    "    \n",
    "    block_to_avg = []\n",
    "    for pixel in range(100) : \n",
    "        pixel_blocks = []\n",
    "        for i, block in enumerate(pixel_indices_shape) :\n",
    "            if pixel in block :\n",
    "                pixel_blocks.append(i)\n",
    "        block_to_avg.append(pixel_blocks)\n",
    "\n",
    "    # Now we make each image a 100-pixels image instead of a several overlapping blocks\n",
    "    # image\n",
    "    y_100 = []\n",
    "    \n",
    "    for img in y_block :\n",
    "\n",
    "        newimg = [] # image avec 100 pixels, à remplir\n",
    "\n",
    "        for pixel in range(100) :\n",
    "            newimg.append(np.average([img[block] for block in block_to_avg[pixel]]))\n",
    "        \n",
    "        y_100.append(newimg)\n",
    "        \n",
    "    return y_100\n",
    "\n",
    "#ok so this is the optimized version : \n",
    "        \n",
    "def block_to_100px(y_block, pixel_indices_shape) :\n",
    "    \"\"\"\n",
    "    Make the y_block list of overlapping block averaged images with shape nxm \n",
    "    (2x2, 2x1 or 1x2) to a list of 100-pixels images. The contributions of overlapping\n",
    "    blocks are simply averaged for each pixel, with equal weights for each block.\n",
    "    \n",
    "    - y_block : list of block values for (predicted or not) images\n",
    "    - shape : shape of block (2*1 is (2,1) for instance)\n",
    "    - pixel_indices_shape : list of pixel indices contained in each block (e.g. the first\n",
    "      block of 2x2 block avgd image contains pixels of indices [0,1,10,11])\n",
    "    \"\"\"\n",
    "\n",
    "    # First, depending on the format, we make a list of the indices of the \n",
    "    # blocks we need to average toegether (since not all pixels have the same\n",
    "    # number of blocks contributing --- and also that their locations are not obvious)\n",
    "    # block_to_avg[i] : indices of blocks to avg together to make pixel i\n",
    "    \n",
    "    block_to_avg = []\n",
    "    for pixel in range(100) : \n",
    "        pixel_blocks = []\n",
    "        for i, block in enumerate(pixel_indices_shape) :\n",
    "            if pixel in block :\n",
    "                pixel_blocks.append(i)\n",
    "        block_to_avg.append(pixel_blocks)\n",
    "\n",
    "    # Now we make each image a 100-pixels image instead of a several overlapping blocks\n",
    "    # image\n",
    "    y_100 = [[np.average([img[block] for block in block_to_avg[pixel]]) for pixel in range(100)] for img in y_block]\n",
    "    \n",
    "    return np.array(y_100)"
   ]
  },
  {
   "cell_type": "code",
   "execution_count": 355,
   "id": "efa50674",
   "metadata": {},
   "outputs": [],
   "source": [
    "imgnew22 = block_to_100px(Y_train_22, pidx22)"
   ]
  },
  {
   "cell_type": "code",
   "execution_count": 356,
   "id": "05e13bb7",
   "metadata": {},
   "outputs": [
    {
     "data": {
      "text/plain": [
       "array([1.  , 1.5 , 2.  , 2.  , 2.  , 2.  , 1.5 , 1.  , 2.  , 3.  , 1.  ,\n",
       "       1.  , 1.25, 1.5 , 1.5 , 1.75, 1.5 , 0.75, 1.25, 2.  , 1.5 , 1.25,\n",
       "       1.25, 1.25, 1.25, 2.  , 1.75, 0.5 , 0.25, 0.5 , 1.5 , 2.  , 2.5 ,\n",
       "       2.  , 1.75, 2.25, 2.  , 1.  , 0.5 , 0.5 , 1.  , 2.  , 3.25, 3.  ,\n",
       "       2.25, 2.  , 2.  , 1.5 , 1.  , 1.  , 1.5 , 2.25, 3.25, 3.  , 2.25,\n",
       "       2.  , 1.75, 1.25, 1.  , 1.  , 2.5 , 2.75, 3.  , 2.75, 2.5 , 2.25,\n",
       "       1.75, 1.5 , 1.25, 1.  , 3.  , 3.  , 2.75, 2.5 , 2.75, 2.75, 2.5 ,\n",
       "       2.5 , 2.  , 1.5 , 2.5 , 2.25, 1.5 , 1.  , 1.75, 3.  , 3.25, 2.75,\n",
       "       2.5 , 2.5 , 2.  , 1.5 , 0.5 , 0.  , 1.  , 3.  , 3.5 , 2.5 , 2.5 ,\n",
       "       3.  ])"
      ]
     },
     "execution_count": 356,
     "metadata": {},
     "output_type": "execute_result"
    }
   ],
   "source": [
    "n = 42\n",
    "imgorig = Y_train[n]\n",
    "imgflou22 = imgnew22[n]\n",
    "imgflou22"
   ]
  },
  {
   "cell_type": "code",
   "execution_count": 357,
   "id": "fb408753",
   "metadata": {},
   "outputs": [
    {
     "data": {
      "text/plain": [
       "<matplotlib.image.AxesImage at 0x7fad7a82df10>"
      ]
     },
     "execution_count": 357,
     "metadata": {},
     "output_type": "execute_result"
    },
    {
     "data": {
      "image/png": "[encoded data removed]",
      "text/plain": [
       "<Figure size 432x432 with 2 Axes>"
      ]
     },
     "metadata": {
      "needs_background": "light"
     },
     "output_type": "display_data"
    }
   ],
   "source": [
    "fig = plt.figure(figsize=(6,6))\n",
    "sp1 = plt.subplot(211)\n",
    "sp2 = plt.subplot(212)\n",
    "sp1.imshow(np.reshape(imgflou,(10,10)),  cmap = plt.cm.gray, interpolation = 'nearest')\n",
    "sp2.imshow(np.reshape(imgorig,(10,10)),  cmap = plt.cm.gray, interpolation = 'nearest')"
   ]
  },
  {
   "cell_type": "markdown",
   "id": "1f04e2ad",
   "metadata": {},
   "source": [
    "Ok it works "
   ]
  },
  {
   "cell_type": "markdown",
   "id": "f22a20f3",
   "metadata": {},
   "source": [
    "### Test avec les autres formats"
   ]
  },
  {
   "cell_type": "code",
   "execution_count": 304,
   "id": "e8d5bc00",
   "metadata": {},
   "outputs": [],
   "source": [
    "# Same for 2*1 scale\n",
    "n_odd = [2*i+1 for i in range(50)]\n",
    "#pixel_indices_21 = [[a-1, a] for a in n_odd]\n",
    "pixel_indices_21 = [[(10*b)+ a-1, 10*b + a] for b in range(10) for a in range(10)[1:]]\n",
    "\n",
    "# Same for 1*2 scale\n",
    "#pixel_indices_12 = [[a*10 + b, (a+1)*10 +b] for a in n_even for b in range(10)]\n",
    "pixel_indices_12 = [[a*10 + b, (a+1)*10 +b] for a in range(9) for b in range(10)]"
   ]
  },
  {
   "cell_type": "code",
   "execution_count": 305,
   "id": "d1882c0e",
   "metadata": {},
   "outputs": [],
   "source": [
    "Y_train_12, Y_test_12 = Y_train_newscale(Y_train, pixel_indices_12),  Y_train_newscale(Y_test, pixel_indices_12)"
   ]
  },
  {
   "cell_type": "code",
   "execution_count": 306,
   "id": "b1665d3e",
   "metadata": {},
   "outputs": [],
   "source": [
    "n = 42\n",
    "imgnew12 = block_to_100px(Y_train_12, pixel_indices_12)\n",
    "imgorig = Y_train[n]\n",
    "imgflou12 = imgnew12[n]"
   ]
  },
  {
   "cell_type": "code",
   "execution_count": 308,
   "id": "24b002cd",
   "metadata": {},
   "outputs": [
    {
     "data": {
      "text/plain": [
       "<matplotlib.image.AxesImage at 0x7fad83af8eb0>"
      ]
     },
     "execution_count": 308,
     "metadata": {},
     "output_type": "execute_result"
    },
    {
     "data": {
      "image/png": "[encoded data removed]",
      "text/plain": [
       "<Figure size 432x432 with 2 Axes>"
      ]
     },
     "metadata": {
      "needs_background": "light"
     },
     "output_type": "display_data"
    }
   ],
   "source": [
    "fig = plt.figure(figsize=(6,6))\n",
    "sp1 = plt.subplot(211)\n",
    "sp2 = plt.subplot(212)\n",
    "sp1.imshow(np.reshape(imgflou12,(10,10)),  cmap = plt.cm.gray, interpolation = 'nearest')\n",
    "sp2.imshow(np.reshape(imgorig,(10,10)),  cmap = plt.cm.gray, interpolation = 'nearest')"
   ]
  },
  {
   "cell_type": "code",
   "execution_count": 309,
   "id": "2b2c6bca",
   "metadata": {},
   "outputs": [],
   "source": [
    "# New Y_train for 2*1 block averaged images\n",
    "Y_train_21, Y_test_21 = Y_train_newscale(Y_train, pixel_indices_21),  Y_train_newscale(Y_test, pixel_indices_21)   "
   ]
  },
  {
   "cell_type": "code",
   "execution_count": 310,
   "id": "c81a2c43",
   "metadata": {},
   "outputs": [],
   "source": [
    "n = 42\n",
    "imgnew21 = block_to_100px(Y_train_21, pixel_indices_21)\n",
    "imgorig = Y_train[n]\n",
    "imgflou21 = imgnew21[n]"
   ]
  },
  {
   "cell_type": "code",
   "execution_count": 311,
   "id": "624f0b0d",
   "metadata": {},
   "outputs": [
    {
     "data": {
      "text/plain": [
       "<matplotlib.image.AxesImage at 0x7fad85732820>"
      ]
     },
     "execution_count": 311,
     "metadata": {},
     "output_type": "execute_result"
    },
    {
     "data": {
      "image/png": "[encoded data removed]",
      "text/plain": [
       "<Figure size 432x432 with 2 Axes>"
      ]
     },
     "metadata": {
      "needs_background": "light"
     },
     "output_type": "display_data"
    }
   ],
   "source": [
    "fig = plt.figure(figsize=(6,6))\n",
    "sp1 = plt.subplot(211)\n",
    "sp2 = plt.subplot(212)\n",
    "sp1.imshow(np.reshape(imgflou21,(10,10)),  cmap = plt.cm.gray, interpolation = 'nearest')\n",
    "sp2.imshow(np.reshape(imgorig,(10,10)),  cmap = plt.cm.gray, interpolation = 'nearest')"
   ]
  },
  {
   "cell_type": "markdown",
   "id": "df63b8b5",
   "metadata": {},
   "source": [
    "# Now sum all contributions of all images with certain weights"
   ]
  },
  {
   "cell_type": "code",
   "execution_count": 358,
   "id": "3ef24593",
   "metadata": {},
   "outputs": [],
   "source": [
    "imgnew22 = block_to_100px(Y_train_22, pixel_indices_22)\n",
    "imgnew12 = block_to_100px(Y_train_12, pixel_indices_12)\n",
    "imgnew21 = block_to_100px(Y_train_21, pixel_indices_21)"
   ]
  },
  {
   "cell_type": "code",
   "execution_count": 359,
   "id": "e7bc26e3",
   "metadata": {},
   "outputs": [],
   "source": [
    "n = 42\n",
    "imgorig = Y_train[n]\n",
    "\n",
    "#rescale with better format\n",
    "imgflou22 = [x/4 for x in imgnew22[n]]\n",
    "imgflou21 = [x/2 for x in imgnew21[n]]\n",
    "imgflou12 = [x/2 for x in imgnew12[n]]\n"
   ]
  },
  {
   "cell_type": "code",
   "execution_count": 380,
   "id": "8ce5bec6",
   "metadata": {},
   "outputs": [
    {
     "data": {
      "text/plain": [
       "<matplotlib.image.AxesImage at 0x7fad832965b0>"
      ]
     },
     "execution_count": 380,
     "metadata": {},
     "output_type": "execute_result"
    },
    {
     "data": {
      "image/png": "[encoded data removed]",
      "text/plain": [
       "<Figure size 432x432 with 5 Axes>"
      ]
     },
     "metadata": {
      "needs_background": "light"
     },
     "output_type": "display_data"
    }
   ],
   "source": [
    "w11 = np.ones(100) * 0.25\n",
    "w22 = np.ones(100) * 0.25\n",
    "w21 = np.ones(100) * 0.25 \n",
    "w12 = np.ones(100) * 0.25\n",
    "\n",
    "W = [w11, w12, w21, w22]\n",
    "imgs = [imgorig, imgflou12, imgflou21, imgflou22]\n",
    "\n",
    "averaged = []\n",
    "\n",
    "def weighted_sum(weights, images, i) :\n",
    "    # i : indice of pixel\n",
    "    [W11, W12, W21, W22] = weights\n",
    "    [im11, im12, im21, im22] = images\n",
    "    return W11[i] * im11[i] + W12[i] * im12[i] + W21[i] * im21[i] + W22[i] * im22[i]\n",
    "\n",
    "def avgd_imag(weights, images) :\n",
    "    return np.array([weighted_sum(W, imgs, px) for px in range(100)])\n",
    "\n",
    "averaged = avgd_imag(W, imgs)\n",
    "    \n",
    "fig = plt.figure(figsize=(6,6))\n",
    "sp1 = plt.subplot(331)\n",
    "sp2 = plt.subplot(332)\n",
    "sp3 = plt.subplot(333)\n",
    "sp4 = plt.subplot(334)\n",
    "sp5 = plt.subplot(335)\n",
    "sp1.imshow(np.reshape(imgflou22,(10,10)),  cmap = plt.cm.gray, interpolation = 'nearest')\n",
    "sp2.imshow(np.reshape(imgflou21,(10,10)),  cmap = plt.cm.gray, interpolation = 'nearest')\n",
    "sp3.imshow(np.reshape(imgflou12,(10,10)),  cmap = plt.cm.gray, interpolation = 'nearest')\n",
    "sp4.imshow(np.reshape(averaged,(10,10)),  cmap = plt.cm.gray, interpolation = 'nearest')\n",
    "sp5.imshow(np.reshape(imgorig,(10,10)),  cmap = plt.cm.gray, interpolation = 'nearest')       "
   ]
  }
 ],
 "metadata": {
  "kernelspec": {
   "display_name": "Python 3",
   "language": "python",
   "name": "python3"
  },
  "language_info": {
   "codemirror_mode": {
    "name": "ipython",
    "version": 3
   },
   "file_extension": ".py",
   "mimetype": "text/x-python",
   "name": "python",
   "nbconvert_exporter": "python",
   "pygments_lexer": "ipython3",
   "version": "3.8.8"
  }
 },
 "nbformat": 4,
 "nbformat_minor": 5
}
