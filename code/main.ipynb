{
 "cells": [
  {
   "cell_type": "code",
   "execution_count": 4,
   "id": "25561ce0",
   "metadata": {},
   "outputs": [],
   "source": [
    "import sys\n",
    "import numpy as np\n",
    "from tqdm import tqdm\n",
    "#!{sys.executable} -m pip install nilearn #install relevant package\n",
    "from preprocessing import load_and_mask_miyawaki_data, plt_background"
   ]
  },
  {
   "cell_type": "code",
   "execution_count": 5,
   "id": "c80f3a2e",
   "metadata": {},
   "outputs": [
    {
     "data": {
      "image/png": "[encoded data removed]",
      "text/plain": [
       "<Figure size 432x288 with 1 Axes>"
      ]
     },
     "metadata": {
      "needs_background": "light"
     },
     "output_type": "display_data"
    }
   ],
   "source": [
    "#Plot the pretty brain we are working on\n",
    "plt_background()"
   ]
  },
  {
   "cell_type": "code",
   "execution_count": 6,
   "id": "56b7c073",
   "metadata": {},
   "outputs": [
    {
     "name": "stderr",
     "output_type": "stream",
     "text": [
      "Preprocessing data..."
     ]
    },
    {
     "name": "stdout",
     "output_type": "stream",
     "text": [
      "Preprocessed fMRI data: 2860 samples x 5438 voxels\n",
      "Preprocessed stimuli data: 2860 samples x 100 pixels\n"
     ]
    },
    {
     "name": "stderr",
     "output_type": "stream",
     "text": [
      " Done (18.67s).\n"
     ]
    }
   ],
   "source": [
    "fmri_data, stimuli, masker = load_and_mask_miyawaki_data()"
   ]
  },
  {
   "cell_type": "markdown",
   "id": "c5371c29",
   "metadata": {},
   "source": [
    "## First step: Decoding\n"
   ]
  },
  {
   "cell_type": "markdown",
   "id": "9723d957",
   "metadata": {},
   "source": [
    "Let's infer the binary visual stimulus presented to the subject from the recorded fMRI data.\n",
    "\n",
    "Simple classification: X = fMRI data, y = binary stimuli\n",
    "\n",
    "As done in Abraham et al., we first use a l1 logistic regression\n",
    "\n",
    "Issue: the article is from 2014, so some of the code is deprecated: need to correct it"
   ]
  },
  {
   "cell_type": "code",
   "execution_count": 15,
   "id": "48414dfb",
   "metadata": {},
   "outputs": [],
   "source": [
    "\"\"\"from sklearn.linear_model import LogisticRegression as LR\n",
    "from sklearn.model_selection import cross_val_score\n",
    "from sklearn.pipeline import Pipeline\n",
    "from sklearn.feature_selection import SelectKBest, f_classif\n",
    "\n",
    "pipeline_LR = Pipeline(steps=[('selection', SelectKBest(f_classif, k=500)),('clf', LR(penalty='l1', C=0.05))])\n",
    "\n",
    "scores_lr = []\n",
    "# y_train = n_samples x n_voxels\n",
    "# To iterate on voxels, we transpose it. \n",
    "for pixel in tqdm(y_train.T):\n",
    "    score = cross_val_score(pipeline_LR, X_train, pixel, cv=5)\n",
    "    scores_lr.append(score)\"\"\""
   ]
  },
  {
   "cell_type": "code",
   "execution_count": 19,
   "id": "689181bb",
   "metadata": {},
   "outputs": [],
   "source": [
    "from sklearn.model_selection import train_test_split\n",
    "\n",
    "train_to_test_ratio = 0.8\n",
    "X_train, X_test, Y_train, Y_test =train_test_split(fmri_data, stimuli, \n",
    "                                        train_size=train_to_test_ratio, \n",
    "                                        test_size=1.0-train_to_test_ratio)"
   ]
  },
  {
   "cell_type": "code",
   "execution_count": null,
   "id": "9dc07bf7",
   "metadata": {},
   "outputs": [],
   "source": [
    "X_train"
   ]
  },
  {
   "cell_type": "code",
   "execution_count": 14,
   "id": "918ac51c",
   "metadata": {},
   "outputs": [
    {
     "name": "stderr",
     "output_type": "stream",
     "text": [
      "0it [00:00, ?it/s]\n"
     ]
    },
    {
     "ename": "TypeError",
     "evalue": "'int' object is not iterable",
     "output_type": "error",
     "traceback": [
      "\u001b[0;31m---------------------------------------------------------------------------\u001b[0m",
      "\u001b[0;31mTypeError\u001b[0m                                 Traceback (most recent call last)",
      "\u001b[0;32m<ipython-input-14-971bc72c1235>\u001b[0m in \u001b[0;36m<module>\u001b[0;34m\u001b[0m\n\u001b[1;32m      8\u001b[0m \u001b[0;34m\u001b[0m\u001b[0m\n\u001b[1;32m      9\u001b[0m \u001b[0;31m# loop over regularisation strength\u001b[0m\u001b[0;34m\u001b[0m\u001b[0;34m\u001b[0m\u001b[0;34m\u001b[0m\u001b[0m\n\u001b[0;32m---> 10\u001b[0;31m \u001b[0;32mfor\u001b[0m \u001b[0mi\u001b[0m \u001b[0;32min\u001b[0m \u001b[0mtqdm\u001b[0m\u001b[0;34m(\u001b[0m\u001b[0;36m100\u001b[0m\u001b[0;34m)\u001b[0m\u001b[0;34m:\u001b[0m\u001b[0;34m\u001b[0m\u001b[0;34m\u001b[0m\u001b[0m\n\u001b[0m\u001b[1;32m     11\u001b[0m     \u001b[0mi\u001b[0m \u001b[0;34m+=\u001b[0m \u001b[0;36m1\u001b[0m\u001b[0;34m\u001b[0m\u001b[0;34m\u001b[0m\u001b[0m\n\u001b[1;32m     12\u001b[0m \u001b[0mprint\u001b[0m\u001b[0;34m(\u001b[0m\u001b[0mi\u001b[0m\u001b[0;34m)\u001b[0m\u001b[0;34m\u001b[0m\u001b[0;34m\u001b[0m\u001b[0m\n",
      "\u001b[0;32m/Library/Frameworks/Python.framework/Versions/3.9/lib/python3.9/site-packages/tqdm/std.py\u001b[0m in \u001b[0;36m__iter__\u001b[0;34m(self)\u001b[0m\n\u001b[1;32m   1176\u001b[0m \u001b[0;34m\u001b[0m\u001b[0m\n\u001b[1;32m   1177\u001b[0m         \u001b[0;32mtry\u001b[0m\u001b[0;34m:\u001b[0m\u001b[0;34m\u001b[0m\u001b[0;34m\u001b[0m\u001b[0m\n\u001b[0;32m-> 1178\u001b[0;31m             \u001b[0;32mfor\u001b[0m \u001b[0mobj\u001b[0m \u001b[0;32min\u001b[0m \u001b[0miterable\u001b[0m\u001b[0;34m:\u001b[0m\u001b[0;34m\u001b[0m\u001b[0;34m\u001b[0m\u001b[0m\n\u001b[0m\u001b[1;32m   1179\u001b[0m                 \u001b[0;32myield\u001b[0m \u001b[0mobj\u001b[0m\u001b[0;34m\u001b[0m\u001b[0;34m\u001b[0m\u001b[0m\n\u001b[1;32m   1180\u001b[0m                 \u001b[0;31m# Update and possibly print the progressbar.\u001b[0m\u001b[0;34m\u001b[0m\u001b[0;34m\u001b[0m\u001b[0;34m\u001b[0m\u001b[0m\n",
      "\u001b[0;31mTypeError\u001b[0m: 'int' object is not iterable"
     ]
    }
   ],
   "source": [
    "from sklearn import linear_model\n",
    "\n",
    "C_list = [0.0005, 0.001, 0.005, 0.01, 0.05, 0.1]\n",
    "\n",
    "\n",
    "\n",
    "scores_lr = []\n",
    "# loop over regularisation strength\n",
    "for pixel in tqdm(100):\n",
    "    \n",
    "    # define logistic regressor\n",
    "    logreg=linear_model.LogisticRegression(penalty='l2', C=0.05)\n",
    "    \n",
    "    # fit training data\n",
    "    logreg.fit(X_train, Y_train)\n",
    "    \n",
    "    # check accuracy\n",
    "    train_accuracy[i]=logreg.score(X_train,Y_train)\n",
    "    test_accuracy[i]=logreg.score(X_test,Y_test)\n",
    "    \n",
    "    print('accuracy: train, test')\n",
    "    print('liblin: %0.4f, %0.4f, %0.4f' %(train_accuracy[i],test_accuracy[i]) )"
   ]
  },
  {
   "cell_type": "markdown",
   "id": "bf1564b3",
   "metadata": {},
   "source": [
    "## Second step: Encoding"
   ]
  },
  {
   "cell_type": "code",
   "execution_count": 18,
   "id": "579c0028",
   "metadata": {},
   "outputs": [
    {
     "name": "stderr",
     "output_type": "stream",
     "text": [
      "10it [00:01,  7.06it/s]\n"
     ]
    }
   ],
   "source": [
    "from sklearn.linear_model import Ridge \n",
    "from sklearn.model_selection import KFold\n",
    "\n",
    "cv = KFold(n_splits=10)\n",
    "\n",
    "# Fit ridge model, calculate predictions on left out data\n",
    "# and evaluate r^2 score for each voxel\n",
    "scores = []\n",
    "for train, test in tqdm(cv.split(y_train)):\n",
    "    pred = (Ridge(alpha=100.).fit(y_train[train], X_train[train]).predict(y_train[test]))\n",
    "    X_true = X_train[test]\n",
    "    scores.append(1. - ((X_true - pred)** 2).sum(axis=0) /((X_true - X_true.mean(axis=0))** 2).sum(axis=0))\n",
    "mean_scores = np.mean(scores, axis=0)\n"
   ]
  },
  {
   "cell_type": "code",
   "execution_count": 19,
   "id": "a9827931",
   "metadata": {},
   "outputs": [],
   "source": [
    "from sklearn.linear_model import LassoLarsCV\n",
    "# choose number of voxels to treat, set to None for all voxels\n",
    "n_voxels = 50\n",
    "# choose best voxels\n",
    "indices = mean_scores.argsort()[::-1][:n_voxels]\n",
    "lasso = LassoLarsCV(max_iter=10)\n",
    "receptive_fields = [] \n",
    "for index in indices:\n",
    "    lasso.fit(y_train, X_train[:, index])\n",
    "    receptive_fields.append(lasso.coef_.\n",
    "        reshape(10, 10))"
   ]
  },
  {
   "cell_type": "code",
   "execution_count": null,
   "id": "83bccf79",
   "metadata": {},
   "outputs": [],
   "source": []
  },
  {
   "cell_type": "code",
   "execution_count": null,
   "id": "7ff7933d",
   "metadata": {},
   "outputs": [],
   "source": []
  },
  {
   "cell_type": "code",
   "execution_count": null,
   "id": "d310eeb8",
   "metadata": {},
   "outputs": [],
   "source": []
  },
  {
   "cell_type": "code",
   "execution_count": null,
   "id": "2f638594",
   "metadata": {},
   "outputs": [],
   "source": []
  }
 ],
 "metadata": {
  "kernelspec": {
   "display_name": "Python 3",
   "language": "python",
   "name": "python3"
  },
  "language_info": {
   "codemirror_mode": {
    "name": "ipython",
    "version": 3
   },
   "file_extension": ".py",
   "mimetype": "text/x-python",
   "name": "python",
   "nbconvert_exporter": "python",
   "pygments_lexer": "ipython3",
   "version": "3.9.0"
  }
 },
 "nbformat": 4,
 "nbformat_minor": 5
}
