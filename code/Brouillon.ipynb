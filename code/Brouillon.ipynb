{
 "cells": [
  {
   "cell_type": "code",
   "execution_count": 12,
   "id": "af5355b4",
   "metadata": {},
   "outputs": [
    {
     "name": "stdout",
     "output_type": "stream",
     "text": [
      "[1, 3, 5, 7, 9]\n",
      "[[1, 2], [3, 4], [5, 6], [7, 8], [9, 10]]\n",
      "[[1, 2], [3, 4], [5, 6], [7, 8], [9, 10]]\n"
     ]
    }
   ],
   "source": [
    "mat = []\n",
    "\n",
    "k = [2*i+1 for i in range(5)]\n",
    "print(k)\n",
    "\n",
    "for i in k :\n",
    "    mat.append([i,i+1])\n",
    "        \n",
    "print(mat)\n",
    "\n",
    "\n",
    "print(mat2)"
   ]
  },
  {
   "cell_type": "code",
   "execution_count": 44,
   "id": "54e7344c",
   "metadata": {},
   "outputs": [
    {
     "name": "stdout",
     "output_type": "stream",
     "text": [
      "[[0, 10], [1, 11], [2, 12], [3, 13], [4, 14], [20, 30], [21, 31], [22, 32], [23, 33], [24, 34], [40, 50], [41, 51], [42, 52], [43, 53], [44, 54]] 15\n"
     ]
    }
   ],
   "source": [
    "mat = []\n",
    "\n",
    "for i in range(5) :\n",
    "    for j in range(5) :\n",
    "        if i%2 == 0 :\n",
    "            mat.append([i*10+j,(i+1)*10+j])\n",
    "    \n",
    "print(mat, len(mat))\n",
    "\n",
    "k = [2*i for i in range(5)]\n",
    "mat2 = [[a*10 + b, (a+1)*10 +b] for a in k for b in range(10)]\n",
    "#mat2, len(mat2)"
   ]
  },
  {
   "cell_type": "code",
   "execution_count": 70,
   "id": "cc810a2a",
   "metadata": {},
   "outputs": [],
   "source": [
    "import numpy as np\n",
    "import matplotlib.pyplot as plt\n",
    "\n",
    "img25 = np.concatenate((np.zeros(12),np.ones(13)))\n",
    "img100 = np.concatenate((np.ones(50),np.zeros(50)))\n",
    "\n",
    "# now make the 25 img a 100 img\n"
   ]
  },
  {
   "cell_type": "code",
   "execution_count": 71,
   "id": "21626a16",
   "metadata": {},
   "outputs": [
    {
     "data": {
      "text/plain": [
       "<matplotlib.image.AxesImage at 0x7fadb21a8700>"
      ]
     },
     "execution_count": 71,
     "metadata": {},
     "output_type": "execute_result"
    },
    {
     "data": {
      "image/png": "[encoded data removed]",
      "text/plain": [
       "<Figure size 432x288 with 3 Axes>"
      ]
     },
     "metadata": {
      "needs_background": "light"
     },
     "output_type": "display_data"
    }
   ],
   "source": [
    "fig, ax = plt.subplots(1,3)\n",
    "sp25 = ax[0]\n",
    "sp100 = ax[1]\n",
    "spmerged = ax[2]\n",
    "\n",
    "img25 = np.reshape(img25,(5,5))\n",
    "sp25.imshow(img25, cmap = plt.cm.gray, interpolation = 'nearest')\n",
    "\n",
    "\n",
    "img100 = np.reshape(img100,(10,10))\n",
    "sp100.imshow(img100,cmap = plt.cm.gray, interpolation = 'nearest')"
   ]
  },
  {
   "cell_type": "code",
   "execution_count": 75,
   "id": "28aaddd0",
   "metadata": {},
   "outputs": [
    {
     "name": "stdout",
     "output_type": "stream",
     "text": [
      "[[[(0, 0), (0, 1)], [(1, 0), (1, 1)]], [[(0, 2), (0, 3)], [(1, 2), (1, 3)]], [[(0, 4), (0, 5)], [(1, 4), (1, 5)]], [[(0, 6), (0, 7)], [(1, 6), (1, 7)]], [[(0, 8), (0, 9)], [(1, 8), (1, 9)]], [[(2, 0), (2, 1)], [(3, 0), (3, 1)]], [[(2, 2), (2, 3)], [(3, 2), (3, 3)]], [[(2, 4), (2, 5)], [(3, 4), (3, 5)]], [[(2, 6), (2, 7)], [(3, 6), (3, 7)]], [[(2, 8), (2, 9)], [(3, 8), (3, 9)]], [[(4, 0), (4, 1)], [(5, 0), (5, 1)]], [[(4, 2), (4, 3)], [(5, 2), (5, 3)]], [[(4, 4), (4, 5)], [(5, 4), (5, 5)]], [[(4, 6), (4, 7)], [(5, 6), (5, 7)]], [[(4, 8), (4, 9)], [(5, 8), (5, 9)]], [[(6, 0), (6, 1)], [(7, 0), (7, 1)]], [[(6, 2), (6, 3)], [(7, 2), (7, 3)]], [[(6, 4), (6, 5)], [(7, 4), (7, 5)]], [[(6, 6), (6, 7)], [(7, 6), (7, 7)]], [[(6, 8), (6, 9)], [(7, 8), (7, 9)]], [[(8, 0), (8, 1)], [(9, 0), (9, 1)]], [[(8, 2), (8, 3)], [(9, 2), (9, 3)]], [[(8, 4), (8, 5)], [(9, 4), (9, 5)]], [[(8, 6), (8, 7)], [(9, 6), (9, 7)]], [[(8, 8), (8, 9)], [(9, 8), (9, 9)]]]\n"
     ]
    }
   ],
   "source": [
    "mat = []\n",
    "\n",
    "for i in range(5) :\n",
    "    for j in range(5) :\n",
    "        mat.append([[(2*i,2*j),(2*i,2*j+1)],[(2*i+1,2*j),(2*i+1,2*j+1)]])\n",
    "        \n",
    "print(mat)"
   ]
  },
  {
   "cell_type": "code",
   "execution_count": 100,
   "id": "4b6130a6",
   "metadata": {},
   "outputs": [
    {
     "ename": "IndexError",
     "evalue": "index 2 is out of bounds for axis 1 with size 2",
     "output_type": "error",
     "traceback": [
      "\u001b[0;31m---------------------------------------------------------------------------\u001b[0m",
      "\u001b[0;31mIndexError\u001b[0m                                Traceback (most recent call last)",
      "\u001b[0;32m<ipython-input-100-9d3348c2b1aa>\u001b[0m in \u001b[0;36m<module>\u001b[0;34m\u001b[0m\n\u001b[1;32m      4\u001b[0m \u001b[0;32mfor\u001b[0m \u001b[0mi\u001b[0m \u001b[0;32min\u001b[0m \u001b[0mrange\u001b[0m\u001b[0;34m(\u001b[0m\u001b[0;36m5\u001b[0m\u001b[0;34m)\u001b[0m \u001b[0;34m:\u001b[0m\u001b[0;34m\u001b[0m\u001b[0;34m\u001b[0m\u001b[0m\n\u001b[1;32m      5\u001b[0m     \u001b[0;32mfor\u001b[0m \u001b[0mj\u001b[0m \u001b[0;32min\u001b[0m \u001b[0mrange\u001b[0m\u001b[0;34m(\u001b[0m\u001b[0;36m5\u001b[0m\u001b[0;34m)\u001b[0m \u001b[0;34m:\u001b[0m\u001b[0;34m\u001b[0m\u001b[0;34m\u001b[0m\u001b[0m\n\u001b[0;32m----> 6\u001b[0;31m         \u001b[0mnewmat\u001b[0m\u001b[0;34m[\u001b[0m\u001b[0;36m2\u001b[0m\u001b[0;34m*\u001b[0m\u001b[0mi\u001b[0m\u001b[0;34m,\u001b[0m \u001b[0;36m2\u001b[0m\u001b[0;34m*\u001b[0m\u001b[0mj\u001b[0m\u001b[0;34m]\u001b[0m \u001b[0;34m=\u001b[0m \u001b[0mmat\u001b[0m\u001b[0;34m[\u001b[0m\u001b[0mi\u001b[0m\u001b[0;34m,\u001b[0m\u001b[0mj\u001b[0m\u001b[0;34m]\u001b[0m\u001b[0;34m\u001b[0m\u001b[0;34m\u001b[0m\u001b[0m\n\u001b[0m\u001b[1;32m      7\u001b[0m         \u001b[0mnewmat\u001b[0m\u001b[0;34m[\u001b[0m\u001b[0;36m2\u001b[0m\u001b[0;34m*\u001b[0m\u001b[0mi\u001b[0m\u001b[0;34m,\u001b[0m\u001b[0;36m2\u001b[0m\u001b[0;34m*\u001b[0m\u001b[0mj\u001b[0m\u001b[0;34m+\u001b[0m\u001b[0;36m1\u001b[0m\u001b[0;34m]\u001b[0m \u001b[0;34m=\u001b[0m \u001b[0mmat\u001b[0m\u001b[0;34m[\u001b[0m\u001b[0mi\u001b[0m\u001b[0;34m,\u001b[0m\u001b[0mj\u001b[0m\u001b[0;34m]\u001b[0m\u001b[0;34m\u001b[0m\u001b[0;34m\u001b[0m\u001b[0m\n\u001b[1;32m      8\u001b[0m         \u001b[0mnewmat\u001b[0m\u001b[0;34m[\u001b[0m\u001b[0;36m2\u001b[0m\u001b[0;34m*\u001b[0m\u001b[0mi\u001b[0m\u001b[0;34m+\u001b[0m\u001b[0;36m1\u001b[0m\u001b[0;34m,\u001b[0m\u001b[0;36m2\u001b[0m\u001b[0;34m*\u001b[0m\u001b[0mj\u001b[0m\u001b[0;34m]\u001b[0m \u001b[0;34m=\u001b[0m \u001b[0mmat\u001b[0m\u001b[0;34m[\u001b[0m\u001b[0mi\u001b[0m\u001b[0;34m,\u001b[0m\u001b[0mj\u001b[0m\u001b[0;34m]\u001b[0m\u001b[0;34m\u001b[0m\u001b[0;34m\u001b[0m\u001b[0m\n",
      "\u001b[0;31mIndexError\u001b[0m: index 2 is out of bounds for axis 1 with size 2"
     ]
    }
   ],
   "source": [
    "mat = np.array([[1,2],[3,4]])\n",
    "newmat = np.zeros((10,10))\n",
    "\n",
    "for i in range(5) :\n",
    "    for j in range(5) :\n",
    "        newmat[2*i, 2*j] = mat[i,j]\n",
    "        newmat[2*i,2*j+1] = mat[i,j]\n",
    "        newmat[2*i+1,2*j] = mat[i,j]\n",
    "        newmat[2*i+1,2*j+1] = mat[i,j]"
   ]
  },
  {
   "cell_type": "code",
   "execution_count": null,
   "id": "e190091f",
   "metadata": {},
   "outputs": [],
   "source": []
  }
 ],
 "metadata": {
  "kernelspec": {
   "display_name": "Python 3",
   "language": "python",
   "name": "python3"
  },
  "language_info": {
   "codemirror_mode": {
    "name": "ipython",
    "version": 3
   },
   "file_extension": ".py",
   "mimetype": "text/x-python",
   "name": "python",
   "nbconvert_exporter": "python",
   "pygments_lexer": "ipython3",
   "version": "3.8.8"
  }
 },
 "nbformat": 4,
 "nbformat_minor": 5
}
