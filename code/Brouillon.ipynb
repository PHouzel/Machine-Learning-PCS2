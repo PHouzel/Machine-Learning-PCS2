{
 "cells": [
  {
   "cell_type": "code",
   "execution_count": 12,
   "id": "ba3a02b6",
   "metadata": {},
   "outputs": [
    {
     "name": "stdout",
     "output_type": "stream",
     "text": [
      "[1, 3, 5, 7, 9]\n",
      "[[1, 2], [3, 4], [5, 6], [7, 8], [9, 10]]\n",
      "[[1, 2], [3, 4], [5, 6], [7, 8], [9, 10]]\n"
     ]
    }
   ],
   "source": [
    "mat = []\n",
    "\n",
    "k = [2*i+1 for i in range(5)]\n",
    "print(k)\n",
    "\n",
    "for i in k :\n",
    "    mat.append([i,i+1])\n",
    "        \n",
    "print(mat)\n",
    "\n",
    "\n",
    "print(mat2)"
   ]
  },
  {
   "cell_type": "code",
   "execution_count": 44,
   "id": "8f3f9319",
   "metadata": {},
   "outputs": [
    {
     "name": "stdout",
     "output_type": "stream",
     "text": [
      "[[0, 10], [1, 11], [2, 12], [3, 13], [4, 14], [20, 30], [21, 31], [22, 32], [23, 33], [24, 34], [40, 50], [41, 51], [42, 52], [43, 53], [44, 54]] 15\n"
     ]
    }
   ],
   "source": [
    "mat = []\n",
    "\n",
    "for i in range(5) :\n",
    "    for j in range(5) :\n",
    "        if i%2 == 0 :\n",
    "            mat.append([i*10+j,(i+1)*10+j])\n",
    "    \n",
    "print(mat, len(mat))\n",
    "\n",
    "k = [2*i for i in range(5)]\n",
    "mat2 = [[a*10 + b, (a+1)*10 +b] for a in k for b in range(10)]\n",
    "#mat2, len(mat2)"
   ]
  },
  {
   "cell_type": "code",
   "execution_count": 202,
   "id": "fe8384b4",
   "metadata": {},
   "outputs": [],
   "source": [
    "import numpy as np\n",
    "import matplotlib.pyplot as plt\n",
    "\n",
    "img25 = np.linspace(0,1,25)\n",
    "img25 = [round(a,2) for a in img25] #np.concatenate((np.zeros(12),np.ones(13)))\n",
    "img100 = np.concatenate((np.ones(95),np.zeros(5)))\n",
    "\n",
    "# now make the 25 img a 100 img\n"
   ]
  },
  {
   "cell_type": "code",
   "execution_count": 203,
   "id": "a3007748",
   "metadata": {},
   "outputs": [
    {
     "data": {
      "text/plain": [
       "<matplotlib.image.AxesImage at 0x7fadb0da8fd0>"
      ]
     },
     "execution_count": 203,
     "metadata": {},
     "output_type": "execute_result"
    },
    {
     "data": {
      "image/png": "[encoded data removed]",
      "text/plain": [
       "<Figure size 432x288 with 3 Axes>"
      ]
     },
     "metadata": {
      "needs_background": "light"
     },
     "output_type": "display_data"
    }
   ],
   "source": [
    "fig, ax = plt.subplots(1,3)\n",
    "sp25 = ax[0]\n",
    "sp100 = ax[1]\n",
    "spmerged = ax[2]\n",
    "\n",
    "img25 = np.reshape(img25,(5,5))\n",
    "sp25.imshow(img25, cmap = plt.cm.gray, interpolation = 'nearest',vmin=0, vmax=1)\n",
    "\n",
    "img25_100 = np.zeros((10,10))\n",
    "\n",
    "for i in range(len(img25[0])) :\n",
    "    for j in range(len(img25[0])) :\n",
    "        img25_100[2*i, 2*j] = img25[i,j]\n",
    "        img25_100[2*i,2*j+1] = img25[i,j]\n",
    "        img25_100[2*i+1,2*j] = img25[i,j]\n",
    "        img25_100[2*i+1,2*j+1] = img25[i,j]\n",
    "\n",
    "img100 = np.reshape(img100,(10,10))\n",
    "sp100.imshow(img100,cmap = plt.cm.gray, interpolation = 'nearest',vmin=0, vmax=1)\n",
    "\n",
    "img_merged = [[np.average([img25_100[i,j], img100[i,j]]) for j in range(len(img100))] for i in range(len(img100))]\n",
    "spmerged.imshow(img_merged, cmap = plt.cm.gray, interpolation = 'nearest', vmin=0, vmax=1)"
   ]
  },
  {
   "cell_type": "code",
   "execution_count": 206,
   "id": "708f87e3",
   "metadata": {},
   "outputs": [
    {
     "data": {
      "text/plain": [
       "<matplotlib.image.AxesImage at 0x7fadb0ac3f70>"
      ]
     },
     "execution_count": 206,
     "metadata": {},
     "output_type": "execute_result"
    },
    {
     "data": {
      "image/png": "[encoded data removed]",
      "text/plain": [
       "<Figure size 432x288 with 4 Axes>"
      ]
     },
     "metadata": {
      "needs_background": "light"
     },
     "output_type": "display_data"
    }
   ],
   "source": [
    "fig, ax = plt.subplots(1,4)\n",
    "sp25 = ax[0]\n",
    "sp100 = ax[1]\n",
    "spmerged = ax[2]\n",
    "spmerged2 = ax[3]\n",
    "\n",
    "img25 = np.reshape(img25,(5,5))\n",
    "sp25.imshow(img25, cmap = plt.cm.gray, interpolation = 'nearest',vmin=0, vmax=1)\n",
    "\n",
    "img25_100 = np.zeros((10,10))\n",
    "\n",
    "for i in range(len(img25[0])) :\n",
    "    for j in range(len(img25[0])) :\n",
    "        img25_100[2*i, 2*j] = img25[i,j]\n",
    "        img25_100[2*i,2*j+1] = img25[i,j]\n",
    "        img25_100[2*i+1,2*j] = img25[i,j]\n",
    "        img25_100[2*i+1,2*j+1] = img25[i,j]\n",
    "\n",
    "img_mergedbis = [[np.average([img25_100bis[i,j], img100[i,j]]) for j in range(len(img100))] for i in range(len(img100))]\n",
    "spmerged2.imshow(img_mergedbis, cmap = plt.cm.gray, interpolation = 'nearest', vmin=0, vmax=1)\n",
    "img100 = np.reshape(img100,(10,10))\n",
    "sp100.imshow(img100,cmap = plt.cm.gray, interpolation = 'nearest',vmin=0, vmax=1)\n",
    "\n",
    "img_merged = [[np.average([img25_100[i,j], img100[i,j]]) for j in range(len(img100))] for i in range(len(img100))]\n",
    "spmerged.imshow(img_merged, cmap = plt.cm.gray, interpolation = 'nearest', vmin=0, vmax=1)"
   ]
  },
  {
   "cell_type": "code",
   "execution_count": 161,
   "id": "a4b25769",
   "metadata": {},
   "outputs": [
    {
     "name": "stdout",
     "output_type": "stream",
     "text": [
      "[[[(0, 0), (0, 1)], [(1, 0), (1, 1)]], [[(0, 2), (0, 3)], [(1, 2), (1, 3)]], [[(0, 4), (0, 5)], [(1, 4), (1, 5)]], [[(0, 6), (0, 7)], [(1, 6), (1, 7)]], [[(0, 8), (0, 9)], [(1, 8), (1, 9)]], [[(2, 0), (2, 1)], [(3, 0), (3, 1)]], [[(2, 2), (2, 3)], [(3, 2), (3, 3)]], [[(2, 4), (2, 5)], [(3, 4), (3, 5)]], [[(2, 6), (2, 7)], [(3, 6), (3, 7)]], [[(2, 8), (2, 9)], [(3, 8), (3, 9)]], [[(4, 0), (4, 1)], [(5, 0), (5, 1)]], [[(4, 2), (4, 3)], [(5, 2), (5, 3)]], [[(4, 4), (4, 5)], [(5, 4), (5, 5)]], [[(4, 6), (4, 7)], [(5, 6), (5, 7)]], [[(4, 8), (4, 9)], [(5, 8), (5, 9)]], [[(6, 0), (6, 1)], [(7, 0), (7, 1)]], [[(6, 2), (6, 3)], [(7, 2), (7, 3)]], [[(6, 4), (6, 5)], [(7, 4), (7, 5)]], [[(6, 6), (6, 7)], [(7, 6), (7, 7)]], [[(6, 8), (6, 9)], [(7, 8), (7, 9)]], [[(8, 0), (8, 1)], [(9, 0), (9, 1)]], [[(8, 2), (8, 3)], [(9, 2), (9, 3)]], [[(8, 4), (8, 5)], [(9, 4), (9, 5)]], [[(8, 6), (8, 7)], [(9, 6), (9, 7)]], [[(8, 8), (8, 9)], [(9, 8), (9, 9)]]]\n"
     ]
    }
   ],
   "source": [
    "mat = []\n",
    "\n",
    "for i in range(5) :\n",
    "    for j in range(5) :\n",
    "        mat.append([[(2*i,2*j),(2*i,2*j+1)],[(2*i+1,2*j),(2*i+1,2*j+1)]])\n",
    "        \n",
    "print(mat)"
   ]
  },
  {
   "cell_type": "code",
   "execution_count": 162,
   "id": "da58a76d",
   "metadata": {},
   "outputs": [
    {
     "name": "stdout",
     "output_type": "stream",
     "text": [
      "[[ 0  1  2  3  4]\n",
      " [10 11 12 13 14]\n",
      " [20 21 22 23 24]\n",
      " [30 31 32 33 34]\n",
      " [40 41 42 43 44]]\n",
      "[[ 0.  0.  1.  1.  2.  2.  3.  3.  4.  4.]\n",
      " [ 0.  0.  1.  1.  2.  2.  3.  3.  4.  4.]\n",
      " [10. 10. 11. 11. 12. 12. 13. 13. 14. 14.]\n",
      " [10. 10. 11. 11. 12. 12. 13. 13. 14. 14.]\n",
      " [20. 20. 21. 21. 22. 22. 23. 23. 24. 24.]\n",
      " [20. 20. 21. 21. 22. 22. 23. 23. 24. 24.]\n",
      " [30. 30. 31. 31. 32. 32. 33. 33. 34. 34.]\n",
      " [30. 30. 31. 31. 32. 32. 33. 33. 34. 34.]\n",
      " [40. 40. 41. 41. 42. 42. 43. 43. 44. 44.]\n",
      " [40. 40. 41. 41. 42. 42. 43. 43. 44. 44.]]\n"
     ]
    }
   ],
   "source": [
    "mat = np.array([[(d*10)+i for i in range(5)] for d in range(5)])\n",
    "newmat = np.zeros((10,10))\n",
    "print(mat)\n",
    "\n",
    "for i in range(5) :\n",
    "    for j in range(5) :\n",
    "        newmat[2*i, 2*j] = mat[i,j]\n",
    "        newmat[2*i,2*j+1] = mat[i,j]\n",
    "        newmat[2*i+1,2*j] = mat[i,j]\n",
    "        newmat[2*i+1,2*j+1] = mat[i,j]\n",
    "        \n",
    "print(newmat)"
   ]
  },
  {
   "cell_type": "code",
   "execution_count": 163,
   "id": "03617893",
   "metadata": {},
   "outputs": [
    {
     "data": {
      "text/plain": [
       "array([[1., 1., 1., 1., 1.],\n",
       "       [1., 1., 1., 1., 1.],\n",
       "       [1., 1., 1., 1., 1.],\n",
       "       [1., 1., 1., 1., 1.],\n",
       "       [1., 1., 1., 1., 1.]])"
      ]
     },
     "execution_count": 163,
     "metadata": {},
     "output_type": "execute_result"
    }
   ],
   "source": [
    "img25"
   ]
  },
  {
   "cell_type": "code",
   "execution_count": 187,
   "id": "aee15e5f",
   "metadata": {},
   "outputs": [
    {
     "data": {
      "text/plain": [
       "<matplotlib.image.AxesImage at 0x7fadb124e8b0>"
      ]
     },
     "execution_count": 187,
     "metadata": {},
     "output_type": "execute_result"
    },
    {
     "data": {
      "image/png": "[encoded data removed]",
      "text/plain": [
       "<Figure size 432x288 with 2 Axes>"
      ]
     },
     "metadata": {
      "needs_background": "light"
     },
     "output_type": "display_data"
    }
   ],
   "source": [
    "img25_100 = np.zeros((10,10))\n",
    "\n",
    "for i in range(len(img25[0])) :\n",
    "    for j in range(len(img25[0])) :\n",
    "        img25_100[2*i, 2*j] = img25[i,j]\n",
    "        img25_100[2*i,2*j+1] = img25[i,j]\n",
    "        img25_100[2*i+1,2*j] = img25[i,j]\n",
    "        img25_100[2*i+1,2*j+1] = img25[i,j]\n",
    "\n",
    "fig, ax = plt.subplots(1,2)\n",
    "ax25 = ax[0]\n",
    "ax25_100 = ax[1]\n",
    "\n",
    "ax25.imshow(img25, cmap = plt.cm.gray, interpolation = 'nearest',vmin=0, vmax=1)\n",
    "\n",
    "ax25_100.imshow(img25_100,cmap = plt.cm.gray, interpolation = 'nearest')"
   ]
  },
  {
   "cell_type": "code",
   "execution_count": 195,
   "id": "1ce66bd5",
   "metadata": {},
   "outputs": [
    {
     "name": "stdout",
     "output_type": "stream",
     "text": [
      "[[1.0, 1.0, 1.0, 1.0, 1.0, 1.0, 1.0, 1.0, 1.0, 1.0], [1.0, 1.0, 1.0, 1.0, 1.0, 1.0, 1.0, 1.0, 1.0, 1.0], [1.0, 1.0, 1.0, 1.0, 1.0, 1.0, 1.0, 1.0, 1.0, 1.0], [1.0, 1.0, 1.0, 1.0, 1.0, 1.0, 1.0, 1.0, 1.0, 1.0], [1.0, 1.0, 1.0, 1.0, 1.0, 1.0, 1.0, 1.0, 1.0, 1.0], [0.5, 0.5, 0.5, 0.5, 0.5, 0.5, 0.5, 0.5, 0.5, 0.5], [0.5, 0.5, 0.5, 0.5, 0.5, 0.5, 0.5, 0.5, 0.5, 0.5], [0.5, 0.5, 0.5, 0.5, 0.5, 0.5, 0.5, 0.5, 0.5, 0.5], [0.5, 0.5, 0.5, 0.5, 0.5, 0.5, 0.5, 0.5, 0.5, 0.5], [0.5, 0.5, 0.5, 0.5, 0.5, 0.5, 0.5, 0.5, 0.5, 0.5]]\n"
     ]
    },
    {
     "data": {
      "text/plain": [
       "<matplotlib.image.AxesImage at 0x7fadb10e9b20>"
      ]
     },
     "execution_count": 195,
     "metadata": {},
     "output_type": "execute_result"
    },
    {
     "data": {
      "image/png": "[encoded data removed]",
      "text/plain": [
       "<Figure size 432x288 with 1 Axes>"
      ]
     },
     "metadata": {
      "needs_background": "light"
     },
     "output_type": "display_data"
    }
   ],
   "source": [
    "img_merged = [[np.average([img25_100[i,j], img100[i,j]]) for j in range(len(img100))] for i in range(len(img100))]\n",
    "print(img_merged)\n",
    "plt.imshow(img_merged,cmap = plt.cm.gray,vmin=0, vmax=1)"
   ]
  },
  {
   "cell_type": "code",
   "execution_count": 166,
   "id": "2848982c",
   "metadata": {},
   "outputs": [
    {
     "data": {
      "text/plain": [
       "(array([[1., 1., 1., 1., 1.],\n",
       "        [1., 1., 1., 1., 1.],\n",
       "        [1., 1., 1., 1., 1.],\n",
       "        [1., 1., 1., 1., 1.],\n",
       "        [1., 1., 1., 1., 1.]]),\n",
       " array([[1., 1., 1., 1., 1., 1., 1., 1., 1., 1.],\n",
       "        [1., 1., 1., 1., 1., 1., 1., 1., 1., 1.],\n",
       "        [1., 1., 1., 1., 1., 1., 1., 1., 1., 1.],\n",
       "        [1., 1., 1., 1., 1., 1., 1., 1., 1., 1.],\n",
       "        [1., 1., 1., 1., 1., 1., 1., 1., 1., 1.],\n",
       "        [1., 1., 1., 1., 1., 1., 1., 1., 1., 1.],\n",
       "        [1., 1., 1., 1., 1., 1., 1., 1., 1., 1.],\n",
       "        [1., 1., 1., 1., 1., 1., 1., 1., 1., 1.],\n",
       "        [1., 1., 1., 1., 1., 1., 1., 1., 1., 1.],\n",
       "        [1., 1., 1., 1., 1., 1., 1., 1., 1., 1.]]),\n",
       " array([[1., 1., 1., 1., 1., 1., 1., 1., 1., 1.],\n",
       "        [1., 1., 1., 1., 1., 1., 1., 1., 1., 1.],\n",
       "        [1., 1., 1., 1., 1., 1., 1., 1., 1., 1.],\n",
       "        [1., 1., 1., 1., 1., 1., 1., 1., 1., 1.],\n",
       "        [1., 1., 1., 1., 1., 1., 1., 1., 1., 1.],\n",
       "        [0., 0., 0., 0., 0., 0., 0., 0., 0., 0.],\n",
       "        [0., 0., 0., 0., 0., 0., 0., 0., 0., 0.],\n",
       "        [0., 0., 0., 0., 0., 0., 0., 0., 0., 0.],\n",
       "        [0., 0., 0., 0., 0., 0., 0., 0., 0., 0.],\n",
       "        [0., 0., 0., 0., 0., 0., 0., 0., 0., 0.]]),\n",
       " [[1.0, 1.0, 1.0, 1.0, 1.0, 1.0, 1.0, 1.0, 1.0, 1.0],\n",
       "  [1.0, 1.0, 1.0, 1.0, 1.0, 1.0, 1.0, 1.0, 1.0, 1.0],\n",
       "  [1.0, 1.0, 1.0, 1.0, 1.0, 1.0, 1.0, 1.0, 1.0, 1.0],\n",
       "  [1.0, 1.0, 1.0, 1.0, 1.0, 1.0, 1.0, 1.0, 1.0, 1.0],\n",
       "  [1.0, 1.0, 1.0, 1.0, 1.0, 1.0, 1.0, 1.0, 1.0, 1.0],\n",
       "  [0.5, 0.5, 0.5, 0.5, 0.5, 0.5, 0.5, 0.5, 0.5, 0.5],\n",
       "  [0.5, 0.5, 0.5, 0.5, 0.5, 0.5, 0.5, 0.5, 0.5, 0.5],\n",
       "  [0.5, 0.5, 0.5, 0.5, 0.5, 0.5, 0.5, 0.5, 0.5, 0.5],\n",
       "  [0.5, 0.5, 0.5, 0.5, 0.5, 0.5, 0.5, 0.5, 0.5, 0.5],\n",
       "  [0.5, 0.5, 0.5, 0.5, 0.5, 0.5, 0.5, 0.5, 0.5, 0.5]])"
      ]
     },
     "execution_count": 166,
     "metadata": {},
     "output_type": "execute_result"
    }
   ],
   "source": [
    "img25, img25_100, img100, img_merged"
   ]
  },
  {
   "cell_type": "code",
   "execution_count": null,
   "id": "9fdb91ef",
   "metadata": {},
   "outputs": [],
   "source": []
  },
  {
   "cell_type": "code",
   "execution_count": null,
   "id": "cb11eb54",
   "metadata": {},
   "outputs": [],
   "source": []
  },
  {
   "cell_type": "code",
   "execution_count": null,
   "id": "0c231ed0",
   "metadata": {},
   "outputs": [],
   "source": []
  }
 ],
 "metadata": {
  "kernelspec": {
   "display_name": "Python 3",
   "language": "python",
   "name": "python3"
  },
  "language_info": {
   "codemirror_mode": {
    "name": "ipython",
    "version": 3
   },
   "file_extension": ".py",
   "mimetype": "text/x-python",
   "name": "python",
   "nbconvert_exporter": "python",
   "pygments_lexer": "ipython3",
   "version": "3.8.8"
  }
 },
 "nbformat": 4,
 "nbformat_minor": 5
}
