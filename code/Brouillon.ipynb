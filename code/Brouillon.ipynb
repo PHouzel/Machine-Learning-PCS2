{
 "cells": [
  {
   "cell_type": "code",
   "execution_count": 12,
   "id": "9e189016",
   "metadata": {},
   "outputs": [
    {
     "name": "stdout",
     "output_type": "stream",
     "text": [
      "[1, 3, 5, 7, 9]\n",
      "[[1, 2], [3, 4], [5, 6], [7, 8], [9, 10]]\n",
      "[[1, 2], [3, 4], [5, 6], [7, 8], [9, 10]]\n"
     ]
    }
   ],
   "source": [
    "mat = []\n",
    "\n",
    "k = [2*i+1 for i in range(5)]\n",
    "print(k)\n",
    "\n",
    "for i in k :\n",
    "    mat.append([i,i+1])\n",
    "        \n",
    "print(mat)\n",
    "\n",
    "\n",
    "print(mat2)"
   ]
  },
  {
   "cell_type": "code",
   "execution_count": 37,
   "id": "a2645b73",
   "metadata": {},
   "outputs": [
    {
     "name": "stdout",
     "output_type": "stream",
     "text": [
      "[[0, 10], [1, 11], [2, 12], [3, 13], [4, 14], [20, 30], [21, 31], [22, 32], [23, 33], [24, 34], [40, 50], [41, 51], [42, 52], [43, 53], [44, 54]] 15\n"
     ]
    },
    {
     "data": {
      "text/plain": [
       "([[0, 10],\n",
       "  [1, 11],\n",
       "  [2, 12],\n",
       "  [3, 13],\n",
       "  [4, 14],\n",
       "  [5, 15],\n",
       "  [6, 16],\n",
       "  [7, 17],\n",
       "  [8, 18],\n",
       "  [9, 19],\n",
       "  [20, 30],\n",
       "  [21, 31],\n",
       "  [22, 32],\n",
       "  [23, 33],\n",
       "  [24, 34],\n",
       "  [25, 35],\n",
       "  [26, 36],\n",
       "  [27, 37],\n",
       "  [28, 38],\n",
       "  [29, 39],\n",
       "  [40, 50],\n",
       "  [41, 51],\n",
       "  [42, 52],\n",
       "  [43, 53],\n",
       "  [44, 54],\n",
       "  [45, 55],\n",
       "  [46, 56],\n",
       "  [47, 57],\n",
       "  [48, 58],\n",
       "  [49, 59],\n",
       "  [60, 70],\n",
       "  [61, 71],\n",
       "  [62, 72],\n",
       "  [63, 73],\n",
       "  [64, 74],\n",
       "  [65, 75],\n",
       "  [66, 76],\n",
       "  [67, 77],\n",
       "  [68, 78],\n",
       "  [69, 79],\n",
       "  [80, 90],\n",
       "  [81, 91],\n",
       "  [82, 92],\n",
       "  [83, 93],\n",
       "  [84, 94],\n",
       "  [85, 95],\n",
       "  [86, 96],\n",
       "  [87, 97],\n",
       "  [88, 98],\n",
       "  [89, 99]],\n",
       " 50)"
      ]
     },
     "execution_count": 37,
     "metadata": {},
     "output_type": "execute_result"
    }
   ],
   "source": [
    "mat = []\n",
    "\n",
    "for i in range(5) :\n",
    "    for j in range(5) :\n",
    "        if i%2 == 0 :\n",
    "            mat.append([i*10+j,(i+1)*10+j])\n",
    "    \n",
    "print(mat, len(mat))\n",
    "\n",
    "k = [2*i for i in range(5)]\n",
    "mat2 = [[a*10 + b, (a+1)*10 +b] for a in k for b in range(10)]\n",
    "mat2, len(mat2)"
   ]
  },
  {
   "cell_type": "code",
   "execution_count": null,
   "id": "2df2715f",
   "metadata": {},
   "outputs": [],
   "source": []
  }
 ],
 "metadata": {
  "kernelspec": {
   "display_name": "Python 3",
   "language": "python",
   "name": "python3"
  },
  "language_info": {
   "codemirror_mode": {
    "name": "ipython",
    "version": 3
   },
   "file_extension": ".py",
   "mimetype": "text/x-python",
   "name": "python",
   "nbconvert_exporter": "python",
   "pygments_lexer": "ipython3",
   "version": "3.8.8"
  }
 },
 "nbformat": 4,
 "nbformat_minor": 5
}
